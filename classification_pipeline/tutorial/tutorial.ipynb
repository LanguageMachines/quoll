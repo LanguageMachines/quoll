{
 "cells": [
  {
   "cell_type": "code",
   "execution_count": 1,
   "metadata": {
    "collapsed": false
   },
   "outputs": [
    {
     "name": "stderr",
     "output_type": "stream",
     "text": [
      "/usr/lib/python3.5/site-packages/sklearn/cross_validation.py:44: DeprecationWarning: This module was deprecated in version 0.18 in favor of the model_selection module into which all the refactored classes and functions are moved. Also note that the interface of the new CV iterators are different from that of this module. This module will be removed in 0.20.\n",
      "  \"This module will be removed in 0.20.\", DeprecationWarning)\n",
      "/usr/lib/python3.5/site-packages/sklearn/grid_search.py:43: DeprecationWarning: This module was deprecated in version 0.18 in favor of the model_selection module into which all the refactored classes and functions are moved. This module will be removed in 0.20.\n",
      "  DeprecationWarning)\n"
     ]
    }
   ],
   "source": [
    "from modules.tokenize_instances import Tokenize\n",
    "from modules.featurize_instances import Featurize\n",
    "from modules.vectorize_sparse_instances import Vectorize, Vectorize_traintest\n",
    "from modules.classify_instances import TrainApply\n",
    "from modules.report_performance import ReportDocpredictionsComponent\n",
    "from modules.run_nfold_cv_sparse import NFoldCV\n",
    "import luiginlp\n",
    "import sys"
   ]
  },
  {
   "cell_type": "markdown",
   "metadata": {},
   "source": [
    "sdagvag\n"
   ]
  },
  {
   "cell_type": "code",
   "execution_count": 2,
   "metadata": {
    "collapsed": true
   },
   "outputs": [],
   "source": [
    "instances_aggression = '/home/vagrant/quoll/classification_pipeline/tutorial/data/agressie/train.txt'\n",
    "labels_aggression = '/home/vagrant/quoll/classification_pipeline/tutorial/data/agressie/train.labels'\n",
    "with open(instances_aggression,'r',encoding='utf-8') as infile:\n",
    "    instances = infile.read().strip().split('\\n')\n",
    "with open(labels_aggression,'r',encoding='utf-8') as infile:\n",
    "    labels = infile.read().strip().split('\\n') "
   ]
  },
  {
   "cell_type": "code",
   "execution_count": 3,
   "metadata": {
    "collapsed": false
   },
   "outputs": [
    {
     "name": "stderr",
     "output_type": "stream",
     "text": [
      "2016-12-12 19:29:38 |     INFO | LuigiNLP: Starting workflow (logging to /home/vagrant/quoll/classification_pipeline/tutorial/log/sciluigi_run_20161212_192938_detailed.log)\n",
      "2016-12-12 19:29:38 |     INFO | Using local scheduler\n",
      "2016-12-12 19:29:38 |     INFO | >>> Starting component Tokenize(instance_name=sciluigi_workflow, startcomponent=, inputslot=, inputfile=/home/vagrant/quoll/classification_pipeline/tutorial/data/agressie/train.txt, outputdir=, replaceinputdir=, config=/etc/ucto/tokconfig-nl-twitter, strip_punctuation=True)\n",
      "/usr/lib/python3.5/site-packages/luigi-2.4.0-py3.5.egg/luigi/parameter.py:259: UserWarning: Parameter Tokenize(instance_name=sciluigi_workflow, startcomponent=, inputslot=, inputfile=/home/vagrant/quoll/classification_pipeline/tutorial/data/agressie/train.txt, outputdir=, replaceinputdir=, config=/etc/ucto/tokconfig-nl-twitter, strip_punctuation=True) is not of type string.\n",
      "  warnings.warn(\"Parameter {0} is not of type string.\".format(str(x)))\n",
      "2016-12-12 19:29:38 |     INFO | <<< Finished component Tokenize(instance_name=sciluigi_workflow, startcomponent=, inputslot=, inputfile=/home/vagrant/quoll/classification_pipeline/tutorial/data/agressie/train.txt, outputdir=, replaceinputdir=, config=/etc/ucto/tokconfig-nl-twitter, strip_punctuation=True)\n",
      "2016-12-12 19:29:38 |     INFO | LuigiNLP: Workflow run completed succesfully (logged to /home/vagrant/quoll/classification_pipeline/tutorial/log/sciluigi_run_20161212_192938_detailed.log)\n"
     ]
    },
    {
     "data": {
      "text/plain": [
       "True"
      ]
     },
     "execution_count": 3,
     "metadata": {},
     "output_type": "execute_result"
    }
   ],
   "source": [
    "luiginlp.run(Tokenize(inputfile=instances_aggression,config='/etc/ucto/tokconfig-nl-twitter',strip_punctuation=True))"
   ]
  },
  {
   "cell_type": "code",
   "execution_count": 4,
   "metadata": {
    "collapsed": false
   },
   "outputs": [
    {
     "name": "stderr",
     "output_type": "stream",
     "text": [
      "2016-12-12 19:29:38 |     INFO | LuigiNLP: Starting workflow (logging to /home/vagrant/quoll/classification_pipeline/tutorial/log/sciluigi_run_20161212_192938_detailed.log)\n",
      "2016-12-12 19:29:38 |     INFO | Using local scheduler\n",
      "2016-12-12 19:29:38 |     INFO | >>> Starting component Featurize(instance_name=sciluigi_workflow, startcomponent=, inputslot=, inputfile=/home/vagrant/quoll/classification_pipeline/tutorial/data/agressie/train.tok.txt, outputdir=, replaceinputdir=, token_ngrams=1 2 3, blackfeats=False, lowercase=False, tokconfig=False, strip_punctuation=True)\n",
      "/usr/lib/python3.5/site-packages/luigi-2.4.0-py3.5.egg/luigi/parameter.py:259: UserWarning: Parameter Featurize(instance_name=sciluigi_workflow, startcomponent=, inputslot=, inputfile=/home/vagrant/quoll/classification_pipeline/tutorial/data/agressie/train.tok.txt, outputdir=, replaceinputdir=, token_ngrams=1 2 3, blackfeats=False, lowercase=False, tokconfig=False, strip_punctuation=True) is not of type string.\n",
      "  warnings.warn(\"Parameter {0} is not of type string.\".format(str(x)))\n",
      "2016-12-12 19:29:38 |     INFO | <<< Finished component Featurize(instance_name=sciluigi_workflow, startcomponent=, inputslot=, inputfile=/home/vagrant/quoll/classification_pipeline/tutorial/data/agressie/train.tok.txt, outputdir=, replaceinputdir=, token_ngrams=1 2 3, blackfeats=False, lowercase=False, tokconfig=False, strip_punctuation=True)\n",
      "2016-12-12 19:29:38 |     INFO | LuigiNLP: Workflow run completed succesfully (logged to /home/vagrant/quoll/classification_pipeline/tutorial/log/sciluigi_run_20161212_192938_detailed.log)\n"
     ]
    },
    {
     "data": {
      "text/plain": [
       "True"
      ]
     },
     "execution_count": 4,
     "metadata": {},
     "output_type": "execute_result"
    }
   ],
   "source": [
    "instances_tokenized = '/home/vagrant/quoll/classification_pipeline/tutorial/data/agressie/train.tok.txt'\n",
    "luiginlp.run(Featurize(inputfile=instances_tokenized,token_ngrams='1 2 3',blackfeats=False,lowercase=False))"
   ]
  },
  {
   "cell_type": "code",
   "execution_count": 5,
   "metadata": {
    "collapsed": false
   },
   "outputs": [
    {
     "name": "stderr",
     "output_type": "stream",
     "text": [
      "2016-12-12 19:29:38 |     INFO | LuigiNLP: Starting workflow (logging to /home/vagrant/quoll/classification_pipeline/tutorial/log/sciluigi_run_20161212_192938_detailed.log)\n",
      "2016-12-12 19:29:38 |     INFO | Using local scheduler\n",
      "2016-12-12 19:29:38 |     INFO | >>> Starting component NFoldCV(instance_name=sciluigi_workflow, startcomponent=, inputslot=, features=/home/vagrant/quoll/classification_pipeline/tutorial/data/agressie/train.features.npz, labels=/home/vagrant/quoll/classification_pipeline/tutorial/data/agressie/train.labels, vocabulary=/home/vagrant/quoll/classification_pipeline/tutorial/data/agressie/train.vocabulary.txt, n=10, weight=binary, prune=5000, balance=False, classifier=naive_bayes, documents=/home/vagrant/quoll/classification_pipeline/tutorial/data/agressie/train.txt)\n",
      "/usr/lib/python3.5/site-packages/luigi-2.4.0-py3.5.egg/luigi/parameter.py:259: UserWarning: Parameter NFoldCV(instance_name=sciluigi_workflow, startcomponent=, inputslot=, features=/home/vagrant/quoll/classification_pipeline/tutorial/data/agressie/train.features.npz, labels=/home/vagrant/quoll/classification_pipeline/tutorial/data/agressie/train.labels, vocabulary=/home/vagrant/quoll/classification_pipeline/tutorial/data/agressie/train.vocabulary.txt, n=10, weight=binary, prune=5000, balance=False, classifier=naive_bayes, documents=/home/vagrant/quoll/classification_pipeline/tutorial/data/agressie/train.txt) is not of type string.\n",
      "  warnings.warn(\"Parameter {0} is not of type string.\".format(str(x)))\n",
      "2016-12-12 19:29:38 |     INFO | <<< Finished component NFoldCV(instance_name=sciluigi_workflow, startcomponent=, inputslot=, features=/home/vagrant/quoll/classification_pipeline/tutorial/data/agressie/train.features.npz, labels=/home/vagrant/quoll/classification_pipeline/tutorial/data/agressie/train.labels, vocabulary=/home/vagrant/quoll/classification_pipeline/tutorial/data/agressie/train.vocabulary.txt, n=10, weight=binary, prune=5000, balance=False, classifier=naive_bayes, documents=/home/vagrant/quoll/classification_pipeline/tutorial/data/agressie/train.txt)\n",
      "2016-12-12 19:29:38 |     INFO | LuigiNLP: Workflow run completed succesfully (logged to /home/vagrant/quoll/classification_pipeline/tutorial/log/sciluigi_run_20161212_192938_detailed.log)\n"
     ]
    },
    {
     "data": {
      "text/plain": [
       "True"
      ]
     },
     "execution_count": 5,
     "metadata": {},
     "output_type": "execute_result"
    }
   ],
   "source": [
    "instances_featurized = '/home/vagrant/quoll/classification_pipeline/tutorial/data/agressie/train.features.npz'\n",
    "instances_vocabulary = '/home/vagrant/quoll/classification_pipeline/tutorial/data/agressie/train.vocabulary.txt'\n",
    "luiginlp.run(NFoldCV(features=instances_featurized,vocabulary=instances_vocabulary,labels=labels_aggression,n=10,weight='binary',prune=5000,balance=False,classifier='naive_bayes',documents=instances_aggression))"
   ]
  },
  {
   "cell_type": "code",
   "execution_count": 6,
   "metadata": {
    "collapsed": false
   },
   "outputs": [
    {
     "name": "stderr",
     "output_type": "stream",
     "text": [
      "2016-12-12 19:29:38 |     INFO | LuigiNLP: Starting workflow (logging to /home/vagrant/quoll/classification_pipeline/tutorial/log/sciluigi_run_20161212_192938_detailed.log)\n",
      "2016-12-12 19:29:38 |     INFO | Using local scheduler\n",
      "2016-12-12 19:29:38 |     INFO | >>> Starting component Featurize(instance_name=sciluigi_workflow, startcomponent=, inputslot=, inputfile=/home/vagrant/quoll/classification_pipeline/tutorial/data/koninginnedag2013/koninginnedag2013.txt, outputdir=, replaceinputdir=, token_ngrams=1 2 3, blackfeats=False, lowercase=False, tokconfig=/etc/ucto/tokconfig-nl-twitter, strip_punctuation=True)\n",
      "/usr/lib/python3.5/site-packages/luigi-2.4.0-py3.5.egg/luigi/parameter.py:259: UserWarning: Parameter Featurize(instance_name=sciluigi_workflow, startcomponent=, inputslot=, inputfile=/home/vagrant/quoll/classification_pipeline/tutorial/data/koninginnedag2013/koninginnedag2013.txt, outputdir=, replaceinputdir=, token_ngrams=1 2 3, blackfeats=False, lowercase=False, tokconfig=/etc/ucto/tokconfig-nl-twitter, strip_punctuation=True) is not of type string.\n",
      "  warnings.warn(\"Parameter {0} is not of type string.\".format(str(x)))\n",
      "2016-12-12 19:29:38 |     INFO | <<< Finished component Featurize(instance_name=sciluigi_workflow, startcomponent=, inputslot=, inputfile=/home/vagrant/quoll/classification_pipeline/tutorial/data/koninginnedag2013/koninginnedag2013.txt, outputdir=, replaceinputdir=, token_ngrams=1 2 3, blackfeats=False, lowercase=False, tokconfig=/etc/ucto/tokconfig-nl-twitter, strip_punctuation=True)\n",
      "2016-12-12 19:29:38 |     INFO | LuigiNLP: Workflow run completed succesfully (logged to /home/vagrant/quoll/classification_pipeline/tutorial/log/sciluigi_run_20161212_192938_detailed.log)\n"
     ]
    },
    {
     "data": {
      "text/plain": [
       "True"
      ]
     },
     "execution_count": 6,
     "metadata": {},
     "output_type": "execute_result"
    }
   ],
   "source": [
    "instances_koninginnedag = '/home/vagrant/quoll/classification_pipeline/tutorial/data/koninginnedag2013/koninginnedag2013.txt'\n",
    "luiginlp.run(Featurize(inputfile=instances_koninginnedag,lowercase=False,tokconfig='/etc/ucto/tokconfig-nl-twitter'))"
   ]
  },
  {
   "cell_type": "code",
   "execution_count": 7,
   "metadata": {
    "collapsed": false
   },
   "outputs": [
    {
     "data": {
      "text/plain": [
       "['trainfile',\n",
       " 'trainlabels_file',\n",
       " 'trainvocabulary',\n",
       " 'weight',\n",
       " 'prune',\n",
       " 'balance']"
      ]
     },
     "execution_count": 7,
     "metadata": {},
     "output_type": "execute_result"
    }
   ],
   "source": [
    "Vectorize.get_param_names()[3:]"
   ]
  },
  {
   "cell_type": "code",
   "execution_count": 8,
   "metadata": {
    "collapsed": false
   },
   "outputs": [
    {
     "name": "stderr",
     "output_type": "stream",
     "text": [
      "2016-12-12 19:29:38 |     INFO | LuigiNLP: Starting workflow (logging to /home/vagrant/quoll/classification_pipeline/tutorial/log/sciluigi_run_20161212_192938_detailed.log)\n",
      "2016-12-12 19:29:38 |     INFO | Using local scheduler\n",
      "2016-12-12 19:29:38 |     INFO | >>> Starting component Vectorize(instance_name=sciluigi_workflow, startcomponent=, inputslot=, trainfile=/home/vagrant/quoll/classification_pipeline/tutorial/data/agressie/train.features.npz, trainlabels_file=/home/vagrant/quoll/classification_pipeline/tutorial/data/agressie/train.labels, trainvocabulary=/home/vagrant/quoll/classification_pipeline/tutorial/data/agressie/train.vocabulary.txt, weight=binary, prune=5000, balance=False)\n",
      "/usr/lib/python3.5/site-packages/luigi-2.4.0-py3.5.egg/luigi/parameter.py:259: UserWarning: Parameter Vectorize(instance_name=sciluigi_workflow, startcomponent=, inputslot=, trainfile=/home/vagrant/quoll/classification_pipeline/tutorial/data/agressie/train.features.npz, trainlabels_file=/home/vagrant/quoll/classification_pipeline/tutorial/data/agressie/train.labels, trainvocabulary=/home/vagrant/quoll/classification_pipeline/tutorial/data/agressie/train.vocabulary.txt, weight=binary, prune=5000, balance=False) is not of type string.\n",
      "  warnings.warn(\"Parameter {0} is not of type string.\".format(str(x)))\n",
      "2016-12-12 19:29:38 |     INFO | <<< Finished component Vectorize(instance_name=sciluigi_workflow, startcomponent=, inputslot=, trainfile=/home/vagrant/quoll/classification_pipeline/tutorial/data/agressie/train.features.npz, trainlabels_file=/home/vagrant/quoll/classification_pipeline/tutorial/data/agressie/train.labels, trainvocabulary=/home/vagrant/quoll/classification_pipeline/tutorial/data/agressie/train.vocabulary.txt, weight=binary, prune=5000, balance=False)\n",
      "2016-12-12 19:29:38 |     INFO | LuigiNLP: Workflow run completed succesfully (logged to /home/vagrant/quoll/classification_pipeline/tutorial/log/sciluigi_run_20161212_192938_detailed.log)\n"
     ]
    },
    {
     "data": {
      "text/plain": [
       "True"
      ]
     },
     "execution_count": 8,
     "metadata": {},
     "output_type": "execute_result"
    }
   ],
   "source": [
    "luiginlp.run(Vectorize(trainfile='/home/vagrant/quoll/classification_pipeline/tutorial/data/agressie/train.features.npz',trainlabels_file='/home/vagrant/quoll/classification_pipeline/tutorial/data/agressie/train.labels',trainvocabulary='/home/vagrant/quoll/classification_pipeline/tutorial/data/agressie/train.vocabulary.txt',weight='binary',prune='5000',balance=False))"
   ]
  },
  {
   "cell_type": "code",
   "execution_count": 9,
   "metadata": {
    "collapsed": false
   },
   "outputs": [
    {
     "data": {
      "text/plain": [
       "['trainfile',\n",
       " 'trainlabels_file',\n",
       " 'testfile',\n",
       " 'trainvocabulary',\n",
       " 'testvocabulary',\n",
       " 'weight',\n",
       " 'prune',\n",
       " 'balance']"
      ]
     },
     "execution_count": 9,
     "metadata": {},
     "output_type": "execute_result"
    }
   ],
   "source": [
    "Vectorize_traintest.get_param_names()[3:]"
   ]
  },
  {
   "cell_type": "code",
   "execution_count": 10,
   "metadata": {
    "collapsed": false
   },
   "outputs": [
    {
     "name": "stderr",
     "output_type": "stream",
     "text": [
      "2016-12-12 19:29:38 |     INFO | LuigiNLP: Starting workflow (logging to /home/vagrant/quoll/classification_pipeline/tutorial/log/sciluigi_run_20161212_192938_detailed.log)\n",
      "2016-12-12 19:29:38 |     INFO | Using local scheduler\n",
      "2016-12-12 19:29:38 |     INFO | >>> Starting component Vectorize_traintest(instance_name=sciluigi_workflow, startcomponent=, inputslot=, trainfile=/home/vagrant/quoll/classification_pipeline/tutorial/data/agressie/train.features.npz, trainlabels_file=/home/vagrant/quoll/classification_pipeline/tutorial/data/agressie/train.labels, testfile=/home/vagrant/quoll/classification_pipeline/tutorial/data/koninginnedag2013/koninginnedag2013.features.npz, trainvocabulary=/home/vagrant/quoll/classification_pipeline/tutorial/data/agressie/train.vocabulary.txt, testvocabulary=/home/vagrant/quoll/classification_pipeline/tutorial/data/koninginnedag2013/koninginnedag2013.vocabulary.txt, weight=binary, prune=5000, balance=False)\n",
      "/usr/lib/python3.5/site-packages/luigi-2.4.0-py3.5.egg/luigi/parameter.py:259: UserWarning: Parameter Vectorize_traintest(instance_name=sciluigi_workflow, startcomponent=, inputslot=, trainfile=/home/vagrant/quoll/classification_pipeline/tutorial/data/agressie/train.features.npz, trainlabels_file=/home/vagrant/quoll/classification_pipeline/tutorial/data/agressie/train.labels, testfile=/home/vagrant/quoll/classification_pipeline/tutorial/data/koninginnedag2013/koninginnedag2013.features.npz, trainvocabulary=/home/vagrant/quoll/classification_pipeline/tutorial/data/agressie/train.vocabulary.txt, testvocabulary=/home/vagrant/quoll/classification_pipeline/tutorial/data/koninginnedag2013/koninginnedag2013.vocabulary.txt, weight=binary, prune=5000, balance=False) is not of type string.\n",
      "  warnings.warn(\"Parameter {0} is not of type string.\".format(str(x)))\n",
      "2016-12-12 19:29:38 |     INFO | <<< Finished component Vectorize_traintest(instance_name=sciluigi_workflow, startcomponent=, inputslot=, trainfile=/home/vagrant/quoll/classification_pipeline/tutorial/data/agressie/train.features.npz, trainlabels_file=/home/vagrant/quoll/classification_pipeline/tutorial/data/agressie/train.labels, testfile=/home/vagrant/quoll/classification_pipeline/tutorial/data/koninginnedag2013/koninginnedag2013.features.npz, trainvocabulary=/home/vagrant/quoll/classification_pipeline/tutorial/data/agressie/train.vocabulary.txt, testvocabulary=/home/vagrant/quoll/classification_pipeline/tutorial/data/koninginnedag2013/koninginnedag2013.vocabulary.txt, weight=binary, prune=5000, balance=False)\n",
      "2016-12-12 19:29:38 |     INFO | LuigiNLP: Workflow run completed succesfully (logged to /home/vagrant/quoll/classification_pipeline/tutorial/log/sciluigi_run_20161212_192938_detailed.log)\n"
     ]
    },
    {
     "data": {
      "text/plain": [
       "True"
      ]
     },
     "execution_count": 10,
     "metadata": {},
     "output_type": "execute_result"
    }
   ],
   "source": [
    "luiginlp.run(Vectorize_traintest(trainfile='/home/vagrant/quoll/classification_pipeline/tutorial/data/agressie/train.features.npz',trainlabels_file='/home/vagrant/quoll/classification_pipeline/tutorial/data/agressie/train.labels',trainvocabulary='/home/vagrant/quoll/classification_pipeline/tutorial/data/agressie/train.vocabulary.txt',weight='binary',prune='5000',balance=False,testfile='/home/vagrant/quoll/classification_pipeline/tutorial/data/koninginnedag2013/koninginnedag2013.features.npz',testvocabulary='/home/vagrant/quoll/classification_pipeline/tutorial/data/koninginnedag2013/koninginnedag2013.vocabulary.txt'))"
   ]
  },
  {
   "cell_type": "code",
   "execution_count": 11,
   "metadata": {
    "collapsed": false
   },
   "outputs": [
    {
     "data": {
      "text/plain": [
       "['trainvectors', 'trainlabels', 'testvectors', 'classifier', 'classifier_args']"
      ]
     },
     "execution_count": 11,
     "metadata": {},
     "output_type": "execute_result"
    }
   ],
   "source": [
    "TrainApply.get_param_names()[3:]"
   ]
  },
  {
   "cell_type": "code",
   "execution_count": 12,
   "metadata": {
    "collapsed": false
   },
   "outputs": [
    {
     "name": "stderr",
     "output_type": "stream",
     "text": [
      "2016-12-12 19:30:04 |     INFO | LuigiNLP: Starting workflow (logging to /home/vagrant/quoll/classification_pipeline/tutorial/log/sciluigi_run_20161212_192938_detailed.log)\n",
      "2016-12-12 19:30:04 |     INFO | Using local scheduler\n",
      "2016-12-12 19:30:04 |     INFO | >>> Starting component TrainApply(instance_name=sciluigi_workflow, startcomponent=, inputslot=, trainvectors=/home/vagrant/quoll/classification_pipeline/tutorial/data/agressie/train.vectors.npz, trainlabels=/home/vagrant/quoll/classification_pipeline/tutorial/data/agressie/train.vectorlabels, testvectors=/home/vagrant/quoll/classification_pipeline/tutorial/data/koninginnedag2013/koninginnedag2013.vectors.npz, classifier=svm, classifier_args=1.0 linear 0.128 1)\n",
      "/usr/lib/python3.5/site-packages/luigi-2.4.0-py3.5.egg/luigi/parameter.py:259: UserWarning: Parameter TrainApply(instance_name=sciluigi_workflow, startcomponent=, inputslot=, trainvectors=/home/vagrant/quoll/classification_pipeline/tutorial/data/agressie/train.vectors.npz, trainlabels=/home/vagrant/quoll/classification_pipeline/tutorial/data/agressie/train.vectorlabels, testvectors=/home/vagrant/quoll/classification_pipeline/tutorial/data/koninginnedag2013/koninginnedag2013.vectors.npz, classifier=svm, classifier_args=1.0 linear 0.128 1) is not of type string.\n",
      "  warnings.warn(\"Parameter {0} is not of type string.\".format(str(x)))\n",
      "2016-12-12 19:30:04 |     INFO | Task train_classifier started\n"
     ]
    },
    {
     "name": "stdout",
     "output_type": "stream",
     "text": [
      "[LibSVM]"
     ]
    },
    {
     "name": "stderr",
     "output_type": "stream",
     "text": [
      "2016-12-12 19:30:36 |     INFO | Task train_classifier finished after 31.399s\n",
      "2016-12-12 19:30:36 |     INFO | Produced output /home/vagrant/quoll/classification_pipeline/tutorial/data/agressie/train.model.pkl\n",
      "2016-12-12 19:30:36 |     INFO | Task apply_classifier started\n",
      "2016-12-12 19:33:13 |     INFO | Task apply_classifier finished after 156.919s\n",
      "2016-12-12 19:33:13 |     INFO | Produced output /home/vagrant/quoll/classification_pipeline/tutorial/data/koninginnedag2013/koninginnedag2013.classifications.txt\n",
      "2016-12-12 19:33:13 |     INFO | <<< Finished component TrainApply(instance_name=sciluigi_workflow, startcomponent=, inputslot=, trainvectors=/home/vagrant/quoll/classification_pipeline/tutorial/data/agressie/train.vectors.npz, trainlabels=/home/vagrant/quoll/classification_pipeline/tutorial/data/agressie/train.vectorlabels, testvectors=/home/vagrant/quoll/classification_pipeline/tutorial/data/koninginnedag2013/koninginnedag2013.vectors.npz, classifier=svm, classifier_args=1.0 linear 0.128 1)\n",
      "2016-12-12 19:33:13 |     INFO | LuigiNLP: Workflow run completed succesfully (logged to /home/vagrant/quoll/classification_pipeline/tutorial/log/sciluigi_run_20161212_192938_detailed.log)\n"
     ]
    },
    {
     "data": {
      "text/plain": [
       "True"
      ]
     },
     "execution_count": 12,
     "metadata": {},
     "output_type": "execute_result"
    }
   ],
   "source": [
    "luiginlp.run(TrainApply(trainvectors='/home/vagrant/quoll/classification_pipeline/tutorial/data/agressie/train.vectors.npz',trainlabels='/home/vagrant/quoll/classification_pipeline/tutorial/data/agressie/train.vectorlabels',testvectors='/home/vagrant/quoll/classification_pipeline/tutorial/data/koninginnedag2013/koninginnedag2013.vectors.npz',classifier='svm',classifier_args='1.0 linear 0.128 1'))"
   ]
  },
  {
   "cell_type": "code",
   "execution_count": 11,
   "metadata": {
    "collapsed": false
   },
   "outputs": [
    {
     "data": {
      "text/plain": [
       "['predictions', 'documents']"
      ]
     },
     "execution_count": 11,
     "metadata": {},
     "output_type": "execute_result"
    }
   ],
   "source": [
    "ReportDocpredictionsComponent.get_param_names()[3:]"
   ]
  },
  {
   "cell_type": "code",
   "execution_count": 13,
   "metadata": {
    "collapsed": false
   },
   "outputs": [
    {
     "name": "stderr",
     "output_type": "stream",
     "text": [
      "2016-12-12 19:33:46 |     INFO | LuigiNLP: Starting workflow (logging to /home/vagrant/quoll/classification_pipeline/tutorial/log/sciluigi_run_20161212_192938_detailed.log)\n",
      "2016-12-12 19:33:46 |     INFO | Using local scheduler\n",
      "2016-12-12 19:33:46 |     INFO | >>> Starting component ReportDocpredictionsComponent(instance_name=sciluigi_workflow, startcomponent=, inputslot=, predictions=/home/vagrant/quoll/classification_pipeline/tutorial/data/koninginnedag2013/koninginnedag2013.classifications.txt, documents=/home/vagrant/quoll/classification_pipeline/tutorial/data/koninginnedag2013/koninginnedag2013.txt)\n",
      "/usr/lib/python3.5/site-packages/luigi-2.4.0-py3.5.egg/luigi/parameter.py:259: UserWarning: Parameter ReportDocpredictionsComponent(instance_name=sciluigi_workflow, startcomponent=, inputslot=, predictions=/home/vagrant/quoll/classification_pipeline/tutorial/data/koninginnedag2013/koninginnedag2013.classifications.txt, documents=/home/vagrant/quoll/classification_pipeline/tutorial/data/koninginnedag2013/koninginnedag2013.txt) is not of type string.\n",
      "  warnings.warn(\"Parameter {0} is not of type string.\".format(str(x)))\n",
      "2016-12-12 19:33:46 |     INFO | Task report_performance started\n",
      "2016-12-12 19:33:47 |     INFO | Task report_performance finished after 0.800s\n",
      "2016-12-12 19:33:47 |     INFO | Produced output /home/vagrant/quoll/classification_pipeline/tutorial/data/koninginnedag2013/koninginnedag2013.docpredictions.csv\n",
      "2016-12-12 19:33:47 |     INFO | <<< Finished component ReportDocpredictionsComponent(instance_name=sciluigi_workflow, startcomponent=, inputslot=, predictions=/home/vagrant/quoll/classification_pipeline/tutorial/data/koninginnedag2013/koninginnedag2013.classifications.txt, documents=/home/vagrant/quoll/classification_pipeline/tutorial/data/koninginnedag2013/koninginnedag2013.txt)\n",
      "2016-12-12 19:33:47 |     INFO | LuigiNLP: Workflow run completed succesfully (logged to /home/vagrant/quoll/classification_pipeline/tutorial/log/sciluigi_run_20161212_192938_detailed.log)\n"
     ]
    },
    {
     "data": {
      "text/plain": [
       "True"
      ]
     },
     "execution_count": 13,
     "metadata": {},
     "output_type": "execute_result"
    }
   ],
   "source": [
    "luiginlp.run(ReportDocpredictionsComponent(predictions='/home/vagrant/quoll/classification_pipeline/tutorial/data/koninginnedag2013/koninginnedag2013.classifications.txt',documents='/home/vagrant/quoll/classification_pipeline/tutorial/data/koninginnedag2013/koninginnedag2013.txt'))"
   ]
  },
  {
   "cell_type": "code",
   "execution_count": null,
   "metadata": {
    "collapsed": true
   },
   "outputs": [],
   "source": []
  }
 ],
 "metadata": {
  "anaconda-cloud": {},
  "kernelspec": {
   "display_name": "Python 3",
   "language": "python",
   "name": "python3"
  },
  "language_info": {
   "codemirror_mode": {
    "name": "ipython",
    "version": 3
   },
   "file_extension": ".py",
   "mimetype": "text/x-python",
   "name": "python",
   "nbconvert_exporter": "python",
   "pygments_lexer": "ipython3",
   "version": "3.5.2"
  }
 },
 "nbformat": 4,
 "nbformat_minor": 1
}
