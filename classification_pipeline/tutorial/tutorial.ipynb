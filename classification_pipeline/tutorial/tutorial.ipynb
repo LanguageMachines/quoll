{
 "cells": [
  {
   "cell_type": "code",
   "execution_count": 10,
   "metadata": {
    "collapsed": false
   },
   "outputs": [],
   "source": [
    "from modules.tokenize_instances import Tokenize\n",
    "from modules.featurize_instances import Featurize\n",
    "from modules.vectorize_sparse_instances import Vectorize, Vectorize_traintest\n",
    "from modules.classify_instances import TrainApply\n",
    "from modules.report_performance import ReportDocpredictionsComponent\n",
    "from modules.run_nfold_cv_sparse import NFoldCV\n",
    "import luiginlp\n",
    "import sys"
   ]
  },
  {
   "cell_type": "markdown",
   "metadata": {},
   "source": [
    "sdagvag\n"
   ]
  },
  {
   "cell_type": "code",
   "execution_count": 2,
   "metadata": {
    "collapsed": true
   },
   "outputs": [],
   "source": [
    "instances_aggression = '/home/vagrant/quoll/classification_pipeline/tutorial/data/agressie/train.txt'\n",
    "labels_aggression = '/home/vagrant/quoll/classification_pipeline/tutorial/data/agressie/train.labels'\n",
    "with open(instances_aggression,'r',encoding='utf-8') as infile:\n",
    "    instances = infile.read().strip().split('\\n')\n",
    "with open(labels_aggression,'r',encoding='utf-8') as infile:\n",
    "    labels = infile.read().strip().split('\\n') "
   ]
  },
  {
   "cell_type": "code",
   "execution_count": 3,
   "metadata": {
    "collapsed": false
   },
   "outputs": [
    {
     "name": "stderr",
     "output_type": "stream",
     "text": [
      "2016-12-09 23:55:18 |     INFO | LuigiNLP: Starting workflow (logging to /home/vagrant/quoll/classification_pipeline/tutorial/log/sciluigi_run_20161209_235510_detailed.log)\n",
      "2016-12-09 23:55:18 |     INFO | Using local scheduler\n",
      "2016-12-09 23:55:18 |     INFO | >>> Starting component Tokenize(instance_name=sciluigi_workflow, startcomponent=, inputslot=, inputfile=/home/vagrant/quoll/classification_pipeline/tutorial/data/agressie/train.txt, outputdir=, replaceinputdir=, config=/etc/ucto/tokconfig-nl-twitter, strip_punctuation=True)\n",
      "/usr/lib/python3.5/site-packages/luigi-2.4.0-py3.5.egg/luigi/parameter.py:259: UserWarning: Parameter Tokenize(instance_name=sciluigi_workflow, startcomponent=, inputslot=, inputfile=/home/vagrant/quoll/classification_pipeline/tutorial/data/agressie/train.txt, outputdir=, replaceinputdir=, config=/etc/ucto/tokconfig-nl-twitter, strip_punctuation=True) is not of type string.\n",
      "  warnings.warn(\"Parameter {0} is not of type string.\".format(str(x)))\n",
      "2016-12-09 23:55:18 |     INFO | <<< Finished component Tokenize(instance_name=sciluigi_workflow, startcomponent=, inputslot=, inputfile=/home/vagrant/quoll/classification_pipeline/tutorial/data/agressie/train.txt, outputdir=, replaceinputdir=, config=/etc/ucto/tokconfig-nl-twitter, strip_punctuation=True)\n",
      "2016-12-09 23:55:18 |     INFO | LuigiNLP: Workflow run completed succesfully (logged to /home/vagrant/quoll/classification_pipeline/tutorial/log/sciluigi_run_20161209_235510_detailed.log)\n"
     ]
    },
    {
     "data": {
      "text/plain": [
       "True"
      ]
     },
     "execution_count": 3,
     "metadata": {},
     "output_type": "execute_result"
    }
   ],
   "source": [
    "luiginlp.run(Tokenize(inputfile=instances_aggression,config='/etc/ucto/tokconfig-nl-twitter',strip_punctuation=True))"
   ]
  },
  {
   "cell_type": "code",
   "execution_count": 4,
   "metadata": {
    "collapsed": false
   },
   "outputs": [
    {
     "name": "stderr",
     "output_type": "stream",
     "text": [
      "2016-12-09 23:55:21 |     INFO | LuigiNLP: Starting workflow (logging to /home/vagrant/quoll/classification_pipeline/tutorial/log/sciluigi_run_20161209_235510_detailed.log)\n",
      "2016-12-09 23:55:21 |     INFO | Using local scheduler\n",
      "2016-12-09 23:55:21 |     INFO | >>> Starting component Featurize(instance_name=sciluigi_workflow, startcomponent=, inputslot=, inputfile=/home/vagrant/quoll/classification_pipeline/tutorial/data/agressie/train.tok.txt, outputdir=, replaceinputdir=, token_ngrams=1 2 3, blackfeats=False, lowercase=False, tokconfig=False, strip_punctuation=True)\n",
      "/usr/lib/python3.5/site-packages/luigi-2.4.0-py3.5.egg/luigi/parameter.py:259: UserWarning: Parameter Featurize(instance_name=sciluigi_workflow, startcomponent=, inputslot=, inputfile=/home/vagrant/quoll/classification_pipeline/tutorial/data/agressie/train.tok.txt, outputdir=, replaceinputdir=, token_ngrams=1 2 3, blackfeats=False, lowercase=False, tokconfig=False, strip_punctuation=True) is not of type string.\n",
      "  warnings.warn(\"Parameter {0} is not of type string.\".format(str(x)))\n",
      "2016-12-09 23:55:21 |     INFO | <<< Finished component Featurize(instance_name=sciluigi_workflow, startcomponent=, inputslot=, inputfile=/home/vagrant/quoll/classification_pipeline/tutorial/data/agressie/train.tok.txt, outputdir=, replaceinputdir=, token_ngrams=1 2 3, blackfeats=False, lowercase=False, tokconfig=False, strip_punctuation=True)\n",
      "2016-12-09 23:55:21 |     INFO | LuigiNLP: Workflow run completed succesfully (logged to /home/vagrant/quoll/classification_pipeline/tutorial/log/sciluigi_run_20161209_235510_detailed.log)\n"
     ]
    },
    {
     "data": {
      "text/plain": [
       "True"
      ]
     },
     "execution_count": 4,
     "metadata": {},
     "output_type": "execute_result"
    }
   ],
   "source": [
    "instances_tokenized = '/home/vagrant/quoll/classification_pipeline/tutorial/data/agressie/train.tok.txt'\n",
    "luiginlp.run(Featurize(inputfile=instances_tokenized,token_ngrams='1 2 3',blackfeats=False,lowercase=False))"
   ]
  },
  {
   "cell_type": "code",
   "execution_count": 3,
   "metadata": {
    "collapsed": false
   },
   "outputs": [
    {
     "ename": "NameError",
     "evalue": "name 'labels_aggression' is not defined",
     "output_type": "error",
     "traceback": [
      "\u001b[0;31m---------------------------------------------------------------------------\u001b[0m",
      "\u001b[0;31mNameError\u001b[0m                                 Traceback (most recent call last)",
      "\u001b[0;32m<ipython-input-3-3d3aa1f36b61>\u001b[0m in \u001b[0;36m<module>\u001b[0;34m()\u001b[0m\n\u001b[1;32m      1\u001b[0m \u001b[0minstances_featurized\u001b[0m \u001b[0;34m=\u001b[0m \u001b[0;34m'/home/vagrant/quoll/classification_pipeline/tutorial/data/agressie/train.features.npz'\u001b[0m\u001b[0;34m\u001b[0m\u001b[0m\n\u001b[1;32m      2\u001b[0m \u001b[0minstances_vocabulary\u001b[0m \u001b[0;34m=\u001b[0m \u001b[0;34m'/home/vagrant/quoll/classification_pipeline/tutorial/data/agressie/train.vocabulary.txt'\u001b[0m\u001b[0;34m\u001b[0m\u001b[0m\n\u001b[0;32m----> 3\u001b[0;31m \u001b[0mluiginlp\u001b[0m\u001b[0;34m.\u001b[0m\u001b[0mrun\u001b[0m\u001b[0;34m(\u001b[0m\u001b[0mNFoldCV\u001b[0m\u001b[0;34m(\u001b[0m\u001b[0mfeatures\u001b[0m\u001b[0;34m=\u001b[0m\u001b[0minstances_featurized\u001b[0m\u001b[0;34m,\u001b[0m\u001b[0mvocabulary\u001b[0m\u001b[0;34m=\u001b[0m\u001b[0minstances_vocabulary\u001b[0m\u001b[0;34m,\u001b[0m\u001b[0mlabels\u001b[0m\u001b[0;34m=\u001b[0m\u001b[0mlabels_aggression\u001b[0m\u001b[0;34m,\u001b[0m\u001b[0mn\u001b[0m\u001b[0;34m=\u001b[0m\u001b[0;36m10\u001b[0m\u001b[0;34m,\u001b[0m\u001b[0mweight\u001b[0m\u001b[0;34m=\u001b[0m\u001b[0;34m'binary'\u001b[0m\u001b[0;34m,\u001b[0m\u001b[0mprune\u001b[0m\u001b[0;34m=\u001b[0m\u001b[0;36m5000\u001b[0m\u001b[0;34m,\u001b[0m\u001b[0mbalance\u001b[0m\u001b[0;34m=\u001b[0m\u001b[0;32mFalse\u001b[0m\u001b[0;34m,\u001b[0m\u001b[0mclassifier\u001b[0m\u001b[0;34m=\u001b[0m\u001b[0;34m'naive_bayes'\u001b[0m\u001b[0;34m,\u001b[0m\u001b[0mdocuments\u001b[0m\u001b[0;34m=\u001b[0m\u001b[0minstances_aggression\u001b[0m\u001b[0;34m)\u001b[0m\u001b[0;34m)\u001b[0m\u001b[0;34m\u001b[0m\u001b[0m\n\u001b[0m",
      "\u001b[0;31mNameError\u001b[0m: name 'labels_aggression' is not defined"
     ]
    }
   ],
   "source": [
    "instances_featurized = '/home/vagrant/quoll/classification_pipeline/tutorial/data/agressie/train.features.npz'\n",
    "instances_vocabulary = '/home/vagrant/quoll/classification_pipeline/tutorial/data/agressie/train.vocabulary.txt'\n",
    "luiginlp.run(NFoldCV(features=instances_featurized,vocabulary=instances_vocabulary,labels=labels_aggression,n=10,weight='binary',prune=5000,balance=False,classifier='naive_bayes',documents=instances_aggression))"
   ]
  },
  {
   "cell_type": "code",
   "execution_count": 2,
   "metadata": {
    "collapsed": false
   },
   "outputs": [
    {
     "name": "stderr",
     "output_type": "stream",
     "text": [
      "2016-12-10 00:48:12 |     INFO | LuigiNLP: Starting workflow (logging to /home/vagrant/quoll/classification_pipeline/tutorial/log/sciluigi_run_20161210_004808_detailed.log)\n",
      "2016-12-10 00:48:12 |     INFO | Using local scheduler\n",
      "2016-12-10 00:48:12 |     INFO | >>> Starting component Featurize(instance_name=sciluigi_workflow, startcomponent=, inputslot=, inputfile=/home/vagrant/quoll/classification_pipeline/tutorial/data/koninginnedag2013/koninginnedag2013.txt, outputdir=, replaceinputdir=, token_ngrams=1 2 3, blackfeats=False, lowercase=False, tokconfig=/etc/ucto/tokconfig-nl-twitter, strip_punctuation=True)\n",
      "/usr/lib/python3.5/site-packages/luigi-2.4.0-py3.5.egg/luigi/parameter.py:259: UserWarning: Parameter Featurize(instance_name=sciluigi_workflow, startcomponent=, inputslot=, inputfile=/home/vagrant/quoll/classification_pipeline/tutorial/data/koninginnedag2013/koninginnedag2013.txt, outputdir=, replaceinputdir=, token_ngrams=1 2 3, blackfeats=False, lowercase=False, tokconfig=/etc/ucto/tokconfig-nl-twitter, strip_punctuation=True) is not of type string.\n",
      "  warnings.warn(\"Parameter {0} is not of type string.\".format(str(x)))\n",
      "2016-12-10 00:48:12 |     INFO | Task Tokenize_instances started\n"
     ]
    },
    {
     "name": "stdout",
     "output_type": "stream",
     "text": [
      "Running Tokenizer...\n"
     ]
    },
    {
     "name": "stderr",
     "output_type": "stream",
     "text": [
      "2016-12-10 00:48:33 |     INFO | Task Tokenize_instances finished after 21.157s\n",
      "2016-12-10 00:48:34 |     INFO | Produced output /home/vagrant/quoll/classification_pipeline/tutorial/data/koninginnedag2013/koninginnedag2013.tok.txt\n",
      "2016-12-10 00:48:34 |     INFO | Task Featurize_tokens started\n",
      "2016-12-10 00:49:04 |     INFO | Task Featurize_tokens finished after 30.317s\n",
      "2016-12-10 00:49:04 |     INFO | Produced output /home/vagrant/quoll/classification_pipeline/tutorial/data/koninginnedag2013/koninginnedag2013.features.npz\n",
      "2016-12-10 00:49:04 |     INFO | Produced output /home/vagrant/quoll/classification_pipeline/tutorial/data/koninginnedag2013/koninginnedag2013.vocabulary.txt\n",
      "2016-12-10 00:49:04 |     INFO | <<< Finished component Featurize(instance_name=sciluigi_workflow, startcomponent=, inputslot=, inputfile=/home/vagrant/quoll/classification_pipeline/tutorial/data/koninginnedag2013/koninginnedag2013.txt, outputdir=, replaceinputdir=, token_ngrams=1 2 3, blackfeats=False, lowercase=False, tokconfig=/etc/ucto/tokconfig-nl-twitter, strip_punctuation=True)\n",
      "2016-12-10 00:49:04 |     INFO | LuigiNLP: Workflow run completed succesfully (logged to /home/vagrant/quoll/classification_pipeline/tutorial/log/sciluigi_run_20161210_004808_detailed.log)\n"
     ]
    },
    {
     "data": {
      "text/plain": [
       "True"
      ]
     },
     "execution_count": 2,
     "metadata": {},
     "output_type": "execute_result"
    }
   ],
   "source": [
    "instances_koninginnedag = '/home/vagrant/quoll/classification_pipeline/tutorial/data/koninginnedag2013/koninginnedag2013.txt'\n",
    "luiginlp.run(Featurize(inputfile=instances_koninginnedag,lowercase=False,tokconfig='/etc/ucto/tokconfig-nl-twitter'))"
   ]
  },
  {
   "cell_type": "code",
   "execution_count": 14,
   "metadata": {
    "collapsed": false
   },
   "outputs": [
    {
     "data": {
      "text/plain": [
       "['instance_name',\n",
       " 'startcomponent',\n",
       " 'inputslot',\n",
       " 'trainfile',\n",
       " 'trainlabels_file',\n",
       " 'testfile',\n",
       " 'trainvocabulary',\n",
       " 'testvocabulary',\n",
       " 'weight',\n",
       " 'prune',\n",
       " 'balance']"
      ]
     },
     "execution_count": 14,
     "metadata": {},
     "output_type": "execute_result"
    }
   ],
   "source": [
    "Vectorize.get_param_names()[3:]"
   ]
  },
  {
   "cell_type": "code",
   "execution_count": 13,
   "metadata": {
    "collapsed": false
   },
   "outputs": [
    {
     "name": "stderr",
     "output_type": "stream",
     "text": [
      "2016-12-10 00:59:19 |     INFO | LuigiNLP: Starting workflow (logging to /home/vagrant/quoll/classification_pipeline/tutorial/log/sciluigi_run_20161210_004808_detailed.log)\n",
      "2016-12-10 00:59:19 |     INFO | Using local scheduler\n",
      "2016-12-10 00:59:19 |     INFO | >>> Starting component Vectorize(instance_name=sciluigi_workflow, startcomponent=, inputslot=, trainfile=/home/vagrant/quoll/classification_pipeline/tutorial/data/agressie/train.features.npz, trainlabels_file=/home/vagrant/quoll/classification_pipeline/tutorial/data/agressie/train.labels, trainvocabulary=/home/vagrant/quoll/classification_pipeline/tutorial/data/agressie/train.vocabulary.txt, weight=binary, prune=5000, balance=False)\n",
      "/usr/lib/python3.5/site-packages/luigi-2.4.0-py3.5.egg/luigi/parameter.py:259: UserWarning: Parameter Vectorize(instance_name=sciluigi_workflow, startcomponent=, inputslot=, trainfile=/home/vagrant/quoll/classification_pipeline/tutorial/data/agressie/train.features.npz, trainlabels_file=/home/vagrant/quoll/classification_pipeline/tutorial/data/agressie/train.labels, trainvocabulary=/home/vagrant/quoll/classification_pipeline/tutorial/data/agressie/train.vocabulary.txt, weight=binary, prune=5000, balance=False) is not of type string.\n",
      "  warnings.warn(\"Parameter {0} is not of type string.\".format(str(x)))\n",
      "2016-12-10 00:59:19 |     INFO | Task vectorize_traininstances started\n",
      "2016-12-10 00:59:19 |     INFO | Task vectorize_traininstances finished after 0.383s\n",
      "2016-12-10 00:59:20 |     INFO | Produced output /home/vagrant/quoll/classification_pipeline/tutorial/data/agressie/train.feature_weights.txt\n",
      "2016-12-10 00:59:20 |     INFO | Produced output /home/vagrant/quoll/classification_pipeline/tutorial/data/agressie/train.vectorlabels\n",
      "2016-12-10 00:59:20 |     INFO | Produced output /home/vagrant/quoll/classification_pipeline/tutorial/data/agressie/train.topfeatures.txt\n",
      "2016-12-10 00:59:20 |     INFO | Produced output /home/vagrant/quoll/classification_pipeline/tutorial/data/agressie/train.vectors.npz\n",
      "2016-12-10 00:59:20 |     INFO | <<< Finished component Vectorize(instance_name=sciluigi_workflow, startcomponent=, inputslot=, trainfile=/home/vagrant/quoll/classification_pipeline/tutorial/data/agressie/train.features.npz, trainlabels_file=/home/vagrant/quoll/classification_pipeline/tutorial/data/agressie/train.labels, trainvocabulary=/home/vagrant/quoll/classification_pipeline/tutorial/data/agressie/train.vocabulary.txt, weight=binary, prune=5000, balance=False)\n",
      "2016-12-10 00:59:20 |     INFO | LuigiNLP: Workflow run completed succesfully (logged to /home/vagrant/quoll/classification_pipeline/tutorial/log/sciluigi_run_20161210_004808_detailed.log)\n"
     ]
    },
    {
     "data": {
      "text/plain": [
       "True"
      ]
     },
     "execution_count": 13,
     "metadata": {},
     "output_type": "execute_result"
    }
   ],
   "source": [
    "luiginlp.run(Vectorize(trainfile='/home/vagrant/quoll/classification_pipeline/tutorial/data/agressie/train.features.npz',trainlabels_file='/home/vagrant/quoll/classification_pipeline/tutorial/data/agressie/train.labels',trainvocabulary='/home/vagrant/quoll/classification_pipeline/tutorial/data/agressie/train.vocabulary.txt',weight='binary',prune='5000',balance=False))"
   ]
  },
  {
   "cell_type": "code",
   "execution_count": 15,
   "metadata": {
    "collapsed": false
   },
   "outputs": [
    {
     "data": {
      "text/plain": [
       "['trainfile',\n",
       " 'trainlabels_file',\n",
       " 'testfile',\n",
       " 'trainvocabulary',\n",
       " 'testvocabulary',\n",
       " 'weight',\n",
       " 'prune',\n",
       " 'balance']"
      ]
     },
     "execution_count": 15,
     "metadata": {},
     "output_type": "execute_result"
    }
   ],
   "source": [
    "Vectorize_traintest.get_param_names()[3:]"
   ]
  },
  {
   "cell_type": "code",
   "execution_count": 16,
   "metadata": {
    "collapsed": false
   },
   "outputs": [
    {
     "name": "stderr",
     "output_type": "stream",
     "text": [
      "2016-12-10 01:03:20 |     INFO | LuigiNLP: Starting workflow (logging to /home/vagrant/quoll/classification_pipeline/tutorial/log/sciluigi_run_20161210_004808_detailed.log)\n",
      "2016-12-10 01:03:20 |     INFO | Using local scheduler\n",
      "2016-12-10 01:03:20 |     INFO | >>> Starting component Vectorize_traintest(instance_name=sciluigi_workflow, startcomponent=, inputslot=, trainfile=/home/vagrant/quoll/classification_pipeline/tutorial/data/agressie/train.features.npz, trainlabels_file=/home/vagrant/quoll/classification_pipeline/tutorial/data/agressie/train.labels, testfile=/home/vagrant/quoll/classification_pipeline/tutorial/data/koninginnedag2013/koninginnedag2013.features.npz, trainvocabulary=/home/vagrant/quoll/classification_pipeline/tutorial/data/agressie/train.vocabulary.txt, testvocabulary=/home/vagrant/quoll/classification_pipeline/tutorial/data/koninginnedag2013/koninginnedag2013.vocabulary.txt, weight=binary, prune=5000, balance=False)\n",
      "/usr/lib/python3.5/site-packages/luigi-2.4.0-py3.5.egg/luigi/parameter.py:259: UserWarning: Parameter Vectorize_traintest(instance_name=sciluigi_workflow, startcomponent=, inputslot=, trainfile=/home/vagrant/quoll/classification_pipeline/tutorial/data/agressie/train.features.npz, trainlabels_file=/home/vagrant/quoll/classification_pipeline/tutorial/data/agressie/train.labels, testfile=/home/vagrant/quoll/classification_pipeline/tutorial/data/koninginnedag2013/koninginnedag2013.features.npz, trainvocabulary=/home/vagrant/quoll/classification_pipeline/tutorial/data/agressie/train.vocabulary.txt, testvocabulary=/home/vagrant/quoll/classification_pipeline/tutorial/data/koninginnedag2013/koninginnedag2013.vocabulary.txt, weight=binary, prune=5000, balance=False) is not of type string.\n",
      "  warnings.warn(\"Parameter {0} is not of type string.\".format(str(x)))\n",
      "2016-12-10 01:03:20 |     INFO | Task vectorize_testinstances started\n",
      "2016-12-10 01:04:34 |     INFO | Task vectorize_testinstances finished after 73.943s\n",
      "2016-12-10 01:04:34 |     INFO | Produced output /home/vagrant/quoll/classification_pipeline/tutorial/data/koninginnedag2013/koninginnedag2013.vectors.npz\n",
      "2016-12-10 01:04:34 |     INFO | <<< Finished component Vectorize_traintest(instance_name=sciluigi_workflow, startcomponent=, inputslot=, trainfile=/home/vagrant/quoll/classification_pipeline/tutorial/data/agressie/train.features.npz, trainlabels_file=/home/vagrant/quoll/classification_pipeline/tutorial/data/agressie/train.labels, testfile=/home/vagrant/quoll/classification_pipeline/tutorial/data/koninginnedag2013/koninginnedag2013.features.npz, trainvocabulary=/home/vagrant/quoll/classification_pipeline/tutorial/data/agressie/train.vocabulary.txt, testvocabulary=/home/vagrant/quoll/classification_pipeline/tutorial/data/koninginnedag2013/koninginnedag2013.vocabulary.txt, weight=binary, prune=5000, balance=False)\n",
      "2016-12-10 01:04:34 |     INFO | LuigiNLP: Workflow run completed succesfully (logged to /home/vagrant/quoll/classification_pipeline/tutorial/log/sciluigi_run_20161210_004808_detailed.log)\n"
     ]
    },
    {
     "data": {
      "text/plain": [
       "True"
      ]
     },
     "execution_count": 16,
     "metadata": {},
     "output_type": "execute_result"
    }
   ],
   "source": [
    "luiginlp.run(Vectorize_traintest(trainfile='/home/vagrant/quoll/classification_pipeline/tutorial/data/agressie/train.features.npz',trainlabels_file='/home/vagrant/quoll/classification_pipeline/tutorial/data/agressie/train.labels',trainvocabulary='/home/vagrant/quoll/classification_pipeline/tutorial/data/agressie/train.vocabulary.txt',weight='binary',prune='5000',balance=False,testfile='/home/vagrant/quoll/classification_pipeline/tutorial/data/koninginnedag2013/koninginnedag2013.features.npz',testvocabulary='/home/vagrant/quoll/classification_pipeline/tutorial/data/koninginnedag2013/koninginnedag2013.vocabulary.txt'))"
   ]
  },
  {
   "cell_type": "code",
   "execution_count": 18,
   "metadata": {
    "collapsed": false
   },
   "outputs": [
    {
     "data": {
      "text/plain": [
       "['trainvectors', 'trainlabels', 'testvectors', 'classifier']"
      ]
     },
     "execution_count": 18,
     "metadata": {},
     "output_type": "execute_result"
    }
   ],
   "source": [
    "TrainApply.get_param_names()[3:]"
   ]
  },
  {
   "cell_type": "code",
   "execution_count": 2,
   "metadata": {
    "collapsed": false
   },
   "outputs": [
    {
     "name": "stderr",
     "output_type": "stream",
     "text": [
      "2016-12-10 01:15:12 |     INFO | LuigiNLP: Starting workflow (logging to /home/vagrant/quoll/classification_pipeline/tutorial/log/sciluigi_run_20161210_011504_detailed.log)\n",
      "2016-12-10 01:15:12 |     INFO | Using local scheduler\n",
      "2016-12-10 01:15:12 |     INFO | >>> Starting component TrainApply(instance_name=sciluigi_workflow, startcomponent=, inputslot=, trainvectors=/home/vagrant/quoll/classification_pipeline/tutorial/data/agressie/train.vectors.npz, trainlabels=/home/vagrant/quoll/classification_pipeline/tutorial/data/agressie/train.vectorlabels, testvectors=/home/vagrant/quoll/classification_pipeline/tutorial/data/koninginnedag2013/koninginnedag2013.vectors.npz, classifier=naive_bayes)\n",
      "/usr/lib/python3.5/site-packages/luigi-2.4.0-py3.5.egg/luigi/parameter.py:259: UserWarning: Parameter TrainApply(instance_name=sciluigi_workflow, startcomponent=, inputslot=, trainvectors=/home/vagrant/quoll/classification_pipeline/tutorial/data/agressie/train.vectors.npz, trainlabels=/home/vagrant/quoll/classification_pipeline/tutorial/data/agressie/train.vectorlabels, testvectors=/home/vagrant/quoll/classification_pipeline/tutorial/data/koninginnedag2013/koninginnedag2013.vectors.npz, classifier=naive_bayes) is not of type string.\n",
      "  warnings.warn(\"Parameter {0} is not of type string.\".format(str(x)))\n",
      "2016-12-10 01:15:12 |     INFO | Task train_classifier started\n",
      "2016-12-10 01:15:12 |     INFO | Task train_classifier finished after 0.017s\n",
      "2016-12-10 01:15:13 |     INFO | Produced output /home/vagrant/quoll/classification_pipeline/tutorial/data/agressie/train.model.pkl\n",
      "2016-12-10 01:15:13 |     INFO | Task apply_classifier started\n",
      "2016-12-10 01:15:45 |     INFO | Task apply_classifier finished after 31.830s\n",
      "2016-12-10 01:15:45 |     INFO | Produced output /home/vagrant/quoll/classification_pipeline/tutorial/data/koninginnedag2013/koninginnedag2013.classifications.txt\n",
      "2016-12-10 01:15:45 |     INFO | <<< Finished component TrainApply(instance_name=sciluigi_workflow, startcomponent=, inputslot=, trainvectors=/home/vagrant/quoll/classification_pipeline/tutorial/data/agressie/train.vectors.npz, trainlabels=/home/vagrant/quoll/classification_pipeline/tutorial/data/agressie/train.vectorlabels, testvectors=/home/vagrant/quoll/classification_pipeline/tutorial/data/koninginnedag2013/koninginnedag2013.vectors.npz, classifier=naive_bayes)\n",
      "2016-12-10 01:15:45 |     INFO | LuigiNLP: Workflow run completed succesfully (logged to /home/vagrant/quoll/classification_pipeline/tutorial/log/sciluigi_run_20161210_011504_detailed.log)\n"
     ]
    },
    {
     "data": {
      "text/plain": [
       "True"
      ]
     },
     "execution_count": 2,
     "metadata": {},
     "output_type": "execute_result"
    }
   ],
   "source": [
    "luiginlp.run(TrainApply(trainvectors='/home/vagrant/quoll/classification_pipeline/tutorial/data/agressie/train.vectors.npz',trainlabels='/home/vagrant/quoll/classification_pipeline/tutorial/data/agressie/train.vectorlabels',testvectors='/home/vagrant/quoll/classification_pipeline/tutorial/data/koninginnedag2013/koninginnedag2013.vectors.npz',classifier='naive_bayes'))"
   ]
  },
  {
   "cell_type": "code",
   "execution_count": 11,
   "metadata": {
    "collapsed": false
   },
   "outputs": [
    {
     "data": {
      "text/plain": [
       "['predictions', 'documents']"
      ]
     },
     "execution_count": 11,
     "metadata": {},
     "output_type": "execute_result"
    }
   ],
   "source": [
    "ReportDocpredictionsComponent.get_param_names()[3:]"
   ]
  },
  {
   "cell_type": "code",
   "execution_count": 14,
   "metadata": {
    "collapsed": false
   },
   "outputs": [
    {
     "name": "stderr",
     "output_type": "stream",
     "text": [
      "2016-12-10 01:24:27 |     INFO | LuigiNLP: Starting workflow (logging to /home/vagrant/quoll/classification_pipeline/tutorial/log/sciluigi_run_20161210_011504_detailed.log)\n",
      "2016-12-10 01:24:27 |     INFO | Using local scheduler\n",
      "2016-12-10 01:24:27 |     INFO | >>> Starting component ReportDocpredictionsComponent(instance_name=sciluigi_workflow, startcomponent=, inputslot=, predictions=/home/vagrant/quoll/classification_pipeline/tutorial/data/koninginnedag2013/koninginnedag2013.classifications.txt, documents=/home/vagrant/quoll/classification_pipeline/tutorial/data/koninginnedag2013/koninginnedag2013.txt)\n",
      "/usr/lib/python3.5/site-packages/luigi-2.4.0-py3.5.egg/luigi/parameter.py:259: UserWarning: Parameter ReportDocpredictionsComponent(instance_name=sciluigi_workflow, startcomponent=, inputslot=, predictions=/home/vagrant/quoll/classification_pipeline/tutorial/data/koninginnedag2013/koninginnedag2013.classifications.txt, documents=/home/vagrant/quoll/classification_pipeline/tutorial/data/koninginnedag2013/koninginnedag2013.txt) is not of type string.\n",
      "  warnings.warn(\"Parameter {0} is not of type string.\".format(str(x)))\n",
      "2016-12-10 01:24:27 |     INFO | Task report_performance started\n",
      "2016-12-10 01:24:27 |    ERROR | LuigiNLP: There were errors in scheduling the workflow, inspect the log at /home/vagrant/quoll/classification_pipeline/tutorial/log/sciluigi_run_20161210_011504_detailed.log for more details\n"
     ]
    },
    {
     "name": "stdout",
     "output_type": "stream",
     "text": [
      "The number of documents ( 105254 ) does not align with the number of predictions and labels ( 105253 ); exiting program\n"
     ]
    },
    {
     "data": {
      "text/plain": [
       "False"
      ]
     },
     "execution_count": 14,
     "metadata": {},
     "output_type": "execute_result"
    }
   ],
   "source": [
    "luiginlp.run(ReportDocpredictionsComponent(predictions='/home/vagrant/quoll/classification_pipeline/tutorial/data/koninginnedag2013/koninginnedag2013.classifications.txt',documents='/home/vagrant/quoll/classification_pipeline/tutorial/data/koninginnedag2013/koninginnedag2013.txt'))"
   ]
  },
  {
   "cell_type": "code",
   "execution_count": null,
   "metadata": {
    "collapsed": true
   },
   "outputs": [],
   "source": []
  }
 ],
 "metadata": {
  "anaconda-cloud": {},
  "kernelspec": {
   "display_name": "Python 3",
   "language": "python",
   "name": "python3"
  },
  "language_info": {
   "codemirror_mode": {
    "name": "ipython",
    "version": 3
   },
   "file_extension": ".py",
   "mimetype": "text/x-python",
   "name": "python",
   "nbconvert_exporter": "python",
   "pygments_lexer": "ipython3",
   "version": "3.5.2"
  }
 },
 "nbformat": 4,
 "nbformat_minor": 1
}
