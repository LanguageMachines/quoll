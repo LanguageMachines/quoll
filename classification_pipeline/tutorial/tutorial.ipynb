{
 "cells": [
  {
   "cell_type": "code",
   "execution_count": 1,
   "metadata": {
    "collapsed": false
   },
   "outputs": [
    {
     "name": "stderr",
     "output_type": "stream",
     "text": [
      "/usr/lib/python3.5/site-packages/sklearn/cross_validation.py:44: DeprecationWarning: This module was deprecated in version 0.18 in favor of the model_selection module into which all the refactored classes and functions are moved. Also note that the interface of the new CV iterators are different from that of this module. This module will be removed in 0.20.\n",
      "  \"This module will be removed in 0.20.\", DeprecationWarning)\n",
      "/usr/lib/python3.5/site-packages/sklearn/grid_search.py:43: DeprecationWarning: This module was deprecated in version 0.18 in favor of the model_selection module into which all the refactored classes and functions are moved. This module will be removed in 0.20.\n",
      "  DeprecationWarning)\n"
     ]
    },
    {
     "ename": "SyntaxError",
     "evalue": "positional argument follows keyword argument (run_nfold_cv_sparse.py, line 150)",
     "output_type": "error",
     "traceback": [
      "\u001b[0;36m  File \u001b[0;32m\"/home/vagrant/quoll/classification_pipeline/modules/run_nfold_cv_sparse.py\"\u001b[0;36m, line \u001b[0;32m150\u001b[0m\n\u001b[0;31m    yield Fold(features=self.in_features().path, labels=self.in_labels().path, vocabulary=self.in_vocabulary().path, bins=bins_out, i=fold, weight=self.weight, prune=self.prune, balance=self.balance, classifier=self.classifier, classifier_args=self.classifier_args, self.documents)\u001b[0m\n\u001b[0m                                                                                                                                                                                                                                                                         ^\u001b[0m\n\u001b[0;31mSyntaxError\u001b[0m\u001b[0;31m:\u001b[0m positional argument follows keyword argument\n"
     ]
    }
   ],
   "source": [
    "from modules.tokenize_instances import Tokenize\n",
    "from modules.featurize_instances import Featurize\n",
    "from modules.vectorize_sparse_instances import Vectorize, Vectorize_traintest\n",
    "from modules.classify_instances import TrainApply\n",
    "from modules.report_performance import ReportDocpredictionsComponent\n",
    "from modules.run_nfold_cv_sparse import NFoldCV\n",
    "from functions import docreader\n",
    "import luiginlp\n",
    "import sys"
   ]
  },
  {
   "cell_type": "markdown",
   "metadata": {},
   "source": [
    "sdagvag\n"
   ]
  },
  {
   "cell_type": "code",
   "execution_count": null,
   "metadata": {
    "collapsed": true
   },
   "outputs": [],
   "source": [
    "instances_aggression = '/home/vagrant/quoll/classification_pipeline/tutorial/data/agressie/train.txt'\n",
    "labels_aggression = '/home/vagrant/quoll/classification_pipeline/tutorial/data/agressie/train.labels'\n",
    "with open(instances_aggression,'r',encoding='utf-8') as infile:\n",
    "    instances = infile.read().strip().split('\\n')\n",
    "with open(labels_aggression,'r',encoding='utf-8') as infile:\n",
    "    labels = infile.read().strip().split('\\n') "
   ]
  },
  {
   "cell_type": "code",
   "execution_count": null,
   "metadata": {
    "collapsed": false
   },
   "outputs": [],
   "source": [
    "luiginlp.run(Tokenize(inputfile=instances_aggression,config='/etc/ucto/tokconfig-nl-twitter',strip_punctuation=True))"
   ]
  },
  {
   "cell_type": "code",
   "execution_count": null,
   "metadata": {
    "collapsed": false
   },
   "outputs": [],
   "source": [
    "instances_tokenized = '/home/vagrant/quoll/classification_pipeline/tutorial/data/agressie/train.tok.txt'\n",
    "luiginlp.run(Featurize(inputfile=instances_tokenized,token_ngrams='1 2 3',blackfeats=False,lowercase=False))"
   ]
  },
  {
   "cell_type": "code",
   "execution_count": 8,
   "metadata": {
    "collapsed": false
   },
   "outputs": [
    {
     "ename": "UnknownParameterException",
     "evalue": "NFoldCV[args=(), kwargs={'documents': '/home/vagrant/quoll/classification_pipeline/tutorial/data/agressie/train.txt', 'prune': 5000, 'features': '/home/vagrant/quoll/classification_pipeline/tutorial/data/agressie/train.features.npz', 'n': 10, 'labels': '/home/vagrant/quoll/classification_pipeline/tutorial/data/agressie/train.labels', 'weight': 'binary', 'balance': False, 'classifier_args': '1.0 linear 0.128 1', 'classifier': 'svm', 'vocabulary': '/home/vagrant/quoll/classification_pipeline/tutorial/data/agressie/train.vocabulary.txt'}]: unknown parameter classifier_args",
     "output_type": "error",
     "traceback": [
      "\u001b[0;31m---------------------------------------------------------------------------\u001b[0m",
      "\u001b[0;31mUnknownParameterException\u001b[0m                 Traceback (most recent call last)",
      "\u001b[0;32m<ipython-input-8-aa771795c775>\u001b[0m in \u001b[0;36m<module>\u001b[0;34m()\u001b[0m\n\u001b[1;32m      1\u001b[0m \u001b[0minstances_featurized\u001b[0m \u001b[0;34m=\u001b[0m \u001b[0;34m'/home/vagrant/quoll/classification_pipeline/tutorial/data/agressie/train.features.npz'\u001b[0m\u001b[0;34m\u001b[0m\u001b[0m\n\u001b[1;32m      2\u001b[0m \u001b[0minstances_vocabulary\u001b[0m \u001b[0;34m=\u001b[0m \u001b[0;34m'/home/vagrant/quoll/classification_pipeline/tutorial/data/agressie/train.vocabulary.txt'\u001b[0m\u001b[0;34m\u001b[0m\u001b[0m\n\u001b[0;32m----> 3\u001b[0;31m \u001b[0mluiginlp\u001b[0m\u001b[0;34m.\u001b[0m\u001b[0mrun\u001b[0m\u001b[0;34m(\u001b[0m\u001b[0mNFoldCV\u001b[0m\u001b[0;34m(\u001b[0m\u001b[0mfeatures\u001b[0m\u001b[0;34m=\u001b[0m\u001b[0minstances_featurized\u001b[0m\u001b[0;34m,\u001b[0m\u001b[0mvocabulary\u001b[0m\u001b[0;34m=\u001b[0m\u001b[0minstances_vocabulary\u001b[0m\u001b[0;34m,\u001b[0m\u001b[0mlabels\u001b[0m\u001b[0;34m=\u001b[0m\u001b[0mlabels_aggression\u001b[0m\u001b[0;34m,\u001b[0m\u001b[0mn\u001b[0m\u001b[0;34m=\u001b[0m\u001b[0;36m10\u001b[0m\u001b[0;34m,\u001b[0m\u001b[0mweight\u001b[0m\u001b[0;34m=\u001b[0m\u001b[0;34m'binary'\u001b[0m\u001b[0;34m,\u001b[0m\u001b[0mprune\u001b[0m\u001b[0;34m=\u001b[0m\u001b[0;36m5000\u001b[0m\u001b[0;34m,\u001b[0m\u001b[0mbalance\u001b[0m\u001b[0;34m=\u001b[0m\u001b[0;32mFalse\u001b[0m\u001b[0;34m,\u001b[0m\u001b[0mclassifier\u001b[0m\u001b[0;34m=\u001b[0m\u001b[0;34m'svm'\u001b[0m\u001b[0;34m,\u001b[0m\u001b[0mclassifier_args\u001b[0m\u001b[0;34m=\u001b[0m\u001b[0;34m'1.0 linear 0.128 1'\u001b[0m\u001b[0;34m,\u001b[0m\u001b[0mdocuments\u001b[0m\u001b[0;34m=\u001b[0m\u001b[0minstances_aggression\u001b[0m\u001b[0;34m)\u001b[0m\u001b[0;34m)\u001b[0m\u001b[0;34m\u001b[0m\u001b[0m\n\u001b[0m",
      "\u001b[0;32m/usr/lib/python3.5/site-packages/luigi-2.4.0-py3.5.egg/luigi/task_register.py\u001b[0m in \u001b[0;36m__call__\u001b[0;34m(cls, *args, **kwargs)\u001b[0m\n\u001b[1;32m     89\u001b[0m \u001b[0;34m\u001b[0m\u001b[0m\n\u001b[1;32m     90\u001b[0m         \u001b[0mparams\u001b[0m \u001b[0;34m=\u001b[0m \u001b[0mcls\u001b[0m\u001b[0;34m.\u001b[0m\u001b[0mget_params\u001b[0m\u001b[0;34m(\u001b[0m\u001b[0;34m)\u001b[0m\u001b[0;34m\u001b[0m\u001b[0m\n\u001b[0;32m---> 91\u001b[0;31m         \u001b[0mparam_values\u001b[0m \u001b[0;34m=\u001b[0m \u001b[0mcls\u001b[0m\u001b[0;34m.\u001b[0m\u001b[0mget_param_values\u001b[0m\u001b[0;34m(\u001b[0m\u001b[0mparams\u001b[0m\u001b[0;34m,\u001b[0m \u001b[0margs\u001b[0m\u001b[0;34m,\u001b[0m \u001b[0mkwargs\u001b[0m\u001b[0;34m)\u001b[0m\u001b[0;34m\u001b[0m\u001b[0m\n\u001b[0m\u001b[1;32m     92\u001b[0m \u001b[0;34m\u001b[0m\u001b[0m\n\u001b[1;32m     93\u001b[0m         \u001b[0mk\u001b[0m \u001b[0;34m=\u001b[0m \u001b[0;34m(\u001b[0m\u001b[0mcls\u001b[0m\u001b[0;34m,\u001b[0m \u001b[0mtuple\u001b[0m\u001b[0;34m(\u001b[0m\u001b[0mparam_values\u001b[0m\u001b[0;34m)\u001b[0m\u001b[0;34m)\u001b[0m\u001b[0;34m\u001b[0m\u001b[0m\n",
      "\u001b[0;32m/usr/lib/python3.5/site-packages/luigi-2.4.0-py3.5.egg/luigi/task.py\u001b[0m in \u001b[0;36mget_param_values\u001b[0;34m(cls, params, args, kwargs)\u001b[0m\n\u001b[1;32m    308\u001b[0m                 \u001b[0;32mraise\u001b[0m \u001b[0mparameter\u001b[0m\u001b[0;34m.\u001b[0m\u001b[0mDuplicateParameterException\u001b[0m\u001b[0;34m(\u001b[0m\u001b[0;34m'%s: parameter %s was already set as a positional parameter'\u001b[0m \u001b[0;34m%\u001b[0m \u001b[0;34m(\u001b[0m\u001b[0mexc_desc\u001b[0m\u001b[0;34m,\u001b[0m \u001b[0mparam_name\u001b[0m\u001b[0;34m)\u001b[0m\u001b[0;34m)\u001b[0m\u001b[0;34m\u001b[0m\u001b[0m\n\u001b[1;32m    309\u001b[0m             \u001b[0;32mif\u001b[0m \u001b[0mparam_name\u001b[0m \u001b[0;32mnot\u001b[0m \u001b[0;32min\u001b[0m \u001b[0mparams_dict\u001b[0m\u001b[0;34m:\u001b[0m\u001b[0;34m\u001b[0m\u001b[0m\n\u001b[0;32m--> 310\u001b[0;31m                 \u001b[0;32mraise\u001b[0m \u001b[0mparameter\u001b[0m\u001b[0;34m.\u001b[0m\u001b[0mUnknownParameterException\u001b[0m\u001b[0;34m(\u001b[0m\u001b[0;34m'%s: unknown parameter %s'\u001b[0m \u001b[0;34m%\u001b[0m \u001b[0;34m(\u001b[0m\u001b[0mexc_desc\u001b[0m\u001b[0;34m,\u001b[0m \u001b[0mparam_name\u001b[0m\u001b[0;34m)\u001b[0m\u001b[0;34m)\u001b[0m\u001b[0;34m\u001b[0m\u001b[0m\n\u001b[0m\u001b[1;32m    311\u001b[0m             \u001b[0mresult\u001b[0m\u001b[0;34m[\u001b[0m\u001b[0mparam_name\u001b[0m\u001b[0;34m]\u001b[0m \u001b[0;34m=\u001b[0m \u001b[0mparams_dict\u001b[0m\u001b[0;34m[\u001b[0m\u001b[0mparam_name\u001b[0m\u001b[0;34m]\u001b[0m\u001b[0;34m.\u001b[0m\u001b[0mnormalize\u001b[0m\u001b[0;34m(\u001b[0m\u001b[0marg\u001b[0m\u001b[0;34m)\u001b[0m\u001b[0;34m\u001b[0m\u001b[0m\n\u001b[1;32m    312\u001b[0m \u001b[0;34m\u001b[0m\u001b[0m\n",
      "\u001b[0;31mUnknownParameterException\u001b[0m: NFoldCV[args=(), kwargs={'documents': '/home/vagrant/quoll/classification_pipeline/tutorial/data/agressie/train.txt', 'prune': 5000, 'features': '/home/vagrant/quoll/classification_pipeline/tutorial/data/agressie/train.features.npz', 'n': 10, 'labels': '/home/vagrant/quoll/classification_pipeline/tutorial/data/agressie/train.labels', 'weight': 'binary', 'balance': False, 'classifier_args': '1.0 linear 0.128 1', 'classifier': 'svm', 'vocabulary': '/home/vagrant/quoll/classification_pipeline/tutorial/data/agressie/train.vocabulary.txt'}]: unknown parameter classifier_args"
     ]
    }
   ],
   "source": [
    "instances_featurized = '/home/vagrant/quoll/classification_pipeline/tutorial/data/agressie/train.features.npz'\n",
    "instances_vocabulary = '/home/vagrant/quoll/classification_pipeline/tutorial/data/agressie/train.vocabulary.txt'\n",
    "luiginlp.run(NFoldCV(features=instances_featurized,vocabulary=instances_vocabulary,labels=labels_aggression,n=10,weight='binary',prune=5000,balance=False,classifier='svm',classifier_args='1.0 linear 0.128 1',documents=instances_aggression))"
   ]
  },
  {
   "cell_type": "code",
   "execution_count": 6,
   "metadata": {
    "collapsed": false
   },
   "outputs": [
    {
     "name": "stderr",
     "output_type": "stream",
     "text": [
      "2016-12-12 19:48:03 |     INFO | LuigiNLP: Starting workflow (logging to /home/vagrant/quoll/classification_pipeline/tutorial/log/sciluigi_run_20161212_194803_detailed.log)\n",
      "2016-12-12 19:48:03 |     INFO | Using local scheduler\n",
      "2016-12-12 19:48:03 |     INFO | >>> Starting component Featurize(instance_name=sciluigi_workflow, startcomponent=, inputslot=, inputfile=/home/vagrant/quoll/classification_pipeline/tutorial/data/koninginnedag2013/koninginnedag2013.txt, outputdir=, replaceinputdir=, token_ngrams=1 2 3, blackfeats=False, lowercase=False, tokconfig=/etc/ucto/tokconfig-nl-twitter, strip_punctuation=True)\n",
      "/usr/lib/python3.5/site-packages/luigi-2.4.0-py3.5.egg/luigi/parameter.py:259: UserWarning: Parameter Featurize(instance_name=sciluigi_workflow, startcomponent=, inputslot=, inputfile=/home/vagrant/quoll/classification_pipeline/tutorial/data/koninginnedag2013/koninginnedag2013.txt, outputdir=, replaceinputdir=, token_ngrams=1 2 3, blackfeats=False, lowercase=False, tokconfig=/etc/ucto/tokconfig-nl-twitter, strip_punctuation=True) is not of type string.\n",
      "  warnings.warn(\"Parameter {0} is not of type string.\".format(str(x)))\n",
      "2016-12-12 19:48:03 |     INFO | <<< Finished component Featurize(instance_name=sciluigi_workflow, startcomponent=, inputslot=, inputfile=/home/vagrant/quoll/classification_pipeline/tutorial/data/koninginnedag2013/koninginnedag2013.txt, outputdir=, replaceinputdir=, token_ngrams=1 2 3, blackfeats=False, lowercase=False, tokconfig=/etc/ucto/tokconfig-nl-twitter, strip_punctuation=True)\n",
      "2016-12-12 19:48:03 |     INFO | LuigiNLP: Workflow run completed succesfully (logged to /home/vagrant/quoll/classification_pipeline/tutorial/log/sciluigi_run_20161212_194803_detailed.log)\n"
     ]
    },
    {
     "data": {
      "text/plain": [
       "True"
      ]
     },
     "execution_count": 6,
     "metadata": {},
     "output_type": "execute_result"
    }
   ],
   "source": [
    "instances_koninginnedag = '/home/vagrant/quoll/classification_pipeline/tutorial/data/koninginnedag2013/koninginnedag2013.txt'\n",
    "luiginlp.run(Featurize(inputfile=instances_koninginnedag,lowercase=False,tokconfig='/etc/ucto/tokconfig-nl-twitter'))"
   ]
  },
  {
   "cell_type": "code",
   "execution_count": 7,
   "metadata": {
    "collapsed": false
   },
   "outputs": [
    {
     "data": {
      "text/plain": [
       "['trainfile',\n",
       " 'trainlabels_file',\n",
       " 'trainvocabulary',\n",
       " 'weight',\n",
       " 'prune',\n",
       " 'balance']"
      ]
     },
     "execution_count": 7,
     "metadata": {},
     "output_type": "execute_result"
    }
   ],
   "source": [
    "Vectorize.get_param_names()[3:]"
   ]
  },
  {
   "cell_type": "code",
   "execution_count": 8,
   "metadata": {
    "collapsed": false
   },
   "outputs": [
    {
     "name": "stderr",
     "output_type": "stream",
     "text": [
      "2016-12-12 19:48:03 |     INFO | LuigiNLP: Starting workflow (logging to /home/vagrant/quoll/classification_pipeline/tutorial/log/sciluigi_run_20161212_194803_detailed.log)\n",
      "2016-12-12 19:48:03 |     INFO | Using local scheduler\n",
      "2016-12-12 19:48:03 |     INFO | >>> Starting component Vectorize(instance_name=sciluigi_workflow, startcomponent=, inputslot=, trainfile=/home/vagrant/quoll/classification_pipeline/tutorial/data/agressie/train.features.npz, trainlabels_file=/home/vagrant/quoll/classification_pipeline/tutorial/data/agressie/train.labels, trainvocabulary=/home/vagrant/quoll/classification_pipeline/tutorial/data/agressie/train.vocabulary.txt, weight=binary, prune=5000, balance=False)\n",
      "/usr/lib/python3.5/site-packages/luigi-2.4.0-py3.5.egg/luigi/parameter.py:259: UserWarning: Parameter Vectorize(instance_name=sciluigi_workflow, startcomponent=, inputslot=, trainfile=/home/vagrant/quoll/classification_pipeline/tutorial/data/agressie/train.features.npz, trainlabels_file=/home/vagrant/quoll/classification_pipeline/tutorial/data/agressie/train.labels, trainvocabulary=/home/vagrant/quoll/classification_pipeline/tutorial/data/agressie/train.vocabulary.txt, weight=binary, prune=5000, balance=False) is not of type string.\n",
      "  warnings.warn(\"Parameter {0} is not of type string.\".format(str(x)))\n",
      "2016-12-12 19:48:03 |     INFO | <<< Finished component Vectorize(instance_name=sciluigi_workflow, startcomponent=, inputslot=, trainfile=/home/vagrant/quoll/classification_pipeline/tutorial/data/agressie/train.features.npz, trainlabels_file=/home/vagrant/quoll/classification_pipeline/tutorial/data/agressie/train.labels, trainvocabulary=/home/vagrant/quoll/classification_pipeline/tutorial/data/agressie/train.vocabulary.txt, weight=binary, prune=5000, balance=False)\n",
      "2016-12-12 19:48:03 |     INFO | LuigiNLP: Workflow run completed succesfully (logged to /home/vagrant/quoll/classification_pipeline/tutorial/log/sciluigi_run_20161212_194803_detailed.log)\n"
     ]
    },
    {
     "data": {
      "text/plain": [
       "True"
      ]
     },
     "execution_count": 8,
     "metadata": {},
     "output_type": "execute_result"
    }
   ],
   "source": [
    "luiginlp.run(Vectorize(trainfile='/home/vagrant/quoll/classification_pipeline/tutorial/data/agressie/train.features.npz',trainlabels_file='/home/vagrant/quoll/classification_pipeline/tutorial/data/agressie/train.labels',trainvocabulary='/home/vagrant/quoll/classification_pipeline/tutorial/data/agressie/train.vocabulary.txt',weight='binary',prune='5000',balance=False))"
   ]
  },
  {
   "cell_type": "code",
   "execution_count": 9,
   "metadata": {
    "collapsed": false
   },
   "outputs": [
    {
     "data": {
      "text/plain": [
       "['trainfile',\n",
       " 'trainlabels_file',\n",
       " 'testfile',\n",
       " 'trainvocabulary',\n",
       " 'testvocabulary',\n",
       " 'weight',\n",
       " 'prune',\n",
       " 'balance']"
      ]
     },
     "execution_count": 9,
     "metadata": {},
     "output_type": "execute_result"
    }
   ],
   "source": [
    "Vectorize_traintest.get_param_names()[3:]"
   ]
  },
  {
   "cell_type": "code",
   "execution_count": 10,
   "metadata": {
    "collapsed": false
   },
   "outputs": [
    {
     "name": "stderr",
     "output_type": "stream",
     "text": [
      "2016-12-12 19:48:03 |     INFO | LuigiNLP: Starting workflow (logging to /home/vagrant/quoll/classification_pipeline/tutorial/log/sciluigi_run_20161212_194803_detailed.log)\n",
      "2016-12-12 19:48:03 |     INFO | Using local scheduler\n",
      "2016-12-12 19:48:03 |     INFO | >>> Starting component Vectorize_traintest(instance_name=sciluigi_workflow, startcomponent=, inputslot=, trainfile=/home/vagrant/quoll/classification_pipeline/tutorial/data/agressie/train.features.npz, trainlabels_file=/home/vagrant/quoll/classification_pipeline/tutorial/data/agressie/train.labels, testfile=/home/vagrant/quoll/classification_pipeline/tutorial/data/koninginnedag2013/koninginnedag2013.features.npz, trainvocabulary=/home/vagrant/quoll/classification_pipeline/tutorial/data/agressie/train.vocabulary.txt, testvocabulary=/home/vagrant/quoll/classification_pipeline/tutorial/data/koninginnedag2013/koninginnedag2013.vocabulary.txt, weight=binary, prune=5000, balance=False)\n",
      "/usr/lib/python3.5/site-packages/luigi-2.4.0-py3.5.egg/luigi/parameter.py:259: UserWarning: Parameter Vectorize_traintest(instance_name=sciluigi_workflow, startcomponent=, inputslot=, trainfile=/home/vagrant/quoll/classification_pipeline/tutorial/data/agressie/train.features.npz, trainlabels_file=/home/vagrant/quoll/classification_pipeline/tutorial/data/agressie/train.labels, testfile=/home/vagrant/quoll/classification_pipeline/tutorial/data/koninginnedag2013/koninginnedag2013.features.npz, trainvocabulary=/home/vagrant/quoll/classification_pipeline/tutorial/data/agressie/train.vocabulary.txt, testvocabulary=/home/vagrant/quoll/classification_pipeline/tutorial/data/koninginnedag2013/koninginnedag2013.vocabulary.txt, weight=binary, prune=5000, balance=False) is not of type string.\n",
      "  warnings.warn(\"Parameter {0} is not of type string.\".format(str(x)))\n",
      "2016-12-12 19:48:03 |     INFO | <<< Finished component Vectorize_traintest(instance_name=sciluigi_workflow, startcomponent=, inputslot=, trainfile=/home/vagrant/quoll/classification_pipeline/tutorial/data/agressie/train.features.npz, trainlabels_file=/home/vagrant/quoll/classification_pipeline/tutorial/data/agressie/train.labels, testfile=/home/vagrant/quoll/classification_pipeline/tutorial/data/koninginnedag2013/koninginnedag2013.features.npz, trainvocabulary=/home/vagrant/quoll/classification_pipeline/tutorial/data/agressie/train.vocabulary.txt, testvocabulary=/home/vagrant/quoll/classification_pipeline/tutorial/data/koninginnedag2013/koninginnedag2013.vocabulary.txt, weight=binary, prune=5000, balance=False)\n",
      "2016-12-12 19:48:03 |     INFO | LuigiNLP: Workflow run completed succesfully (logged to /home/vagrant/quoll/classification_pipeline/tutorial/log/sciluigi_run_20161212_194803_detailed.log)\n"
     ]
    },
    {
     "data": {
      "text/plain": [
       "True"
      ]
     },
     "execution_count": 10,
     "metadata": {},
     "output_type": "execute_result"
    }
   ],
   "source": [
    "luiginlp.run(Vectorize_traintest(trainfile='/home/vagrant/quoll/classification_pipeline/tutorial/data/agressie/train.features.npz',trainlabels_file='/home/vagrant/quoll/classification_pipeline/tutorial/data/agressie/train.labels',trainvocabulary='/home/vagrant/quoll/classification_pipeline/tutorial/data/agressie/train.vocabulary.txt',weight='binary',prune='5000',balance=False,testfile='/home/vagrant/quoll/classification_pipeline/tutorial/data/koninginnedag2013/koninginnedag2013.features.npz',testvocabulary='/home/vagrant/quoll/classification_pipeline/tutorial/data/koninginnedag2013/koninginnedag2013.vocabulary.txt'))"
   ]
  },
  {
   "cell_type": "code",
   "execution_count": 11,
   "metadata": {
    "collapsed": false
   },
   "outputs": [
    {
     "data": {
      "text/plain": [
       "['trainvectors', 'trainlabels', 'testvectors', 'classifier', 'classifier_args']"
      ]
     },
     "execution_count": 11,
     "metadata": {},
     "output_type": "execute_result"
    }
   ],
   "source": [
    "TrainApply.get_param_names()[3:]"
   ]
  },
  {
   "cell_type": "code",
   "execution_count": 12,
   "metadata": {
    "collapsed": false
   },
   "outputs": [
    {
     "name": "stderr",
     "output_type": "stream",
     "text": [
      "2016-12-12 19:48:21 |     INFO | LuigiNLP: Starting workflow (logging to /home/vagrant/quoll/classification_pipeline/tutorial/log/sciluigi_run_20161212_194803_detailed.log)\n",
      "2016-12-12 19:48:21 |     INFO | Using local scheduler\n",
      "2016-12-12 19:48:21 |     INFO | >>> Starting component TrainApply(instance_name=sciluigi_workflow, startcomponent=, inputslot=, trainvectors=/home/vagrant/quoll/classification_pipeline/tutorial/data/agressie/train.vectors.npz, trainlabels=/home/vagrant/quoll/classification_pipeline/tutorial/data/agressie/train.vectorlabels, testvectors=/home/vagrant/quoll/classification_pipeline/tutorial/data/koninginnedag2013/koninginnedag2013.vectors.npz, classifier=svm, classifier_args=1.0 linear 0.128 1)\n",
      "/usr/lib/python3.5/site-packages/luigi-2.4.0-py3.5.egg/luigi/parameter.py:259: UserWarning: Parameter TrainApply(instance_name=sciluigi_workflow, startcomponent=, inputslot=, trainvectors=/home/vagrant/quoll/classification_pipeline/tutorial/data/agressie/train.vectors.npz, trainlabels=/home/vagrant/quoll/classification_pipeline/tutorial/data/agressie/train.vectorlabels, testvectors=/home/vagrant/quoll/classification_pipeline/tutorial/data/koninginnedag2013/koninginnedag2013.vectors.npz, classifier=svm, classifier_args=1.0 linear 0.128 1) is not of type string.\n",
      "  warnings.warn(\"Parameter {0} is not of type string.\".format(str(x)))\n",
      "2016-12-12 19:48:21 |     INFO | Task apply_classifier started\n",
      "2016-12-12 19:51:02 |     INFO | Task apply_classifier finished after 161.355s\n",
      "2016-12-12 19:51:03 |     INFO | Produced output /home/vagrant/quoll/classification_pipeline/tutorial/data/koninginnedag2013/koninginnedag2013.classifications.txt\n",
      "2016-12-12 19:51:03 |     INFO | <<< Finished component TrainApply(instance_name=sciluigi_workflow, startcomponent=, inputslot=, trainvectors=/home/vagrant/quoll/classification_pipeline/tutorial/data/agressie/train.vectors.npz, trainlabels=/home/vagrant/quoll/classification_pipeline/tutorial/data/agressie/train.vectorlabels, testvectors=/home/vagrant/quoll/classification_pipeline/tutorial/data/koninginnedag2013/koninginnedag2013.vectors.npz, classifier=svm, classifier_args=1.0 linear 0.128 1)\n",
      "2016-12-12 19:51:03 |     INFO | LuigiNLP: Workflow run completed succesfully (logged to /home/vagrant/quoll/classification_pipeline/tutorial/log/sciluigi_run_20161212_194803_detailed.log)\n"
     ]
    },
    {
     "data": {
      "text/plain": [
       "True"
      ]
     },
     "execution_count": 12,
     "metadata": {},
     "output_type": "execute_result"
    }
   ],
   "source": [
    "luiginlp.run(TrainApply(trainvectors='/home/vagrant/quoll/classification_pipeline/tutorial/data/agressie/train.vectors.npz',trainlabels='/home/vagrant/quoll/classification_pipeline/tutorial/data/agressie/train.vectorlabels',testvectors='/home/vagrant/quoll/classification_pipeline/tutorial/data/koninginnedag2013/koninginnedag2013.vectors.npz',classifier='svm',classifier_args='1.0 linear 0.128 1'))"
   ]
  },
  {
   "cell_type": "code",
   "execution_count": 11,
   "metadata": {
    "collapsed": false
   },
   "outputs": [
    {
     "data": {
      "text/plain": [
       "['predictions', 'documents']"
      ]
     },
     "execution_count": 11,
     "metadata": {},
     "output_type": "execute_result"
    }
   ],
   "source": [
    "ReportDocpredictionsComponent.get_param_names()[3:]"
   ]
  },
  {
   "cell_type": "code",
   "execution_count": 13,
   "metadata": {
    "collapsed": false
   },
   "outputs": [
    {
     "name": "stderr",
     "output_type": "stream",
     "text": [
      "2016-12-12 19:51:12 |     INFO | LuigiNLP: Starting workflow (logging to /home/vagrant/quoll/classification_pipeline/tutorial/log/sciluigi_run_20161212_194803_detailed.log)\n",
      "2016-12-12 19:51:12 |     INFO | Using local scheduler\n",
      "2016-12-12 19:51:12 |     INFO | >>> Starting component ReportDocpredictionsComponent(instance_name=sciluigi_workflow, startcomponent=, inputslot=, predictions=/home/vagrant/quoll/classification_pipeline/tutorial/data/koninginnedag2013/koninginnedag2013.classifications.txt, documents=/home/vagrant/quoll/classification_pipeline/tutorial/data/koninginnedag2013/koninginnedag2013.txt)\n",
      "/usr/lib/python3.5/site-packages/luigi-2.4.0-py3.5.egg/luigi/parameter.py:259: UserWarning: Parameter ReportDocpredictionsComponent(instance_name=sciluigi_workflow, startcomponent=, inputslot=, predictions=/home/vagrant/quoll/classification_pipeline/tutorial/data/koninginnedag2013/koninginnedag2013.classifications.txt, documents=/home/vagrant/quoll/classification_pipeline/tutorial/data/koninginnedag2013/koninginnedag2013.txt) is not of type string.\n",
      "  warnings.warn(\"Parameter {0} is not of type string.\".format(str(x)))\n",
      "2016-12-12 19:51:12 |     INFO | Task report_performance started\n",
      "2016-12-12 19:51:13 |     INFO | Task report_performance finished after 0.849s\n",
      "2016-12-12 19:51:13 |     INFO | Produced output /home/vagrant/quoll/classification_pipeline/tutorial/data/koninginnedag2013/koninginnedag2013.docpredictions.csv\n",
      "2016-12-12 19:51:13 |     INFO | <<< Finished component ReportDocpredictionsComponent(instance_name=sciluigi_workflow, startcomponent=, inputslot=, predictions=/home/vagrant/quoll/classification_pipeline/tutorial/data/koninginnedag2013/koninginnedag2013.classifications.txt, documents=/home/vagrant/quoll/classification_pipeline/tutorial/data/koninginnedag2013/koninginnedag2013.txt)\n",
      "2016-12-12 19:51:13 |     INFO | LuigiNLP: Workflow run completed succesfully (logged to /home/vagrant/quoll/classification_pipeline/tutorial/log/sciluigi_run_20161212_194803_detailed.log)\n"
     ]
    },
    {
     "data": {
      "text/plain": [
       "True"
      ]
     },
     "execution_count": 13,
     "metadata": {},
     "output_type": "execute_result"
    }
   ],
   "source": [
    "luiginlp.run(ReportDocpredictionsComponent(predictions='/home/vagrant/quoll/classification_pipeline/tutorial/data/koninginnedag2013/koninginnedag2013.classifications.txt',documents='/home/vagrant/quoll/classification_pipeline/tutorial/data/koninginnedag2013/koninginnedag2013.txt'))"
   ]
  },
  {
   "cell_type": "code",
   "execution_count": 17,
   "metadata": {
    "collapsed": false
   },
   "outputs": [
    {
     "name": "stdout",
     "output_type": "stream",
     "text": [
      "105254 1759\n"
     ]
    }
   ],
   "source": [
    "dr = docreader.Docreader()\n",
    "docpredictions=dr.parse_csv('/home/vagrant/quoll/classification_pipeline/tutorial/data/koninginnedag2013/koninginnedag2013.docpredictions.csv')\n",
    "aggressives = [doc for doc in docpredictions if doc[2] == 'agressie']\n",
    "print(len(docpredictions),len(aggressives))"
   ]
  },
  {
   "cell_type": "code",
   "execution_count": 19,
   "metadata": {
    "collapsed": false
   },
   "outputs": [
    {
     "name": "stdout",
     "output_type": "stream",
     "text": [
      "Kan er godverdomme niets anders op tv zijn dan alleen naar dat tering konings huis? #koninginnedag mijn aandacht krijgen die homo's niet\t0.96933397672\n",
      "RT @juul075: wat gaat iedereen naar die kk slamfm op koninginnedag is toch geen reet aan ????? of wel ???? beter ga je naar zulke feeste ...\t0.967003844765\n",
      "Flikker op met je queensday zeg gewoon koninginnedag we zijn godverdomme nie in engeland\t0.964888283796\n",
      "RT @groetjeshidde: Flikker op met je queensday zeg gewoon koninginnedag we zijn godverdomme nie in engeland\t0.957618618238\n",
      "Wauw hoe parra en mongolisch ik dee toen ik op koninginnedag hoorde dat me pa overleden was mensen keken dood van wat een mongool\t0.948832351822\n",
      "Pfff ik heb gewoon totaal geen zin in bier en drukte en die ongein. Misschien later, of ik blijf gewoon lekker thuis. Fuck Koninginnedag.\t0.931685385408\n",
      "Domme kk bitch hoe vraag je hebben we koninginnedag kk stupid ho hele nieuws kranten radio alles gaat erover van pijpen word je doof eh\t0.931024831626\n",
      "zegt m'n pa opeens; \"een collega van me zag je in de stad met koninginnedag en hij vond jou wel een lekker wijf\" WTF WAT REAGEER IK DAAR OP\t0.92669418112\n",
      "Oeeeeeh sebas kent misschien die jongen met die glitter. Beter heeft ie op koninginnedag weer een glitter onder zn oog?\t0.92389006244\n",
      "Fuck koninginnedag dit land is tog al corrupt met alles ga niet 30 maart schijnheilig doen datje blij bent dat het konginnendag is fucked !!\t0.91945553967\n",
      "\"@Gvanderwiel: Fijne koninginnedag iedereen! #qday #kroon #koning #willem #alexander http://t.co/8wzXNLQw3k\" ga naar je moeder kkr neppe kil\t0.908077151116\n",
      "RT @dionbrouwer: @iLoubna_ ga mij ook eens terugvolgen ofzo wtf joh // ik doe morgen ja hou je bek morgen helemaal oranje koninginnedag\t0.901092991045\n",
      "Wtf Wtf Koningsspelen??? Koningslied?? Zijn ze nou helemaal gek geworden?? Rot op met die poppenkast en snel! #nl1 #persco #Koninginnedag\t0.899737380371\n",
      "@1jen6 ik blijf of thuis want begin ziek te worden of ik ga naar hhw.. Maar ik weet het nog niet.. We moeten koninginnedag even regelen xx\t0.897055163698\n",
      "@sietske76 Mooi dat je een gezellige dag had. Je bent zeker wel blij dat je niet meer op Koninginnedag jarig bent?\t0.896032665832\n",
      "Kk zooi man, kk Koninginnedag, kk werk, kk iedereen, kk mongolen\t0.895499216023\n",
      "\"@Mr_Koerva0229: Kk zooi man, kk Koninginnedag, kk werk, kk iedereen, kk mongolen\"\t0.895499216023\n",
      "Kanker koninginnedag, fuck heel die kanker dag. Kanker koningin.\t0.877840463614\n",
      "\"@Mr_Koerva0229: Kk zooi man, kk Koninginnedag, kk werk, kk iedereen, kk mongolen\" op werk na*\t0.873160671169\n",
      "kk maar op met die koninginnedag ik ga gamen en niks doen\t0.869550099933\n",
      "Koninginnedag wordt echt weer het feest van het volk. Maar wel verplicht het Koningslied prachtig vinden. En geen alcohol. En je bek houden.\t0.869008853526\n",
      "Je weet het is kk druk dan wat ga je met koninginnedag naar een andere stad die je niet eens kent.\t0.866314684041\n",
      "Niemand heeft kaartjes meer voor sla fm koninginnedag hou gewoon je bek.\t0.858627935433\n",
      "Zijn ze nou helemaal gek geworden?! Daaaaag ga echt geen tango dansen op Koninginnedag http://t.co/41C44pgrf0\t0.857297322101\n",
      "RT @joerydv: WAT GEEN KONINGINNEDAG MEER OP 30 APRIL MAAR KONINGSDAG OP 27 APRIL NEE DIT IS KANKER DOM\t0.852103165673\n",
      "Zijn de kaartjes van slam fm koninginnedag uitverkocht ? Ik zou heen gaan gvd!\t0.846757799083\n",
      "“@Debby_xxxx: Zijn de kaartjes van slam fm koninginnedag uitverkocht ? Ik zou heen gaan gvd!”\t0.846757799083\n",
      "@IWillReturn_ Precies. Kanker fanfare's en kanker mensen lol. Koninginnedag is echt niet boeiend..\t0.845669623153\n",
      "Ben ik dan niet meer op koninginnedag jarig? Damn.\t0.844065064557\n",
      "@DoItLikeRutger - YOOO LEKKERTJE, WAT DOE JIJ OP KONINGINNEDAG?\t0.839218966312\n",
      "RT @KillaChong: Niemand heeft kaartjes meer voor sla fm koninginnedag hou gewoon je bek.\t0.833859253653\n",
      "RT @KillaChong: Niemand heeft kaartjes meer voor sla fm koninginnedag hou gewoon je bek.\t0.833859253653\n",
      "wrm woon ik bij een basisschool die kanker kinderen vieren vandaag Koninginnedag :s\t0.831398419181\n",
      "RT @sinemsayss: Die koninginnedag boeit me geen kk flikker sjezus\t0.830137006604\n",
      "@xAndreax1D JA HIJ WAS ER MET KONINGINNEDAG IK WAS ER OOK IK HEB HEEL AMSTERDAM GEZIEN MISSCHIEN WAS IK EEN PAAR STRATEN VAN HEM WEG\t0.828751619952\n",
      "Flikker op met die kut herrie van die koninginnedag ik wil slapen\t0.826693437021\n",
      "ik hoor echt overal een liedje, bij simplon al, gister bij koninginnedag, en nog weet ik niet hoe die heet, kk zooi\t0.826254564488\n",
      "RT @Aiichaaa_: @Endje_ whahahahahaha, met je mooie paraplu. Koninginnedag feelings yek? // haha beter dan niks eh vriendin ja tog?\t0.824407270677\n",
      "RT @__HEAT__: Domme kk bitch hoe vraag je hebben we koninginnedag kk stupid ho hele nieuws kranten radio alles gaat erover van pijpen wo ...\t0.818698531841\n",
      "Ik heb niets met koninginnedag. Ok, die kroning kijk ik terug. Maar zie je mij al de hele dag achter zn kraam staan. Ik zou gek worden.\t0.809097791997\n",
      "hiihaaaho me moeder wilt feest geven met koninginnedag omdat dit jaar laatste keer 30april is ofzo, jeeej ^^\t0.807234366793\n",
      "Damn was ik maar op dat slam fm koninginnedag feest in alkmaar\t0.800383078725\n",
      "Zou #Koninginnedag dit jaar  voor t eerst in Amstelveen zijn belt ze af zo erg is het toch niet?!Volgend jaar Koningsdag bekt niet zo lekker\t0.796929819302\n",
      "Vandaag weer werke. 4e jaar achter elkaar dat ik moet werke op koninginnedag,kk zooi! Kk horeca!\t0.791752446665\n",
      "Ik kan dinsdag dus niet want dan is koninginnedag en me moeder wilt naar goffert enz.. Kun je donderdag? @keepy0urm1sery\t0.787094525706\n",
      "\"@Elinejanssen1: Ik bedoel natuurlijk koningsdag. Jezus wat klinkt dat lelijk\" nee hou je bek. Koninginnedag !\t0.782440392703\n",
      "Op #Koninginnedag 's middags geopend!http://t.co/Ok3XqtHZb8 Als leukste winkel kan je toch niet dichtblijven?! #WV050 Je kan nog stemmen!\t0.782059677817\n",
      "maarja, nog nooit zo'n gezellige koninginnedag gehad, wat een feest!\t0.780465315862\n",
      "IK VOND KONINGINNEDAG GEEN ZAK AAN HEB NIKS ORANJES GEKOCHT OF GEDAAN ALLEEN ZIEK THUIS OP DE BANK GEHANGEN EN MN TV ISOOK NOG  KAPOT DUS\t0.772163253405\n",
      "\"@HeelHerkenbaar: Doodmoe worden van al dat gezeik over Koninginnedag.. #HeelHerkenbaar\"terwijl ze. Niet eens een normaal koningslied hebben\t0.771311250539\n"
     ]
    }
   ],
   "source": [
    "sorted_aggressives = sorted(aggressives,key = lambda k : k[3], reverse=True)\n",
    "print('\\n'.join(['\\t'.join((sa[0],sa[3])) for sa in sorted_aggressives[:50]]))"
   ]
  },
  {
   "cell_type": "code",
   "execution_count": null,
   "metadata": {
    "collapsed": true
   },
   "outputs": [],
   "source": []
  }
 ],
 "metadata": {
  "anaconda-cloud": {},
  "kernelspec": {
   "display_name": "Python 3",
   "language": "python",
   "name": "python3"
  },
  "language_info": {
   "codemirror_mode": {
    "name": "ipython",
    "version": 3
   },
   "file_extension": ".py",
   "mimetype": "text/x-python",
   "name": "python",
   "nbconvert_exporter": "python",
   "pygments_lexer": "ipython3",
   "version": "3.5.2"
  }
 },
 "nbformat": 4,
 "nbformat_minor": 1
}
