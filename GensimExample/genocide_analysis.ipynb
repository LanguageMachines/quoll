{
 "cells": [
  {
   "cell_type": "code",
   "execution_count": 1,
   "metadata": {
    "collapsed": true
   },
   "outputs": [],
   "source": [
    "import sys\n",
    "sys.path.insert(1, r'../Projects/datautils/')  # add to pythonpath\n",
    "from datautils import fileutils, unicode_tr"
   ]
  },
  {
   "cell_type": "code",
   "execution_count": 2,
   "metadata": {
    "collapsed": false
   },
   "outputs": [
    {
     "name": "stdout",
     "output_type": "stream",
     "text": [
      "Populating the interactive namespace from numpy and matplotlib\n"
     ]
    }
   ],
   "source": [
    "import json\n",
    "import re\n",
    "import pandas as pd\n",
    "import importlib\n",
    "from collections import namedtuple\n",
    "importlib.reload(fileutils)\n",
    "%pylab inline"
   ]
  },
  {
   "cell_type": "code",
   "execution_count": 3,
   "metadata": {
    "collapsed": false
   },
   "outputs": [],
   "source": [
    "import warnings\n",
    "warnings.filterwarnings(\"ignore\", category=DeprecationWarning)\n",
    "pd.set_option('display.max_colwidth',2000)"
   ]
  },
  {
   "cell_type": "code",
   "execution_count": 4,
   "metadata": {
    "collapsed": false
   },
   "outputs": [],
   "source": [
    "def del_keys_with_default(node):\n",
    "    if isinstance(node, list) or isinstance(node, str):\n",
    "        if len(node) > 0:\n",
    "            return node\n",
    "        return None\n",
    "    elif isinstance(node, int):\n",
    "        if node > 0:\n",
    "            return node\n",
    "        return None\n",
    "    elif isinstance(node, type(None)):\n",
    "        return None\n",
    "    else:\n",
    "        dupe_node = {}\n",
    "        for key, val in node.items():\n",
    "            cur_node = del_keys_with_default(val)\n",
    "            if cur_node:\n",
    "                dupe_node[key] = cur_node\n",
    "        return dupe_node or None"
   ]
  },
  {
   "cell_type": "code",
   "execution_count": 16,
   "metadata": {
    "collapsed": false
   },
   "outputs": [
    {
     "name": "stdout",
     "output_type": "stream",
     "text": [
      "number of errors 0\n",
      "number of total lines: 306\n",
      "number of unique tweets: 306\n"
     ]
    }
   ],
   "source": [
    "tweet_dict = {}\n",
    "error_list = []\n",
    "error_tuple = namedtuple('Error', ['file', 'message','line'])\n",
    "total_lines = 0\n",
    "tweet_folder = \"/scratch/hurrial/tweet_collect/\" # this is on fluttershy\n",
    "# previous files:\n",
    "# rohingya_history.json,rohingya_stream.json,genocide_history.json,genocide_tweets.txt,rohingya_genocide_history.json\n",
    "for fname in [\"genocide_stream2.json\"]:\n",
    "\n",
    "    with open(tweet_folder+fname) as myfile:\n",
    "        for line in myfile:\n",
    "            total_lines += 1\n",
    "            try:\n",
    "                twjson = json.loads(line)\n",
    "                tweet_dict[twjson['id_str']] = del_keys_with_default(twjson)\n",
    "                #print(len(line),len(json.dumps(del_keys_with_default(twjson))))#gain is %20 in terms of char count\n",
    "            except:\n",
    "                error_list.append(error_tuple(file=fname, message=sys.exc_info(),line=twjson))\n",
    "\n",
    "print(\"number of errors\",len(error_list))\n",
    "print(\"number of total lines:\", total_lines)\n",
    "print(\"number of unique tweets:\", len(tweet_dict))\n",
    "# number of errors 6\n",
    "# number of total lines: 1079531\n",
    "# number of unique tweets: 600801"
   ]
  },
  {
   "cell_type": "code",
   "execution_count": 17,
   "metadata": {
    "collapsed": false
   },
   "outputs": [],
   "source": [
    "with open(\"all_genocide_tweets2.json\",'w') as fw:\n",
    "    for k,v in tweet_dict.items():\n",
    "        fw.write(json.dumps(v)+'\\n')"
   ]
  },
  {
   "cell_type": "code",
   "execution_count": 18,
   "metadata": {
    "collapsed": false
   },
   "outputs": [
    {
     "name": "stdout",
     "output_type": "stream",
     "text": [
      "processed file: all_genocide_tweets.json\n",
      "Language of the processed tweets: en\n",
      "Counter({'en': 775096, 'in': 152935, 'fr': 29480, 'und': 19069, 'es': 13428, 'tl': 10910, 'ja': 8075, 'nl': 6253, 'tr': 4129, 'de': 2845, 'ar': 1958, 'it': 1640, 'ru': 1195, 'pt': 1164, 'et': 1109, 'ht': 930, 'ro': 844, 'bs': 821, 'ur': 778, 'da': 712, 'hi': 710, 'hr': 611, 'sk': 509, 'sl': 472, 'sv': 374, 'th': 372, 'ta': 207, 'ko': 176, 'bn': 147, 'zh': 131, 'uk': 126, 'no': 126, 'pl': 121, 'el': 118, 'hy': 116, 'fi': 115, 'hu': 91, 'cy': 86, 'fa': 65, 'my': 59, 'vi': 51, 'lt': 49, 'lv': 26, 'bg': 24, 'sr': 23, 'ml': 17, 'is': 12, 'iw': 8, 'mr': 3, 'pa': 3, 'ckb': 1, 'ps': 1, 'ne': 1, 'km': 1, 'gu': 1, 'bo': 1, 'si': 1, 'am': 1})\n",
      "processed file: all_genocide_tweets2.json\n",
      "Language of the processed tweets: en\n",
      "Counter({'en': 276, 'und': 9, 'de': 8, 'es': 4, 'ja': 2, 'fr': 2, 'ro': 1, 'bs': 1, 'tl': 1, 'nl': 1, 'tr': 1})\n"
     ]
    }
   ],
   "source": [
    "importlib.reload(fileutils)\n",
    "tweet_list = fileutils.read_json_tweets_file(\"all_genocide_tweets.json\", reqlang='en')\n",
    "tweet_list2 = fileutils.read_json_tweets_file(\"all_genocide_tweets2.json\", reqlang='en')"
   ]
  },
  {
   "cell_type": "code",
   "execution_count": 14,
   "metadata": {
    "collapsed": false
   },
   "outputs": [],
   "source": [
    "with open(\"all_genocide_tweets_summary2.json\",'w') as fw:\n",
    "    for tw in tweet_list+tweet_list2:\n",
    "        tw[\"created_at\"] = datetime.datetime.strftime(tw[\"created_at\"], \"%a %b %d %H:%M:%S +0000 %Y\")\n",
    "        fw.write(json.dumps(tw)+'\\n')"
   ]
  },
  {
   "cell_type": "code",
   "execution_count": 845,
   "metadata": {
    "collapsed": false
   },
   "outputs": [
    {
     "data": {
      "text/plain": [
       "{'created_at': 'Mon Jun 01 20:41:09 +0000 2015',\n",
       " 'device': 'Twitter for Android',\n",
       " 'entity_hashtags': ['Rohingya', 'UNMustSaveBurmaMuslims'],\n",
       " 'entity_mentions': ['RumBegum'],\n",
       " 'entity_type': 'photo',\n",
       " 'id_str': '605474184714543104',\n",
       " 'is_retweet': True,\n",
       " 'text': \"RT @RumBegum: This situation won't go viral because it's Muslims being killed not Muslims killing #Rohingya #UNMustSaveBurmaMuslims http://…\",\n",
       " 'user_followers': 403,\n",
       " 'user_following': 283,\n",
       " 'user_id': '2831033527'}"
      ]
     },
     "execution_count": 845,
     "metadata": {},
     "output_type": "execute_result"
    }
   ],
   "source": [
    "tweet_list[0]"
   ]
  },
  {
   "cell_type": "code",
   "execution_count": 852,
   "metadata": {
    "collapsed": false
   },
   "outputs": [],
   "source": [
    "tsttweetlist = []\n",
    "with open(\"all_genocide_tweets_summary.json\") as f:\n",
    "    for l in f:\n",
    "        tw = json.loads(l)\n",
    "        tw[\"created_at\"] = datetime.datetime.strptime(tw[\"created_at\"], \"%a %b %d %H:%M:%S +0000 %Y\")\n",
    "        tsttweetlist.append(tw)\n",
    "\n",
    "with open(\"all_genocide_tweets_summary2.json\") as f:\n",
    "    for l in f:\n",
    "        tw = json.loads(l)\n",
    "        tw[\"created_at\"] = datetime.datetime.strptime(tw[\"created_at\"], \"%a %b %d %H:%M:%S +0000 %Y\")\n",
    "        tsttweetlist.append(tw)"
   ]
  },
  {
   "cell_type": "code",
   "execution_count": 855,
   "metadata": {
    "collapsed": false
   },
   "outputs": [
    {
     "data": {
      "text/plain": [
       "{'created_at': datetime.datetime(2015, 6, 1, 20, 41, 9),\n",
       " 'device': 'Twitter for Android',\n",
       " 'entity_hashtags': ['Rohingya', 'UNMustSaveBurmaMuslims'],\n",
       " 'entity_mentions': ['RumBegum'],\n",
       " 'entity_type': 'photo',\n",
       " 'id_str': '605474184714543104',\n",
       " 'is_retweet': True,\n",
       " 'text': \"RT @RumBegum: This situation won't go viral because it's Muslims being killed not Muslims killing #Rohingya #UNMustSaveBurmaMuslims http://…\",\n",
       " 'user_followers': 403,\n",
       " 'user_following': 283,\n",
       " 'user_id': '2831033527'}"
      ]
     },
     "execution_count": 855,
     "metadata": {},
     "output_type": "execute_result"
    }
   ],
   "source": [
    "tsttweetlist[0]"
   ]
  },
  {
   "cell_type": "code",
   "execution_count": 829,
   "metadata": {
    "collapsed": false
   },
   "outputs": [
    {
     "name": "stdout",
     "output_type": "stream",
     "text": [
      "612412\n"
     ]
    }
   ],
   "source": [
    "gncdTweetsDF = pd.DataFrame(tweet_list)\n",
    "print(len(gncdTweetsDF))"
   ]
  },
  {
   "cell_type": "code",
   "execution_count": 856,
   "metadata": {
    "collapsed": false
   },
   "outputs": [
    {
     "data": {
      "text/html": [
       "<div style=\"max-height:1000px;max-width:1500px;overflow:auto;\">\n",
       "<table border=\"1\" class=\"dataframe\">\n",
       "  <thead>\n",
       "    <tr style=\"text-align: right;\">\n",
       "      <th></th>\n",
       "      <th>coordinates</th>\n",
       "      <th>country</th>\n",
       "      <th>device</th>\n",
       "      <th>entity_hashtags</th>\n",
       "      <th>entity_mentions</th>\n",
       "      <th>entity_type</th>\n",
       "      <th>entity_urls</th>\n",
       "      <th>id_str</th>\n",
       "      <th>in_reply_to_user_id</th>\n",
       "      <th>is_retweet</th>\n",
       "      <th>text</th>\n",
       "      <th>user_followers</th>\n",
       "      <th>user_following</th>\n",
       "      <th>user_id</th>\n",
       "      <th>is_notrt</th>\n",
       "      <th>tw_cnt</th>\n",
       "    </tr>\n",
       "    <tr>\n",
       "      <th>created_at</th>\n",
       "      <th></th>\n",
       "      <th></th>\n",
       "      <th></th>\n",
       "      <th></th>\n",
       "      <th></th>\n",
       "      <th></th>\n",
       "      <th></th>\n",
       "      <th></th>\n",
       "      <th></th>\n",
       "      <th></th>\n",
       "      <th></th>\n",
       "      <th></th>\n",
       "      <th></th>\n",
       "      <th></th>\n",
       "      <th></th>\n",
       "      <th></th>\n",
       "    </tr>\n",
       "  </thead>\n",
       "  <tbody>\n",
       "    <tr>\n",
       "      <th>2015-06-22 19:59:56</th>\n",
       "      <td>NaN</td>\n",
       "      <td>NaN</td>\n",
       "      <td>Twitter Web Client</td>\n",
       "      <td>[Biafrans, Buhari, Biafraland]</td>\n",
       "      <td>[eurireland]</td>\n",
       "      <td>NaN</td>\n",
       "      <td>NaN</td>\n",
       "      <td>613073957319782400</td>\n",
       "      <td>44890795</td>\n",
       "      <td>False</td>\n",
       "      <td>@eurireland The second GENOCIDE against #Biafrans as promised by #Buhari has begun, 3 days of unreported aerial Bombardment in #Biafraland</td>\n",
       "      <td>3</td>\n",
       "      <td>15</td>\n",
       "      <td>2188829916</td>\n",
       "      <td>True</td>\n",
       "      <td>1</td>\n",
       "    </tr>\n",
       "    <tr>\n",
       "      <th>2015-06-01 20:54:21</th>\n",
       "      <td>NaN</td>\n",
       "      <td>NaN</td>\n",
       "      <td>IFTTT</td>\n",
       "      <td>[ModiMinistry]</td>\n",
       "      <td>NaN</td>\n",
       "      <td>NaN</td>\n",
       "      <td>[bit.ly/1dHDSWA]</td>\n",
       "      <td>605477505651359744</td>\n",
       "      <td>NaN</td>\n",
       "      <td>False</td>\n",
       "      <td>#ModiMinistry Obama says Myanmar needs to end discrimination of Rohingya to succeed\\n| Reuters http://t.co/zmagjFtMH8</td>\n",
       "      <td>1749</td>\n",
       "      <td>14</td>\n",
       "      <td>2425268995</td>\n",
       "      <td>True</td>\n",
       "      <td>1</td>\n",
       "    </tr>\n",
       "    <tr>\n",
       "      <th>2015-06-24 08:40:46</th>\n",
       "      <td>NaN</td>\n",
       "      <td>NaN</td>\n",
       "      <td>Twitter for BlackBerry</td>\n",
       "      <td>[Biafra, Buhari, Biafraland]</td>\n",
       "      <td>[UNPeacekeeping]</td>\n",
       "      <td>NaN</td>\n",
       "      <td>NaN</td>\n",
       "      <td>613627816551313408</td>\n",
       "      <td>46003622</td>\n",
       "      <td>False</td>\n",
       "      <td>@UNPeacekeeping The Second Genocide has began on #Biafra as promised by #Buhari 3 days of Unreported bombardment on #Biafraland</td>\n",
       "      <td>3</td>\n",
       "      <td>23</td>\n",
       "      <td>3343139879</td>\n",
       "      <td>True</td>\n",
       "      <td>1</td>\n",
       "    </tr>\n",
       "    <tr>\n",
       "      <th>2015-06-16 17:14:23</th>\n",
       "      <td>NaN</td>\n",
       "      <td>NaN</td>\n",
       "      <td>Twitter for Android</td>\n",
       "      <td>NaN</td>\n",
       "      <td>[balkannews]</td>\n",
       "      <td>NaN</td>\n",
       "      <td>NaN</td>\n",
       "      <td>610857967706079232</td>\n",
       "      <td>220487383</td>\n",
       "      <td>False</td>\n",
       "      <td>@balkannews Anti Serbian as always  historicaly but no recognition of Turkish genocide of Armenians - politically inconvenient</td>\n",
       "      <td>8</td>\n",
       "      <td>56</td>\n",
       "      <td>498854802</td>\n",
       "      <td>True</td>\n",
       "      <td>1</td>\n",
       "    </tr>\n",
       "    <tr>\n",
       "      <th>2015-06-22 11:11:12</th>\n",
       "      <td>NaN</td>\n",
       "      <td>NaN</td>\n",
       "      <td>Twitter Web Client</td>\n",
       "      <td>[globalwarming]</td>\n",
       "      <td>NaN</td>\n",
       "      <td>NaN</td>\n",
       "      <td>NaN</td>\n",
       "      <td>612940896556834816</td>\n",
       "      <td>NaN</td>\n",
       "      <td>False</td>\n",
       "      <td>the caffeinated \"civil\" society will now blame the \"elites\" that enjoy aircondition forn being guilty of \"genocide\" hmm #globalwarming 1/2</td>\n",
       "      <td>320</td>\n",
       "      <td>1429</td>\n",
       "      <td>2417189972</td>\n",
       "      <td>True</td>\n",
       "      <td>1</td>\n",
       "    </tr>\n",
       "  </tbody>\n",
       "</table>\n",
       "</div>"
      ],
      "text/plain": [
       "                    coordinates country                  device  \\\n",
       "created_at                                                        \n",
       "2015-06-22 19:59:56         NaN     NaN      Twitter Web Client   \n",
       "2015-06-01 20:54:21         NaN     NaN                   IFTTT   \n",
       "2015-06-24 08:40:46         NaN     NaN  Twitter for BlackBerry   \n",
       "2015-06-16 17:14:23         NaN     NaN     Twitter for Android   \n",
       "2015-06-22 11:11:12         NaN     NaN      Twitter Web Client   \n",
       "\n",
       "                                    entity_hashtags   entity_mentions  \\\n",
       "created_at                                                              \n",
       "2015-06-22 19:59:56  [Biafrans, Buhari, Biafraland]      [eurireland]   \n",
       "2015-06-01 20:54:21                  [ModiMinistry]               NaN   \n",
       "2015-06-24 08:40:46    [Biafra, Buhari, Biafraland]  [UNPeacekeeping]   \n",
       "2015-06-16 17:14:23                             NaN      [balkannews]   \n",
       "2015-06-22 11:11:12                 [globalwarming]               NaN   \n",
       "\n",
       "                    entity_type       entity_urls              id_str  \\\n",
       "created_at                                                              \n",
       "2015-06-22 19:59:56         NaN               NaN  613073957319782400   \n",
       "2015-06-01 20:54:21         NaN  [bit.ly/1dHDSWA]  605477505651359744   \n",
       "2015-06-24 08:40:46         NaN               NaN  613627816551313408   \n",
       "2015-06-16 17:14:23         NaN               NaN  610857967706079232   \n",
       "2015-06-22 11:11:12         NaN               NaN  612940896556834816   \n",
       "\n",
       "                     in_reply_to_user_id is_retweet  \\\n",
       "created_at                                            \n",
       "2015-06-22 19:59:56             44890795      False   \n",
       "2015-06-01 20:54:21                  NaN      False   \n",
       "2015-06-24 08:40:46             46003622      False   \n",
       "2015-06-16 17:14:23            220487383      False   \n",
       "2015-06-22 11:11:12                  NaN      False   \n",
       "\n",
       "                                                                                                                                                           text  \\\n",
       "created_at                                                                                                                                                        \n",
       "2015-06-22 19:59:56  @eurireland The second GENOCIDE against #Biafrans as promised by #Buhari has begun, 3 days of unreported aerial Bombardment in #Biafraland   \n",
       "2015-06-01 20:54:21                       #ModiMinistry Obama says Myanmar needs to end discrimination of Rohingya to succeed\\n| Reuters http://t.co/zmagjFtMH8   \n",
       "2015-06-24 08:40:46             @UNPeacekeeping The Second Genocide has began on #Biafra as promised by #Buhari 3 days of Unreported bombardment on #Biafraland   \n",
       "2015-06-16 17:14:23              @balkannews Anti Serbian as always  historicaly but no recognition of Turkish genocide of Armenians - politically inconvenient   \n",
       "2015-06-22 11:11:12  the caffeinated \"civil\" society will now blame the \"elites\" that enjoy aircondition forn being guilty of \"genocide\" hmm #globalwarming 1/2   \n",
       "\n",
       "                     user_followers  user_following     user_id is_notrt  \\\n",
       "created_at                                                                 \n",
       "2015-06-22 19:59:56               3              15  2188829916     True   \n",
       "2015-06-01 20:54:21            1749              14  2425268995     True   \n",
       "2015-06-24 08:40:46               3              23  3343139879     True   \n",
       "2015-06-16 17:14:23               8              56   498854802     True   \n",
       "2015-06-22 11:11:12             320            1429  2417189972     True   \n",
       "\n",
       "                     tw_cnt  \n",
       "created_at                   \n",
       "2015-06-22 19:59:56       1  \n",
       "2015-06-01 20:54:21       1  \n",
       "2015-06-24 08:40:46       1  \n",
       "2015-06-16 17:14:23       1  \n",
       "2015-06-22 11:11:12       1  "
      ]
     },
     "execution_count": 856,
     "metadata": {},
     "output_type": "execute_result"
    }
   ],
   "source": [
    "gncdTweetsDF.head()"
   ]
  },
  {
   "cell_type": "code",
   "execution_count": 830,
   "metadata": {
    "collapsed": false
   },
   "outputs": [
    {
     "name": "stdout",
     "output_type": "stream",
     "text": [
      "612412\n"
     ]
    }
   ],
   "source": [
    "gncdTweetsDF.drop_duplicates([\"id_str\"], inplace=True)\n",
    "print(len(gncdTweetsDF))"
   ]
  },
  {
   "cell_type": "code",
   "execution_count": 831,
   "metadata": {
    "collapsed": false
   },
   "outputs": [
    {
     "name": "stdout",
     "output_type": "stream",
     "text": [
      "<class 'pandas.core.frame.DataFrame'>\n",
      "Int64Index: 274771 entries, 4 to 612411\n",
      "Data columns (total 16 columns):\n",
      "coordinates            1565 non-null object\n",
      "country                14811 non-null object\n",
      "created_at             274771 non-null datetime64[ns]\n",
      "device                 274769 non-null object\n",
      "entity_hashtags        114752 non-null object\n",
      "entity_mentions        111481 non-null object\n",
      "entity_type            35251 non-null object\n",
      "entity_urls            148643 non-null object\n",
      "id_str                 274771 non-null object\n",
      "in_reply_to_user_id    82660 non-null float64\n",
      "is_retweet             274771 non-null bool\n",
      "text                   274771 non-null object\n",
      "user_followers         271348 non-null float64\n",
      "user_following         252139 non-null float64\n",
      "user_id                274771 non-null object\n",
      "is_notrt               274771 non-null bool\n",
      "dtypes: bool(2), datetime64[ns](1), float64(3), object(10)\n",
      "memory usage: 32.0+ MB\n"
     ]
    }
   ],
   "source": [
    "# eliminate retweets\n",
    "rttext = ~gncdTweetsDF[\"text\"].str.contains(r\"\\bRT @\", case=False)\n",
    "rtfield = gncdTweetsDF[\"is_retweet\"]==False\n",
    "gncdTweetsDF[\"is_notrt\"] = rtfield.values & rttext.values\n",
    "gncdTweetsDF = gncdTweetsDF[gncdTweetsDF[\"is_notrt\"]]\n",
    "gncdTweetsDF.info()"
   ]
  },
  {
   "cell_type": "code",
   "execution_count": 832,
   "metadata": {
    "collapsed": false
   },
   "outputs": [
    {
     "data": {
      "text/plain": [
       "192889"
      ]
     },
     "execution_count": 832,
     "metadata": {},
     "output_type": "execute_result"
    }
   ],
   "source": [
    "# tweets that contain just genocide, no rohingya\n",
    "len(gncdTweetsDF[gncdTweetsDF.text.str.contains(\"genocide\", case=False) & ~gncdTweetsDF.text.str.contains(\"rohingya\", case=False)])"
   ]
  },
  {
   "cell_type": "code",
   "execution_count": 833,
   "metadata": {
    "collapsed": false
   },
   "outputs": [
    {
     "data": {
      "text/plain": [
       "59242"
      ]
     },
     "execution_count": 833,
     "metadata": {},
     "output_type": "execute_result"
    }
   ],
   "source": [
    "# tweets that contain just rohingya no genocide\n",
    "len(gncdTweetsDF[gncdTweetsDF.text.str.contains(\"rohingya\", case=False) & ~gncdTweetsDF.text.str.contains(\"genocide\", case=False)])"
   ]
  },
  {
   "cell_type": "code",
   "execution_count": 834,
   "metadata": {
    "collapsed": false
   },
   "outputs": [
    {
     "data": {
      "text/plain": [
       "7503"
      ]
     },
     "execution_count": 834,
     "metadata": {},
     "output_type": "execute_result"
    }
   ],
   "source": [
    "# tweets that contain both genocide and rohingya\n",
    "len(gncdTweetsDF[(gncdTweetsDF.text.str.contains(\"rohingya\", case=False)) & (gncdTweetsDF.text.str.contains(\"genocide\", case=False))])"
   ]
  },
  {
   "cell_type": "code",
   "execution_count": 835,
   "metadata": {
    "collapsed": false
   },
   "outputs": [],
   "source": [
    "gncdTweetsDF[\"tw_cnt\"] = 1"
   ]
  },
  {
   "cell_type": "code",
   "execution_count": 836,
   "metadata": {
    "collapsed": true
   },
   "outputs": [],
   "source": [
    "gncdTweetsDF.set_index(\"created_at\",inplace=True)"
   ]
  },
  {
   "cell_type": "code",
   "execution_count": 857,
   "metadata": {
    "collapsed": false
   },
   "outputs": [
    {
     "data": {
      "text/plain": [
       "(<matplotlib.text.Text at 0x2b5d76bbc588>,\n",
       " <matplotlib.text.Text at 0x2b5d76bbf518>)"
      ]
     },
     "execution_count": 857,
     "metadata": {},
     "output_type": "execute_result"
    },
    {
     "data": {
      "image/png": "[encoded data removed]",
      "text/plain": [
       "<matplotlib.figure.Figure at 0x2b5d76babdd8>"
      ]
     },
     "metadata": {},
     "output_type": "display_data"
    }
   ],
   "source": [
    "gncdTweetsDF.tw_cnt.resample('1H', how='sum').fillna(0).plot(title=\"all tweets\", grid=False)\n",
    "plt.xlabel(\"tweet time\"),plt.ylabel(\"tweet count\")"
   ]
  },
  {
   "cell_type": "code",
   "execution_count": 838,
   "metadata": {
    "collapsed": false
   },
   "outputs": [
    {
     "data": {
      "text/plain": [
       "(<matplotlib.text.Text at 0x2b5ba7565b70>,\n",
       " <matplotlib.text.Text at 0x2b5adf299390>)"
      ]
     },
     "execution_count": 838,
     "metadata": {},
     "output_type": "execute_result"
    },
    {
     "data": {
      "image/png": "[encoded data removed]",
      "text/plain": [
       "<matplotlib.figure.Figure at 0x2b5ae291b2e8>"
      ]
     },
     "metadata": {},
     "output_type": "display_data"
    }
   ],
   "source": [
    "gncdTweetsDF[gncdTweetsDF.text.str.contains(\"genocide\", case=False) & ~gncdTweetsDF.text.str.contains(\"rohingya\", case=False)].tw_cnt.resample('24H', how='sum').fillna(0).plot(grid=False, title=\"contains genocide no rohingya\")\n",
    "plt.xlabel(\"tweet time\"),plt.ylabel(\"tweet count\")"
   ]
  },
  {
   "cell_type": "code",
   "execution_count": 839,
   "metadata": {
    "collapsed": false
   },
   "outputs": [
    {
     "data": {
      "text/plain": [
       "(<matplotlib.text.Text at 0x2b5ba74df438>,\n",
       " <matplotlib.text.Text at 0x2b5ba87a3390>)"
      ]
     },
     "execution_count": 839,
     "metadata": {},
     "output_type": "execute_result"
    },
    {
     "data": {
      "image/png": "[encoded data removed]",
      "text/plain": [
       "<matplotlib.figure.Figure at 0x2b5ba74eef28>"
      ]
     },
     "metadata": {},
     "output_type": "display_data"
    }
   ],
   "source": [
    "gncdTweetsDF[gncdTweetsDF.text.str.contains(\"rohingya\", case=False)].tw_cnt.resample('24H', how='sum').fillna(0).plot(grid=False, title=\"contains rohingya and no genocide\")\n",
    "plt.xlabel(\"tweet time\"),plt.ylabel(\"tweet count\")"
   ]
  },
  {
   "cell_type": "code",
   "execution_count": 840,
   "metadata": {
    "collapsed": false
   },
   "outputs": [
    {
     "data": {
      "text/plain": [
       "(<matplotlib.text.Text at 0x2b5c19a45da0>,\n",
       " <matplotlib.text.Text at 0x2b5ab6a3bb70>)"
      ]
     },
     "execution_count": 840,
     "metadata": {},
     "output_type": "execute_result"
    },
    {
     "data": {
      "image/png": "[encoded data removed]",
      "text/plain": [
       "<matplotlib.figure.Figure at 0x2b5baa73ec88>"
      ]
     },
     "metadata": {},
     "output_type": "display_data"
    }
   ],
   "source": [
    "gncdTweetsDF[gncdTweetsDF.text.str.contains(\"rohingya\", case=False) & gncdTweetsDF.text.str.contains(\"genocide\", case=False)]\\\n",
    "    .tw_cnt.resample('24H', how='sum').fillna(0).plot(grid=False, title=\"contains both rehingya and genocide\")\n",
    "plt.xlabel(\"tweet time\"),plt.ylabel(\"tweet count\")"
   ]
  },
  {
   "cell_type": "markdown",
   "metadata": {},
   "source": [
    "## LDA on Tweets of Genocide/Rohingya"
   ]
  },
  {
   "cell_type": "code",
   "execution_count": null,
   "metadata": {
    "collapsed": true
   },
   "outputs": [],
   "source": [
    "#source: http://nasdag.github.io/nasdag/arabic-reputation.html"
   ]
  },
  {
   "cell_type": "code",
   "execution_count": null,
   "metadata": {
    "collapsed": false
   },
   "outputs": [],
   "source": [
    "from gensim import corpora, models, similarities, matutils \n",
    "from gensim.models import LdaModel\n",
    "from nltk.corpus import stopwords\n",
    "from collections import Counter\n",
    "from gensim.corpora import Dictionary, MmCorpus\n",
    "import re\n",
    "token_pattern = re.compile(r\"\\b\\w\\w+\\b\")"
   ]
  },
  {
   "cell_type": "code",
   "execution_count": 796,
   "metadata": {
    "collapsed": false
   },
   "outputs": [
    {
     "data": {
      "text/plain": [
       "20000"
      ]
     },
     "execution_count": 796,
     "metadata": {},
     "output_type": "execute_result"
    }
   ],
   "source": [
    "#sampleGncdTweetsDF = gncdTweetsDF.sample(n=50000, replace=False, random_state=99)\n",
    "sampleGncdTweetsDF = gncdTweetsDF[gncdTweetsDF.text.str.contains(\"rohingya\", case=False)].sample(n=20000, replace=False, random_state=99)\n",
    "nbr_messages = len(sampleGncdTweetsDF)\n",
    "nbr_messages"
   ]
  },
  {
   "cell_type": "code",
   "execution_count": 797,
   "metadata": {
    "collapsed": true
   },
   "outputs": [],
   "source": [
    "nbr_clusters = 20"
   ]
  },
  {
   "cell_type": "code",
   "execution_count": 798,
   "metadata": {
    "collapsed": false
   },
   "outputs": [
    {
     "data": {
      "text/plain": [
       "109685"
      ]
     },
     "execution_count": 798,
     "metadata": {},
     "output_type": "execute_result"
    }
   ],
   "source": [
    "wordEnset = set(fileutils.getlinelist(\"../PhD/Studies/flooding/wordsEn/wordsEn.txt\"))\n",
    "add_words = ['online', 'offroad', 'offroads', 'mudslide', 'mudslides', 'timeline','timelines', 'affectees', 'blog', 'blogs', 'internet',\n",
    "             'email', 'ebola', 'selfies', 'selfie', 'helpline', 'hashtag', 'retweet', 'retweets', 'helplines', 'hashtags', \n",
    "             'unfollow', 'unfollows', 'emails', 'localised', 'firefighter', 'firefighters', 'floodwaters', 'everytime', 'newsfeed',\n",
    "             'favourite', 'website', 'websites', 'favourites', 'fornifications', 'fornification', 'neighbours', 'fundraising', \n",
    "             'affecties','infographic', 'shitty', 'wiki', 'healthcare', 'login', 'memes', 'unfollowed', 'retweeting',\n",
    "             'neighbourhood', 'effectees', 'realisation', 'fracking', 'followback', 'prevelant', 'ddos', 'unconstitution',\n",
    "             'directioners', 'effecties', 'tailback', 'fan', 'fans', 'dopamine', 'motherfuckers', 'motherfucker', 'airstrikes',\n",
    "             'airstrike', 'organisation', 'criticised', 'emojis', 'emoji', 'organisations', 'islamists', 'floodline', 'positivity',\n",
    "             'connectivity', 'jihadists', 'jihadist', 'slideshow', 'floodlock', 'telecom', 'floodlocks', 'floodlines', 'webinar',\n",
    "             'remediation', 'fairfield', 'recognise', 'recognises', 'texting', 'haram', 'foto', 'retweeted', 'repost', 'superstar',\n",
    "             'apologise', 'realised','hotlines','bitcoin','fangirl','fangirls','spamming','hedge','playlist','matchday','screenshot',\n",
    "            'screenshots']\n",
    "addSpellingVariations = ['tl','yall']\n",
    "wordEnset.update(add_words+addSpellingVariations)\n",
    "len(wordEnset)"
   ]
  },
  {
   "cell_type": "markdown",
   "metadata": {
    "collapsed": true
   },
   "source": [
    "Note: create version 2 of the wordEnSet by adding new words, for genocide check as well!!"
   ]
  },
  {
   "cell_type": "code",
   "execution_count": 799,
   "metadata": {
    "collapsed": false
   },
   "outputs": [],
   "source": [
    "tempex_adv = ['tomorrow','today','tonight','yesterday','now','morning','afternoon','evening','night','midnight']\n",
    "months = ['january','february','march','april','may','june','july','august','september','october','november','december']\n",
    "weekdays = ['monday','tuesday','wednesday','thursday','friday','saturday','sunday','weekend']\n",
    "numerals = ['one','two','three','four','five','six','seven','eight','ten','hundred','hundreds','million','millions']\n",
    "prepositions = ['in','to','of','for','at','on','by','with', 'via', 'from','off','about','without','into','up','until','through',\n",
    "                'out', 'after','till', 'before','over','under','per']\n",
    "determiners = ['the','a', 'an','any','some','most','more','all','only','last','many','every']\n",
    "auxverbs = ['did','is','are','am','has','have','may','might','could','would','was','were','had','be','ll','will','can','does','must','should']\n",
    "pers_pronouns = ['i','me','my','you','your','yours','they','their','he','she','her','him','he','his','we','our','them','it','its',\n",
    "                 'yourselves','yourself','myself','himself','herself','themselves','ourselves','us']\n",
    "question_marks = ['what','why','who','which','how','when','where']\n",
    "rest = ['amp','etc','vs','pm','oh','xx','than','co','com','en','ah','de','ye','re']\n",
    "pronouns = ['this','that','these','those']\n",
    "connectives = ['but','as','and','or','if','because','so','since','although','while','as','then']\n",
    "place_pronouns = ['here','there']\n",
    "negative_adverbs = ['not','no','yes'] # no?\n",
    "adverbs = ['still','yet','even','also','everyone','everywhere','anywhere','everything','everybody','everytime','everyday']\n",
    "stopwords2 =  months+weekdays+determiners+connectives + auxverbs + prepositions+pers_pronouns+rest+\\\n",
    "           question_marks+pronouns+connectives+tempex_adv+negative_adverbs+adverbs+place_pronouns+numerals"
   ]
  },
  {
   "cell_type": "code",
   "execution_count": 800,
   "metadata": {
    "collapsed": false
   },
   "outputs": [],
   "source": [
    "placenames = ['kashmir','malaysia','japan','philippines','hiroshima','phoenix','indonesia','detroit','delhi','colorado','sydney',\n",
    "              'turkey','india','malawi','arizona','london','nepal','pakistan','china','america','california','washington',\n",
    "              'michigan','uk','morocco','usa','asia','europa','syria','houston','england','manila','israil','spain',\n",
    "              'massachusetts','switzerland','scotland','britain','serbia','madison','bristol','vancouver','louisiana',\n",
    "              'louisville','kansas','minneapolis','honolulu','pueblo','illinois','buffalo','solomons','shepway','suffolk',\n",
    "              'essex','bransholme','tiburon','aire','cumbria','dorset','purbeck','jammu','sindhupalchok','singapore', 'kelantan',\n",
    "              'manhattan','elmhurst','belgium','iraq','egypt','boston','iran','italy','denmark','afghanistan','auburn','dorado',\n",
    "              'mississippi','hongkong','texas','atlanta', 'denver','mozambique','toronto','paris','tallahassee','odessa', \n",
    "              'monterey','baltimore','tx','argentina','rutland','liverpool','bangkok','australia','wride hwy','ranches pkwy',\n",
    "              'seine','germany','arsenal','hawaii','thailand','korea','albany','chicago','midland','midlands','montgomery','nicaragua','taiwan',\n",
    "              'memphis','portland','albuquerque','zimbabwe','utah','florence','moray','wales','nevada','assam','pima','charleston',\n",
    "              'oklahoma','boulder','omaha','columbia','glasgow','hindustan','ohio','nigeria','kent','canada','ireland','missouri',\n",
    "              'hudson','jakarta','bronx','canandaigua','orleans','youngsville','indiana','ny','georgia','israel','cambodia',\n",
    "              'alameda','tampa','ontario','brisbane','africa','philippine','berkeley','jacksonville','belfast','mexico','france',\n",
    "              'westminster','oakland','russia','guam','idaho','cuba','worcester','bahamas','greece','brooklyn','johannesburg',\n",
    "              'oregon','warren','spree','hollywood','alabama','europe','kentucky','la','lahore','florida','tucson','dublin',\n",
    "              'newport','pennsylvania','springfield','windsor','ann','yukon','halo','birmingham','richmond','maryland','dallas',\n",
    "              'zion','virginia','laurel','seattle','midtown','sierra','liberia','dc','al','la','bismarck','melbourne','somalia',\n",
    "              'calgary','mesa','aberdeen','minnesota','nj','bolivia','calif','norfolk','athens','ethiopia','sudan','genoa','haiti',\n",
    "              'iowa','miami','bali','bulgaria','austin','arkansas','carolina','havana','hungary','palestine','manchester','delaware','beaufort',\n",
    "              'adams','ukraine','thames','winnipeg','tibet','ottawa','cape','cleveland','jamaica','hackney',\\\n",
    "              \"rohingya\",\"myanmar\",\"burma\",\"armenian\",\"bangladesh\",\"sweden\",\"canada\",\"darfur\",\"us\",\"turkey\",\n",
    "              \"thailand\",\"china\",\"uk\",\"indonesia\",\"pakistan\",\"sudan\",\"gaza\",\"canadian\",\"iran\",\"iraq\",\"yemen\",\n",
    "              \"africa\",\"australia\",\"india\",\"african\",\"indians\",\"guatemala\",\"rwanda\",\"srebrenica\",\"brazil\",\n",
    "               \"asia\",\"germany\",\"arakan\",\"wisconsin\",\"ankara\",\"oslo\",\"vatican\",\"papua\",\"libya\",\"unites states\"]\n",
    "nationality = ['indian', 'chinese', 'malaysians', 'malaysian', 'pakistani', 'bulgarian','syrian','scottish','japanese','swiss',\n",
    "               'indonesian','thai','hindu','hindus','austrian','austria','french','australian','german','mexican','asian','american',\n",
    "               'romans','canadian','british','cambodian','israeli','nigerians','nebraska','savannah','serbian','liberian',\n",
    "               'nepalese','cuban','hawaiian','hawaiians','italian','hawaiian','korean','african','africans','americans','palestinian','scot',\n",
    "               'scots','russian','russians','cubans','seminole','palestinians','koreans','bolivian','bolivians','sudanese','afghan',\n",
    "               \"armenians\",\"rwandan\",\"indian\",\"belgian\",\"czech\",\"tibetan\",\"nigerian\",\"irish\",\"english\",'dominican',\n",
    "               \"pakistanis\",'ukrainian']\n",
    "people_groups = ['nazis',\"rohingyas\",\"americans\",\"yazidis\",\"muslims\",\"jews\",\"christians\",\"muslim\",\"nazi\",\"buddhist\"]\n",
    "place_name_part = ['sri','york','angeles','francisco','kingdom','jersey','vegas','las','san','juan','santa','java','el','paso',\n",
    "                   'kong','don','dona','st','antarctic']\n",
    "places = placenames + nationality + place_name_part\n",
    "\n",
    "brands = [\"android\"]\n",
    "corporations = ['un','twitter', 'isis','juta','yahoo','abbott','amazon','honda','newsweek', 'youtube','bbc','spiegel']\n",
    "persons = ['obama','newton','khan','kennedy','lincoln','williams','marshall','modi','castro','reagan',\"omar\",\"bashir\",\n",
    "          \"ban moon\"]\n",
    "person_names = ['mary','jackson','noah','jiannah','jenny','gaga','paul','katrina','harris','carroll','clark','francis','anderson',\n",
    "                'anderson','sultan','charles','graham','gila','franklin','kerry','george','jonathan','joe','cocker','john',\n",
    "                'andrew','wayne','bertha','margaret','charlie','sandy','emily','anne','tim','david','johnson','douglas','james',\n",
    "               'maria','adam','william','martin','tom','jack',\"matt\",\"dillon\",\"sharif\",\"mike\",\"isaac\",\"steven\",\"edward\"]"
   ]
  },
  {
   "cell_type": "code",
   "execution_count": 801,
   "metadata": {
    "collapsed": false
   },
   "outputs": [],
   "source": [
    "#sampleGncdTweetsDF[sampleGncdTweetsDF.text.str.contains(\"moon\")][['text']]"
   ]
  },
  {
   "cell_type": "code",
   "execution_count": 802,
   "metadata": {
    "collapsed": false
   },
   "outputs": [],
   "source": [
    "stop = stopwords.words('english') + [\"http\", \"https\",\"co\",\"rt\",\"gt\",\"lt\",\"amp\",\"mr\",\"na\",\"tutu\",\"hey\"]\n",
    "stop += places + corporations + persons + stopwords2 + person_names + people_groups + brands"
   ]
  },
  {
   "cell_type": "code",
   "execution_count": 803,
   "metadata": {
    "collapsed": true
   },
   "outputs": [],
   "source": [
    "texts_cleaned = [' '.join([token for token in token_pattern.findall(text.replace('_', ' ')) \\\n",
    "                        if (token.lower() not in stop) and token.isalpha() and (token.lower() in wordEnset)])\n",
    "                           for text in sampleGncdTweetsDF.text.str.lower()]"
   ]
  },
  {
   "cell_type": "code",
   "execution_count": 804,
   "metadata": {
    "collapsed": false
   },
   "outputs": [],
   "source": [
    "oov_words_cntr = Counter()\n",
    "not_included = [oov_words_cntr.update([token for token in toklist if (token.lower() not in stop) and token.isalpha() and (token.lower() not in wordEnset)])\n",
    "           for toklist in sampleGncdTweetsDF.text.str.lower().str.findall(token_pattern)]"
   ]
  },
  {
   "cell_type": "code",
   "execution_count": 807,
   "metadata": {
    "collapsed": false
   },
   "outputs": [
    {
     "data": {
      "text/plain": [
       "[('chpsre', 691),\n",
       " ('changepenang', 475),\n",
       " ('kyi', 414),\n",
       " ('suu', 412),\n",
       " ('rohingyamuslims', 347),\n",
       " ('hrwdispatches', 345),\n",
       " ('aung', 342),\n",
       " ('reuters', 337),\n",
       " ('brettgarrot', 317),\n",
       " ('asean', 303),\n",
       " ('barack', 284),\n",
       " ('endrohingyacrisis', 271),\n",
       " ('kenroth', 234),\n",
       " ('rakhine', 213),\n",
       " ('hrw', 209),\n",
       " ('sittwe', 188),\n",
       " ('aungaungsittwe', 178),\n",
       " ('mattdillon', 177),\n",
       " ('pls', 156),\n",
       " ('ramadan', 150),\n",
       " ('aceh', 146),\n",
       " ('zakat', 143),\n",
       " ('rapatdanpawaiakbar', 141),\n",
       " ('dalai', 139),\n",
       " ('jakim', 137),\n",
       " ('dalailama', 135),\n",
       " ('malala', 131),\n",
       " ('ap', 127),\n",
       " ('doesn', 123),\n",
       " ('potus', 121),\n",
       " ('oprohingya', 117),\n",
       " ('bangladeshi', 113),\n",
       " ('islamabad', 113),\n",
       " ('humanrights', 111),\n",
       " ('jamilahanan', 110),\n",
       " ('oic', 103),\n",
       " ('ki', 101),\n",
       " ('ajenews', 99),\n",
       " ('nyt', 99),\n",
       " ('kutupalong', 98)]"
      ]
     },
     "execution_count": 807,
     "metadata": {},
     "output_type": "execute_result"
    }
   ],
   "source": [
    "oov_words_cntr.most_common()[0:40]"
   ]
  },
  {
   "cell_type": "code",
   "execution_count": 806,
   "metadata": {
    "collapsed": false
   },
   "outputs": [],
   "source": [
    "# texts_cleaned = [' '.join([token for token in token_pattern.findall(text.replace('_', ' ')) \\\n",
    "#             if token.lower() not in stop]) for text in raw_texts]                    "
   ]
  },
  {
   "cell_type": "code",
   "execution_count": 808,
   "metadata": {
    "collapsed": false
   },
   "outputs": [],
   "source": [
    "documents = texts_cleaned\n",
    "texts = [document.split() for document in documents]\n",
    "bigrams = [ [\" \".join((u,v)) for (u,v) in zip(text[:-1], text[1:]) if u+\" \"+v not in stop] for text in texts]\n",
    "trigrams = [ [\" \".join((u,v,w)) for (u,v,w) in zip(text[:-1], text[1:], text[2:])] for text in texts]\n",
    "\n",
    "texts = [ u+v+w for (u,v,w) in zip(texts, bigrams, trigrams) ]"
   ]
  },
  {
   "cell_type": "code",
   "execution_count": 809,
   "metadata": {
    "collapsed": false
   },
   "outputs": [
    {
     "data": {
      "text/plain": [
       "(75060,\n",
       " [('genocide', 2167),\n",
       "  ('people', 1437),\n",
       "  ('migrants', 1201),\n",
       "  ('refugees', 1145),\n",
       "  ('help', 1075)])"
      ]
     },
     "execution_count": 809,
     "metadata": {},
     "output_type": "execute_result"
    }
   ],
   "source": [
    "all_tokens_cntr = Counter()\n",
    "for t in texts:\n",
    "    all_tokens_cntr.update(t)\n",
    "len(all_tokens_cntr),all_tokens_cntr.most_common(5)"
   ]
  },
  {
   "cell_type": "code",
   "execution_count": 810,
   "metadata": {
    "collapsed": false
   },
   "outputs": [
    {
     "name": "stdout",
     "output_type": "stream",
     "text": [
      "[('genocide', 2167), ('people', 1437), ('migrants', 1201), ('refugees', 1145), ('help', 1075), ('plight', 993), ('crisis', 985), ('world', 838), ('news', 818), ('camps', 815), ('says', 813), ('end', 750), ('persecution', 728), ('calls', 710), ('human', 651), ('spotlight', 642), ('rare', 628), ('plan', 620), ('celebrity', 612), ('puts', 600), ('trafficking', 600), ('puts rare', 586), ('rare celebrity', 583), ('celebrity spotlight', 583), ('puts rare celebrity', 581), ('needs', 579), ('rare celebrity spotlight', 578), ('fleeing', 578), ('move', 574), ('stop', 548), ('please', 545), ('women', 528), ('plan move', 528), ('save', 521), ('discrimination', 507), ('fear', 488), ('helping', 488), ('actor', 457), ('end discrimination', 454), ('fear plan move', 451), ('fear plan', 451), ('camps fear', 450), ('camps fear plan', 450), ('aid', 440), ('citizens', 437), ('huddled', 437), ('huddled camps', 434), ('huddled camps fear', 434), ('sea', 430), ('citizenship', 410), ('boat', 407), ('migrant', 396), ('won', 394), ('address', 385), ('human trafficking', 374), ('short', 372), ('falls', 360), ('falls short', 356), ('falls short helping', 354), ('short helping', 354), ('dispatches', 351), ('dispatches falls', 349), ('dispatches falls short', 349), ('victims', 348), ('issue', 342), ('refugee', 335), ('children', 330), ('address plight', 325), ('official', 316), ('camp', 308), ('bar', 307), ('bar fleeing', 303), ('persecuted', 294), ('trafficking victims', 294), ('need', 293), ('rights', 292), ('treat', 290), ('calls end', 289), ('human trafficking victims', 287), ('fleeing won', 287), ('silence', 285), ('actor puts', 284), ('government', 282), ('actor puts rare', 279), ('calls end discrimination', 277), ('support', 277), ('urges', 273), ('like', 271), ('president', 270), ('voice', 263), ('terrorism', 262), ('state', 261), ('nobel', 261), ('remarks', 259), ('won address', 253), ('fleeing won address', 252), ('won address plight', 250), ('bar fleeing won', 250), ('islam', 247), ('thousands', 247), ('silent', 244), ('video', 242), ('buddhists', 240), ('face', 239), ('check', 239), ('live', 238), ('take', 235), ('fake', 235), ('new', 234), ('protests', 234), ('women children', 233), ('food', 228), ('nope', 227), ('minority', 227), ('treat citizens', 226), ('pictures', 224), ('international', 222), ('stateless', 221), ('provide', 216), ('raped', 213), ('see', 212), ('say', 212), ('protest', 211), ('first', 208), ('island', 205), ('committee', 205), ('needs treat', 203), ('ethnic', 203), ('peace', 203), ('rejects', 200), ('country', 199), ('time', 198), ('boat people', 197), ('east', 196), ('fled', 195), ('migrant crisis', 195), ('report', 193), ('govt', 192), ('unbalanced', 191), ('action', 191), ('official calls', 190), ('wall', 188), ('army', 183), ('killing', 182), ('calls citizenship', 181), ('rejects unbalanced', 180), ('humanity', 179), ('official calls citizenship', 178), ('years', 176), ('want', 176), ('stop genocide', 175), ('use', 173), ('please check', 170), ('nationalism', 169), ('dead', 169), ('please check people', 167), ('read', 167), ('check people', 167), ('buries', 166), ('border', 166), ('needs treat citizens', 165), ('says needs', 163), ('migrants says', 162), ('mass', 161), ('retweet', 161), ('save women', 161), ('nationalism barrier wall', 160), ('wall save', 160), ('barrier', 160), ('nationalism barrier', 160), ('wall save women', 160), ('barrier wall', 160), ('lands', 160), ('barrier wall save', 160), ('prize', 158), ('give', 158), ('save women children', 157), ('buries human trafficking', 157), ('buries human', 157), ('needs end', 156), ('times', 154), ('says citizens', 154), ('needs end discrimination', 154), ('lands migrants', 153), ('lands migrants says', 152), ('offers', 152), ('burmese', 152), ('funds', 151), ('migrants says citizens', 151), ('succeed', 151), ('minister', 149), ('solidarity', 149), ('fake pictures', 149), ('end discrimination succeed', 148), ('discrimination succeed', 148), ('community', 146), ('relief', 146), ('says needs end', 145), ('cause', 144), ('daily', 144), ('nope nope', 143), ('lama', 140), ('story', 139), ('speak', 139), ('post', 139), ('islamic', 138), ('received', 138), ('make', 137), ('human rights', 136), ('safety', 135), ('used', 135), ('call', 135), ('media', 135), ('stranded', 134), ('repatriation', 133), ('group', 133), ('hope', 132), ('urged', 132), ('press', 131), ('leaders', 131), ('nationals', 131), ('middle', 131), ('great', 130), ('southeast', 130), ('killed', 129), ('nationals received', 128), ('nationals received repatriation', 128), ('received repatriation human', 128), ('repatriation human', 128), ('repatriation human trafficking', 128), ('received repatriation', 128), ('protests remarks', 127), ('islam terrorism', 126), ('pictures crisis', 126), ('fake pictures crisis', 126), ('migrants raped', 125), ('prospects', 124), ('discrimination president', 123), ('provide aid', 123), ('rejects unbalanced remarks', 123), ('end discrimination president', 123), ('unbalanced remarks', 123), ('bleak', 123), ('face bleak', 122), ('use funds provide', 122), ('funds provide aid', 122), ('bleak prospects', 122), ('face bleak prospects', 122), ('outside', 122), ('use funds', 122), ('funds provide', 122), ('remarks genocide', 121), ('migrants face', 121), ('middle east', 121), ('anyone', 120), ('raped border', 119), ('protests remarks genocide', 119), ('migrants face bleak', 119), ('border camps', 119), ('grant', 119), ('offers help', 119), ('safety migrants', 118), ('join', 118), ('policy', 118), ('man', 118), ('safety migrants face', 118), ('global', 117), ('held', 117), ('united', 116), ('south', 116), ('raped border camps', 115), ('day', 115), ('migrants raped border', 114), ('graves', 113), ('resolution', 112), ('home', 112), ('raise', 111), ('thank', 111), ('politics', 111), ('lives', 110), ('beyond', 110), ('discrimination president urged', 109), ('president urged', 109), ('continue', 109), ('shame', 108), ('military', 108), ('allah', 108), ('ban', 108), ('name', 107), ('wants', 107), ('back', 107), ('camps report', 106), ('star', 106), ('black', 105), ('beyond middle', 105), ('sex', 105), ('solution', 105), ('beyond middle east', 105), ('good', 104), ('efforts', 104), ('middle east genocide', 103), ('east genocide', 103), ('violence', 102), ('nobel peace', 101), ('concern', 101), ('said', 101), ('work', 101), ('border camps report', 100), ('humanitarian', 100), ('monks', 100), ('slaves', 100), ('sex slaves', 100), ('wave', 100), ('latest', 100), ('guardian', 99), ('suffering', 99), ('go', 98), ('first wave', 98), ('life', 98), ('spotlight actor', 98), ('matters', 98), ('years first', 98), ('years first wave', 97), ('religious', 97), ('right', 97), ('minorities', 96), ('used sex slaves', 96), ('voice matters', 96), ('used sex', 96), ('letter', 96), ('moon', 96), ('know', 95), ('matters see live', 95), ('petition', 95), ('voice matters see', 95), ('see live', 95), ('matters see', 95), ('watch', 94), ('lama urges', 94), ('anyone help', 94), ('put', 94), ('celebrity spotlight actor', 94), ('online', 93), ('club', 93), ('press club', 93), ('photos', 93), ('national', 92), ('help people', 92), ('continues', 91), ('demand', 91), ('dear', 91), ('nobel prize', 91), ('hypocrite', 90), ('genocide people', 90), ('boats', 90), ('persecutes', 89), ('get', 89), ('persecutes buddhists', 88), ('move years', 88), ('lama urges action', 88), ('urges action', 88), ('mass graves', 88), ('action persecutes', 88), ('plan move years', 88), ('urges action persecutes', 88), ('action persecutes buddhists', 88), ('navy', 87), ('happening', 87), ('special', 87), ('movement', 87), ('move years first', 87), ('shot', 86), ('root', 86), ('hypocrite lama urges', 86), ('hypocrite lama', 86), ('found', 86), ('slow', 85), ('dozens', 85), ('cleansing', 85), ('remote', 85), ('ask', 85), ('world leaders', 85), ('countries', 84), ('need help', 84), ('part', 84), ('sign', 84), ('general', 84), ('refugees stateless', 84), ('denies', 84), ('wear', 83), ('never', 83), ('peaceful', 83), ('solve', 82), ('exile', 81), ('ongoing', 81), ('missing', 81), ('discuss', 80), ('escape', 80), ('brothers', 80), ('situation', 80), ('winners', 80), ('nation', 80), ('police', 80), ('flooded', 80), ('stateless southeast', 79), ('prize winners', 79), ('farewell nameless', 79), ('anti', 79), ('nameless', 79), ('farewell', 79), ('wear black', 79), ('refugees stateless southeast', 79), ('flooded island', 79), ('struggle', 79), ('donate', 78), ('conference', 78), ('corpses', 78), ('traffickers', 78), ('min', 78), ('refugees remote', 78), ('adrift', 78), ('move thousands', 77), ('sombre', 77), ('ethnic cleansing', 77), ('gov', 77), ('officer', 77), ('nameless dead', 77), ('death', 77), ('farewell nameless dead', 77), ('women migrants', 76), ('look', 76), ('attention', 76), ('conditions', 75), ('plan move thousands', 75), ('concern plan move', 75), ('exile refugees', 75), ('concern plan', 75), ('forms', 75), ('sponsored', 75), ('dozens corpses', 75), ('raised', 75), ('exile refugees remote', 74), ('urged end', 74), ('step', 74), ('black solidarity', 74), ('wear black solidarity', 74), ('move thousands flooded', 74), ('passes', 74), ('thousands flooded', 74), ('stand', 74), ('thousands flooded island', 74), ('bids', 74), ('expert', 74), ('flood', 73), ('join movement wear', 73), ('movement wear', 73), ('threats', 73), ('movement wear black', 73), ('find', 73), ('shelter', 73), ('terror', 73), ('camp used', 73), ('president urged end', 73), ('facing', 73), ('join movement', 73), ('army officer', 73), ('nobel prize winners', 72), ('passes resolution', 72), ('first wave fled', 72), ('wave fled', 72), ('laureates', 72), ('shore', 72), ('state sponsored', 72), ('guards', 72), ('camp used sex', 71), ('much', 71), ('limbo', 71), ('women camp', 71), ('women camp used', 71), ('nope nope nope', 70), ('persecutes buddhists politics', 70), ('asks', 70), ('apartheid', 70), ('let', 70), ('tell', 70), ('share', 70), ('buddhists politics', 70), ('remarks nobel', 70), ('eye', 70), ('think', 70), ('water', 69), ('sombre farewell nameless', 69), ('done', 69), ('blog', 69), ('sombre farewell', 69), ('remarks nobel prize', 69), ('denies persecution', 69), ('journalists', 69), ('show', 69), ('condemns', 69), ('criminal', 68), ('toward', 68), ('extremism', 68), ('prone', 68), ('guards say', 68), ('say migrants', 68), ('guards say migrants', 68), ('pray', 68), ('appeal', 68), ('calls world', 68), ('silence genocide', 68), ('issues', 68), ('saudi', 68), ('wash', 68), ('prevent', 68), ('slaves guards say', 67), ('handling', 67), ('unbalanced remarks nobel', 67), ('sex slaves guards', 67), ('slaves guards', 67), ('visits', 67), ('brief', 67), ('going', 66), ('shot dead', 66), ('regime', 66), ('persecuted people', 66), ('dozens corpses wash', 66), ('corpses wash', 66), ('around', 66), ('emergency', 66), ('justice', 65), ('expert dozens corpses', 65), ('bids sombre farewell', 65), ('protect', 65), ('bids sombre', 65), ('attacks', 65), ('expert dozens', 65), ('nothing', 65), ('rescued', 65), ('non', 65), ('act', 65), ('calls world leaders', 65), ('way', 65), ('problem', 65), ('flood prone', 65), ('remote flood', 64), ('threats genocide', 64), ('response', 64), ('safe', 64), ('world leaders save', 64), ('remote flood prone', 64), ('meeting', 64), ('prone island', 64), ('nations', 64), ('flood prone island', 64), ('leaders save', 64), ('left', 64), ('made', 63), ('fleeing threats', 63), ('trafficker', 63), ('fuelling', 63), ('fleeing threats genocide', 63), ('refugees remote flood', 63), ('arrested', 63), ('corpses wash shore', 63), ('wash shore', 63), ('east genocide nope', 62), ('sisters', 62), ('genocide nope', 62), ('atrocities', 62), ('sponsored genocide', 62), ('long', 62), ('genocide nope nope', 62), ('treatment', 62), ('behind', 62), ('really', 62), ('chief', 61), ('south east', 61), ('regional', 61), ('photo', 61), ('thanks', 61), ('actor put', 61), ('state sponsored genocide', 60), ('spotlight actor put', 60), ('address plight government', 60), ('keep', 60), ('refugee crisis', 60), ('ham', 60), ('house', 60), ('government says', 60), ('plight government', 60), ('remember', 60), ('exodus', 60), ('prevent state sponsored', 59), ('anything', 59), ('care', 59), ('announces', 59), ('called', 59), ('harper', 59), ('prevent state', 59), ('stranded sea', 59), ('impact', 59), ('suffer', 59), ('sponsored genocide people', 59), ('population', 59), ('trafficker shot', 58), ('trafficker shot dead', 58), ('migrants women', 58), ('foreign', 58), ('please join', 58), ('recounts', 58), ('harper prevent', 58), ('recounts escape', 58), ('migrant recounts', 58), ('stephen', 58), ('policy toward', 58), ('stephen harper prevent', 58), ('careful', 58), ('stephen harper', 58), ('migrant recounts escape', 58), ('harper prevent state', 58), ('reform', 58), ('jobs', 57), ('plight government says', 57), ('qatar', 57), ('cabinet', 57), ('breaking', 57), ('impact repressive', 57), ('repressive policy', 57), ('massacre', 57), ('persecuted minority', 57), ('repressive policy toward', 57), ('flee', 57), ('repressive', 57), ('impact repressive policy', 57), ('together', 57), ('committee relief', 57), ('genocidal', 57), ('please join movement', 56), ('sign petition', 56), ('lost', 56), ('week', 56), ('aid migrants', 56), ('beg', 56), ('something', 56), ('generals', 56), ('another', 56), ('raise voice', 56), ('relief efforts', 56), ('among', 55), ('persecution fuelling', 55), ('urges take', 55), ('deserve', 55), ('denies persecution fuelling', 55), ('say migrants women', 55), ('former', 55), ('migrants women migrants', 55), ('needs careful handling', 54), ('careful handling', 54), ('declaration', 54), ('ignore', 54), ('access', 54), ('rescue', 54), ('needs careful', 54), ('special committee', 54), ('forgotten', 54), ('old', 54), ('living', 54), ('open', 54), ('issue needs', 54), ('kill', 54), ('issue needs careful', 54), ('displaced', 54), ('urgent', 54), ('brothers sisters', 54), ('formed', 53), ('unveils', 53), ('says stop', 53), ('land', 53), ('row', 53), ('ongoing needs', 53), ('well', 53), ('tv', 53), ('crimes', 53), ('mission', 53), ('year', 52), ('regarding', 52), ('driving', 52), ('offered', 52), ('daily brief', 52), ('meet', 52), ('hold', 52), ('rally', 52), ('link', 52), ('solution crisis', 52), ('support women', 52), ('web', 52), ('save lives', 52), ('committee relief efforts', 52), ('light', 51), ('declaration support women', 51), ('pressure', 51), ('agency', 51), ('declaration support', 51), ('visit', 51), ('heartbreaking', 51), ('allow', 51), ('cabinet committee', 51), ('fuelling south', 51), ('campaign', 51), ('summit', 51), ('persecution fuelling south', 51), ('persecution genocide', 51), ('port', 51), ('speaking', 51), ('horror', 51), ('support women children', 51), ('fuelling south east', 51), ('laureate', 51), ('sad', 50), ('nazism', 50), ('criminals', 50), ('resort', 50), ('closer', 50), ('beg food', 50), ('war', 50), ('moves', 49), ('stop attacks', 49), ('writes', 49), ('business', 49), ('peace prize', 49), ('god', 49), ('port resort', 49), ('unbalanced international', 49), ('ask demand', 49), ('east migrant', 49), ('migrant beg food', 49), ('migrant beg', 49), ('government says stop', 49), ('sword', 49), ('ask demand stop', 49), ('criticism', 49), ('demand stop attacks', 49), ('rejects unbalanced international', 49), ('stories', 49), ('demand stop', 49), ('slow genocide', 49), ('south east migrant', 49), ('responsibility', 49), ('take sword', 49), ('prime', 48), ('come', 48), ('days', 48), ('international criticism', 48), ('hope peaceful', 48), ('religious extremism', 48), ('raised refugees', 48), ('give citizenship', 48), ('talk', 48), ('new times', 47), ('month', 47), ('citizenship official', 47), ('awaits', 47), ('check declaration support', 47), ('end persecution', 47), ('help fleeing', 47), ('activist', 47), ('towards', 47), ('authorities', 47), ('check declaration', 47), ('due', 47), ('precarious', 47), ('moves step closer', 47), ('step closer', 47), ('step closer urges', 47), ('unbalanced international criticism', 47), ('arrest', 47), ('great terror moves', 47), ('terror moves step', 47), ('closer urges', 47), ('national press', 47), ('great terror', 47), ('moves step', 47), ('national press club', 47), ('terror moves', 47), ('earth', 46), ('better', 46), ('system', 46), ('free', 46), ('awaits make', 46), ('tells', 46), ('estimates', 46), ('innocent', 46), ('awareness', 46), ('wont', 46), ('feel', 46), ('gap', 46), ('east migrant crisis', 46), ('precarious limbo', 46), ('says persecution', 46), ('extremists', 46), ('genocide ask demand', 46), ('limbo awaits', 46), ('looms', 46), ('extremism looms', 46), ('shameful', 46), ('threats genocide ask', 46), ('hit', 46), ('visited', 46), ('genocide ask', 46), ('help boat', 46), ('help fleeing threats', 46), ('precarious limbo awaits', 46), ('religious extremism looms', 46), ('limbo awaits make', 46), ('brought', 45), ('together raised refugees', 45), ('case', 45), ('forms committee', 45), ('dear check', 45), ('closer urges take', 45), ('outside press', 45), ('urges take sword', 45), ('nobel peace prize', 45), ('boy', 45), ('proliferate web', 45), ('proliferate', 45), ('raises', 45), ('dear check declaration', 45), ('outside press club', 45), ('buddhism', 45), ('job', 45), ('together raised', 45), ('club outside', 44), ('pictures proliferate', 44), ('condemning', 44), ('across', 44), ('send', 44), ('crises', 44), ('outside national press', 44), ('persecution pictures proliferate', 44), ('outside national', 44), ('extremism looms impact', 44), ('monk', 44), ('club outside press', 44), ('looms impact', 44), ('fake persecution pictures', 44), ('protests outside national', 44), ('refugee struggle', 44), ('pictures proliferate web', 44), ('terrorists', 44), ('inside', 44), ('world news', 44), ('journalists protests outside', 44), ('press club outside', 44), ('disaster', 44), ('persecution pictures', 44), ('fake persecution', 44), ('looms impact repressive', 44), ('high', 44), ('protests outside', 44), ('calling', 44), ('journalists protests', 44), ('money', 43), ('treat citizens government', 43), ('latest estimates adrift', 43), ('ashore', 43), ('estimates adrift', 43), ('opener', 43), ('cause migrant crisis', 43), ('official ongoing needs', 43), ('citizens government', 43), ('says issue', 43), ('near', 43), ('waiting', 43), ('journey', 43), ('abandoned', 43), ('leave', 43), ('cause migrant', 43), ('eye opener', 43), ('official ongoing', 43), ('point', 43), ('government needs', 43), ('killings', 43), ('driving sea', 43), ('latest estimates', 43), ('says issue needs', 42), ('islamic system solution', 42), ('islamic system', 42), ('system solution', 42), ('system solution crisis', 42), ('nazism genocide', 42), ('raised refugees official', 42), ('refugees official', 42), ('oppressed', 42), ('asylum', 42), ('article', 42), ('refugees official ongoing', 42), ('images', 41), ('woman', 41), ('food water', 41), ('fleeing wont address', 41), ('least', 41), ('humans', 41), ('real', 41), ('wont address plight', 41), ('name row', 41), ('daily brief name', 41), ('citizens government needs', 41), ('consider', 41), ('amid', 41), ('reach', 41), ('brief name row', 41), ('wont address', 41), ('criminal silence', 41), ('brief name', 41), ('fleeing wont', 41), ('bar fleeing wont', 41), ('place', 41), ('speaks', 41), ('white', 40), ('condemns genocide', 40), ('little', 40), ('transit', 40), ('bring', 40), ('states', 40), ('keeping', 40), ('food grant', 40), ('stop min', 40), ('discrimination succeed president', 40), ('heart', 40), ('says stop min', 40), ('leader', 40), ('supporting', 40), ('succeed president', 40), ('tear', 40), ('compliant', 40), ('silent genocide', 40), ('best', 39), ('apart compliant', 39), ('end genocide', 39), ('members', 39), ('power', 39), ('top', 39), ('gang', 39), ('compliant criminal silence', 39), ('tear apart compliant', 39), ('apart compliant criminal', 39), ('forward', 39), ('urges treat', 39), ('horror sea', 39), ('grant citizenship', 39), ('tear apart', 39), ('compliant criminal', 39), ('worse', 39), ('fight', 39), ('liked', 39), ('ethnic minority', 39), ('world help', 39), ('apart', 39), ('treated', 39), ('rape', 39), ('urges treat citizens', 39), ('love', 39), ('charges', 39), ('senior', 39), ('standard', 39), ('things', 39), ('liked video', 39), ('fasting', 39), ('calls citizenship official', 39), ('always', 39), ('prime minister', 39), ('minority world', 39), ('video migrant', 39), ('seeking', 38), ('summit people', 38), ('guardian hit ham', 38), ('video migrant beg', 38), ('guardian hit', 38), ('persecution cause', 38), ('hit ham knife', 38), ('criminals continue', 38), ('ham knife migrants', 38), ('row summit people', 38), ('cover', 38), ('repression', 38), ('knife migrants tell', 38), ('tragedy', 38), ('migrants tell horror', 38), ('parliament', 38), ('committee help', 38), ('ham knife', 38), ('knife migrants', 38), ('street', 38), ('migrants tell', 38), ('tell horror', 38), ('taking', 38), ('name row summit', 38), ('hit ham', 38), ('row summit', 38), ('tell horror sea', 38), ('discussion', 38), ('stop fleeing', 38), ('insists', 38), ('knife', 38), ('groups', 37), ('remarks rejects', 37), ('wants stop fleeing', 37), ('offer', 37), ('unbalanced remarks rejects', 37), ('law', 37), ('laureates call', 37), ('truth', 37), ('star online', 37), ('express', 37), ('trying', 37), ('forms committee help', 37), ('roots', 37), ('anyone help people', 37), ('desperate', 37), ('government needs treat', 37), ('wants stop', 37), ('hell', 37), ('citizenship official calls', 37), ('freedom', 36), ('first military', 36), ('political', 36), ('tide', 36), ('negotiate food water', 36), ('condemning genocide', 36), ('genocide people negotiate', 36), ('smuggling', 36), ('nowhere', 36), ('negotiate', 36), ('killing world', 36), ('insists keeping', 36), ('people negotiate', 36), ('council', 36), ('fled boats', 36), ('terrorist', 36), ('brutality', 36), ('protection', 36), ('people negotiate food', 36), ('calls grant', 36), ('calls grant citizenship', 36), ('landed', 36), ('peace laureates', 36), ('face genocide', 36), ('nobel peace laureates', 36), ('held first', 36), ('big', 36), ('resolution condemning', 36), ('negotiate food', 36), ('remarks rejects unbalanced', 36), ('persecuted minority world', 36), ('serious', 35), ('word', 35), ('stop killing', 35), ('tortured', 35), ('want insists', 35), ('author', 35), ('need united', 35), ('smugglers', 35), ('stop fleeing won', 35), ('forced', 35), ('remain', 35), ('comes', 35), ('world persecuted', 35), ('visits camp', 35), ('provide food', 35), ('temporary', 35), ('brutal', 35), ('assistance', 35), ('want insists keeping', 35), ('claims', 35), ('threat', 35), ('persecution cause migrant', 35), ('pl', 35), ('committee discuss', 34), ('raising', 34), ('web atlas', 34), ('respect', 34), ('gives', 34), ('conditions eye', 34), ('grant camps', 34), ('religion', 34), ('held first military', 34), ('says persecution cause', 34), ('atlas', 34), ('conditions eye opener', 34), ('given', 34), ('update', 34), ('military arrest', 34), ('crime', 34), ('senate', 34), ('shrugs', 34), ('torture', 34), ('atlas shrugs', 34), ('concerns', 34), ('proliferate web atlas', 34), ('crisis news', 34), ('united conditions eye', 34), ('notice', 34), ('accept', 34), ('first military arrest', 34), ('provide food grant', 34), ('web atlas shrugs', 34), ('need united conditions', 34), ('wrong', 34), ('food grant camps', 34), ('relocation', 34), ('true', 34), ('photographer', 34), ('women raped', 34), ('united conditions', 34), ('rise', 34), ('issue persecuted minority', 33), ('officer held first', 33), ('change', 33), ('fleeing persecution', 33), ('trafficking army', 33), ('extremist', 33), ('mil', 33), ('men', 33), ('die', 33), ('continue suffer', 33), ('security', 33), ('officer held', 33), ('away', 33), ('trafficking army officer', 33), ('issue persecuted', 33), ('forum', 33), ('eyes', 33), ('atlas shrugs islam', 33), ('visited camp', 33), ('follow', 33), ('army officer held', 33), ('discuss plight', 33), ('hear', 33), ('sir', 33), ('support issue', 33), ('shrugs islam', 33), ('resolution condemning genocide', 33), ('help save', 33), ('adopts', 33), ('united nations', 33), ('support issue persecuted', 33), ('coverage', 32), ('thomas', 32), ('military arrest disaster', 32), ('arrivals', 32), ('activists', 32), ('next', 32), ('raped transit', 32), ('people crisis', 32), ('complicity', 32), ('start', 32), ('help migrants', 32), ('photographs', 32), ('claim', 32), ('help refugees', 32), ('passes resolution condemning', 32), ('special committee relief', 32), ('according', 32), ('stay', 32), ('assembly', 32), ('prone island post', 32), ('prayers', 32), ('arrest disaster', 32), ('journal', 32), ('dying', 32), ('bad', 32), ('wanted', 32), ('international community', 32), ('island post', 32), ('flight', 32), ('plans', 32), ('won anything', 31), ('letter ban moon', 31), ('post blog', 31), ('open letter', 31), ('economic', 31), ('transit camps', 31), ('lawyers', 31), ('else', 31), ('shapes', 31), ('raped transit camps', 31), ('root cause', 31), ('abc', 31), ('letter ban', 31), ('island post blog', 31), ('bengal', 31), ('already', 31), ('retweet retweet', 31), ('public', 31), ('fleeing won anything', 31), ('answers', 31), ('charity', 31), ('grant aid migrants', 31), ('women raped transit', 31), ('formed special', 31), ('emergency grant', 31), ('abuse', 31), ('insider', 31), ('peace laureates call', 31), ('homes', 31), ('emergency grant aid', 31), ('grant aid', 31), ('donating', 30), ('crackdown', 30), ('suspected', 30), ('formed special committee', 30), ('turn', 30), ('role', 30), ('fund', 30), ('killing world help', 30), ('people safe', 30), ('mar', 30), ('seems', 30), ('reform shapes nazism', 30), ('shapes nazism', 30), ('reform shapes', 30), ('shows', 30), ('buried', 30), ('comments', 30), ('boat people crisis', 30), ('conflict', 30), ('channel', 30), ('organizations', 30), ('seek', 30), ('people earth', 30), ('responsible', 30), ('thought', 30), ('urgent need', 29), ('anything address', 29), ('white house', 29), ('equal', 29), ('often', 29), ('shines', 29), ('write', 29), ('mil emergency grant', 29), ('nobel laureate', 29), ('thomas fuller', 29), ('raises concerns', 29), ('fuller', 29), ('decades', 29), ('unknown', 29), ('bleak prospects arrivals', 29), ('unveils mil', 29), ('event', 29), ('mil emergency', 29), ('highlight', 29), ('west', 29), ('ignored', 29), ('try', 29), ('boat people safe', 29), ('identity', 29), ('prospects arrivals', 29), ('term', 29), ('won anything address', 29), ('arabia', 29), ('busy', 29), ('kids', 29), ('unveils mil emergency', 29), ('winner', 29), ('prostitute', 29), ('small', 28), ('urgent need help', 28), ('focus', 28), ('harrowing', 28), ('unsolved', 28), ('year old', 28), ('actor put rare', 28), ('forget', 28), ('lives say', 28), ('help save lives', 28), ('prospects arrivals landed', 28), ('arrivals landed', 28), ('burning', 28), ('unknown author', 28), ('national assembly', 28), ('hate', 28), ('like prostitute', 28), ('spread', 28), ('helps', 28), ('issues unsolved', 28), ('immediate', 28), ('put rare', 28), ('jihad', 28), ('safe root issues', 28), ('need help save', 28), ('lives say mar', 28), ('shapes nazism genocide', 28), ('breaking news', 28), ('democracy', 28), ('urges give citizenship', 28), ('safe root', 28), ('bless', 28), ('say mar', 28), ('ready', 28), ('denied', 28), ('force', 28), ('shines spotlight', 28), ('taken', 28), ('people safe root', 28), ('makes', 28), ('welcome', 28), ('photographs plight', 28), ('persecuted people earth', 28), ('root issues unsolved', 28), ('anything address plight', 28), ('urges give', 28), ('root issues', 28), ('migration', 28), ('save lives say', 28), ('following', 27), ('risk', 27), ('listen', 27), ('asks ban moon', 27), ('spotlight puts', 27), ('words', 27), ('call persecution', 27), ('assist', 27), ('coming', 27), ('ban moon plight', 27), ('nobody', 27), ('asks ban', 27), ('pictures crisis news', 27), ('recruit', 27), ('percent', 27), ('needed', 27), ('moon plight', 27), ('resolution persecution', 27), ('official urges give', 27), ('daily news', 27), ('history', 27), ('official urges', 27), ('rather', 27), ('help boat people', 27), ('missing unknown author', 27), ('saudi arabia', 27), ('front', 27), ('fate', 27), ('starving', 27), ('kind', 27), ('generals discard', 27), ('moon aid', 27), ('talking', 27), ('celebrity spotlight puts', 27), ('party', 27), ('chief asks ban', 27), ('discard', 27), ('getting', 27), ('call persecution genocide', 27), ('chief asks', 27), ('missing unknown', 27), ('needs treat min', 27), ('joins', 27), ('reason', 27), ('court', 27), ('ban moon aid', 27), ('become', 27), ('worst', 27), ('treat min', 27), ('home minister', 27), ('saying', 26), ('murder', 26), ('int', 26), ('students', 26), ('explain', 26), ('relocation plan', 26), ('vision', 26), ('surely', 26), ('world silence', 26), ('signs', 26), ('generals discard like', 26), ('racism', 26), ('thing', 26), ('laureates call persecution', 26), ('plight refugees', 26), ('attacking', 26), ('video visits', 26), ('interview', 26), ('green', 26), ('genocide continues', 26), ('host', 26), ('brought ashore', 26), ('adrift sea', 26), ('actually', 26), ('offered help', 26), ('large', 26), ('sought', 26), ('gen', 26), ('humanitarian relief', 26), ('abt', 26), ('wall street', 26), ('concerned', 26), ('video visits camp', 26), ('recognition', 26), ('discard like', 26), ('interpreter', 26), ('facing genocide', 25), ('passes resolution persecution', 25), ('happy', 25), ('girl', 25), ('camp visited camp', 25), ('navy due', 25), ('oppression', 25), ('sends', 25), ('including', 25), ('invite', 25), ('giving', 25), ('need attention', 25), ('full', 25), ('refuses', 25), ('hands', 25), ('finally', 25), ('visits camp visited', 25), ('camp visited', 25), ('announced', 25), ('question', 25), ('propaganda', 25), ('poor', 25), ('humanitarian aid', 25), ('touch', 25), ('enough', 25), ('days waiting', 25), ('quiet', 25), ('gang raped', 25), ('proposals', 25), ('side', 25), ('needs refugees', 25), ('officials', 25), ('noble', 25), ('others', 25), ('recent', 25), ('steps', 25), ('illegal', 24), ('writes letter', 24), ('shameful says', 24), ('rare star', 24), ('please consider donating', 24), ('tackling', 24), ('happen', 24), ('consider donating', 24), ('interpreters', 24), ('consider donating brothers', 24), ('due end', 24), ('continue genocide', 24), ('globe', 24), ('drives', 24), ('plan raises', 24), ('silent persecution', 24), ('got', 24), ('genocide shameful says', 24), ('minister asks', 24), ('percent fled', 24), ('donating brothers', 24), ('pics', 24), ('offers help offered', 24), ('suffer amid world', 24), ('suffer amid', 24), ('rule', 24), ('adopts proposals', 24), ('help offered', 24), ('spent', 24), ('plan raises concerns', 24), ('powers', 24), ('genocide shameful', 24), ('relocation plan raises', 24), ('silence genocide shameful', 24), ('seen', 24), ('racist', 24), ('friend', 24), ('connection', 24), ('buried mass', 24), ('release', 24), ('bodies', 24), ('amid world', 24), ('stages', 24), ('sisters need', 24), ('put rare star', 24), ('brothers sisters need', 24), ('sisters need help', 24), ('continue suffer amid', 24), ('tribune', 24), ('region', 24), ('navy due end', 24), ('blind', 24), ('donating brothers sisters', 24), ('percent fled boats', 24), ('voices', 24), ('please consider', 24), ('massive', 24), ('global crisis save', 23), ('recruit fleeing', 23), ('past', 23), ('th', 23), ('allowed', 23), ('brother', 23), ('nobel laureates', 23), ('heard', 23), ('refuge', 23), ('arab', 23), ('abuses', 23), ('message', 23), ('schools', 23), ('amid world silence', 23), ('secretary', 23), ('save pl', 23), ('citizenship wall', 23), ('regional crises', 23), ('wake', 23), ('ex', 23), ('stages genocide', 23), ('crises global', 23), ('give citizenship wall', 23), ('victims buries', 23), ('crisis save pl', 23), ('favours', 23), ('coexistence', 23), ('crises global crisis', 23), ('people sign', 23), ('ever', 23), ('detention', 23), ('evil', 23), ('street journal', 23), ('gas', 23), ('questioned', 23), ('ships', 23), ('people sign petition', 23), ('search', 23), ('detained', 23), ('global crisis', 23), ('forms cabinet committee', 23), ('team', 23), ('spotlight puts rare', 23), ('trailer', 23), ('peaceful coexistence', 23), ('stage', 23), ('family', 23), ('orders', 23), ('burmese army', 23), ('back sea', 23), ('interfaith', 23), ('future', 23), ('harassment', 23), ('slowly', 23), ('citizenship wall street', 23), ('dark', 23), ('forms cabinet', 23), ('kl', 23), ('wall street journal', 23), ('saved', 23), ('wish', 23), ('protesting', 23), ('families', 23), ('trafficking victims buries', 23), ('crisis save', 23), ('causes', 23), ('pledges', 23), ('regional crises global', 23), ('crammed', 23), ('opinion', 23), ('local', 23), ('tony', 23), ('recognize', 22), ('refugee camp', 22), ('faces', 22), ('invite speak', 22), ('fasting persecuted', 22), ('asks islamic', 22), ('mafia', 22), ('offers help migrants', 22), ('minister asks islamic', 22), ('fasting persecuted people', 22), ('unveils aid', 22), ('migrants work', 22), ('landed month', 22), ('announces aid', 22), ('matter', 22), ('ham invite', 22), ('surely questioned regarding', 22), ('please help', 22), ('day surely', 22), ('video discussion', 22), ('immigration', 22), ('honor', 22), ('nation star', 22), ('video discussion trailer', 22), ('involved', 22), ('islamic schools', 22), ('ethnic group', 22), ('ship', 22), ('questioned regarding', 22), ('indigenous', 22), ('compassion', 22), ('questioned regarding favours', 22), ('writes letter ban', 22), ('unanimously', 22), ('asks islamic schools', 22), ('social', 22), ('help offered help', 22), ('paid', 22), ('friends', 22), ('demands', 22), ('carrying', 22), ('buried mass graves', 22), ('refugees buried', 22), ('refugees buried mass', 22), ('regarding favours', 22), ('nation star online', 22), ('using', 22), ('allow migrants', 22), ('important', 22), ('tun', 22), ('hope peaceful coexistence', 22), ('schools assist', 22), ('approves', 22), ('jungle', 22), ('day surely questioned', 22), ('surely questioned', 22), ('cont', 22), ('moving', 22), ('plight time', 22), ('proud', 22), ('islamic schools assist', 22), ('ignoring', 22), ('discussion trailer', 22), ('malay', 22), ('details', 22), ('ham invite speak', 22), ('cannot', 22), ('migrants fleeing', 21), ('early', 21), ('scholars', 21), ('key', 21), ('interfaith forum advocate', 21), ('correspondent', 21), ('ignore crimes minority', 21), ('genocide tantamount complicity', 21), ('seriously', 21), ('resettlement', 21), ('offered help boat', 21), ('allow migrants work', 21), ('announces humanitarian', 21), ('need attention help', 21), ('says citizens brought', 21), ('around world', 21), ('pas', 21), ('forum advocate refugees', 21), ('humanitarian aid migrants', 21), ('asked', 21), ('grave', 21), ('advocate refugees', 21), ('interpreters interpreter', 21), ('citizens brought ashore', 21), ('forum advocate', 21), ('lies', 21), ('single', 21), ('complex', 21), ('temporary shelter', 21), ('tweet', 21), ('debate', 21), ('instead', 21), ('tantamount', 21), ('ashore boat', 21), ('interfaith forum', 21), ('tantamount complicity', 21), ('working', 21), ('heartbreaking story', 21), ('crimes minority', 21), ('envoy', 21), ('cabinet committee relief', 21), ('activists ignore crimes', 21), ('bilingual', 21), ('advocate', 21), ('prize winner', 21), ('election', 21), ('statement', 21), ('thousands migrants', 21), ('ignore crimes', 21), ('persecution buddhists', 21), ('rich', 21), ('leaving', 21), ('genocide tantamount', 21), ('child', 21), ('silence genocide tantamount', 21), ('remote island', 21), ('shelters', 21), ('activists ignore', 21), ('survivor', 21), ('arrivals landed month', 21), ('attention help', 21), ('citizens brought', 21), ('announces humanitarian aid', 21), ('hospital', 21), ('interpreter bilingual', 21), ('stunning', 21), ('victims buries human', 21), ('beings', 21), ('urgently', 21), ('card', 21), ('cabinet committee discuss', 20), ('brings', 20), ('soon', 20), ('ago', 20), ('choice', 20), ('norway', 20), ('dinner', 20), ('sent', 20), ('session', 20), ('condemn', 20), ('helped', 20), ('province', 20), ('recognition ethnic', 20), ('ministry', 20), ('ma', 20), ('whole', 20), ('collect', 20), ('messiah', 20), ('nowhere people', 20), ('concentration', 20), ('recognition ethnic minority', 20), ('brought ashore boat', 20), ('citizenship stop tide', 20), ('fellow', 20), ('voice persecuted', 20), ('alert', 20), ('hatred', 20), ('trapped', 20), ('independent', 20), ('calls citizenship stop', 20), ('stop tide', 20), ('weeks', 20), ('play', 20), ('strongly', 20), ('goal', 20), ('kindly', 20), ('shed', 20), ('expel', 20), ('amnesty', 20), ('modern', 20), ('citizenship stop', 20), ('stateless sea', 20), ('supporting criminals', 20), ('known', 20), ('hand', 20), ('young', 20), ('school', 20), ('photos refugees', 20), ('committee discuss plight', 20), ('bringing', 20), ('pain', 20), ('solve crisis', 19), ('reporting', 19), ('please share', 19), ('stateless sea part', 19), ('deeply', 19), ('peace prize winner', 19), ('understand', 19), ('syrians', 19), ('account', 19), ('jobs fleeing persecution', 19), ('please save', 19), ('citizens recognition ethnic', 19), ('aid migrants fleeing', 19), ('western', 19), ('criminals continue genocide', 19), ('feed', 19), ('treat citizens recognition', 19), ('society', 19), ('came', 19), ('connection mass graves', 19), ('migrants arrested', 19), ('majority', 19), ('delegate', 19), ('vulnerable', 19), ('connection mass', 19), ('prostitute supporting criminals', 19), ('piece', 19), ('receive', 19), ('parents', 19), ('girls', 19), ('cry', 19), ('citizens recognition', 19), ('access humanitarian relief', 19), ('isolation', 19), ('remains', 19), ('people face genocide', 19), ('prosecuted', 19), ('root causes', 19), ('human beings', 19), ('easily', 19), ('supporting criminals continue', 19), ('stop genocide apartheid', 19), ('sang', 19), ('genocide apartheid', 19), ('seekers', 19), ('people face', 19), ('showing', 19), ('arrived', 19), ('difference', 19), ('prostitute supporting', 19), ('migrants arrested connection', 19), ('affairs', 19), ('efforts stop', 19), ('hard', 19), ('give voice', 19), ('persecution plight', 19), ('involvement', 19), ('behalf', 19), ('arrested connection', 19), ('chip', 19), ('ethnic minority help', 19), ('failed', 19), ('help solve', 19), ('offers aid', 19), ('looks', 19), ('crisis crisis', 19), ('believed', 19), ('access humanitarian', 19), ('arrested connection mass', 19), ('cards', 19), ('minority help', 19), ('sea part', 19), ('jobs fleeing', 19), ('migrants explain', 18), ('humanitarian relief human', 18), ('among world', 18), ('court charges', 18), ('village', 18), ('seeking jobs', 18), ('scholars keep public', 18), ('work says', 18), ('interpreters interpreter bilingual', 18), ('reports', 18), ('equal access', 18), ('hr', 18), ('tackling roots', 18), ('priority', 18), ('investment', 18), ('starvation', 18), ('found sea', 18), ('offer jobs', 18), ('govt won offer', 18), ('imagine', 18), ('appeal end', 18), ('protests persecution', 18), ('explain drives', 18), ('relief committee', 18), ('joined', 18), ('international criticism treatment', 18), ('like prostitute supporting', 18), ('systematic', 18), ('clear', 18), ('source', 18), ('charges army officer', 18), ('solve root', 18), ('trafficking south', 18), ('foreign minister', 18), ('cast', 18), ('center', 18), ('ok', 18), ('give voice persecuted', 18), ('won offer jobs', 18), ('relief human', 18), ('roots crisis', 18), ('murdered', 18), ('secretary general', 18), ('criticism treatment', 18), ('silence world', 18), ('equal access citizenship', 18), ('tackling roots crisis', 18), ('forgotten people', 18), ('jobs migrants', 18), ('raise funds', 18), ('refugees genocide', 18), ('looking', 18), ('migrants explain drives', 18), ('speech', 18), ('plight thomas fuller', 18), ('committed', 18), ('relief human rights', 18), ('visiting', 18), ('petition give', 18), ('offer jobs migrants', 18), ('address plight thomas', 18), ('denying', 18), ('mention', 18), ('training', 18), ('rice', 18), ('sure', 18), ('buddhists protest', 18), ('won offer', 18), ('sea demand', 18), ('stunning photos', 18), ('heartbreaking story genocide', 18), ('means', 18), ('plight thomas', 18), ('scale', 18), ('persecuting', 18), ('jew', 18), ('wonder', 18), ('rule country', 18), ('boat crammed', 18), ('return', 18), ('access citizenship', 18), ('court charges army', 18), ('harassment isolation', 18), ('unwanted', 18), ('boycott', 18), ('petition give voice', 18), ('save humanity', 18), ('keep public', 18), ('story genocide', 18), ('dark mafia', 18), ('scholars keep', 18), ('request', 18), ('thousands members', 18), ('govt won', 18), ('highlighting', 18), ('charges army', 18), ('making', 18), ('straits', 18), ('pas delegate', 18), ('genocide often', 17), ('migrants seeking', 17), ('beg food migrants', 17), ('people smugglers', 17), ('public dark mafia', 17), ('call action', 17), ('sea demand rescue', 17), ('sought trafficking', 17), ('justice else', 17), ('unfettered', 17), ('stunning photos refugees', 17), ('minority help solve', 17), ('kindly efforts stop', 17), ('se', 17), ('solutions', 17), ('chairman', 17), ('human traffickers', 17), ('born', 17), ('trial', 17), ('interference', 17), ('thousands cast', 17), ('rest', 17), ('talks', 17), ('cops', 17), ('junta', 17), ('nobody wants', 17), ('united states', 17), ('host refugees', 17), ('persecution ethnic', 17), ('allow unfettered access', 17), ('man suspected', 17), ('peacefully', 17), ('bengal persecution', 17), ('meeting adopts', 17), ('wait', 17), ('rallies', 17), ('migrants seeking jobs', 17), ('human rights equal', 17), ('female', 17), ('dead man', 17), ('stop genocide minorities', 17), ('genocide thousands', 17), ('new post', 17), ('engagement', 17), ('refugee agency', 17), ('cast back', 17), ('peace laureate', 17), ('thousands cast back', 17), ('held atrocities', 17), ('accused', 17), ('help standard', 17), ('surrenders', 17), ('homeland', 17), ('massive protest held', 17), ('trust', 17), ('deserve citizenship', 17), ('link bar', 17), ('burial', 17), ('story genocide continues', 17), ('demand rescue', 17), ('opposition', 17), ('efforts stop genocide', 17), ('god bless', 17), ('world persecuted people', 17), ('standard people', 17), ('peace humanity', 17), ('photographer spent', 17), ('report says', 17), ('demands justice else', 17), ('migrants stranded', 17), ('program', 17), ('preceded things', 17), ('meeting adopts proposals', 17), ('unfettered access', 17), ('exposing', 17), ('spoke', 17), ('protecting', 17), ('keep public dark', 17), ('journey hell', 17), ('allow unfettered', 17), ('citizen', 17), ('province demands justice', 17), ('cast back sea', 17), ('often preceded', 17), ('qatar pledges', 17), ('help standard people', 17), ('member', 17), ('link bar fleeing', 17), ('standing', 17), ('rain', 17), ('less', 17), ('genocide thousands cast', 17), ('warning', 17), ('hot', 17), ('migrants found', 17), ('claims migrants', 17), ('someone', 17), ('nobel peace laureate', 17), ('preceded', 17), ('top link', 17), ('massive protest', 17), ('sister', 17), ('demands justice', 17), ('inquiry', 17), ('back sea demand', 17), ('trafficking report', 17), ('strong', 17), ('claims migrants seeking', 17), ('seeking jobs fleeing', 17), ('public dark', 17), ('threats genocide thousands', 17), ('army officer trafficking', 17), ('show solidarity', 17), ('unfettered access humanitarian', 17), ('commission', 17), ('kindly efforts', 17), ('current', 17), ('bengal persecution buddhists', 17), ('among world persecuted', 17), ('food migrants', 17), ('spent years', 17), ('genocide often preceded', 17), ('please raise', 17), ('genocide minorities', 17), ('documentary', 17), ('protest held', 17), ('injustice', 17), ('provide relief', 17), ('rights equal access', 17), ('except', 17), ('officer trafficking', 17), ('often preceded things', 17), ('false', 17), ('protest held atrocities', 17), ('rights equal', 17), ('want touch', 17), ('info', 17), ('issue nobel', 17), ('take action', 17), ('buddhists live', 17), ('disgusting', 17), ('agree', 17), ('fails', 17), ('youth', 17), ('suggests', 17), ('province demands', 17), ('top link bar', 17), ('world powers', 17), ('favour', 17), ('due end mission', 16), ('blame', 16), ('non interference', 16), ('shocked', 16), ('civil', 16), ('world silent', 16), ('across world', 16), ('far', 16), ('genuine', 16), ('told', 16), ('end mission', 16), ('women held', 16), ('push', 16), ('expelled', 16), ('beaten', 16), ('fact', 16), ('voiceless', 16), ('messiah peace humanity', 16), ('shot dead man', 16), ('preceded things happening', 16), ('borders', 16), ('refugees globe', 16), ('watching', 16), ('migrants stranded sea', 16), ('things happening', 16), ('displaced boat', 16), ('address plight best', 16), ('messiah peace', 16), ('dignity', 16), ('journalist', 16), ('humanity silent genocide', 16), ('photographer spent years', 16), ('lama messiah', 16), ('settle', 16), ('look recruit', 16), ('diplomat', 16), ('man sought trafficking', 16), ('line', 16), ('buddhists live peacefully', 16), ('organizations rally', 16), ('organizations rally help', 16), ('crisis help', 16), ('help stranded', 16), ('solve plight', 16), ('sought trafficking south', 16), ('hot bar', 16), ('courage', 16), ('major', 16), ('look recruit fleeing', 16), ('asylum seekers', 16), ('laureate want', 16), ('shame plight', 16), ('live peacefully', 16), ('id', 16), ('tragic', 16), ('great exodus', 16), ('humanity silent', 16), ('asking', 16), ('general surrenders', 16), ('budapest', 16), ('else read', 16), ('turned', 16), ('affect human', 16), ('plight best', 16), ('help persecuted', 16), ('apartheid like', 16), ('politician', 16), ('world least wanted', 16), ('policies', 16), ('world least', 16), ('fast', 16), ('army man', 16), ('discuss response', 16), ('click', 16), ('refugee camps', 16), ('peace humanity silent', 16), ('issue nobel laureate', 16), ('justice else read', 16), ('response plight', 16), ('lama messiah peace', 16), ('bans', 16), ('hot bar fleeing', 16), ('noble prize', 16), ('displaced boat crammed', 16), ('abandoned sea', 16), ('dead man suspected', 16), ('set', 16), ('persecution buddhists live', 16), ('bans fleeing', 16), ('welcome refugees', 16), ('least wanted', 16), ('different', 16), ('goes', 16), ('covers', 16), ('philosophy', 16), ('proposal', 16), ('journeys', 16), ('support criminals', 16), ('rally help', 16), ('man sought', 16), ('affect', 16), ('army man sought', 16), ('flooded island guardian', 15), ('misery', 15), ('deadly', 15), ('hold session', 15), ('committee hold', 15), ('please retweet', 15), ('rescue protection', 15), ('upon', 15), ('intensify', 15), ('migrants used sex', 15), ('followback', 15), ('month joined', 15), ('discuss response plight', 15), ('accounts', 15), ('address root', 15), ('protests persecution intensify', 15), ('relief committee hold', 15), ('done migrants', 15), ('international conference', 15), ('slavery', 15), ('intensify across', 15), ('refugees remote island', 15), ('hitler', 15), ('raped camps', 15), ('persecution population', 15), ('violations', 15), ('thousands stranded', 15), ('turns', 15), ('please sign', 15), ('persecution intensify across', 15), ('committee hold session', 15), ('persecuted minorities', 15), ('basic', 15), ('picture', 15), ('safe adoptive', 15), ('tackle', 15), ('demand rescue protection', 15), ('hearing', 15), ('vision mission', 15), ('army training', 15), ('minority group', 15), ('immediate needs', 15), ('persecution ethnic cleansing', 15), ('order', 15), ('won affect human', 15), ('pol', 15), ('like thousands', 15), ('approach', 15), ('support criminals continue', 15), ('escaped', 15), ('actor visits', 15), ('safe adoptive parents', 15), ('mafia rule', 15), ('immediate needs refugees', 15), ('mail', 15), ('landed month joined', 15), ('move slow', 15), ('facts', 15), ('help solve root', 15), ('softly', 15), ('finds', 15), ('crisis won', 15), ('sentiment', 15), ('philosophy world', 15), ('pay', 15), ('refugees international', 15), ('buddhists pol', 15), ('persecution intensify', 15), ('persecutes buddhists pol', 15), ('blind eye', 15), ('women migrants used', 15), ('mohammed', 15), ('people cover', 15), ('human right', 15), ('prison', 15), ('mission philosophy', 15), ('crisis won affect', 15), ('parents kl', 15), ('deter', 15), ('migrants abandoned', 15), ('committee provide', 15), ('human trafficking report', 15), ('wanted people', 15), ('island guardian', 15), ('vision mission philosophy', 15), ('especially', 15), ('reject', 15), ('shed light', 15), ('save people', 15), ('news world', 15), ('least wanted people', 15), ('fighting', 15), ('adoptive parents kl', 15), ('centre', 15), ('victims found', 15), ('dark mafia rule', 15), ('global threat', 15), ('build', 15), ('forces', 15), ('adoptive parents', 15), ('mercy', 15), ('mafia rule country', 15), ('laureate want touch', 15), ('awful', 15), ('stop discrimination', 15), ('amazing', 15), ('special relief committee', 15), ('written', 15), ('education', 15), ('affect human trafficking', 15), ('hold rallies', 15), ('offers help boat', 15), ('trafficking report says', 15), ('jew budapest', 15), ('raise awareness', 15), ('allah help', 15), ('people smuggling', 15), ('food migrants explain', 15), ('adoptive', 15), ('address root causes', 15), ('won affect', 15), ('training terrorists', 15), ('migrants used', 15), ('widows', 15), ('nobel laureate want', 15), ('explains', 15), ('willing', 15), ('discrimination treat', 15), ('special relief', 15), ('seas', 15), ('committee provide relief', 15), ('fears', 15), ('seeing', 15), ('end discrimination treat', 15), ('mission philosophy world', 15), ('philosophy world powers', 15), ('trafficking victims found', 15), ('haven', 15), ('gave', 15), ('global threat alert', 14), ('man suspected involvement', 14), ('protesters', 14), ('social media', 14), ('religious persecution', 14), ('threat alert', 14), ('graves found', 14), ('mainly', 14), ('happened', 14), ('press release', 14), ('donations', 14), ('says home', 14), ('truth behind fake', 14), ('chance', 14), ('criticism treatment meetings', 14), ('imam', 14), ('camps report news', 14), ('help stop', 14), ('north', 14), ('acute', 14), ('along', 14), ('patients', 14), ('let flee', 14), ('problems', 14), ('signs genocide', 14), ('boy safe', 14), ('alive', 14), ('terrible', 14), ('ex people tells', 14), ('existence', 14), ('plight news', 14), ('time cover', 14), ('concentration camps', 14), ('policy genocide', 14), ('solve root cause', 14), ('persecuting leave', 14), ('committee discuss response', 14), ('goal immediate needs', 14), ('promote', 14), ('army training terrorists', 14), ('share link', 14), ('worthwhile cause', 14), ('hypocrisy', 14), ('need rice', 14), ('begins', 14), ('genocidal plan', 14), ('names', 14), ('migrants fleeing boat', 14), ('help please', 14), ('genocide people sign', 14), ('stop persecuting leave', 14), ('worry', 14), ('crying', 14), ('like thousands members', 14), ('call end', 14), ('retweet migrant', 14), ('demonstration', 14), ('tried', 14), ('left meet', 14), ('genocide stories', 14), ('boy safe adoptive', 14), ('take serious', 14), ('governments', 14), ('urgently need', 14), ('slow forward', 14), ('behind fake pictures', 14), ('cause nobel', 14), ('left meet goal', 14), ('beautiful', 14), ('treatment meetings', 14), ('horrific', 14), ('meet goal', 14), ('office', 14), ('sky', 14), ('covering', 14), ('humanitarian crisis', 14), ('hold session discuss', 14), ('cruel', 14), ('stability', 14), ('form', 14), ('ground', 14), ('peace stability', 14), ('won say', 14), ('session discuss', 14), ('embassy', 14), ('genocide according', 14), ('meetings', 14), ('oil', 14), ('tells stop', 14), ('retweet migrant recounts', 14), ('urge', 14), ('currently', 14), ('group condemns', 14), ('denial', 14), ('truth behind', 14), ('actions', 14), ('state policy', 14), ('behind fake', 14), ('passed', 14), ('strike', 14), ('people tells', 14), ('report news', 14), ('maybe', 14), ('condemns plight', 14), ('pass', 14), ('head', 14), ('sang silent', 14), ('sorry', 14), ('retweet refugee', 14), ('worthwhile', 14), ('prosecute', 14), ('urges end', 14), ('lost lives', 14), ('ex people', 14), ('lord', 14), ('video bengal persecution', 14), ('lawmaker', 14), ('addressing', 14), ('migrants abandoned sea', 14), ('deal', 14), ('kept', 14), ('late', 14), ('migrants refugees', 14), ('army general', 14), ('saving', 14), ('protest helping', 14), ('observe', 14), ('fleeing boat', 14), ('tells stop persecuting', 14), ('cause nobel peace', 14), ('helping refugees', 14), ('leading', 14), ('group condemns plight', 14), ('cowards', 14), ('mark', 14), ('video bengal', 14), ('people tells stop', 14), ('ambassador', 14), ('suspected involvement', 14), ('revealed', 14), ('emergency appeal', 14), ('cares', 14), ('write letter', 14), ('mean', 14), ('took', 14), ('goal immediate', 14), ('meet goal immediate', 14), ('move slow forward', 14), ('exposed', 14), ('worthwhile cause nobel', 14), ('intensify across world', 14), ('stop persecuting', 14), ('reality', 14), ('lot', 13), ('oppose', 13), ('strangled', 13), ('flee persecution', 13), ('resettling', 13), ('threat alert stop', 13), ('speaks support', 13), ('stateless people', 13), ('allowed work', 13), ('hosting', 13), ('link help people', 13), ('mastermind', 13), ('tears', 13), ('wrote', 13), ('delegation', 13), ('jailed', 13), ('host refugees globe', 13), ('refugees stunning', 13), ('alert stop', 13), ('discusses', 13), ('warning signs', 13), ('genocide stateless', 13), ('relief efforts people', 13), ('longer', 13), ('half', 13), ('danger', 13), ('influenced', 13), ('refugees persecution', 13), ('shutting', 13), ('highlights', 13), ('treat people', 13), ('became', 13), ('army general surrenders', 13), ('post news', 13), ('discrimination treat people', 13), ('held human', 13), ('shortages', 13), ('straits times', 13), ('met', 13), ('take notice', 13), ('says home minister', 13), ('qatar gives host', 13), ('alone', 13), ('suspected involvement people', 13), ('hiring', 13), ('fisherman', 13), ('honor lost', 13), ('persecuted ethnic', 13), ('criminal generals', 13), ('hub', 13), ('awareness genocide', 13), ('weakening', 13), ('large scale', 13), ('doctor', 13), ('beacon', 13), ('exposing truth behind', 13), ('genocide refugees', 13), ('pictures tragedy', 13), ('stages genocide harassment', 13), ('relocate', 13), ('coast', 13), ('main', 13), ('risking', 13), ('says deserve', 13), ('persons', 13), ('citizenship answers', 13), ('plan allow', 13), ('manus', 13), ('address roots', 13), ('went', 13), ('high seas', 13), ('alert stop nazism', 13), ('genocide silence', 13), ('driver', 13), ('exposing truth', 13), ('sun', 13), ('answers solve plight', 13), ('holocaust', 13), ('work says home', 13), ('genocide harassment', 13), ('corners', 13), ('investments', 13), ('abused', 13), ('spotlight news', 13), ('killer', 13), ('honor lost lives', 13), ('cover time', 13), ('take back', 13), ('news state', 13), ('refugees stunning photos', 13), ('process', 13), ('discussing', 13), ('qatar gives', 13), ('malay mail', 13), ('link help', 13), ('project', 13), ('food shortages', 13), ('concerned plight', 13), ('animal', 13), ('stop nazism', 13), ('annual', 13), ('demo', 13), ('blockage', 13), ('fake pictures tragedy', 13), ('peace stability citizenship', 13), ('help stop genocide', 13), ('rights activist', 13), ('hopes', 13), ('seeks', 13), ('gold', 13), ('allowed work says', 13), ('moment', 13), ('trafficked', 13), ('former camp', 13), ('donation', 13), ('crisis refugees', 13), ('comment', 13), ('saw', 13), ('fuck', 13), ('agrees', 13), ('jungle graves', 13), ('crisis humanity', 13), ('citizenship answers solve', 13), ('commemoration', 13), ('gives host', 13), ('efforts people', 13), ('gives host refugees', 13), ('involvement people', 13), ('almost', 13), ('light crisis', 13), ('total', 13), ('crisis crisis humanity', 13), ('women held human', 13), ('stability citizenship', 13), ('travel', 13), ('country easily', 13), ('stability citizenship answers', 13), ('body', 13), ('migrants found sea', 13), ('worth', 13), ('ahead', 13), ('buddhists protest helping', 13), ('share link help', 13), ('cut', 13), ('jewish', 13), ('aid refugees', 13), ('times correspondent', 13), ('found jungle', 13), ('resettle', 13), ('answers solve', 13), ('eat', 13), ('shame plight time', 13), ('anti sentiment', 13), ('female migrants', 13), ('rule country easily', 13), ('naval', 13), ('spotlight actor puts', 12), ('burnt', 12), ('survival', 12), ('first speak', 12), ('journeys hope', 12), ('author new times', 12), ('government plan', 12), ('plight time cover', 12), ('voiceless people', 12), ('option', 12), ('treating', 12), ('actor refugees', 12), ('journeys hope peaceful', 12), ('banned', 12), ('small steps', 12), ('dangerous', 12), ('idea', 12), ('persecuted voiceless', 12), ('calls citizenship senior', 12), ('tide covers', 12), ('people migrants', 12), ('island tide', 12), ('violent', 12), ('ruckus', 12), ('victims found jungle', 12), ('following ruckus', 12), ('died', 12), ('citizenship senior', 12), ('house dinner', 12), ('annual white house', 12), ('migrants rescued', 12), ('white house petition', 12), ('facing hybrid', 12), ('state genocidal plan', 12), ('doctor responsibility', 12), ('huge', 12), ('deserve noble', 12), ('rights issue', 12), ('report women', 12), ('song lyric', 12), ('breaking news state', 12), ('inside story', 12), ('warning signs genocide', 12), ('ignored tun', 12), ('started', 12), ('carpenter slain', 12), ('annual white', 12), ('sea sorrows', 12), ('house petition', 12), ('special committee provide', 12), ('century', 12), ('ii', 12), ('human rights issue', 12), ('dedicated', 12), ('responsibility save lives', 12), ('failure', 12), ('considered', 12), ('state genocidal', 12), ('gets', 12), ('senior official', 12), ('unlike', 12), ('mass genocide', 12), ('white house dinner', 12), ('enjoy', 12), ('unanimously passes resolution', 12), ('policy toward made', 12), ('confined', 12), ('sharp', 12), ('chip saudi', 12), ('rights violations', 12), ('opposite', 12), ('stop nazism genocide', 12), ('celebrity spotlight news', 12), ('reporters', 12), ('identify', 12), ('please sign petition', 12), ('genocide harassment isolation', 12), ('doctor responsibility save', 12), ('trafficking crackdown army', 12), ('unknown author new', 12), ('believe', 12), ('island tide covers', 12), ('committee formed', 12), ('plan allow migrants', 12), ('responded', 12), ('carpenter slain following', 12), ('risking lives', 12), ('migrant crisis refugees', 12), ('carpenter', 12), ('months', 12), ('ha', 12), ('powered', 12), ('considers', 12), ('genocidal plan continues', 12), ('victory', 12), ('brutally', 12), ('town', 12), ('lyric', 12), ('hi', 12), ('adrift sea sorrows', 12), ('tokyo', 12), ('calls expelled', 12), ('world refugee', 12), ('highlight plight', 12), ('toward made', 12), ('saudi gazette', 12), ('humanity shame', 12), ('businesses', 12), ('lends', 12), ('immigrants', 12), ('fate boat', 12), ('slain following', 12), ('news state genocidal', 12), ('despite', 12), ('life worse', 12), ('harrowing journeys', 12), ('faced', 12), ('indonesians', 12), ('man shocked', 12), ('rare star powered', 12), ('deserve noble prize', 12), ('camp temporary', 12), ('regret', 12), ('gazette', 12), ('raise awareness genocide', 12), ('migrants country', 12), ('author new', 12), ('session discuss plight', 12), ('attack', 12), ('crackdown army general', 12), ('crackdown army', 12), ('shutting eyes fate', 12), ('close', 12), ('inaction', 12), ('sleeping', 12), ('deep', 12), ('suspects', 12), ('responsibility save', 12), ('plan continues', 12), ('depth', 12), ('regret shutting', 12), ('fears rise', 12), ('elections', 12), ('regret shutting eyes', 12), ('entire', 12), ('help news', 12), ('channel news', 12), ('harrowing journeys hope', 12), ('br', 12), ('star powered', 12), ('eyes fate boat', 12), ('book', 12), ('shutting eyes', 12), ('lead', 12), ('spotlight persecution', 12), ('hybrid', 12), ('none', 12), ('genocidal blockage', 12), ('growing', 12), ('resolution favour', 12), ('slain following ruckus', 12), ('lends voice', 12), ('takes', 12), ('song', 12), ('ships help', 12), ('trafficking crackdown', 12), ('list', 12), ('slain', 12), ('control', 12), ('former camp temporary', 12), ('headlines', 12), ('persecution population cause', 12), ('part migrants', 12), ('people suffer', 12), ('part migrants country', 12), ('area', 12), ('driven', 12), ('population cause', 12), ('eyes fate', 12), ('urgently need rice', 12), ('dogs', 12), ('investigation', 12), ('multinational', 12), ('light crisis help', 12), ('early warning', 12), ('unanimously passes', 12), ('watch song lyric', 12), ('watch song', 12), ('found jungle graves', 12), ('voice persecuted voiceless', 12), ('proof', 12), ('sorrows', 12), ('food aid', 12), ('engagement pressure', 12), ('yr', 12), ('crisis help refugees', 12), ('silence face', 12), ('posting', 12), ('silence face genocide', 12), ('remote island tide', 11), ('remove', 11), ('people cover time', 11), ('focused', 11), ('action persecution', 11), ('distressing', 11), ('arabia responded', 11), ('untreated beriberi', 11), ('deeply concerned', 11), ('ignore trafficking', 11), ('added video', 11), ('arabia responded positively', 11), ('leadership', 11), ('beriberi acute', 11), ('burmese army mainly', 11), ('sentiment deter foreign', 11), ('grateful', 11), ('camp high', 11), ('paradigms violence facing', 11), ('non interference policy', 11), ('appreciate', 11), ('untreated beriberi acute', 11), ('internal', 11), ('fuller new times', 11), ('shocking', 11), ('cops ignore', 11), ('prospects new times', 11), ('lady', 11), ('engage', 11), ('saudi arabia responded', 11), ('army mainly responsible', 11), ('seconds', 11), ('richard', 11), ('address roots boat', 11), ('intervene', 11), ('camp temporary shelter', 11), ('protest opposite', 11), ('moral', 11), ('woman remembers', 11), ('inhuman', 11), ('news official', 11), ('lack', 11), ('directly', 11), ('persecution minority', 11), ('fundraising', 11), ('world ignoring', 11), ('exploit', 11), ('driving sea tony', 11), ('hybrid genocide', 11), ('facing hybrid genocide', 11), ('remain stateless vulnerable', 11), ('probably', 11), ('orders naval', 11), ('shelter says lawmaker', 11), ('adopts proposals persecution', 11), ('remembers fisherman', 11), ('simply', 11), ('help agency', 11), ('stateless vulnerable', 11), ('fisherman saved', 11), ('behind crisis', 11), ('people trafficking', 11), ('massacred', 11), ('rise anti discrimination', 11), ('people suffer untreated', 11), ('temporary shelter says', 11), ('world attention', 11), ('sharing', 11), ('profit', 11), ('assembly condemns genocide', 11), ('persecuted remain', 11), ('proposals persecution', 11), ('loads', 11), ('fuller new', 11), ('trafficking camps', 11), ('accepting', 11), ('slaughtered', 11), ('person', 11), ('slow burning genocide', 11), ('number', 11), ('shelter says', 11), ('warned', 11), ('anti sentiment deter', 11), ('influenced members', 11), ('pressurize', 11), ('added', 11), ('news agency', 11), ('move voice', 11), ('army mainly', 11), ('staying', 11), ('news anyone', 11), ('laureates appeal end', 11), ('pledges hosting', 11), ('untreated', 11), ('thomas fuller new', 11), ('persecuted remain stateless', 11), ('survive', 11), ('involvement people trafficking', 11), ('news anyone help', 11), ('mainly responsible', 11), ('ships help suffering', 11), ('essay', 11), ('genocide according rights', 11), ('rally help agency', 11), ('powerful', 11), ('pressurize solve crisis', 11), ('mainly responsible plight', 11), ('save nobel', 11), ('census', 11), ('cries', 11), ('hunger', 11), ('anti discrimination', 11), ('small steps forward', 11), ('monsoon', 11), ('worse death', 11), ('save nobel peace', 11), ('site', 11), ('witness', 11), ('inhumane', 11), ('guy', 11), ('humanitarian assistance', 11), ('marrying', 11), ('service', 11), ('video playlist', 11), ('rights issue nobel', 11), ('citizenship senior official', 11), ('sharp rise anti', 11), ('dollars', 11), ('democratic', 11), ('remembers', 11), ('beriberi', 11), ('slow burning', 11), ('leaders save nobel', 11), ('deter foreign investments', 11), ('president orders naval', 11), ('suffer untreated', 11), ('resolution condemns genocide', 11), ('help help', 11), ('assembly condemns', 11), ('supported', 11), ('president orders', 11), ('guys', 11), ('naval ships', 11), ('prospects new', 11), ('backed', 11), ('new paradigms violence', 11), ('refugee state', 11), ('mass graves side', 11), ('government plan allow', 11), ('alleged', 11), ('returns', 11), ('graves near', 11), ('ana', 11), ('roots boat', 11), ('go home', 11), ('brutalities', 11), ('non minorities homeland', 11), ('win', 11), ('cops ignore trafficking', 11), ('victim', 11), ('please read', 11), ('mass graves near', 11), ('calls address roots', 11), ('learn', 11), ('opposite stop', 11), ('persecuted voiceless people', 11), ('members help', 11), ('says deserve citizenship', 11), ('responsible plight', 11), ('protest persecution', 11), ('truly', 11), ('face genocide according', 11), ('laureates appeal', 11), ('mother', 11), ('appeal end persecution', 11), ('shocked mass', 11), ('slapped', 11), ('passes resolution favour', 11), ('violence facing hybrid', 11), ('filled', 11), ('nato', 11), ('fate boat people', 11), ('foreign investments', 11), ('new paradigms', 11), ('video refugees', 11), ('sea tony', 11), ('remembers fisherman saved', 11), ('recognized', 11), ('calling world', 11), ('sharp rise', 11), ('graves side', 11), ('recognise', 11), ('chip saudi arabia', 11), ('rights group', 11), ('world watch', 11), ('page', 11), ('non minorities', 11), ('minorities homeland', 11), ('example', 11), ('rise anti', 11), ('says lawmaker', 11), ('positively', 11), ('southeast migrant', 11), ('shocked mass graves', 11), ('calls address', 11), ('happening protest opposite', 11), ('dilemma', 11), ('paradigms violence', 11), ('thy', 11), ('help suffering', 11), ('added video playlist', 11), ('wa', 11), ('steps forward', 11), ('lets', 11), ('early warning signs', 11), ('paradigms', 11), ('happening protest', 11), ('ignores', 11), ('conference genocide', 11), ('suffer untreated beriberi', 11), ('spot', 11), ('focus persecution ethnic', 11), ('bleak prospects new', 11), ('focus persecution', 11), ('bin', 11), ('migrant boat', 11), ('relations', 11), ('morality', 11), ('life worse death', 11), ('plan move voice', 11), ('gives chief', 11), ('sold', 11), ('according rights', 11), ('genocidal persecution', 11), ('steps forward crisis', 11), ('downing street', 11), ('slow genocide people', 11), ('influenced members help', 11), ('forward crisis', 11), ('man shocked mass', 11), ('former president', 11), ('pressurize solve', 11), ('accommodate', 11), ('qatar pledges hosting', 11), ('remain silent', 11), ('give aid', 11), ('constituted', 11), ('responded positively', 11), ('time plight', 11), ('wise', 11), ('civil society', 11), ('life migrant', 11), ('crime genocide', 11), ('shores', 11), ('resolution condemns', 11), ('migrants fled', 11), ('people suffering', 11), ('crisis sharp rise', 11), ('orders naval ships', 11), ('cover time plight', 11), ('partner', 11), ('exist', 11), ('human rights violations', 11), ('playlist', 11), ('protest opposite stop', 11), ('calls govt', 11), ('burning genocide', 11), ('park', 11), ('deaths', 11), ('medical', 11), ('downing', 11), ('deter foreign', 11), ('crisis sharp', 11), ('trip', 11), ('according rights group', 11), ('woman remembers fisherman', 11), ('visited camp high', 11), ('recognize citizens', 11), ('break', 11), ('naval ships help', 11), ('longtime', 11), ('fail', 11), ('salute', 11), ('violence facing', 11), ('boat people suffer', 11), ('strangled slowly', 11), ('either', 11), ('behind crisis sharp', 11), ('live like', 11), ('interference policy', 11), ('anybody', 11), ('remain stateless', 11), ('petition help', 11), ('yrs', 11), ('security council', 11), ('sentiment deter', 11), ('target', 11), ('nowhere people cover', 11), ('marry', 11), ('refugee moving', 10), ('attacking good', 10), ('answer', 10), ('finds complex', 10), ('invisible', 10), ('outside downing', 10), ('letter help puppets', 10), ('several', 10), ('thinking', 10), ('plight people', 10), ('oppose gov', 10), ('hosts', 10), ('suffering refugees high', 10), ('gov extremist persecution', 10), ('documenting', 10), ('stopped', 10), ('state policy genocide', 10), ('good politics', 10), ('courage write', 10), ('worse death silent', 10), ('camp highlight', 10), ('awaits make beacon', 10), ('prepares refugees', 10), ('national assembly condemns', 10), ('roots boat people', 10), ('cause global crises', 10), ('international president', 10), ('lends voice refugees', 10), ('sea photo', 10), ('abc news', 10), ('assistance refugees', 10), ('moving account', 10), ('deeply concerned plight', 10), ('ethnic groups', 10), ('laureates call end', 10), ('recognize citizens won', 10), ('black genocide', 10), ('refugees international president', 10), ('save invest', 10), ('shame save invest', 10), ('cause global', 10), ('meets', 10), ('account life', 10), ('imam slapped arrested', 10), ('call end persecution', 10), ('laden', 10), ('arrested shed light', 10), ('finds complex oppose', 10), ('acts', 10), ('regards', 10), ('calls end persecution', 10), ('video daily news', 10), ('please send', 10), ('let flee persecution', 10), ('extremist persecution', 10), ('buddhists want', 10), ('govt prepares refugees', 10), ('language', 10), ('ugly', 10), ('buy', 10), ('retweet buddhists want', 10), ('express tribune', 10), ('largest', 10), ('genocide non minorities', 10), ('boat people migrants', 10), ('help puppets', 10), ('led', 10), ('citizens won let', 10), ('refusing', 10), ('lawyers observe strike', 10), ('sign petition raise', 10), ('petition raise voice', 10), ('refugee day', 10), ('revealed longtime hub', 10), ('researchers', 10), ('make beacon', 10), ('prepares', 10), ('coverage genocide', 10), ('mass grave', 10), ('actor lends', 10), ('bin laden', 10), ('oppose gov extremist', 10), ('prosecution', 10), ('shame save', 10), ('educational', 10), ('voice refugees', 10), ('prone island mohammed', 10), ('religions', 10), ('prize laureates', 10), ('won recognize citizens', 10), ('native', 10), ('easy', 10), ('decently', 10), ('air', 10), ('vigil', 10), ('video daily', 10), ('deadly choice', 10), ('massacres', 10), ('foundation', 10), ('proposals spotlight', 10), ('eastern', 10), ('save genocide', 10), ('longtime hub', 10), ('group calls govt', 10), ('shared', 10), ('persecution genocide non', 10), ('second', 10), ('anti group', 10), ('opening', 10), ('netherlands', 10), ('petition change', 10), ('monk ethnic', 10), ('sketches exodus', 10), ('citizens won', 10), ('helpless', 10), ('stands', 10), ('wife', 10), ('help give', 10), ('showed', 10), ('women gang', 10), ('imam slapped', 10), ('easier', 10), ('warrant', 10), ('sponsored cause global', 10), ('outside downing street', 10), ('crisis refugees buried', 10), ('write letter help', 10), ('govt prepares', 10), ('light mass graves', 10), ('raising voice', 10), ('difficult', 10), ('account life migrant', 10), ('legal', 10), ('awful deadly choice', 10), ('positively towards', 10), ('sign petition change', 10), ('govt help stranded', 10), ('lost sea', 10), ('migration crisis', 10), ('drop', 10), ('genocide community', 10), ('call crisis', 10), ('said persecution', 10), ('gold official calls', 10), ('humanity shame save', 10), ('southern', 10), ('challenge', 10), ('thousands refugees', 10), ('move refugees', 10), ('gov extremist', 10), ('racist monk', 10), ('world refugee day', 10), ('refugees high seas', 10), ('adopts proposals spotlight', 10), ('serious steps', 10), ('group calls', 10), ('religious persecution genocide', 10), ('rescue end', 10), ('slapped arrested', 10), ('citizens news', 10), ('cruelty', 10), ('migrants adrift', 10), ('human trafficking camps', 10), ('totally', 10), ('effort', 10), ('radical', 10), ('persecuted ethnic group', 10), ('myth', 10), ('liked video daily', 10), ('letter calling', 10), ('women gang raped', 10), ('govt help', 10), ('legislation', 10), ('crime humanity', 10), ('communities', 10), ('persecute', 10), ('fucking', 10), ('provided', 10), ('light mass', 10), ('refugee moving account', 10), ('find refugee', 10), ('help suffering refugees', 10), ('won let flee', 10), ('playing', 10), ('death silent', 10), ('whatsoever', 10), ('monks protest', 10), ('severe', 10), ('nice', 10), ('people genocide', 10), ('tortures', 10), ('invest', 10), ('arrested shed', 10), ('island mohammed', 10), ('house petition give', 10), ('global crises', 10), ('plight part', 10), ('responded positively towards', 10), ('recaptured', 10), ('call action persecution', 10), ('green card', 10), ('clearly', 10), ('rescues', 10), ('panel', 10), ('actor lends voice', 10), ('causing', 10), ('plight fleeing', 10), ('people news', 10), ('please something', 10), ('battalion', 10), ('puppets', 10), ('action help', 10), ('peace prize laureates', 10), ('islamic extremism', 10), ('refugees high', 10), ('room', 10), ('indeed', 10), ('cure', 10), ('awful deadly', 10), ('divided', 10), ('racist monk ethnic', 10), ('terrorists borders', 10), ('returns rescued', 10), ('evidence', 10), ('gold official', 10), ('won let', 10), ('becoming', 10), ('take serious steps', 10), ('traffickers sea', 10), ('training terrorists borders', 10), ('genocide non', 10), ('citizenship rights', 10), ('hope like', 10), ('retweet buddhists', 10), ('manas', 10), ('petition raise', 10), ('golden', 10), ('global center', 10), ('moving account life', 10), ('state sponsored cause', 10), ('probe', 10), ('flatly denies', 10), ('worker', 10), ('complex oppose', 10), ('suffering refugees', 10), ('letter help', 10), ('anti group calls', 10), ('highlights plight', 10), ('sponsored cause', 10), ('revealed longtime', 10), ('attacking good politics', 10), ('alarm', 10), ('courage write letter', 10), ('lawyers observe', 10), ('flatly', 10), ('people persecuted', 10), ('sec', 10), ('crisis migrants', 10), ('actor refugees international', 10), ('international pressure', 10), ('observe strike', 10), ('complex oppose gov', 10), ('sketches', 10), ('course', 10), ('inexcusable', 10), ('stripped', 10), ('plight genocide', 10), ('convenient', 10), ('won recognize', 10), ('shed light mass', 10), ('calls govt help', 10), ('show plight', 9), ('president visits parliament', 9), ('act helping', 9), ('eye opener engage', 9), ('celebrity says crisis', 9), ('suggests refugees fill', 9), ('lee', 9), ('plaza', 9), ('choice risk traffickers', 9), ('email', 9), ('protest migrant rescues', 9), ('please donate', 9), ('immigration limbo', 9), ('risk traffickers sea', 9), ('vision tv', 9), ('held human trafficking', 9), ('ignore islamic', 9), ('boat crisis', 9), ('sea violence', 9), ('islamic state', 9), ('whats', 9), ('violation', 9), ('mind', 9), ('says crisis', 9), ('filipino', 9), ('anybody save plight', 9), ('fled boat', 9), ('condition', 9), ('seas govt', 9), ('migrant crisis due', 9), ('intl', 9), ('alarming', 9), ('photos claim', 9), ('worldwide', 9), ('deaf', 9), ('fishing', 9), ('migrant worker', 9), ('published', 9), ('opener engage', 9), ('identified', 9), ('art', 9), ('gang raped camps', 9), ('christian', 9), ('president deeply concerned', 9), ('arab news', 9), ('davis', 9), ('rickshaw', 9), ('expelled genocide', 9), ('lives process', 9), ('afghans', 9), ('solvable', 9), ('please help please', 9), ('unlike government indonesians', 9), ('opportunities', 9), ('plight persecuted', 9), ('refugees migrants', 9), ('protest lawyers rally', 9), ('aid boat people', 9), ('staying quiet', 9), ('cure point cont', 9), ('migrants new bible', 9), ('providing', 9), ('prayer', 9), ('news huddled camps', 9), ('constituted special', 9), ('pac black', 9), ('visits parliament house', 9), ('union', 9), ('aids', 9), ('network', 9), ('genocide became', 9), ('give keynote', 9), ('indonesians welcome', 9), ('convention', 9), ('interviews', 9), ('seek refuge', 9), ('park crisis', 9), ('end persecution unbalanced', 9), ('problem religions', 9), ('riot', 9), ('act helping refugees', 9), ('star highlights', 9), ('reporter', 9), ('distressing plight refugees', 9), ('traffickers sea violence', 9), ('fled persecution', 9), ('ambition', 9), ('migrants done', 9), ('steps emergency notice', 9), ('well done', 9), ('official says', 9), ('offers aid boat', 9), ('fill migrant worker', 9), ('persecution unbalanced', 9), ('narrative', 9), ('people migrants fled', 9), ('agrees address', 9), ('net', 9), ('announces aid rupees', 9), ('sitting', 9), ('crisis solvable', 9), ('photography', 9), ('ignore islamic force', 9), ('king', 9), ('cant', 9), ('scores', 9), ('fund humanity shame', 9), ('flack staying', 9), ('end crisis', 9), ('birth', 9), ('kuwait', 9), ('standard people sign', 9), ('positive', 9), ('migrants left stranded', 9), ('southeast migrant crisis', 9), ('pac', 9), ('notice save people', 9), ('associated', 9), ('places', 9), ('problem religions cure', 9), ('trend', 9), ('reconsiders non interference', 9), ('keynote', 9), ('coverage genocide disgusting', 9), ('harassment isolation weakening', 9), ('president visits', 9), ('interested', 9), ('poster', 9), ('fleeing amid', 9), ('silence war', 9), ('race', 9), ('recycled photos claim', 9), ('bible', 9), ('suggests refugees', 9), ('infiltrates ignore', 9), ('unlike government', 9), ('prize laureates appeal', 9), ('deserve treated', 9), ('government indonesians', 9), ('writing', 9), ('persecution comparable genocide', 9), ('research', 9), ('emergency notice save', 9), ('flatly denies persecution', 9), ('budget', 9), ('causes migrant crisis', 9), ('respond', 9), ('acknowledge', 9), ('please share link', 9), ('fleeing reconsiders non', 9), ('lawyers rally', 9), ('repression sends', 9), ('distressing plight', 9), ('elderly', 9), ('proposals spotlight persecution', 9), ('recycled photos', 9), ('pictures crisis recycled', 9), ('interest', 9), ('whatsoever done', 9), ('geopolitics', 9), ('focused traffickers', 9), ('root causes migrant', 9), ('mohammed islam', 9), ('nameless dead authorities', 9), ('disgusting focused traffickers', 9), ('center president', 9), ('associated press', 9), ('risk traffickers', 9), ('whatsoever done migrants', 9), ('longtime hub trafficking', 9), ('road', 9), ('read story act', 9), ('magazine', 9), ('waters', 9), ('end persecution comparable', 9), ('houses', 9), ('permanently', 9), ('voting', 9), ('plight says', 9), ('worker needs', 9), ('missing persecuted', 9), ('star highlights plight', 9), ('new bible', 9), ('open letter calling', 9), ('repression sends fleeing', 9), ('female migrants immigration', 9), ('make beacon ethnic', 9), ('aid boat', 9), ('silence war crime', 9), ('due won', 9), ('letter calling world', 9), ('global action', 9), ('fishermen', 9), ('mum', 9), ('fleeing amid southeast', 9), ('tortured burmese', 9), ('lawmaker former', 9), ('flack', 9), ('battalion tortures', 9), ('floating', 9), ('home fight', 9), ('potential', 9), ('refuse', 9), ('retweet refugee moving', 9), ('migrants new', 9), ('protest lawyers', 9), ('point cont', 9), ('flack staying quiet', 9), ('add', 9), ('reconsiders non', 9), ('kindness', 9), ('sends fleeing', 9), ('briefing', 9), ('type', 9), ('photos claim show', 9), ('crisis recycled', 9), ('religions cure', 9), ('migrants immigration limbo', 9), ('expression', 9), ('missing persecuted ethnic', 9), ('persecution comparable', 9), ('trade', 9), ('fleeing reconsiders', 9), ('make eye opener', 9), ('stranded sea photo', 9), ('reading', 9), ('hub trafficking', 9), ('monks protest migrant', 9), ('boat migrants', 9), ('infiltration', 9), ('amid southeast migrant', 9), ('fill migrant', 9), ('isolation weakening', 9), ('live appeal', 9), ('reconsiders', 9), ('pledges hosting refugees', 9), ('really seems nobody', 9), ('news huddled', 9), ('whether', 9), ('part ii', 9), ('asap', 9), ('persecution causing', 9), ('defend', 9), ('calling world watch', 9), ('responds', 9), ('rupees', 9), ('programme', 9), ('refugees fill migrant', 9), ('rescued sea', 9), ('like people', 9), ('celebrity says', 9), ('calls nobel', 9), ('government indonesians welcome', 9), ('fill', 9), ('eyes morality nations', 9), ('religions cure point', 9), ('agrees address root', 9), ('silent protest', 9), ('genocide report', 9), ('recipe', 9), ('bans fleeing amid', 9), ('cc', 9), ('notice save', 9), ('fair', 9), ('seems nobody wants', 9), ('boat fled', 9), ('announces food', 9), ('mark davis', 9), ('disgusting focused', 9), ('protest migrant', 9), ('amid southeast', 9), ('visits parliament', 9), ('diplomacy', 9), ('absolutely', 9), ('migrants immigration', 9), ('result', 9), ('multinational businesses plight', 9), ('migrant worker needs', 9), ('lauds', 9), ('wise words', 9), ('world silence world', 9), ('due won say', 9), ('exploit tragedy', 9), ('complete', 9), ('cure point', 9), ('islamic force', 9), ('save plight', 9), ('biggest', 9), ('donated', 9), ('show support', 9), ('genocide news', 9), ('punished', 9), ('center president visits', 9), ('make eye', 9), ('seems nobody', 9), ('crisis migrants left', 9), ('chief call', 9), ('genocide disgusting focused', 9), ('needs global', 9), ('slapped arrested term', 9), ('silence makes', 9), ('multinational businesses', 9), ('deadly choice risk', 9), ('practically', 9), ('recycled', 9), ('ana daily news', 9), ('read story', 9), ('fund humanity', 9), ('calls nobel peace', 9), ('crisis says', 9), ('eyes morality', 9), ('dead authorities', 9), ('highest', 9), ('president deeply', 9), ('official partner', 9), ('anybody save', 9), ('denied citizenship', 9), ('plans allow', 9), ('completely', 9), ('sends fleeing reconsiders', 9), ('resettled', 9), ('comparable genocide', 9), ('general government', 9), ('general government plan', 9), ('demanding', 9), ('advocacy', 9), ('jordan', 9), ('left stranded sea', 9), ('bay', 9), ('genocide disgusting', 9), ('charity event', 9), ('migrant rescues', 9), ('aid rupees', 9), ('infiltrates ignore islamic', 9), ('pac black genocide', 9), ('arrested term', 9), ('says lawmaker former', 9), ('needs global action', 9), ('treat people decently', 9), ('crisis due', 9), ('claim show', 9), ('invest slow', 9), ('island mohammed islam', 9), ('spreading', 9), ('morality nations', 9), ('poetic', 9), ('parliament house', 9), ('double', 9), ('gives chief call', 9), ('burmese genocide', 9), ('salaam', 9), ('flooding', 9), ('choice risk', 9), ('urges end discrimination', 9), ('really seems', 9), ('visited camp highlight', 9), ('among fled', 9), ('indonesians welcome refugees', 9), ('silence world news', 9), ('giants', 9), ('trafficking victims authorities', 9), ('analysis', 9), ('business standard', 9), ('left stranded', 9), ('infiltrates', 9), ('path', 9), ('need support', 9), ('high seas govt', 9), ('retweet calls end', 9), ('former president deeply', 9), ('serious steps emergency', 9), ('crisis due won', 9), ('people decently', 9), ('world service', 9), ('causes migrant', 9), ('emergency notice', 9), ('refugees fill', 9), ('migrants left', 9), ('says crisis solvable', 9), ('disturbing', 9), ('story act helping', 9), ('claim show plight', 9), ('blessed', 9), ('migrant camp', 9), ('comparable', 9), ('people refuses', 9), ('chief call crisis', 9), ('convenient myth', 9), ('story act', 9), ('steps emergency', 9), ('done migrants done', 9), ('help need', 9), ('businesses plight', 9), ('challenging', 9), ('beacon ethnic', 9), ('ana daily', 9), ('plans allow migrants', 9), ('recommendations', 9), ('hosting refugees', 9), ('however', 9), ('war crime', 9), ('crisis recycled photos', 9), ('victims authorities', 9), ('retweet calls', 9), ('save invest slow', 9), ('taking place', 9), ('global center president', 9), ('angry', 9), ('enter', 9), ('lost lives process', 9), ('helping stranded', 8), ('tokyo offered', 8), ('campaign share', 8), ('paralyze', 8), ('world persecuted minorities', 8), ('home visit', 8), ('spotlight time', 8), ('related', 8), ('applauds assistance', 8), ('interesting', 8), ('int regional', 8), ('crisis find', 8), ('disappointed', 8), ('violence repression', 8), ('rather prosecute', 8), ('bay bengal', 8), ('ut', 8), ('camps report women', 8), ('carefully', 8), ('pas delegate tells', 8), ('lauds handling', 8), ('reasons', 8), ('symptoms', 8), ('things happening harassment', 8), ('subject', 8), ('prime minister constituted', 8), ('take issue', 8), ('repression missing', 8), ('strongly condemns', 8), ('migrants displaced', 8), ('refugee aid', 8), ('board', 8), ('ongoing needs refugees', 8), ('claim fled boats', 8), ('believes protect', 8), ('thousand', 8), ('migrants refugees genocide', 8), ('held sombre', 8), ('poetic expression', 8), ('gift', 8), ('video refugees actor', 8), ('growing realisation', 8), ('reconciliation', 8), ('inside story world', 8), ('dance around', 8), ('selling', 8), ('anti discrimination legislation', 8), ('believes protect rights', 8), ('grassroots', 8), ('inexplicably silent', 8), ('loads flack staying', 8), ('netherlands applauds', 8), ('delegate tells', 8), ('country persecuted', 8), ('journalists exposed plight', 8), ('champions', 8), ('behind trafficking', 8), ('requested', 8), ('group says', 8), ('drop charges', 8), ('realisation park crisis', 8), ('dance', 8), ('latest job', 8), ('prefer', 8), ('persecuted inside calling', 8), ('sign white house', 8), ('paralyze issue pray', 8), ('accounts boat people', 8), ('genocide genocide', 8), ('stranded news', 8), ('senior army', 8), ('unless', 8), ('mere pipsqueaks', 8), ('residents', 8), ('tens thousands', 8), ('government filled indigenous', 8), ('happening harassment', 8), ('much needed', 8), ('protect rights', 8), ('people refuses name', 8), ('rights int', 8), ('international pressure continues', 8), ('read campaign', 8), ('tortured burmese army', 8), ('watch live', 8), ('representatives', 8), ('await', 8), ('tolerance', 8), ('commits', 8), ('extremists attacking jails', 8), ('seeing genocide', 8), ('duty', 8), ('plight silence', 8), ('mass graves found', 8), ('agency plan help', 8), ('plans move', 8), ('poetic expression conditions', 8), ('nations going', 8), ('like prostitute support', 8), ('charges journalists', 8), ('around home', 8), ('graves nation', 8), ('extremists exploit', 8), ('face medicines', 8), ('truck', 8), ('website', 8), ('conference plight', 8), ('sake', 8), ('morality nations going', 8), ('ventilator', 8), ('traffickers prosecuted', 8), ('survivor says', 8), ('nothing less', 8), ('partner ongoing', 8), ('joins calls', 8), ('fled repression', 8), ('rejected', 8), ('says persecution population', 8), ('read campaign share', 8), ('discovery', 8), ('around home visit', 8), ('realisation park', 8), ('give aid raise', 8), ('butchered', 8), ('address international', 8), ('authority', 8), ('parallels', 8), ('days waiting thomas', 8), ('tune', 8), ('spent years documenting', 8), ('getting loads', 8), ('time stand', 8), ('terrorism brutalities', 8), ('accounts boat', 8), ('human rights int', 8), ('sea violence repression', 8), ('shore advocacy', 8), ('terrorist group', 8), ('help puppets busy', 8), ('kept silent', 8), ('influx', 8), ('aid raise funds', 8), ('collecting', 8), ('persecution bad', 8), ('powered spot', 8), ('people persecuted inside', 8), ('keynote address', 8), ('filled indigenous', 8), ('plight decades', 8), ('pipsqueaks', 8), ('signs symptoms', 8), ('spotlight shines', 8), ('aid raise', 8), ('plight silence makes', 8), ('need help need', 8), ('genocide taking place', 8), ('drop charges journalists', 8), ('attacking jails', 8), ('conflict government filled', 8), ('links', 8), ('nearly', 8), ('extremists attacking', 8), ('go home fight', 8), ('dollars food', 8), ('cowards go', 8), ('destruction', 8), ('news guardian', 8), ('dance around home', 8), ('delegate tells cowards', 8), ('fled boat fled', 8), ('efforts reach', 8), ('commit', 8), ('refugees actor', 8), ('sick', 8), ('trying push', 8), ('human traffickers prosecuted', 8), ('possible', 8), ('persecuted spectacularly', 8), ('among fled repression', 8), ('back trying', 8), ('issued', 8), ('growing realisation park', 8), ('netherlands applauds assistance', 8), ('crisis find refugee', 8), ('refuses name', 8), ('char', 8), ('photo essay', 8), ('communal', 8), ('aid migrants announced', 8), ('natives', 8), ('exposed plight', 8), ('story world ignoring', 8), ('tries', 8), ('shines spotlight shines', 8), ('capital', 8), ('explain drives take', 8), ('nu', 8), ('evacuate', 8), ('guard', 8), ('explained', 8), ('norway lauds', 8), ('celebrity spotlight time', 8), ('planned', 8), ('abandoned people', 8), ('waiting thomas', 8), ('winner educational', 8), ('ventilator seriously paralyze', 8), ('seas govt inexplicably', 8), ('stays silent', 8), ('student', 8), ('medicines', 8), ('refugee agency plan', 8), ('issue pray', 8), ('protest struggle', 8), ('ventilator seriously', 8), ('int regional ventilator', 8), ('seriously paralyze', 8), ('helping divided', 8), ('reward', 8), ('prize winner educational', 8), ('interviews refugees', 8), ('talked', 8), ('evacuate village', 8), ('unwelcome', 8), ('struggle continues', 8), ('sheltered', 8), ('hope read', 8), ('bit', 8), ('help give aid', 8), ('dead authorities held', 8), ('minister says', 8), ('agency plan', 8), ('graves near authorities', 8), ('orphans', 8), ('hero', 8), ('near authorities survivor', 8), ('citizens united states', 8), ('general ban', 8), ('wash shore advocacy', 8), ('constituted special committee', 8), ('statelessness', 8), ('save stop', 8), ('paralyze issue', 8), ('giants mere', 8), ('orders evacuate', 8), ('solve plight says', 8), ('forgotten genocide', 8), ('help persecuted spectacularly', 8), ('authorities survivor', 8), ('turning', 8), ('plan help persecuted', 8), ('appeared', 8), ('citizens united', 8), ('general ban moon', 8), ('brave', 8), ('thousands migrants stranded', 8), ('extremists exploit tragedy', 8), ('forward help', 8), ('government filled', 8), ('monk ethnic cleansing', 8), ('want migrant recounts', 8), ('desperately', 8), ('cheap', 8), ('anti protests', 8), ('want migrant', 8), ('believes', 8), ('conditions news', 8), ('updates', 8), ('thousands stranded news', 8), ('less genocide', 8), ('migrants announced', 8), ('protests remarks terrorism', 8), ('blue', 8), ('decades time', 8), ('medicines food', 8), ('die sea', 8), ('areas', 8), ('scores migrants displaced', 8), ('world watch trial', 8), ('spotlight shines spotlight', 8), ('mere pipsqueaks protesting', 8), ('pressure continues refugees', 8), ('prostitute support', 8), ('applauds assistance refugees', 8), ('feeling', 8), ('regional solution', 8), ('starting', 8), ('caught', 8), ('authorities survivor says', 8), ('tragedy spread', 8), ('crammed scores', 8), ('crammed scores migrants', 8), ('star powered spot', 8), ('silent crisis', 8), ('regional ventilator', 8), ('genocide day', 8), ('rights int regional', 8), ('plight refugees persecution', 8), ('hope like prostitute', 8), ('world news guardian', 8), ('shore advocacy group', 8), ('genocide going', 8), ('carrying migrants', 8), ('highlighted', 8), ('govt inexplicably silent', 8), ('forcing', 8), ('take back trying', 8), ('give keynote address', 8), ('military orders evacuate', 8), ('held sombre mass', 8), ('sombre mass', 8), ('peoples', 8), ('remarks terrorism', 8), ('protest struggle continues', 8), ('story world', 8), ('stays', 8), ('stance', 8), ('view', 8), ('seriously paralyze issue', 8), ('cowards go home', 8), ('labor', 8), ('find refugee aid', 8), ('latest news', 8), ('hello', 8), ('roots crisis find', 8), ('symptoms genocide', 8), ('near authorities', 8), ('please save humanity', 8), ('vietnam', 8), ('intended', 8), ('hidden', 8), ('spectacularly', 8), ('rare comments', 8), ('nothing less genocide', 8), ('answers dance', 8), ('dawn', 8), ('food shortages camps', 8), ('buddhists want migrant', 8), ('horrible', 8), ('conflict government', 8), ('armed', 8), ('compare', 8), ('protest detention', 8), ('mass graves nation', 8), ('discrimination legislation', 8), ('ideas', 8), ('leaves', 8), ('exploit tragedy spread', 8), ('telling', 8), ('spread hatred', 8), ('nationwide', 8), ('official partner ongoing', 8), ('prostitute support criminals', 8), ('norway lauds handling', 8), ('calls expelled genocide', 8), ('ignorant', 8), ('disappointing', 8), ('advocacy group says', 8), ('please something humanity', 8), ('religion geopolitics', 8), ('fled repression missing', 8), ('loads flack', 8), ('news update', 8), ('earlier', 8), ('applauds', 8), ('world act', 8), ('inexplicably', 8), ('scores migrants', 8), ('united helping divided', 8), ('genocide taking', 8), ('boat carrying', 8), ('fled fear', 8), ('fake photos', 8), ('says envoy', 8), ('watch trial', 8), ('back trying push', 8), ('plight migrants', 8), ('sign white', 8), ('calls save', 8), ('govt inexplicably', 8), ('pipsqueaks protesting repression', 8), ('nations secretary', 8), ('military orders', 8), ('persecuted inside', 8), ('scenes', 8), ('jails', 8), ('survivors', 8), ('keynote address international', 8), ('prosecute extremists', 8), ('desert', 8), ('proposes', 8), ('brings ashore', 8), ('advocacy group', 8), ('face medicines food', 8), ('tide boat', 8), ('death camp', 8), ('blogs', 8), ('slaughter', 8), ('herald', 8), ('hope read campaign', 8), ('refugees actor refugees', 8), ('pressure continues', 8), ('demonstrate', 8), ('ethnicity', 8), ('end week', 8), ('appeals', 8), ('boat crammed scores', 8), ('claim fled', 8), ('medicines food shortages', 8), ('orders evacuate village', 8), ('hide', 8), ('announces food aid', 8), ('tens', 8), ('authorities held', 8), ('puppets busy', 8), ('shah', 8), ('expression conditions news', 8), ('address international conference', 8), ('nations secretary general', 8), ('something humanity', 8), ('vows', 8), ('exposes', 8), ('silent protest struggle', 8), ('continues refugees says', 8), ('test', 8), ('war crime genocide', 8), ('years documenting', 8), ('protesting repression', 8), ('people world', 8), ('refugee news', 8), ('united nations secretary', 8), ('trail', 8), ('regional ventilator seriously', 8), ('contribute', 8), ('pushing', 8), ('city', 8), ('refugees says', 8), ('help please something', 8), ('run', 8), ('shortages camps', 8), ('tells cowards', 8), ('news official calls', 8), ('heat', 8), ('approves aid', 8), ('backs', 8), ('answers dance around', 8), ('listening', 8), ('southeast accounts', 8), ('discrimination genocide', 8), ('please raise voice', 8), ('migrants displaced boat', 8), ('horrors', 8), ('mom', 8), ('rather prosecute extremists', 8), ('migrants insider', 8), ('mere', 8), ('deny', 8), ('plight says envoy', 8), ('inside calling', 8), ('football', 8), ('trending', 8), ('answers youth', 8), ('tells cowards go', 8), ('secretary general ban', 8), ('expression conditions', 8), ('pledged', 8), ('southeast accounts boat', 8), ('joins calls end', 8), ('continues refugees', 8), ('pipsqueaks protesting', 8), ('remains believed', 8), ('speak people', 8), ('remarks terrorism brutalities', 8), ('bury', 8), ('say migrants insider', 8), ('documenting refugees', 8), ('crisis read', 8), ('treat citizens united', 8), ('charges journalists exposed', 8), ('authorities held sombre', 8), ('due end week', 8), ('protest genocide', 8), ('responsible plight silence', 8), ('geneva', 8), ('greater', 8), ('detention centre', 8), ('blocking', 8), ('mass genocide taking', 8), ('cooperation', 8), ('solved', 8), ('signs symptoms genocide', 8), ('realisation', 8), ('tragedy spread hatred', 8), ('aid help', 8), ('help need help', 8), ('committing', 8), ('attend', 8), ('plan help', 8), ('prosecute extremists attacking', 8), ('syrians stranded', 8), ('country world', 8), ('villages', 8), ('journalists exposed', 8), ('getting loads flack', 8), ('giants mere pipsqueaks', 8), ('graves nation star', 8), ('drives take', 8), ('stateless limbo', 8), ('wave fled fear', 8), ('supports', 8), ('find new', 8), ('able', 8), ('united helping', 8), ('minister constituted', 8), ('pushed', 7), ('core', 7), ('ship help', 7), ('shot near', 7), ('slams', 7), ('refuge fled video', 7), ('smuggling arrested home', 7), ('good photos camp', 7), ('gathering', 7), ('killing comes human', 7), ('exposes weakness', 7), ('play role', 7), ('refugees stranded', 7), ('serve', 7), ('citizenship copyright see', 7), ('genocide ethnic', 7), ('ashore migrants', 7), ('elderly widows', 7), ('occupy', 7), ('copyright see visit', 7), ('patients hospital', 7), ('knows', 7), ('birds dogs rights', 7), ('inspired', 7), ('gulf', 7), ('tweets', 7), ('whatever', 7), ('approaching', 7), ('written open', 7), ('desert fixes', 7), ('genocide boycott', 7), ('health', 7), ('members ethnic minority', 7), ('shining', 7), ('exposed plight refugees', 7), ('ethnic minority group', 7), ('update tortured', 7), ('built', 7), ('alleged member', 7), ('stop tide boat', 7), ('senate resolution', 7), ('citizenship copyright', 7), ('people please', 7), ('made clear recent', 7), ('loves', 7), ('truth exodus remember', 7), ('open letter distressing', 7), ('stand bring back', 7), ('crowded', 7), ('men enter looking', 7), ('migrant camp choice', 7), ('clarion calls', 7), ('ashore migrants says', 7), ('conversation', 7), ('put pressure', 7), ('handling issue', 7), ('genocide business', 7), ('stripped voting', 7), ('intended attract', 7), ('rulers', 7), ('photos camp', 7), ('rights abuses', 7), ('food money', 7), ('take issue secretary', 7), ('world bodies', 7), ('secret', 7), ('clarion', 7), ('need treated', 7), ('decided', 7), ('world bodies help', 7), ('promote petition', 7), ('cooking', 7), ('clarion calls save', 7), ('welfare', 7), ('crisis plight', 7), ('serious genocide became', 7), ('daily brief syrians', 7), ('continues end', 7), ('read share', 7), ('sheikh', 7), ('extremist buddhism impact', 7), ('group like', 7), ('new start', 7), ('teach', 7), ('syrians stranded jordan', 7), ('handling rare', 7), ('failing', 7), ('please take', 7), ('brief syrians', 7), ('united end', 7), ('news man', 7), ('letter united nations', 7), ('hold rallies support', 7), ('bring back rights', 7), ('mastermind behind trafficking', 7), ('advice', 7), ('sketches exodus interviews', 7), ('rainwater', 7), ('highest probability', 7), ('military ship joins', 7), ('explains seconds', 7), ('discuss plight news', 7), ('outrage', 7), ('treated like', 7), ('people fled', 7), ('copyright', 7), ('silent crisis exposes', 7), ('buddhism impact repressive', 7), ('useful', 7), ('contract photographer', 7), ('speaking protest', 7), ('letter united', 7), ('dangerous journey', 7), ('ship joins', 7), ('trust international', 7), ('probability', 7), ('golden gas', 7), ('animal birds', 7), ('similar', 7), ('sanctions', 7), ('patience', 7), ('boat carrying migrants', 7), ('stranded sea news', 7), ('refugee appeal', 7), ('jordan desert', 7), ('father', 7), ('dollar', 7), ('hearts', 7), ('strike violence', 7), ('thirst', 7), ('success', 7), ('speak behalf', 7), ('little girls', 7), ('killing comes', 7), ('birds', 7), ('issue countries', 7), ('opposite stop genocide', 7), ('minority group like', 7), ('observe strike violence', 7), ('world appeared', 7), ('stage protest', 7), ('bad fled boat', 7), ('elsewhere', 7), ('attract', 7), ('boat looks good', 7), ('military ship', 7), ('recent weeks', 7), ('stranded jordan desert', 7), ('exclusive', 7), ('learned', 7), ('level', 7), ('walk', 7), ('rights chief', 7), ('time contract', 7), ('apathy', 7), ('sea news', 7), ('allows', 7), ('extremism convenient myth', 7), ('writes open letter', 7), ('pattern persecution', 7), ('threat genocide', 7), ('see visit', 7), ('made clear', 7), ('celebrity spotlight times', 7), ('take care', 7), ('teeth', 7), ('worlds', 7), ('sudden', 7), ('internationally', 7), ('stop stop killing', 7), ('calls upon', 7), ('minorities apartheid prelude', 7), ('spend', 7), ('end slow', 7), ('contract photographer used', 7), ('wealth', 7), ('stop discrimination genocide', 7), ('said persecution population', 7), ('asylum infiltrates', 7), ('burmese government', 7), ('sent military', 7), ('shelter intended', 7), ('clear recent weeks', 7), ('minister constituted special', 7), ('assume', 7), ('meet world persecuted', 7), ('companies', 7), ('truth exodus', 7), ('beg food money', 7), ('side large', 7), ('fake poster', 7), ('catholic', 7), ('plight decades time', 7), ('rights ahead', 7), ('openly', 7), ('promote petition give', 7), ('enter looking', 7), ('sometimes', 7), ('resolve', 7), ('announced provide', 7), ('significant', 7), ('hr serious genocide', 7), ('raping', 7), ('citizenship official says', 7), ('grant citizenship copyright', 7), ('speak genocide', 7), ('infiltration fears rise', 7), ('pattern', 7), ('pink', 7), ('retweet urges', 7), ('citizenship identity', 7), ('silence makes easier', 7), ('shipping', 7), ('bad fled', 7), ('issue secretary', 7), ('years documenting refugees', 7), ('marry elderly', 7), ('jordan desert fixes', 7), ('ending mission', 7), ('estrin', 7), ('displacement', 7), ('behind trafficking identified', 7), ('fixes', 7), ('marry elderly widows', 7), ('retweet retweet retweet', 7), ('intended attract refugees', 7), ('surprise', 7), ('arrested home', 7), ('choice citizenship', 7), ('gang shot', 7), ('salaam make', 7), ('rescued grateful', 7), ('women home', 7), ('click apply', 7), ('world powers genocide', 7), ('country refugee appeal', 7), ('column', 7), ('minorities apartheid', 7), ('news man killed', 7), ('genocide golden gas', 7), ('letter distressing plight', 7), ('international leaders', 7), ('refused', 7), ('state arrived', 7), ('information', 7), ('shortages camps news', 7), ('bleeding', 7), ('qatar pledged', 7), ('ahead key', 7), ('gang shot near', 7), ('joins efforts reach', 7), ('thousands members ethnic', 7), ('help raise', 7), ('ordered', 7), ('boat looks', 7), ('partner ongoing needs', 7), ('sports', 7), ('refugees refugees', 7), ('low', 7), ('ugly truth exodus', 7), ('begins rescued', 7), ('risks', 7), ('stripped voting rights', 7), ('lives process genocide', 7), ('issue secretary general', 7), ('traffickers coverage', 7), ('beat', 7), ('rescued homes', 7), ('photographer used', 7), ('alleged member human', 7), ('danger extremist', 7), ('winner educational activist', 7), ('news puts', 7), ('arrested home minister', 7), ('lauds handling issue', 7), ('middle east eye', 7), ('genocide happening', 7), ('migrant crisis says', 7), ('men enter', 7), ('later', 7), ('blogs blog', 7), ('news stories', 7), ('turns blind', 7), ('sea part campaign', 7), ('stand bring', 7), ('choice citizenship identity', 7), ('raised charity', 7), ('prelude', 7), ('visits refugees', 7), ('madness', 7), ('people need', 7), ('protests show solidarity', 7), ('decries', 7), ('apply interpreters', 7), ('oppressed forgotten', 7), ('hr serious', 7), ('crisis says needs', 7), ('looking marry elderly', 7), ('brief syrians stranded', 7), ('humanity save', 7), ('note', 7), ('update tortured burmese', 7), ('east eye', 7), ('seeing genocide country', 7), ('cabinet committee formed', 7), ('break silence', 7), ('people stranded', 7), ('shedding', 7), ('dream', 7), ('group like thousands', 7), ('probability seeing genocide', 7), ('written open letter', 7), ('exodus interviews', 7), ('speakers', 7), ('prove', 7), ('educational activist', 7), ('accepted', 7), ('pres', 7), ('give citizenship official', 7), ('products', 7), ('exodus interviews refugees', 7), ('invisible people', 7), ('allah bless', 7), ('financial', 7), ('comes human', 7), ('incredible', 7), ('islamic extremism convenient', 7), ('laden crisis', 7), ('click apply interpreters', 7), ('trafficking gang', 7), ('appeared never persecuted', 7), ('helping stranded sea', 7), ('settled', 7), ('tide boat people', 7), ('highest probability seeing', 7), ('week humanitarian assistance', 7), ('putting', 7), ('present', 7), ('toward made clear', 7), ('breaking news man', 7), ('struggle continues end', 7), ('military ships', 7), ('migrants detained', 7), ('writes open', 7), ('rallies across support', 7), ('jail', 7), ('preplanned', 7), ('shelter intended attract', 7), ('punished abuse', 7), ('world appeared never', 7), ('calls extremists', 7), ('unite', 7), ('retweet urges treat', 7), ('man killed', 7), ('clear recent', 7), ('arrests', 7), ('back rights', 7), ('population cause migrant', 7), ('pattern persecution considered', 7), ('aware', 7), ('old boy', 7), ('graves side large', 7), ('rallies support', 7), ('holds', 7), ('asap hr', 7), ('storm', 7), ('sparks', 7), ('ugly truth', 7), ('silent plight', 7), ('notice genocide', 7), ('week humanitarian', 7), ('extremist buddhism', 7), ('looks good', 7), ('popular', 7), ('great job', 7), ('senate resolution condemns', 7), ('exodus remember', 7), ('global humanity', 7), ('time contract photographer', 7), ('trying push island', 7), ('app', 7), ('helping people', 7), ('share help', 7), ('voting rights', 7), ('shameless', 7), ('world bar fleeing', 7), ('stranded jordan', 7), ('approves assistance', 7), ('save save', 7), ('weakness', 7), ('protests show', 7), ('provide dollars', 7), ('people first', 7), ('though', 7), ('world persecuted minority', 7), ('united end genocide', 7), ('questions', 7), ('powers genocide', 7), ('work permits', 7), ('human animal', 7), ('asap hr serious', 7), ('crisis exposes', 7), ('ghettos', 7), ('celebrity spotlight apartheid', 7), ('process genocide', 7), ('corrupt', 7), ('surprised', 7), ('needs stop', 7), ('next week', 7), ('occupy grassroots', 7), ('fake poster islam', 7), ('part campaign', 7), ('insight', 7), ('discuss issue', 7), ('probability seeing', 7), ('enter looking marry', 7), ('keeps', 7), ('help migrants adrift', 7), ('rallies across', 7), ('camps news', 7), ('letter distressing', 7), ('country prefer', 7), ('class', 7), ('plight heartbreaking', 7), ('old widows', 7), ('danger extremist buddhism', 7), ('trafficking identified', 7), ('attract refugees minister', 7), ('politicians', 7), ('smile', 7), ('want stay', 7), ('navy ending mission', 7), ('genocide country world', 7), ('apartheid prelude worse', 7), ('take notice genocide', 7), ('gay', 7), ('careful handling rare', 7), ('economic migrants', 7), ('never persecuted', 7), ('editorial', 7), ('permits', 7), ('woes', 7), ('member human trafficking', 7), ('sell', 7), ('focused traffickers coverage', 7), ('please save stop', 7), ('decide', 7), ('turns blind eye', 7), ('people thousands', 7), ('suggest', 7), ('united nation', 7), ('begins rescued grateful', 7), ('aid help migrants', 7), ('appeared never', 7), ('end week humanitarian', 7), ('contract', 7), ('ahead key election', 7), ('expect', 7), ('marrying old widows', 7), ('hypocrites', 7), ('voice news', 7), ('reaches', 7), ('afghans protest', 7), ('brings ashore migrants', 7), ('seek refuge fled', 7), ('exactly', 7), ('likely', 7), ('senior army officer', 7), ('world bar', 7), ('rights ahead key', 7), ('attract refugees', 7), ('faith', 7), ('sensitive', 7), ('saffron', 7), ('human animal birds', 7), ('smuggling arrested', 7), ('buddhism impact', 7), ('monks extremists', 7), ('refugee state arrived', 7), ('happiness', 7), ('waiting thomas fuller', 7), ('textbook', 7), ('poster islam', 7), ('camp choice', 7), ('genocide call', 7), ('whilst', 7), ('excellent', 7), ('top story', 7), ('push island', 7), ('spread word', 7), ('serious genocide', 7), ('looks good photos', 7), ('voting rights ahead', 7), ('first time', 7), ('refugees minister', 7), ('nightmare', 7), ('fled video', 7), ('persecution considered driver', 7), ('highlighting plight', 7), ('refugee appeal end', 7), ('end slow genocide', 7), ('good photos', 7), ('birds dogs', 7), ('experience', 7), ('ship joins efforts', 7), ('refugees continues', 7), ('laws', 7), ('bin laden crisis', 7), ('decades time contract', 7), ('usual', 7), ('stop stop', 7), ('ending', 7), ('bodies help', 7), ('flag', 7), ('joins efforts', 7), ('protest helping stranded', 7), ('violence genocide', 7), ('countries tackle', 7), ('persecuted minorities apartheid', 7), ('looking marry', 7), ('human trafficking gang', 7), ('member human', 7), ('systematically', 7), ('mala', 7), ('thousands stranded sea', 7), ('create', 7), ('comes human animal', 7), ('infiltration fears', 7), ('tests', 7), ('silence persecution', 7), ('continues end genocide', 7), ('accident', 7), ('genocide country', 7), ('carrying migrants rescued', 7), ('persecution bad fled', 7), ('across support', 7), ('thrown', 7), ('interfere', 7), ('game', 7), ('stays silent crisis', 7), ('repost', 7), ('ways', 7), ('locked', 7), ('extremism convenient', 7), ('media freedom', 7), ('ministry says', 7), ('wearing', 7), ('news rejects unbalanced', 7), ('quartz', 7), ('bring back', 7), ('bodies help stop', 7), ('apartheid prelude', 7), ('restore', 7), ('mail online', 7), ('created', 7), ('smuggling camp', 7), ('genocide golden', 7), ('sent military ships', 7), ('makes easier', 7), ('country refugee', 7), ('discuss issue countries', 7), ('spotlight apartheid', 7), ('favor', 7), ('spotlight times', 7), ('mentioned', 7), ('refuge fled', 7), ('considered driver', 7), ('news rejects', 7), ('ties', 7), ('dogs rights', 7), ('partners', 7), ('critical', 7), ('news migrants', 7), ('key election', 7), ('animal birds dogs', 7), ('understanding', 7), ('malay mail online', 7), ('copyright see', 7), ('sympathy', 7), ('meet world', 7), ('marrying old', 7), ('peace prize winners', 7), ('crisis exposes weakness', 7), ('want know', 7), ('softly softly', 7), ('organization', 7), ('helping migrants', 7), ('migrants adrift sea', 7), ('wrenching', 7), ('hold rallies across', 7), ('trafficking gang shot', 7), ('dirty', 7), ('silent hearing', 7), ('returns rescued homes', 7), ('news puts rare', 7), ('asylum infiltrates ignore', 7), ('persecution considered', 7), ('navy ending', 7), ('mastermind behind', 7), ('camp choice citizenship', 7), ('members ethnic', 7), ('issue countries tackle', 7), ('assume responsibility', 7), ('equal citizenship', 7), ('side large scale', 7), ('murdering', 7), ('common', 7), ('heartless', 7), ('apply', 7), ('people smuggling camp', 7), ('islam channel', 7), ('sos', 7), ('military truck', 7), ('prelude worse', 7), ('summit crisis', 6), ('heinous', 6), ('man killed extremist', 6), ('representative', 6), ('round', 6), ('economist', 6), ('crisis politics', 6), ('death sea', 6), ('senate condemns', 6), ('internal affairs', 6), ('desk', 6), ('human rights organizations', 6), ('years fled', 6), ('mulling', 6), ('southeast estrin', 6), ('ban moon reject', 6), ('video genocide', 6), ('hosts summit', 6), ('historical', 6), ('concentration camp', 6), ('letter sec', 6), ('brings aid', 6), ('find new path', 6), ('fuelling genocide', 6), ('sight', 6), ('reject envoy', 6), ('row gay', 6), ('country willing', 6), ('move news', 6), ('erase', 6), ('disappointed silence', 6), ('film', 6), ('editor', 6), ('bulletin', 6), ('discusses shelter minister', 6), ('rangoon', 6), ('attacked', 6), ('cheap labor', 6), ('summit crisis representatives', 6), ('please pray', 6), ('model', 6), ('resettled th', 6), ('lows row gay', 6), ('included', 6), ('scale killing', 6), ('camps cabinet', 6), ('genocide option', 6), ('wants action migrant', 6), ('guard police', 6), ('send aid', 6), ('blamed', 6), ('like camps', 6), ('food refugees', 6), ('spells disaster', 6), ('karen', 6), ('gather', 6), ('break silence genocide', 6), ('comes forward', 6), ('approach persecution', 6), ('driven homes', 6), ('near border', 6), ('case internationally', 6), ('migrants announced provide', 6), ('qatar pledges qatar', 6), ('louis', 6), ('however refuses identify', 6), ('conference plight part', 6), ('willing accommodate news', 6), ('world media', 6), ('grant camps cabinet', 6), ('delegate says', 6), ('ban moon genocide', 6), ('conference end', 6), ('devil', 6), ('activist rejects internal', 6), ('fashionable gap', 6), ('becoming rights', 6), ('distribution', 6), ('offers help tokyo', 6), ('new path', 6), ('colored', 6), ('gas rich qatar', 6), ('darker', 6), ('cartoon', 6), ('lucky', 6), ('chairman writes open', 6), ('however refuses', 6), ('writes ban moon', 6), ('rights organizations', 6), ('seeking recruit', 6), ('express solidarity', 6), ('calls jihad', 6), ('share rescue', 6), ('please remember', 6), ('government stop', 6), ('lee discuss issue', 6), ('govt mulling', 6), ('fleeing hunger persecution', 6), ('homeless', 6), ('politically', 6), ('citizenship resettled', 6), ('learnt', 6), ('hall', 6), ('condemnation', 6), ('ethnic group confined', 6), ('warns', 6), ('moon genocide', 6), ('horrifying', 6), ('wants give work', 6), ('accept persecuted', 6), ('suspects smuggling', 6), ('south trial', 6), ('pp', 6), ('read please', 6), ('comes forward help', 6), ('institute', 6), ('envoy softly', 6), ('temples', 6), ('reaches new lows', 6), ('waging jihad', 6), ('buries trafficking', 6), ('people know', 6), ('id card', 6), ('minister however refuses', 6), ('better life', 6), ('closed', 6), ('event refugees', 6), ('severely', 6), ('country genocide', 6), ('stops', 6), ('boat turn', 6), ('indictment', 6), ('mass killings', 6), ('left sea', 6), ('browser', 6), ('victory start', 6), ('act prevent', 6), ('decisive action', 6), ('solved musters', 6), ('avoid', 6), ('students protest persecution', 6), ('needs take', 6), ('field', 6), ('year old boy', 6), ('new law', 6), ('mainstream', 6), ('migrants raped camps', 6), ('hunger persecution', 6), ('reached', 6), ('review', 6), ('emotional', 6), ('delegate says cowards', 6), ('missed', 6), ('give work permits', 6), ('empress', 6), ('temporary shelters', 6), ('haunts', 6), ('govt mulling job', 6), ('refugees news', 6), ('govt provide', 6), ('plenty', 6), ('killing innocent', 6), ('light plight', 6), ('refugee crisis solved', 6), ('prosecuted jailed large', 6), ('boat journey', 6), ('chairman writes', 6), ('efforts raised', 6), ('senior diplomat', 6), ('buddha', 6), ('refugees refugee', 6), ('humanitarian assistance mission', 6), ('rejects internal affairs', 6), ('genocide business standard', 6), ('people first speak', 6), ('first speak madness', 6), ('new lows', 6), ('gay pride', 6), ('international investigation', 6), ('photo plight fleeing', 6), ('people really', 6), ('ready host', 6), ('foreign ministry', 6), ('fails mention', 6), ('wants expel', 6), ('destroy', 6), ('discusses shelter', 6), ('new path aid', 6), ('charges row new', 6), ('flooded island refugee', 6), ('world act prevent', 6), ('world large', 6), ('cared', 6), ('big victory', 6), ('stop genocide people', 6), ('challenging case', 6), ('plans move refugees', 6), ('says refugees', 6), ('barbaric', 6), ('world help quartz', 6), ('spent years fled', 6), ('action migrant issue', 6), ('babies', 6), ('relief equal', 6), ('arms', 6), ('rejects internal', 6), ('advantage', 6), ('attention plight', 6), ('news tv', 6), ('speak madness', 6), ('resources', 6), ('path aid', 6), ('grant citizenship resettled', 6), ('recently', 6), ('radio', 6), ('world including', 6), ('possibly', 6), ('perhaps', 6), ('aiding', 6), ('jungle camps', 6), ('says citizens news', 6), ('needed human rights', 6), ('mat', 6), ('bar fleeing hunger', 6), ('investigation needed', 6), ('need aid', 6), ('await fate', 6), ('significant solutions', 6), ('battles kept silent', 6), ('racists', 6), ('tickets', 6), ('tortured death', 6), ('softly softly approach', 6), ('home minister however', 6), ('live conference genocide', 6), ('burmese genocide policies', 6), ('remarks genocide business', 6), ('strongly condemns genocide', 6), ('toward solution', 6), ('genocide terrorism', 6), ('owned', 6), ('seek reconciliation', 6), ('found sea await', 6), ('civic', 6), ('share help people', 6), ('reported', 6), ('listen mass genocide', 6), ('refugees find', 6), ('please read share', 6), ('reaches new', 6), ('stop treating big', 6), ('honorable', 6), ('border guard', 6), ('settlement', 6), ('please stop', 6), ('jewish journal', 6), ('activist attends annual', 6), ('news safety migrants', 6), ('economic religious', 6), ('unacceptable', 6), ('accessory genocide', 6), ('conduct', 6), ('pride south', 6), ('chair', 6), ('envoy softly softly', 6), ('picking battles kept', 6), ('ss louis', 6), ('nobel laureates call', 6), ('dignity respect', 6), ('kid', 6), ('qatar gas rich', 6), ('widows straits', 6), ('pride south trial', 6), ('writes ban', 6), ('pride', 6), ('activist rejects', 6), ('musters', 6), ('extremely', 6), ('salaam make eye', 6), ('refugees arrested', 6), ('ashamed', 6), ('ordeals', 6), ('prosecuted jailed', 6), ('former wants expel', 6), ('heavy', 6), ('whole world', 6), ('time spoke', 6), ('crisis solved musters', 6), ('fleeing hunger', 6), ('minister announced', 6), ('silence news', 6), ('earthquake', 6), ('row new', 6), ('world forgotten', 6), ('softly approach', 6), ('give work', 6), ('assistance mission', 6), ('genocide feel', 6), ('helping blogs blog', 6), ('tips', 6), ('says cowards', 6), ('couple', 6), ('citizens senior', 6), ('haven silent', 6), ('intervene genocide', 6), ('protest plight', 6), ('internet', 6), ('awareness genocide feel', 6), ('sectarian', 6), ('ordeal', 6), ('women detained', 6), ('toward solution crisis', 6), ('global news', 6), ('domestic', 6), ('news explains seconds', 6), ('gay pride south', 6), ('beating', 6), ('listen mass', 6), ('haven silent hearing', 6), ('innocent people', 6), ('relief equal citizenship', 6), ('unabated', 6), ('continues unabated', 6), ('battles kept', 6), ('raise issue', 6), ('brief reaches', 6), ('crisis solved', 6), ('portraits', 6), ('illegal fishing', 6), ('border guard police', 6), ('hearing want', 6), ('people time', 6), ('help tokyo', 6), ('qatar gas', 6), ('planning', 6), ('stranded migrants', 6), ('listen share', 6), ('stop treating', 6), ('world turns blind', 6), ('jets', 6), ('years fled persecution', 6), ('surprising', 6), ('seeking recruit fleeing', 6), ('starts', 6), ('news migrant', 6), ('near refugee', 6), ('protest oppression', 6), ('company', 6), ('elderly widows straits', 6), ('wants give', 6), ('burmese boy', 6), ('needs stop discrimination', 6), ('like camp', 6), ('allah make', 6), ('heart wrenching', 6), ('unregistered', 6), ('treat citizens senior', 6), ('genocide never', 6), ('rich qatar pledged', 6), ('stateless left', 6), ('international investigation needed', 6), ('corner', 6), ('helping blogs', 6), ('accessory genocide never', 6), ('murder charges', 6), ('shelter minister', 6), ('rights activist rejects', 6), ('action migrant', 6), ('citizenship issue needs', 6), ('delivering', 6), ('activist attends', 6), ('wants action', 6), ('widows straits times', 6), ('civil society protests', 6), ('hosts summit crisis', 6), ('committing genocide', 6), ('cowards fight', 6), ('ms', 6), ('door', 6), ('reject envoy softly', 6), ('society protests', 6), ('plaza murder charges', 6), ('lee discuss', 6), ('economy', 6), ('slams nobel', 6), ('support efforts', 6), ('distributed', 6), ('addressed', 6), ('sends ship', 6), ('start speaking', 6), ('brief reaches new', 6), ('daily plaza', 6), ('boy boy slow', 6), ('migrants risking', 6), ('look inside', 6), ('corruption', 6), ('sends ship help', 6), ('plan move news', 6), ('inside camp', 6), ('apply interpreters interpreter', 6), ('willing accommodate', 6), ('foreign investments channel', 6), ('office seeks', 6), ('positively towards proposal', 6), ('news fake', 6), ('conscience', 6), ('crisis representatives', 6), ('conflict economic religious', 6), ('spoken', 6), ('rights genocide', 6), ('pleas', 6), ('shot near refugee', 6), ('crisis possibly', 6), ('camps cabinet committee', 6), ('world needs', 6), ('save humanity save', 6), ('shall', 6), ('genocide refugees continues', 6), ('law spells disaster', 6), ('deafening', 6), ('stateless southeast estrin', 6), ('desperate thirst', 6), ('forced flee', 6), ('attends annual white', 6), ('moon reject', 6), ('end prosecution', 6), ('country willing accommodate', 6), ('plaza murder', 6), ('collect rain', 6), ('treating big victory', 6), ('protest helping migrants', 6), ('collect rainwater', 6), ('new law spells', 6), ('attends annual', 6), ('sea await', 6), ('apartheid state', 6), ('please raise awareness', 6), ('time photographs', 6), ('attempt', 6), ('ships reach', 6), ('hague', 6), ('preach', 6), ('released', 6), ('rights groups', 6), ('apartheid like camp', 6), ('military ships reach', 6), ('republic', 6), ('never fashionable gap', 6), ('genocide persecution', 6), ('humanitarian relief equal', 6), ('ongoing genocide', 6), ('burned', 6), ('apartheid like camps', 6), ('government help', 6), ('suspects smuggling arrested', 6), ('horrendous', 6), ('resolution support', 6), ('sounds', 6), ('migrants protest', 6), ('crisis explained', 6), ('group says dozens', 6), ('ss', 6), ('discussed', 6), ('photo plight', 6), ('charges row', 6), ('citizens senior diplomat', 6), ('raised charity event', 6), ('considers challenging case', 6), ('shame shame', 6), ('buries trafficking victims', 6), ('becomes', 6), ('aid rupees news', 6), ('accessory', 6), ('petition humanitarian', 6), ('society protests show', 6), ('cowards fight regime', 6), ('moon reject envoy', 6), ('web desk', 6), ('pledges qatar gas', 6), ('urges government', 6), ('educational activist mala', 6), ('contact', 6), ('world turns', 6), ('efforts raised charity', 6), ('refugees fleeing', 6), ('lows', 6), ('genocides', 6), ('appeal end slow', 6), ('good news', 6), ('began', 6), ('time photographs plight', 6), ('big victory start', 6), ('contribution', 6), ('demo outside', 6), ('share rescue end', 6), ('says citizenship issue', 6), ('stateless left sea', 6), ('fashionable', 6), ('moslems', 6), ('picking battles', 6), ('help promote', 6), ('help brothers', 6), ('filled indigenous region', 6), ('picking', 6), ('boy slow genocide', 6), ('make sure', 6), ('fooled', 6), ('defending', 6), ('plight thousands', 6), ('afghans protest plight', 6), ('news safety', 6), ('nay', 6), ('genocide policies', 6), ('fight regime', 6), ('citizenship news', 6), ('fan', 6), ('meanwhile', 6), ('rupees news', 6), ('silent hearing want', 6), ('jailed large', 6), ('victory start speaking', 6), ('urging', 6), ('unveils aid help', 6), ('attends', 6), ('citizenship issue', 6), ('population control', 6), ('indigenous region', 6), ('defense', 6), ('researchers facing genocide', 6), ('boat people fled', 6), ('activist mala', 6), ('provide dollars food', 6), ('standards', 6), ('challenging case internationally', 6), ('station', 6), ('help tokyo offered', 6), ('decisive', 6), ('killed extremist', 6), ('protesters highlight', 6), ('vote', 6), ('prof', 6), ('responsible genocide', 6), ('permanently solve', 6), ('help promote petition', 6), ('citizenship resettled th', 6), ('sudden death', 6), ('spotlight apartheid like', 6), ('animals', 6), ('investments channel', 6), ('subjected', 6), ('waging', 6), ('drink', 6), ('car', 6), ('internal affairs defense', 6), ('colored id', 6), ('afraid', 6), ('migrant issue', 6), ('island refugee', 6), ('boy slow', 6), ('treats', 6), ('row new law', 6), ('raped camps report', 6), ('lows row', 6), ('guilt', 6), ('fit', 6), ('senate strongly', 6), ('justify', 6), ('minister however', 6), ('migrants trapped', 6), ('stuck', 6), ('tales', 6), ('dire', 6), ('campaign share help', 6), ('harrowing look inside', 6), ('entertainment', 6), ('becoming rights activist', 6), ('senate strongly condemns', 6), ('burmese boy boy', 6), ('island refugee agency', 6), ('voice news stories', 6), ('paper', 6), ('long term', 6), ('figure', 6), ('based', 6), ('world silence news', 6), ('smiles', 6), ('european', 6), ('plight part ii', 6), ('researchers facing', 6), ('sea news explains', 6), ('affairs defense', 6), ('never fashionable', 6), ('sadly', 6), ('pas delegate says', 6), ('study', 6), ('rights council', 6), ('new lows row', 6), ('pledges aid', 6), ('students protest', 6), ('path aid refugees', 6), ('measures', 6), ('law spells', 6), ('rich qatar', 6), ('jailed large scale', 6), ('modern times', 6), ('row gay pride', 6), ('gas rich', 6), ('harrowing look', 6), ('appalling', 6), ('green cards', 6), ('boy boy', 6), ('volunteer', 6), ('investment fuelling', 6), ('world genocide', 6), ('photographer dedicated', 6), ('solidarity action', 6), ('large scale killing', 6), ('shop', 6), ('first speak people', 6), ('watched', 6), ('support efforts raised', 6), ('locals', 6), ('needed human', 6), ('life boat', 6), ('speak people first', 6), ('save stop discrimination', 6), ('inquiry world', 6), ('mulling job', 6), ('handling rare comments', 6), ('international conference plight', 6), ('diplomatic', 6), ('dodging', 6), ('thank bringing', 6), ('spells', 6), ('murder charges row', 6), ('people thousands stranded', 6), ('build shelters', 6), ('group confined', 6), ('wherever', 6), ('says needs treat', 6), ('news fake pictures', 6), ('former wants', 6), ('genocide never fashionable', 6), ('debates', 6), ('sea photo plight', 6), ('help quartz', 6), ('death camps', 6), ('listen share rescue', 6), ('investigation needed human', 6), ('refugees continues unabated', 6), ('look inside camp', 6), ('battles', 6), ('loving', 6), ('transition', 6), ('refuses identify', 6), ('ask decisive action', 6), ('pledges qatar', 6), ('sources', 6), ('inquiry world service', 6), ('open letter united', 6), ('party leader', 6), ('towards proposal', 6), ('tribe', 6), ('solve problem', 6), ('solidarity news', 6), ('ask decisive', 6), ('says citizenship', 6), ('news explains', 6), ('taking notice', 6), ('presidency', 6), ('daily browser', 6), ('trafficking migrants', 6), ('live conference', 6), ('unwelcome story', 6), ('softly approach persecution', 6), ('considers challenging', 6), ('bullshit', 6), ('passed resolution', 6), ('fuel', 6), ('sea await fate', 6), ('husband', 6), ('daily plaza murder', 6), ('recommend', 6), ('accommodate news', 6), ('says dozens', 6), ('protesters highlight plight', 6), ('says cowards fight', 6), ('treating big', 6), ('agenda', 6), ('affected', 6), ('conflict economic', 6), ('condemned', 6), ('tussle', 6), ('worried', 6), ('solving', 5), ('potential terrorists', 5), ('job opportunities', 5), ('shining light', 5), ('vietnam scraps', 5), ('pink shorts', 5), ('widows new', 5), ('slaves claims survivor', 5), ('boat refugees', 5), ('indigenous community', 5), ('continues genocide', 5), ('declared', 5), ('journal decries', 5), ('prepare', 5), ('cleansing government', 5), ('minister crisis possibly', 5), ('shot dead border', 5), ('cried', 5), ('fuel genocide', 5), ('legally', 5), ('general manas', 5), ('grave escaped', 5), ('officer learned profit', 5), ('dug friend', 5), ('tweeting', 5), ('protest detention centre', 5), ('prosecute death camp', 5), ('genocide debates budget', 5), ('daw', 5), ('recognizes ethnic groups', 5), ('watch video', 5), ('rare comments persecuted', 5), ('list shore companies', 5), ('calls extremists expel', 5), ('learned profit crackdown', 5), ('silence inexcusable', 5), ('abuses media freedom', 5), ('state treatment', 5), ('acts illegal fishing', 5), ('humans people', 5), ('outlook', 5), ('action says', 5), ('country prefer live', 5), ('id card won', 5), ('mad', 5), ('saving honor humanity', 5), ('genocide middle east', 5), ('feared potential', 5), ('latest protests', 5), ('pass resolution support', 5), ('formed committee', 5), ('victims human', 5), ('news actor', 5), ('dodging driving crisis', 5), ('college students', 5), ('ready reach', 5), ('rights commission', 5), ('director', 5), ('raped tortured', 5), ('propaganda fake', 5), ('activist annual white', 5), ('throw', 5), ('racists grow', 5), ('funded', 5), ('shared responsibility', 5), ('groups racism politically', 5), ('riot sparks security', 5), ('rhetoric', 5), ('organize solidarity', 5), ('genocide watch', 5), ('describes', 5), ('dug friend grave', 5), ('flight cruel addressing', 5), ('crackdown trafficking', 5), ('women migrants detained', 5), ('brought world attention', 5), ('delivering shared responsibility', 5), ('sea find', 5), ('trafficking suspects', 5), ('actor visited', 5), ('boat rescued', 5), ('office seeks solution', 5), ('traffickers used', 5), ('glad', 5), ('trafficking terror', 5), ('launch', 5), ('debate parliament', 5), ('end wise words', 5), ('apartheid state treatment', 5), ('pass resolution', 5), ('legislators', 5), ('human rights abuses', 5), ('wan', 5), ('citizenship safety', 5), ('support monks', 5), ('join refugees', 5), ('period', 5), ('rights watch', 5), ('sec gen ban', 5), ('fairly', 5), ('half escaped recaptured', 5), ('yep', 5), ('allegedly', 5), ('proliferate web waging', 5), ('abandoned world', 5), ('islam genocide', 5), ('extend', 5), ('suffering people', 5), ('extradite prosecute death', 5), ('reporting says', 5), ('response crisis', 5), ('taken stand', 5), ('points', 5), ('please listen', 5), ('card won', 5), ('tells facts names', 5), ('modern times facing', 5), ('done nothing', 5), ('residency', 5), ('mo', 5), ('wondering', 5), ('said never', 5), ('nope see', 5), ('extremists expel', 5), ('genocide buddhists', 5), ('camp mastermind', 5), ('stateless vulnerable risking', 5), ('con', 5), ('migrants trapped tussle', 5), ('college', 5), ('mass murder', 5), ('depth migrant', 5), ('people living', 5), ('lots', 5), ('college students organize', 5), ('grave escaped says', 5), ('amount', 5), ('completed', 5), ('suggests thousands', 5), ('widows new start', 5), ('migrants collect', 5), ('mastermind home', 5), ('rescuing', 5), ('work permits refugees', 5), ('foreign minister suggests', 5), ('updates bids sombre', 5), ('genocide name', 5), ('wan rebuts', 5), ('basic rights', 5), ('issue burial', 5), ('operation', 5), ('verdict abuses', 5), ('fooled new', 5), ('time puts rare', 5), ('migrant crisis guardian', 5), ('seeker', 5), ('east genocide middle', 5), ('sin', 5), ('causing flight', 5), ('amid crisis', 5), ('cannot stay crisis', 5), ('editor considers verdict', 5), ('belong', 5), ('prosecutors', 5), ('old widows new', 5), ('blocking flight cruel', 5), ('optimism', 5), ('sufficient say help', 5), ('genocide middle', 5), ('fucked', 5), ('approval', 5), ('soil', 5), ('regime genocide', 5), ('says accept persecuted', 5), ('job great fit', 5), ('mulling job opportunities', 5), ('worst nightmare enemies', 5), ('residing', 5), ('act prevent century', 5), ('reply', 5), ('recent days', 5), ('recognizes ethnic', 5), ('highlight issue', 5), ('ends', 5), ('desperately need', 5), ('shakes', 5), ('pig', 5), ('enemies islam ready', 5), ('extradite', 5), ('raising awareness', 5), ('flooding food', 5), ('extradite prosecute', 5), ('judge', 5), ('cultural', 5), ('thinks', 5), ('nobel silence face', 5), ('facing genocide entire', 5), ('shame humanity', 5), ('okay', 5), ('media state', 5), ('accept refugees', 5), ('message prison', 5), ('foreign minister announced', 5), ('mom speaking protest', 5), ('mastermind home minister', 5), ('minority post', 5), ('inquiry anyone help', 5), ('addressing persecution', 5), ('job interpreters', 5), ('minority citizens', 5), ('responsibility protection', 5), ('grow', 5), ('dead border guard', 5), ('chastised', 5), ('emotions', 5), ('minister home', 5), ('invitation', 5), ('leaves states', 5), ('lebanon', 5), ('want touch genocide', 5), ('opportunity', 5), ('yeah', 5), ('southeast photographer dedicated', 5), ('action sign', 5), ('good conditions', 5), ('posted', 5), ('web waging jihad', 5), ('otherwise', 5), ('women rescued', 5), ('arm', 5), ('prosecute death', 5), ('sufficient', 5), ('commits helping', 5), ('camp near', 5), ('risk genocide', 5), ('product', 5), ('assembly unanimously', 5), ('case genocide', 5), ('elements', 5), ('remains believed laid', 5), ('help anyone help', 5), ('job great', 5), ('murderer', 5), ('eligible', 5), ('great work', 5), ('members minority', 5), ('prey', 5), ('please keep', 5), ('petition humanitarian relief', 5), ('solution ideas accused', 5), ('supply', 5), ('allah protect', 5), ('states commits helping', 5), ('visits displaced', 5), ('stumbles', 5), ('subject trafficking', 5), ('organize solidarity action', 5), ('identity issue', 5), ('protest vietnam scraps', 5), ('crisis genocide', 5), ('activities', 5), ('happening people', 5), ('rebuts sudden', 5), ('burden', 5), ('inquiry anyone', 5), ('training terrorists border', 5), ('genocide committed', 5), ('slaves post', 5), ('help anyone', 5), ('go help', 5), ('peter', 5), ('sea unwanted', 5), ('people stranded sea', 5), ('kingpins', 5), ('revoked', 5), ('formed tackle', 5), ('exiled', 5), ('editor considers', 5), ('haunts population', 5), ('driving crisis', 5), ('long read', 5), ('doors', 5), ('drawing', 5), ('protests across', 5), ('neither', 5), ('crisis guardian', 5), ('send media state', 5), ('solve migrant', 5), ('concrete', 5), ('help donate', 5), ('abc online', 5), ('work says ministry', 5), ('accused reporter', 5), ('committee formed tackle', 5), ('guilty', 5), ('migrant crisis explained', 5), ('killing genocide', 5), ('thank raising', 5), ('riots', 5), ('said never world', 5), ('scraps', 5), ('considers verdict', 5), ('prevent century ss', 5), ('minister suggests thousands', 5), ('stop killings', 5), ('children school', 5), ('plight world turns', 5), ('recounts escape state', 5), ('weeks scenes', 5), ('letter sec gen', 5), ('says ministry', 5), ('plight correspondent', 5), ('stage stages genocide', 5), ('stupid', 5), ('retweet refugee struggle', 5), ('states decide aid', 5), ('seeks solution', 5), ('overview', 5), ('genocide tells facts', 5), ('pathetic', 5), ('donate help', 5), ('terrorists fears', 5), ('support monks anti', 5), ('landed recent', 5), ('new colored id', 5), ('south post', 5), ('build shelters house', 5), ('deep blue', 5), ('condemns genocide debates', 5), ('boys', 5), ('never world', 5), ('shorts', 5), ('speaking protest stop', 5), ('leaving address', 5), ('call action says', 5), ('world community', 5), ('knocks teeth', 5), ('international law', 5), ('landed recent days', 5), ('read permanently', 5), ('students organize', 5), ('people crisis fails', 5), ('petition help standard', 5), ('mostly', 5), ('thank standing', 5), ('thousands terrorism', 5), ('racism genocide', 5), ('people guardian', 5), ('detained camps routinely', 5), ('blocking flight', 5), ('presentation', 5), ('spotlight people', 5), ('mysterious', 5), ('rights chief tells', 5), ('nations security', 5), ('food shortages camp', 5), ('tells facts', 5), ('solution ideas', 5), ('long read permanently', 5), ('visiting apartheid like', 5), ('shelters house stranded', 5), ('help inquiry', 5), ('migrant issue burial', 5), ('forever', 5), ('referring', 5), ('updates bids', 5), ('provides', 5), ('stumbles find', 5), ('possibly linked acts', 5), ('around landed recent', 5), ('monks anti racists', 5), ('sec gen', 5), ('issue haunts', 5), ('museum', 5), ('burmese gov', 5), ('ordered provide dollars', 5), ('independent catholic', 5), ('protect book', 5), ('addressing persecution causing', 5), ('teeth man', 5), ('sectarian violence', 5), ('senior diplomat chastised', 5), ('time puts', 5), ('raises voice', 5), ('camp near border', 5), ('loves humans people', 5), ('help brothers sisters', 5), ('please listen share', 5), ('shore companies persons', 5), ('refugees hope', 5), ('textbook case', 5), ('southeast photographer', 5), ('persecution slaughter', 5), ('tourist', 5), ('peaceful came', 5), ('news lands', 5), ('laid rest', 5), ('retweet retweet migrant', 5), ('anti racists', 5), ('crisis fails', 5), ('boat people news', 5), ('commits helping people', 5), ('noble peace', 5), ('around landed', 5), ('govt rejects unbalanced', 5), ('articles', 5), ('dare', 5), ('new colored', 5), ('refugees persecution slaughter', 5), ('read report', 5), ('tells security', 5), ('refugees island south', 5), ('text', 5), ('help inquiry world', 5), ('eastern outlook', 5), ('hapless', 5), ('please stand', 5), ('protest stop', 5), ('trafficking refugees', 5), ('sea migrants', 5), ('cruel addressing', 5), ('mouth', 5), ('demo outside downing', 5), ('provide shelter', 5), ('charity event refugees', 5), ('riot sparks', 5), ('stop genocide call', 5), ('students organize solidarity', 5), ('hurt', 5), ('hope peaceful came', 5), ('nightmare enemies', 5), ('save life', 5), ('human smugglers', 5), ('land sea', 5), ('mass killing', 5), ('voice persecuted people', 5), ('hearing want hear', 5), ('dug', 5), ('reportedly', 5), ('sex slaves claims', 5), ('subject trafficking terror', 5), ('programs', 5), ('official said', 5), ('running', 5), ('hardships', 5), ('ones', 5), ('expressed', 5), ('denying genocide', 5), ('claimed', 5), ('reach land', 5), ('terrible plight', 5), ('stops reporters approaching', 5), ('great see', 5), ('alerts', 5), ('footage', 5), ('edge', 5), ('great fit', 5), ('anyway', 5), ('allah save', 5), ('state genocide', 5), ('want hear', 5), ('wan rebuts sudden', 5), ('military knocks', 5), ('days abandoned people', 5), ('genocide entire indigenous', 5), ('officer learned', 5), ('parallels genocide', 5), ('rickshaw driver', 5), ('uncaring', 5), ('dollars food grant', 5), ('children protest detention', 5), ('facts names', 5), ('fit interpreters interpreter', 5), ('colored id card', 5), ('spirit', 5), ('organized', 5), ('worst nightmare', 5), ('companies persons', 5), ('please send media', 5), ('arrested demanding', 5), ('report express tribune', 5), ('recent weeks scenes', 5), ('town hall', 5), ('media state save', 5), ('camp mastermind home', 5), ('icon', 5), ('shelters house', 5), ('denies persecution foreign', 5), ('mom speaking', 5), ('web waging', 5), ('killer thousands', 5), ('visiting camp', 5), ('stick', 5), ('minister announced aid', 5), ('obtained', 5), ('defense abuse', 5), ('council face institutional', 5), ('army battalion', 5), ('receive aid', 5), ('views', 5), ('streaming', 5), ('else read please', 5), ('new eastern outlook', 5), ('groups racism', 5), ('actor visits displaced', 5), ('home ministry', 5), ('pre', 5), ('half escaped', 5), ('invited', 5), ('abandoned world large', 5), ('miss', 5), ('plight community', 5), ('feared potential terrorists', 5), ('considers verdict abuses', 5), ('legislators pass resolution', 5), ('come end', 5), ('council foreign', 5), ('fooled new colored', 5), ('won give', 5), ('queen', 5), ('heartbreaking visit', 5), ('loves humans', 5), ('necessary', 5), ('invest slow genocide', 5), ('protest atrocities', 5), ('verdict abuses media', 5), ('demanding jobs', 5), ('radical buddhists', 5), ('food money news', 5), ('wanting', 5), ('minister suggests', 5), ('help people independent', 5), ('great fit interpreters', 5), ('chief tells', 5), ('please support', 5), ('racial', 5), ('genocide ethnic cleansing', 5), ('sensitive issue', 5), ('believed laid', 5), ('persecution genocide say', 5), ('sexually', 5), ('face institutional', 5), ('slams nobel prize', 5), ('rescue end wise', 5), ('diplomat chastised', 5), ('extremists expel patients', 5), ('stage stages', 5), ('bout', 5), ('dodging driving', 5), ('disappeared', 5), ('perfect', 5), ('say help', 5), ('people like', 5), ('projects', 5), ('journal decries apartheid', 5), ('interfere genocide', 5), ('fears rise persecution', 5), ('aid announced', 5), ('linked acts illegal', 5), ('rise persecution', 5), ('depth migrant crisis', 5), ('shore companies', 5), ('quiet diplomacy', 5), ('sex slaves post', 5), ('genocide already', 5), ('selfish', 5), ('names names', 5), ('permanently solve migrant', 5), ('protest stop genocide', 5), ('national assembly unanimously', 5), ('genocide tells', 5), ('camps routinely', 5), ('journey refugee', 5), ('rape brutality', 5), ('state save', 5), ('reminder', 5), ('please stand stop', 5), ('sponsors', 5), ('proved', 5), ('allah please', 5), ('images brought world', 5), ('urges government help', 5), ('government sent military', 5), ('tiger', 5), ('ethnic groups racism', 5), ('say help people', 5), ('depressing', 5), ('unfolding', 5), ('genocide already happened', 5), ('rebuts sudden death', 5), ('gap investment fuelling', 5), ('deserve treated dignity', 5), ('pieces', 5), ('island near', 5), ('give citizenship safety', 5), ('facts names names', 5), ('secret list shore', 5), ('new eastern', 5), ('children protest', 5), ('another live', 5), ('written letter', 5), ('plan move world', 5), ('issue haunts population', 5), ('urges govt', 5), ('escaped says', 5), ('recent days abandoned', 5), ('shocking images brought', 5), ('preplanned genocide', 5), ('dead border', 5), ('vulnerable risking', 5), ('mobile', 5), ('situation nothing less', 5), ('friend grave escaped', 5), ('sees', 5), ('women children protest', 5), ('endured', 5), ('state save life', 5), ('formed tackle issues', 5), ('say nobel peace', 5), ('banned protest', 5), ('workers', 5), ('says accept', 5), ('community migrants', 5), ('permits refugees', 5), ('shortages camp', 5), ('request programme', 5), ('food home', 5), ('solidarity action help', 5), ('knocks teeth man', 5), ('stood', 5), ('card won give', 5), ('banned protest vietnam', 5), ('anti racists grow', 5), ('trapped tussle', 5), ('catholic news', 5), ('ordered provide', 5), ('gain', 5), ('migrants work says', 5), ('stateless southeast photographer', 5), ('decries apartheid state', 5), ('status', 5), ('claims survivor', 5), ('minutes', 5), ('within', 5), ('removed', 5), ('crisis possibly linked', 5), ('investment fuelling genocide', 5), ('detained camps', 5), ('stay crisis', 5), ('devil deep blue', 5), ('wash shore dozens', 5), ('prevent century', 5), ('tackle issues', 5), ('life boat journey', 5), ('secret list', 5), ('women detained camps', 5), ('unabated mass', 5), ('plight world', 5), ('shore dozens', 5), ('winners comments', 5), ('prefer live', 5), ('situation nothing', 5), ('persecution foreign minister', 5), ('creating', 5), ('entire indigenous', 5), ('visiting apartheid', 5), ('trafficking probe', 5), ('discriminated', 5), ('treat minority', 5), ('happens', 5), ('offer green', 5), ('persecution foreign', 5), ('linked acts', 5), ('slaves claims', 5), ('flight cruel', 5), ('long time', 5), ('hunt', 5), ('escape state', 5), ('legs', 5), ('skeptical', 5), ('government help people', 5), ('money news', 5), ('commander', 5), ('people government', 5), ('somewhere', 5), ('islam ready', 5), ('gone', 5), ('already happened', 5), ('shorts banned', 5), ('rise persecution end', 5), ('color', 5), ('mentally', 5), ('refugees arrested demanding', 5), ('honestly', 5), ('protecting delivering', 5), ('reinstate', 5), ('precious', 5), ('mankind', 5), ('crisis affecting', 5), ('propaganda fake pictures', 5), ('refugees island', 5), ('adopt', 5), ('gov genocide', 5), ('zealand', 5), ('flooding food shortages', 5), ('saving honor', 5), ('burn', 5), ('reaching', 5), ('navy stops reporters', 5), ('irony', 5), ('conference end genocide', 5), ('shorts banned protest', 5), ('strangled slowly hope', 5), ('hapless abandoned world', 5), ('genocide entire', 5), ('govt rejects', 5), ('suspect', 5), ('independent catholic news', 5), ('brought world', 5), ('gen ban', 5), ('entire indigenous community', 5), ('expel patients', 5), ('dangerous journey refugee', 5), ('shopping', 5), ('deputy', 5), ('conduct genocide', 5), ('genocide say nobel', 5), ('expected', 5), ('attempts', 5), ('receiving', 5), ('times facing genocide', 5), ('help read', 5), ('article plight', 5), ('stopping', 5), ('stages genocide already', 5), ('won give citizenship', 5), ('united nations high', 5), ('pro', 5), ('persecuted community', 5), ('tough', 5), ('treated dignity', 5), ('read permanently solve', 5), ('investigate', 5), ('identity issue haunts', 5), ('news court', 5), ('stops reporters', 5), ('fit interpreters', 5), ('protest vietnam', 5), ('realized', 5), ('ca', 5), ('ideas accused', 5), ('season', 5), ('son', 5), ('push island near', 5), ('god loves humans', 5), ('navy stops', 5), ('arrested demanding jobs', 5), ('genocide debates', 5), ('channel sky', 5), ('migrants risking lives', 5), ('burmese govt', 5), ('abuses media', 5), ('please protect', 5), ('boat waters', 5), ('mysterious silence', 5), ('happening harassment isolation', 5), ('monks attacking', 5), ('people fleeing', 5), ('nations high', 5), ('camps traffickers', 5), ('army officer learned', 5), ('get water', 5), ('case quiet diplomacy', 5), ('firm', 5), ('news international', 5), ('islam ready reach', 5), ('racists grow stop', 5), ('reject take', 5), ('cruel addressing persecution', 5), ('persecution end', 5), ('protecting delivering shared', 5), ('comments persecuted', 5), ('report women held', 5), ('slowly hope', 5), ('thousands people', 5), ('vulnerable risking lives', 5), ('brutal killing', 5), ('army battalion tortures', 5), ('decries apartheid', 5), ('beloved', 5), ('accept name', 5), ('board member', 5), ('learned profit', 5), ('migrant crisis read', 5), ('stop persecution', 5), ('end ethnic', 5), ('traffickers used sex', 5), ('condemn genocide', 5), ('end ethnic cleansing', 5), ('wants punished', 5), ('help practically', 5), ('style', 5), ('routinely', 5), ('security council face', 5), ('democratic transition', 5), ('persecution causing flight', 5), ('case quiet', 5), ('report early warning', 5), ('states decide', 5), ('grasp', 5), ('part conference', 5), ('join refugees persecution', 5), ('raped killed', 5), ('council face', 5), ('utter', 5), ('sufficient say', 5), ('report express', 5), ('arrange', 5), ('boatloads', 5), ('enemies islam', 5), ('tells security council', 5), ('affecting', 5), ('say nobel', 5), ('people independent', 5), ('racism politically', 5), ('spotlight visiting apartheid', 5), ('proof regime', 5), ('pink shorts banned', 5), ('solve migrant crisis', 5), ('deep blue sea', 5), ('government sent', 5), ('sun daily', 5), ('sparks security', 5), ('senate condemns genocide', 5), ('murders', 5), ('vice', 5), ('third', 5), ('seem', 5), ('escaped recaptured', 5), ('nightmare enemies islam', 5), ('appear', 5), ('verdict', 5), ('senior official said', 5), ('stumbles find new', 5), ('death camp mastermind', 5), ('united states commits', 5), ('granted', 5), ('list shore', 5), ('implement', 5), ('feared', 5), ('humanitarian crisis affecting', 5), ('genocide say', 5), ('time magazine', 5), ('save save humanity', 5), ('urgent appeal', 5), ('action plan', 5), ('practice', 5), ('seeks solution ideas', 5), ('potential terrorists fears', 5), ('please please', 5), ('news court charges', 5), ('killers', 5), ('damn', 5), ('report early', 5), ('announced aid', 5), ('images brought', 5), ('move world', 5), ('read report early', 5), ('genocide world', 5), ('knocks', 5), ('remind', 5), ('shakes hands', 5), ('news news', 5), ('shore dozens corpses', 5), ('believed laid rest', 5), ('brilliant', 5), ('named', 5), ('stand stop', 5), ('stand stop killing', 5), ('professional', 5), ('progress', 5), ('gap investment', 5), ('united nations security', 5), ('days abandoned', 5), ('leaves states decide', 5), ('devil deep', 5), ('group migrants', 5), ('friend grave', 5), ('waste', 5), ('organize', 5), ('chief tells security', 5), ('continues unabated mass', 5), ('crimes humanity', 5), ('island south', 5), ('monk responsible', 5), ('drive', 5), ('culture', 5), ('memo', 5), ('mass murderer', 5), ('strength', 5), ('terrorists border', 5), ('profit crackdown', 5), ('ii crime', 5), ('journalism', 5), ('decide aid', 5), ('people won', 5), ('priorities', 5), ('cannot stay', 5), ('praise', 5), ('nobel silence', 5), ('reporters approaching', 5), ('news details', 5), ('send media', 5), ('celebrity spotlight visiting', 5), ('god loves', 5), ('middle eastern', 5), ('delivering shared', 5), ('military knocks teeth', 5), ('monks anti', 5), ('camps women', 5), ('prize winners comments', 5), ('people independent catholic', 5), ('reminds', 5), ('activist annual', 5), ('sending', 5), ('offers help refugees', 5), ('camps report express', 5), ('reject take back', 5), ('double standards', 5), ('world save', 5), ('legislators pass', 5), ('latest protests remarks', 5), ('women world', 5), ('century ss', 5), ('assets', 5), ('affairs defense abuse', 5), ('possibly linked', 5), ('hapless abandoned', 5), ('organisation', 5), ('crimes minority post', 5), ('times facing', 5), ('anyone help inquiry', 5), ('spotlight visiting', 5), ('ransom', 5), ('end wise', 5), ('linked', 5), ('century ss louis', 5), ('anyone help anyone', 5), ('touch genocide', 5), ('laid', 5), ('take advantage', 5), ('poverty', 5), ('jewish journal decries', 5), ('debates budget', 5), ('minds', 5), ('columnist', 5), ('authorities given', 5), ('minister crisis', 5), ('house stranded', 5), ('raising money', 5), ('enemies', 5), ('seems like', 5), ('public opinion', 5), ('acting', 5), ('shelter north', 5), ('look like', 5), ('acts illegal', 5), ('exploits', 5), ('fuelling genocide community', 5), ('human rights watch', 5), ('brutally killed', 5), ('deliver', 5), ('resettle refugees', 5), ('states commits', 5), ('part ii crime', 5), ('honor humanity', 5), ('crazy', 5), ('migrant crisis plight', 5), ('human rights council', 5), ('shocking images', 5), ('urgent needs', 5), ('arriving', 5), ('blue sea', 5), ('numbers', 5), ('recognizes', 5), ('near refugee camp', 5), ('grow stop', 5), ('rebuts', 5), ('humans people suffering', 5), ('tension', 5), ('wants punished abuse', 5), ('inc', 5), ('institutional', 5), ('media issue', 5), ('home minister says', 5), ('atrocities committed', 5), ('crisis fails mention', 5), ('fellow nobel', 5), ('move refugees island', 5), ('front page', 5), ('fantastic', 5), ('deplorable', 5), ('terrorists fears rise', 5), ('building', 4), ('largest single', 4), ('use free selves', 4), ('daily stories', 4), ('genocide brutality', 4), ('lives escape', 4), ('openly calls kill', 4), ('anti migrant protests', 4), ('genocide gas', 4), ('surrenders senior', 4), ('situation migrants', 4), ('say deserve citizenship', 4), ('ideas accused reporter', 4), ('camp highlight plight', 4), ('email brief', 4), ('affecting product', 4), ('refer', 4), ('writing find root', 4), ('regarding genocide', 4), ('hiring read latest', 4), ('best luck', 4), ('try get water', 4), ('monk treatment', 4), ('strict', 4), ('rescued ship', 4), ('norway gov genocide', 4), ('lunch', 4), ('blog post', 4), ('currently throes massive', 4), ('flee genocide keep', 4), ('refugees genocide migrants', 4), ('part democratic', 4), ('trafficking camps gang', 4), ('fleeing threat genocide', 4), ('pictures regarding', 4), ('thats', 4), ('national assembly passes', 4), ('designated terrorist group', 4), ('gap exploits cheap', 4), ('risky', 4), ('stateless vulnerable international', 4), ('risking lives sea', 4), ('prof green', 4), ('hats', 4), ('instead highlighting', 4), ('email brief interview', 4), ('shines spotlight actor', 4), ('nobel laureate keeps', 4), ('online want email', 4), ('hoping', 4), ('woman chases dream', 4), ('protest government aid', 4), ('genocidal blockage dying', 4), ('approaches', 4), ('voice people', 4), ('plead', 4), ('regime pas', 4), ('tempo', 4), ('nameless dead local', 4), ('new times wants', 4), ('news bar', 4), ('joins designated', 4), ('heavy rain', 4), ('norway gov', 4), ('cause violence genocide', 4), ('migrants tried land', 4), ('delegation asked accept', 4), ('openly calls', 4), ('built allah', 4), ('raised voice', 4), ('inc latest', 4), ('problem refugees', 4), ('suffering humanity', 4), ('remember brothers sisters', 4), ('visit camp', 4), ('lifestyle', 4), ('time stand country', 4), ('brief interview crisis', 4), ('single word', 4), ('food cooking', 4), ('crocodile', 4), ('broken', 4), ('instability', 4), ('young woman chases', 4), ('aid meeting', 4), ('victims genocide', 4), ('north soon built', 4), ('notice situation', 4), ('detained mass', 4), ('testing relations', 4), ('tackle hardships trafficking', 4), ('decides', 4), ('thank shining', 4), ('remarkable', 4), ('update lands migrants', 4), ('non buddhists', 4), ('buddhists violent', 4), ('options', 4), ('league', 4), ('served', 4), ('better jobs', 4), ('gets nobel prize', 4), ('pay attention', 4), ('gap exploits', 4), ('whose', 4), ('retweet another', 4), ('hypocritical', 4), ('crisis tests patience', 4), ('facing textbook', 4), ('worlds persecuted', 4), ('thousands testing relations', 4), ('moslem', 4), ('speak behalf persecuted', 4), ('day stop', 4), ('burmese citizens', 4), ('ping', 4), ('silence countries', 4), ('eastern public opinion', 4), ('camps routinely gang', 4), ('special committee present', 4), ('act stop', 4), ('refugees hope peaceful', 4), ('raped little', 4), ('decisive action sign', 4), ('host refugees stranded', 4), ('approach aiding', 4), ('remember brothers', 4), ('horrific genocide', 4), ('mum often', 4), ('deport', 4), ('dispossession', 4), ('cause genocide', 4), ('work issue', 4), ('scape', 4), ('arrest disaster news', 4), ('continuously', 4), ('newcastle civic', 4), ('stateless starving', 4), ('shelter north soon', 4), ('discovered', 4), ('treatment representative', 4), ('depends', 4), ('arrive', 4), ('focusing', 4), ('living got', 4), ('aid trapped bay', 4), ('kill meeting', 4), ('winners president', 4), ('read please retweet', 4), ('like conditions', 4), ('read share genocide', 4), ('religion geopolitics conflict', 4), ('signed', 4), ('fasting prayers', 4), ('speaker', 4), ('dead local', 4), ('destroyed', 4), ('somehow made', 4), ('issue addressed', 4), ('long ordeal sea', 4), ('newcastle', 4), ('raise money', 4), ('calls taking', 4), ('peaceful people', 4), ('willing say deserve', 4), ('vital', 4), ('prisoner', 4), ('reveals', 4), ('billion', 4), ('genocide nobel', 4), ('refusing gov offer', 4), ('map', 4), ('handle', 4), ('sexually abused', 4), ('urges restore', 4), ('upon government', 4), ('youth post', 4), ('instability fake photos', 4), ('lasting', 4), ('long ordeal', 4), ('refugees sea', 4), ('economic refugees', 4), ('committee present recommendations', 4), ('citizens world', 4), ('protest show solidarity', 4), ('hopes spend', 4), ('minute', 4), ('aside', 4), ('take immediate', 4), ('home minister home', 4), ('people country', 4), ('celebrity spotlight people', 4), ('previous', 4), ('bunch', 4), ('genocide stink', 4), ('fine', 4), ('geopolitics roundup week', 4), ('hits', 4), ('genocide stink like', 4), ('pair', 4), ('migrants reach', 4), ('ensure', 4), ('injustices', 4), ('return nobel', 4), ('indicate', 4), ('solidarity fasting prayers', 4), ('inexcusable silence', 4), ('go ground', 4), ('find humanity', 4), ('authorities gave', 4), ('anonymous', 4), ('limited', 4), ('principles', 4), ('action sign petition', 4), ('job click', 4), ('die sea nobel', 4), ('tool', 4), ('thoughts', 4), ('hour', 4), ('pleasure', 4), ('bias', 4), ('thousands testing', 4), ('action plan se', 4), ('spotlight associated', 4), ('gang raped used', 4), ('financial express', 4), ('base', 4), ('pulls plug', 4), ('peacefully problems', 4), ('image', 4), ('painful', 4), ('dear journalist', 4), ('update lands', 4), ('regional star online', 4), ('first shelter north', 4), ('jungle camps traffickers', 4), ('face indictment', 4), ('news plight', 4), ('crisis summit', 4), ('regime pas delegate', 4), ('causing migrant', 4), ('first time spoke', 4), ('crisis world', 4), ('people cover story', 4), ('beauty', 4), ('offer green cards', 4), ('suspects face indictment', 4), ('business human smugglers', 4), ('says report injustice', 4), ('news says', 4), ('raped little girls', 4), ('report injustice', 4), ('quite', 4), ('oppressors', 4), ('association', 4), ('cultural city', 4), ('count', 4), ('take seriously', 4), ('working people', 4), ('guests', 4), ('end discrimination says', 4), ('elements seen', 4), ('actor makes heartbreaking', 4), ('says report', 4), ('textbook case genocide', 4), ('address plight news', 4), ('nationwide violence', 4), ('people people', 4), ('young woman', 4), ('shunned', 4), ('arab news arab', 4), ('free selves free', 4), ('woman chases', 4), ('supposed', 4), ('police obtained warrant', 4), ('global news religion', 4), ('appreciated', 4), ('scape real', 4), ('ethnic cleansing government', 4), ('insults elements', 4), ('country persecuted minority', 4), ('times correspondent military', 4), ('responsible crisis', 4), ('genocide human', 4), ('arabia calls', 4), ('place needs', 4), ('defeated', 4), ('world take', 4), ('holy', 4), ('stage protest show', 4), ('remember prayers', 4), ('behind genocide', 4), ('vows tips', 4), ('monk treatment representative', 4), ('crisis south east', 4), ('social affairs ministry', 4), ('take serious note', 4), ('things right', 4), ('mentally sick', 4), ('plight minority', 4), ('shit', 4), ('lived', 4), ('mas', 4), ('agreed', 4), ('use help refugees', 4), ('widespread', 4), ('fails mention word', 4), ('shut', 4), ('conversation genocide', 4), ('gov genocide judge', 4), ('daily times', 4), ('anonym', 4), ('sir request programme', 4), ('anti migrant', 4), ('fleeing stop migrant', 4), ('used smuggle', 4), ('media power', 4), ('fleeing stop', 4), ('images drawing', 4), ('people ethnic', 4), ('responding', 4), ('links instability fake', 4), ('parallels genocide alarming', 4), ('vulnerable international', 4), ('keep prayers', 4), ('finding', 4), ('fall', 4), ('fear camp', 4), ('genocide instead highlighting', 4), ('actor joins', 4), ('kills', 4), ('peace laureates news', 4), ('govt take', 4), ('invoke', 4), ('people crammed', 4), ('se boat people', 4), ('dying slowly', 4), ('see latest', 4), ('refugees loose', 4), ('action help persecuted', 4), ('solution refugee crisis', 4), ('protest group', 4), ('tortured killed', 4), ('heart breaking', 4), ('facing textbook case', 4), ('self', 4), ('iranians', 4), ('rebels', 4), ('persecuted minorities world', 4), ('free selves', 4), ('retweet another live', 4), ('government aid', 4), ('move things right', 4), ('party leader openly', 4), ('testing relations southeast', 4), ('donate support please', 4), ('genocide conference', 4), ('southeast refugee crisis', 4), ('celebrity spotlight associated', 4), ('human rights activists', 4), ('senate passed', 4), ('general surrenders senior', 4), ('arabia calls upon', 4), ('grabbed', 4), ('photos migrants', 4), ('people refugees', 4), ('nowhere home', 4), ('urges speak', 4), ('please retweet another', 4), ('please spread', 4), ('gratitude', 4), ('times wants stop', 4), ('called reform', 4), ('part campaign event', 4), ('rescued navy', 4), ('help countries', 4), ('split', 4), ('protesting resettlement', 4), ('southeast links instability', 4), ('rally urges', 4), ('repeat', 4), ('lawyers stage', 4), ('state wants', 4), ('puts spotlight', 4), ('voice raised', 4), ('gen ban moon', 4), ('welcoming', 4), ('throes massive', 4), ('likely adopt resolution', 4), ('actor mat', 4), ('exodus thousands testing', 4), ('plight migrants ever', 4), ('succeed edwards', 4), ('transit camp', 4), ('migrants ever', 4), ('thousands killed', 4), ('vague', 4), ('migrants plight', 4), ('refugees genocide silent', 4), ('says mass', 4), ('proposing response', 4), ('mon', 4), ('island char', 4), ('blow', 4), ('genocide instead', 4), ('take action help', 4), ('worry govt', 4), ('super', 4), ('exploits cheap labor', 4), ('calls upon government', 4), ('escaping', 4), ('pretending', 4), ('spoke country persecuted', 4), ('longstanding', 4), ('government unveils aid', 4), ('bids farewell nameless', 4), ('ships reach stranded', 4), ('bride', 4), ('take migrants', 4), ('double standard', 4), ('victims human trafficking', 4), ('inside nu', 4), ('make difference', 4), ('tarnished silence', 4), ('living got citizenship', 4), ('commission likely adopt', 4), ('pure', 4), ('people working', 4), ('sleep', 4), ('likes', 4), ('assembly unanimously passes', 4), ('daily heartbreaking', 4), ('rescue end boat', 4), ('speaks news', 4), ('video ana daily', 4), ('mass graves migrants', 4), ('smuggle', 4), ('nations going turn', 4), ('spotlight people working', 4), ('wants help', 4), ('struggle survive', 4), ('genocide migrants', 4), ('violence commemoration', 4), ('fox', 4), ('recaptured migrants', 4), ('condemnable get', 4), ('certainly', 4), ('suffering humanity call', 4), ('flee genocide', 4), ('detained human', 4), ('unwilling', 4), ('values', 4), ('minister home ministry', 4), ('crisis south', 4), ('crisis spawns', 4), ('people sea', 4), ('war terror', 4), ('video ana', 4), ('laureate keeps mum', 4), ('tortures passerby daily', 4), ('speak persecuted', 4), ('humanity call', 4), ('designated terrorist', 4), ('social affairs', 4), ('uncaring policy', 4), ('voices inside nu', 4), ('world said', 4), ('support please', 4), ('genocide go', 4), ('victims barbarism', 4), ('passion', 4), ('delay', 4), ('development', 4), ('says citizens express', 4), ('next week sponsors', 4), ('mission post', 4), ('radical buddhists violent', 4), ('equality', 4), ('keeps mum', 4), ('grief', 4), ('daily heartbreaking story', 4), ('warm', 4), ('tips aid meeting', 4), ('trapped bay', 4), ('actor makes', 4), ('middle eastern public', 4), ('throes', 4), ('become stateless', 4), ('generous', 4), ('world huddled camps', 4), ('long persecuted', 4), ('support please retweet', 4), ('adopt resolution', 4), ('latest job opening', 4), ('world huddled', 4), ('face genocide option', 4), ('increase', 4), ('remote island char', 4), ('major worry govt', 4), ('sea refugee', 4), ('resolution next week', 4), ('proud filipino', 4), ('world said never', 4), ('lives ask', 4), ('arabs', 4), ('silence condemnable', 4), ('crisis crisis crisis', 4), ('pulls', 4), ('ordeal sea', 4), ('says sheltered', 4), ('independence', 4), ('conflict inc', 4), ('police obtained', 4), ('et', 4), ('gang rape', 4), ('condemnable', 4), ('present recommendations', 4), ('rests', 4), ('migrants protest group', 4), ('star visits', 4), ('excluded', 4), ('helps fuel', 4), ('cool', 4), ('asylum seeker', 4), ('news tribe', 4), ('villagers', 4), ('offshore', 4), ('highlight plight persecuted', 4), ('dream peace', 4), ('behalf members', 4), ('says stop minority', 4), ('stop migrant', 4), ('peak gets nobel', 4), ('anti trafficking rhetoric', 4), ('roundup', 4), ('vice president', 4), ('fight regime pas', 4), ('blindness', 4), ('keeps mum often', 4), ('genocide massacre', 4), ('denies guilt', 4), ('invoke stop', 4), ('laureates news', 4), ('crackdown crackdown', 4), ('refugees fear camp', 4), ('quote', 4), ('news lands migrants', 4), ('adopt resolution next', 4), ('sparks security crackdown', 4), ('campaign event', 4), ('nothing nothing', 4), ('refugees held', 4), ('elections politics', 4), ('government aid trapped', 4), ('letting', 4), ('stop minority', 4), ('feature', 4), ('stateless refugees', 4), ('modern day', 4), ('slowly ghettos', 4), ('camps traffickers raped', 4), ('democratic transition needs', 4), ('news religion', 4), ('people stand', 4), ('wake call', 4), ('assembly passes', 4), ('needs take seriously', 4), ('relocation plans', 4), ('raped used', 4), ('hiding', 4), ('go back', 4), ('silence regarding genocide', 4), ('people prime', 4), ('regime trying', 4), ('citizenship forced', 4), ('speak persecuted people', 4), ('plight islam', 4), ('camps urgently need', 4), ('genocide nationwide violence', 4), ('publishes', 4), ('crisis buddhists', 4), ('peace justice', 4), ('plug sea transit', 4), ('weeks scenes desperate', 4), ('fueling', 4), ('royal', 4), ('help foreign', 4), ('sympathies', 4), ('luck', 4), ('nationalists', 4), ('continue flee', 4), ('deliberately', 4), ('graves migrants', 4), ('risking lives escape', 4), ('report food', 4), ('chases dream', 4), ('moon break silence', 4), ('islam channel sky', 4), ('relations southeast', 4), ('prey kind', 4), ('shah speaks', 4), ('persecution torture', 4), ('somber', 4), ('media remain silent', 4), ('vows tips aid', 4), ('obtained warrant', 4), ('change conversation', 4), ('star women', 4), ('scenes desperate people', 4), ('genocide peak', 4), ('refugees get', 4), ('crisis images drawing', 4), ('like people really', 4), ('built allah contribute', 4), ('council meets', 4), ('discrimination says', 4), ('terms', 4), ('members minority fleeing', 4), ('ironic country genocide', 4), ('humanity read', 4), ('genocide keep dying', 4), ('age', 4), ('returned', 4), ('clips', 4), ('closed business', 4), ('house stranded channel', 4), ('ii crime humanity', 4), ('stranded channel', 4), ('root cause violence', 4), ('drives people', 4), ('sir request', 4), ('conflicts', 4), ('laureates willing say', 4), ('wild', 4), ('free people misery', 4), ('cold', 4), ('traffickers raped', 4), ('face persecution', 4), ('migrants detained human', 4), ('stand country', 4), ('rising', 4), ('request programme issue', 4), ('simple', 4), ('programme issue', 4), ('formed committee relief', 4), ('northern', 4), ('make enjoy peace', 4), ('girls burned', 4), ('take seriously issue', 4), ('population control law', 4), ('lama urges speak', 4), ('laureates willing', 4), ('council meets issue', 4), ('chases', 4), ('humanity call messiah', 4), ('stateless world persecuted', 4), ('save lives ask', 4), ('comes rescue', 4), ('man enslaved', 4), ('deportation', 4), ('efforts people prime', 4), ('crisis plight correspondent', 4), ('causing migrant crisis', 4), ('announce', 4), ('attended', 4), ('retweet retweet refugee', 4), ('ministers', 4), ('influx cause', 4), ('faces women', 4), ('became deaf ago', 4), ('sea try', 4), ('weeping', 4), ('changed', 4), ('manifestation genocide denying', 4), ('migrants done migrants', 4), ('genocide alarming', 4), ('tm', 4), ('deeply disappointed', 4), ('ac', 4), ('welcomes', 4), ('tag', 4), ('says dozens corpses', 4), ('explained seconds', 4), ('trained', 4), ('never world forgotten', 4), ('trying erase history', 4), ('makes heartbreaking visit', 4), ('doubt', 4), ('begging', 4), ('another crisis', 4), ('leader openly', 4), ('asks treat citizens', 4), ('government unveils', 4), ('harmony', 4), ('promised', 4), ('latest job click', 4), ('urges end persecution', 4), ('migrants tokyo', 4), ('needs long', 4), ('arrest warrant', 4), ('fighter', 4), ('indicate govt take', 4), ('seriously issue', 4), ('detained mass graves', 4), ('forward diplomat', 4), ('papers', 4), ('peaceful came ashore', 4), ('light people', 4), ('ban moon break', 4), ('goes approach', 4), ('likely adopt', 4), ('hold protest', 4), ('genocidal regime', 4), ('brought fight identity', 4), ('senators', 4), ('risks leaving', 4), ('address drives', 4), ('assembly adopts resolution', 4), ('showing uncompromising', 4), ('upon government stop', 4), ('writing find', 4), ('assembly adopts', 4), ('across threats', 4), ('heartbreaking visit camp', 4), ('closed business human', 4), ('express solidarity fasting', 4), ('vigil people', 4), ('stop genocide stink', 4), ('boat rescued navy', 4), ('votes', 4), ('humanity genocide', 4), ('refugees crisis', 4), ('recap', 4), ('prepared', 4), ('suggests thousands migrants', 4), ('stop leaving', 4), ('selves free', 4), ('roundup week', 4), ('mysterious silence countries', 4), ('submits memo', 4), ('delegation asked', 4), ('open letter ban', 4), ('blood', 4), ('group stateless', 4), ('need treated burmese', 4), ('passerby', 4), ('migrants reach land', 4), ('says refugees receive', 4), ('job click apply', 4), ('somber farewell nameless', 4), ('done migrants new', 4), ('clamp', 4), ('genocide silent', 4), ('occupied', 4), ('kudos', 4), ('hardly', 4), ('chaos', 4), ('foul', 4), ('nationalist', 4), ('stand solidarity', 4), ('help support', 4), ('scenes desperate', 4), ('carrying refugees', 4), ('dying daily heartbreaking', 4), ('president says', 4), ('presents', 4), ('crisis explained seconds', 4), ('mission navy', 4), ('sa', 4), ('claiming', 4), ('battalion tortures passerby', 4), ('minority fleeing', 4), ('shares', 4), ('govt take serious', 4), ('villagers offered', 4), ('mention word', 4), ('civic centre', 4), ('say something', 4), ('saudi arabia calls', 4), ('instability fake', 4), ('news urges treat', 4), ('enslaved', 4), ('mountainous', 4), ('southeast links', 4), ('infected heat', 4), ('embrace', 4), ('voices inside', 4), ('laureate keeps', 4), ('heroes', 4), ('condemning killings', 4), ('deputy minister', 4), ('stink like', 4), ('uncompromising uncaring', 4), ('urged play', 4), ('pulls plug sea', 4), ('submits', 4), ('mountainous multi cultural', 4), ('urges speak persecuted', 4), ('people misery', 4), ('opinion totally', 4), ('mainstream media', 4), ('wished dead', 4), ('position', 4), ('weakening mass', 4), ('crisis buddhists protest', 4), ('protest atrocities news', 4), ('find humanity read', 4), ('horror camps', 4), ('refugees receive', 4), ('serious note', 4), ('peak gets', 4), ('deserve treated like', 4), ('people prime minister', 4), ('live like people', 4), ('tips aid', 4), ('settling', 4), ('thank much', 4), ('refugees receive aid', 4), ('chases dream peace', 4), ('influx cause major', 4), ('ut protests', 4), ('fascist', 4), ('reform genocide', 4), ('won help', 4), ('burial remains', 4), ('programme issue indicate', 4), ('find root', 4), ('heinous crimes', 4), ('bids somber', 4), ('going turn', 4), ('hopefully', 4), ('says handling', 4), ('darker side buddhism', 4), ('renew', 4), ('drawing attention', 4), ('refugees find safe', 4), ('current situation', 4), ('elite', 4), ('retweet helping', 4), ('get murdered', 4), ('anti trafficking', 4), ('feels', 4), ('regional star', 4), ('treated dignity respect', 4), ('answers youth post', 4), ('gov offer green', 4), ('trafficking suspects face', 4), ('inspiring', 4), ('local villagers', 4), ('minority leaving', 4), ('officers', 4), ('profit crackdown crackdown', 4), ('power move things', 4), ('award', 4), ('translators', 4), ('stink', 4), ('public opinion totally', 4), ('chance settle', 4), ('turn backs', 4), ('somehow', 4), ('moon persecution', 4), ('voice voiceless', 4), ('attacking jails columnist', 4), ('smiling', 4), ('zionist', 4), ('temp', 4), ('labor helps fuel', 4), ('refugee convention', 4), ('calls citizenship news', 4), ('crisis affecting product', 4), ('opening interpreters interpreter', 4), ('expose', 4), ('interior', 4), ('help get', 4), ('found says report', 4), ('conflict inc latest', 4), ('meet refugees', 4), ('interpreter bilingual hiring', 4), ('rights commission likely', 4), ('travellers blindness', 4), ('bury pig', 4), ('crisis images', 4), ('nobel laureates willing', 4), ('shame stop', 4), ('read latest', 4), ('survived', 4), ('report food cooking', 4), ('international business', 4), ('democracy reform', 4), ('responding crisis', 4), ('calls kill', 4), ('north soon', 4), ('selves', 4), ('taking notice situation', 4), ('ad', 4), ('plight travellers blindness', 4), ('became deaf', 4), ('pressure crisis', 4), ('ass', 4), ('silence complicity', 4), ('refugees fear', 4), ('subtitles', 4), ('blockage dying daily', 4), ('trying erase', 4), ('protests planned', 4), ('slow forward diplomat', 4), ('showing uncompromising uncaring', 4), ('end boat', 4), ('hiring read', 4), ('trafficking rhetoric', 4), ('new zealand', 4), ('whilst world', 4), ('erase history', 4), ('sea nobel laureate', 4), ('perfectly', 4), ('regarding massacre', 4), ('refugees protesting resettlement', 4), ('ironic', 4), ('clothing', 4), ('refugees life', 4), ('burmese military', 4), ('help bring', 4), ('fleeing persecution buddhists', 4), ('persecuted people world', 4), ('manifestation', 4), ('protest government', 4), ('genocide silence complicity', 4), ('news migrants stranded', 4), ('jails columnist', 4), ('feelings', 4), ('ever come end', 4), ('issue indicate govt', 4), ('call messiah', 4), ('amnesty international', 4), ('genocide nationwide', 4), ('clamp goes', 4), ('face ethnic', 4), ('representative buddhism', 4), ('starve', 4), ('mixed', 4), ('armed forces', 4), ('enjoy peace', 4), ('single group', 4), ('interior minister', 4), ('mass graves probe', 4), ('bilingual hiring', 4), ('journalist online', 4), ('tibetans', 4), ('hitler like', 4), ('pong', 4), ('help radical buddhists', 4), ('absolute', 4), ('news alerts', 4), ('boycott products', 4), ('designated', 4), ('refugees crowded', 4), ('desperate help', 4), ('expelling', 4), ('genocide keep', 4), ('fleeing threat', 4), ('prize winners president', 4), ('dream peace justice', 4), ('trafficking crisis', 4), ('rally urges end', 4), ('stop genocide boycott', 4), ('crisis spawns anti', 4), ('sat', 4), ('immediate action', 4), ('voice brutality', 4), ('thousands migrants tried', 4), ('brought fight', 4), ('suddenly', 4), ('protest show', 4), ('superpowers', 4), ('cage', 4), ('victims authorities given', 4), ('camp missing', 4), ('years ago', 4), ('minority people', 4), ('multi cultural', 4), ('news urges', 4), ('asked accept', 4), ('publishes census', 4), ('boat used', 4), ('messiah lord', 4), ('transition needs', 4), ('raped used sex', 4), ('ready host refugees', 4), ('things right place', 4), ('stand country persecuted', 4), ('people says', 4), ('sit', 4), ('include', 4), ('rubbish', 4), ('mid', 4), ('crisis nothing nothing', 4), ('spawns', 4), ('migrants take', 4), ('international attention', 4), ('desperate people crammed', 4), ('disappointed silence regarding', 4), ('human smugglers go', 4), ('camps gang raped', 4), ('dateline', 4), ('part democratic transition', 4), ('smugglers go ground', 4), ('thousands members minority', 4), ('free plight migrants', 4), ('torture insults', 4), ('passerby daily', 4), ('cover story', 4), ('refugees detained', 4), ('stop leaving address', 4), ('atrocities news', 4), ('proposes resettlement', 4), ('extreme', 4), ('help foreign minister', 4), ('world help people', 4), ('pope', 4), ('urged pressure', 4), ('tries bar', 4), ('onto', 4), ('needs refugees eligible', 4), ('blocked', 4), ('crisis islam', 4), ('president part', 4), ('man shot', 4), ('allah give', 4), ('persecution torture insults', 4), ('travellers', 4), ('move things', 4), ('overcrowded', 4), ('succeed says', 4), ('spoke country', 4), ('security council meets', 4), ('try get', 4), ('silence media issue', 4), ('dear journalist online', 4), ('photographer dedicated covering', 4), ('members highlighted issue', 4), ('highly', 4), ('mufti', 4), ('plight women', 4), ('insults', 4), ('labor helps', 4), ('lives ask decisive', 4), ('subscription', 4), ('joining', 4), ('local villagers offered', 4), ('whoever', 4), ('hidden genocide', 4), ('genocide room', 4), ('spotlight associated press', 4), ('edwards', 4), ('affecting product genocide', 4), ('cross', 4), ('genocide burmese', 4), ('people nobody', 4), ('welfare trust', 4), ('agency ha', 4), ('says stop leaving', 4), ('escorting', 4), ('issue indicate', 4), ('ever come', 4), ('trafficking rhetoric ignores', 4), ('find safe', 4), ('sign petition humanitarian', 4), ('resolution next', 4), ('asks treat', 4), ('desperation', 4), ('reputation', 4), ('red', 4), ('really want', 4), ('refusing gov', 4), ('strategy', 4), ('geopolitics conflict', 4), ('innocent brutally killed', 4), ('tests patience', 4), ('want stop', 4), ('revolution', 4), ('want make', 4), ('multi cultural city', 4), ('coalition', 4), ('people want', 4), ('infected', 4), ('archbishop', 4), ('targeted', 4), ('enjoy peace year', 4), ('commission likely', 4), ('census minority', 4), ('trafficking case', 4), ('really suffering', 4), ('opening interpreters', 4), ('free plight', 4), ('cause major', 4), ('internally', 4), ('news arab', 4), ('source water', 4), ('discrimination succeed says', 4), ('persecution daily', 4), ('found boat', 4), ('testing', 4), ('quake', 4), ('found sea try', 4), ('australians', 4), ('uncompromising', 4), ('sea images', 4), ('buddhists protest government', 4), ('week sponsors', 4), ('uncompromising uncaring policy', 4), ('geopolitics roundup', 4), ('pictures crisis images', 4), ('islamic countries', 4), ('news headlines', 4), ('health care', 4), ('dead local villagers', 4), ('story middle', 4), ('indicate govt', 4), ('suspected people', 4), ('open letter sec', 4), ('safe haven', 4), ('crisis tests', 4), ('treat citizens news', 4), ('correspondent military', 4), ('wanted people cover', 4), ('tarnished', 4), ('scale migration', 4), ('suspects face', 4), ('thousands fled', 4), ('little girls burned', 4), ('zero', 4), ('refugees refugee camp', 4), ('perspective', 4), ('plan se boat', 4), ('demonstration outside downing', 4), ('liked video ana', 4), ('sea transit', 4), ('exploits cheap', 4), ('exodus thousands', 4), ('volunteers', 4), ('freed', 4), ('job opening', 4), ('migrants recaptured', 4), ('refugee agency ha', 4), ('eventually', 4), ('story middle eastern', 4), ('ministry take', 4), ('highlighted issue', 4), ('says nothing', 4), ('comments made', 4), ('poor people', 4), ('camps urgently', 4), ('cause major worry', 4), ('solution refugee', 4), ('feed family', 4), ('attended dinner', 4), ('old girl', 4), ('somber farewell', 4), ('plug', 4), ('nations security council', 4), ('free people', 4), ('transition needs take', 4), ('pray suffering', 4), ('pregnant', 4), ('never genocide', 4), ('newcastle civic centre', 4), ('lead genocide', 4), ('experts', 4), ('fight identity', 4), ('plan se', 4), ('counting', 4), ('good see', 4), ('protests across threats', 4), ('ordeal sea find', 4), ('barbarism', 4), ('colonial', 4), ('stop migrant crisis', 4), ('news refugee', 4), ('geopolitics conflict inc', 4), ('religion geopolitics roundup', 4), ('online want', 4), ('cause violence', 4), ('minister insider', 4), ('witnessing', 4), ('major worry', 4), ('urges take independent', 4), ('crisis corner', 4), ('help make', 4), ('apartheid like conditions', 4), ('helps fuel genocide', 4), ('problem refugees loose', 4), ('first day', 4), ('want email brief', 4), ('sold bride', 4), ('lawyers stage protest', 4), ('unlimited', 4), ('wow', 4), ('right place needs', 4), ('dedicated covering', 4), ('bids farewell', 4), ('read latest job', 4), ('affairs ministry take', 4), ('leaving address drives', 4), ('proposing', 4), ('protests support', 4), ('came ashore', 4), ('thousands boat', 4), ('invoke stop genocide', 4), ('demonstration outside', 4), ('sea nobel', 4), ('forced leave', 4), ('marriage', 4), ('cheap labor helps', 4), ('mercilessly', 4), ('achieve', 4), ('investments channel news', 4), ('clothes', 4), ('desperate people', 4), ('people working people', 4), ('prime minister ordered', 4), ('relief emergency', 4), ('interview crisis', 4), ('multi', 4), ('learning', 4), ('opened', 4), ('systematic weakening', 4), ('mid sea', 4), ('needs treat minority', 4), ('ne', 4), ('migrants ever come', 4), ('selves free people', 4), ('monk responsible crisis', 4), ('genocide stage', 4), ('determined', 4), ('countries tackle hardships', 4), ('policy towards', 4), ('calls kill meeting', 4), ('general hospital', 4), ('tried land', 4), ('mountainous multi', 4), ('peace year', 4), ('president part democratic', 4), ('reach stranded', 4), ('use help', 4), ('pages', 4), ('victims authorities gave', 4), ('like genocide', 4), ('uncaring policy towards', 4), ('healthy', 4), ('retweet helping blogs', 4), ('giving voice', 4), ('media remain', 4), ('genocide became deaf', 4), ('allah contribute', 4), ('finally someone', 4), ('wrote letter', 4), ('let flee genocide', 4), ('desperate help countries', 4), ('want email', 4), ('navy allows', 4), ('take care children', 4), ('refugees locked', 4), ('world help radical', 4), ('resolved', 4), ('rights activists', 4), ('home ministry says', 4), ('dying daily', 4), ('humiliation', 4), ('camp relocation', 4), ('bids somber farewell', 4), ('illegal immigrants', 4), ('think want', 4), ('brief interview', 4), ('funny', 4), ('report says handling', 4), ('discrimination succeed edwards', 4), ('expressed gratitude', 4), ('torture insults elements', 4), ('stop minority leaving', 4), ('nobel prize revoked', 4), ('renew anti', 4), ('supporters', 4), ('drifting', 4), ('times wants', 4), ('found boat rescued', 4), ('migrant protests', 4), ('minorities world', 4), ('harrowing plight', 4), ('media power move', 4), ('sea transit station', 4), ('graves probe', 4), ('job interpreters interpreter', 4), ('park crisis corner', 4), ('like said', 4), ('bilingual job', 4), ('persecution causing migrant', 4), ('crackdown crackdown trafficking', 4), ('amid crisis buddhists', 4), ('time spoke country', 4), ('sentenced', 4), ('loose', 4), ('seeking better jobs', 4), ('ban moon persecution', 4), ('attendees', 4), ('given burial', 4), ('care children', 4), ('importance', 4), ('links instability', 4), ('insults elements seen', 4), ('help people news', 4), ('soon built allah', 4), ('keep dying slowly', 4), ('leader openly calls', 4), ('share genocide', 4), ('clinic', 4), ('pretty', 4), ('genocide peak gets', 4), ('stark', 4), ('silence media', 4), ('pray pray', 4), ('minister ordered', 4), ('nobel institute', 4), ('genocide denying', 4), ('first shelter', 4), ('found says', 4), ('home minister insider', 4), ('towards stateless', 4), ('side buddhism', 4), ('product genocide', 4), ('got citizenship', 4), ('sent regards', 4), ('appeal help', 4), ('space', 4), ('final', 4), ('rhetoric ignores', 4), ('make enjoy', 4), ('goes approach aiding', 4), ('protest group migrants', 4), ('shelter refugees', 4), ('bold', 4), ('dying slowly ghettos', 4), ('largest single group', 4), ('central', 4), ('news arab news', 4), ('country genocide peak', 4), ('interpreter bilingual job', 4), ('hopes peaceful', 4), ('killing world said', 4), ('live streaming', 4), ('opposition cruelty', 4), ('national assembly adopts', 4), ('genocide international', 4), ('refugees eligible', 4), ('voice plight', 4), ('single group stateless', 4), ('jihad buddhists', 4), ('sea try get', 4), ('shown', 4), ('denounce', 4), ('treated burmese citizens', 4), ('genocide front', 4), ('camp relocation plans', 4), ('ministry take care', 4), ('expel ex', 4), ('pix', 4), ('camps gang', 4), ('plan relocate', 4), ('soft', 4), ('boats carrying', 4), ('tm insider', 4), ('shah speaks news', 4), ('plug sea', 4), ('citizens express', 4), ('weeks ago', 4), ('anymore', 4), ('displaced persons', 4), ('bans fleeing stop', 4), ('aid measures', 4), ('se boat', 4), ('soon built', 4), ('ironic country', 4), ('pictures regarding massacre', 4), ('silent genocide room', 4), ('behalf persecuted', 4), ('hardships trafficking', 4), ('gov offer', 4), ('stateless world', 4), ('extent', 4), ('white cards', 4), ('calls taking notice', 4), ('violence genocide instead', 4), ('lacking', 4), ('planet', 4), ('wade', 4), ('smugglers go', 4), ('renew anti protests', 4), ('manifestation genocide', 4), ('buddhists renew', 4), ('tin', 4), ('urged play role', 4), ('stop genocide front', 4), ('infographic', 4), ('video trail', 4), ('say deserve', 4), ('treated burmese', 4), ('disgrace', 4), ('cows', 4), ('deaf ago', 4), ('dead harrowing', 4), ('lives sea', 4), ('buddhists renew anti', 4), ('refugees detained mass', 4), ('turn back', 4), ('darker side', 4), ('good job', 4), ('greens', 4), ('people crisis spawns', 4), ('like support', 4), ('transit station', 4), ('tortures passerby', 4), ('respected', 4), ('year old girl', 4), ('joins designated terrorist', 4), ('people place', 4), ('live peacefully problems', 4), ('please give', 4), ('leaders media', 4), ('seeking better', 4), ('blockage dying', 4), ('bitter', 4), ('tries bar fleeing', 4), ('open doors', 4), ('unabated mass graves', 4), ('policy towards stateless', 4), ('publishes census minority', 4), ('awesome', 4), ('take refugees', 4), ('emergency fund', 4), ('routinely gang raped', 4), ('change conversation genocide', 4), ('local man', 4), ('silence condemnable get', 4), ('slow genocide committed', 4), ('forced live', 4), ('security crackdown', 4), ('estimated', 4), ('genocide judge', 4), ('joint', 4), ('thugs', 4), ('power move', 4), ('discriminatory', 4), ('treatment representative buddhism', 4), ('show solidarity news', 4), ('aid trapped', 4), ('pushed back', 4), ('calling nobel', 4), ('sea find humanity', 4), ('meets issue', 4), ('new article', 4), ('emergency aid', 4), ('behalf members highlighted', 4), ('clamp goes approach', 4), ('committee present', 4), ('keep dying', 4), ('control law', 4), ('disaster news', 4), ('business human', 4), ('minister ordered provide', 4), ('wished', 4), ('butchering', 4), ('people speak', 4), ('spawns anti trafficking', 4), ('fresh', 4), ('members highlighted', 4), ('proposes resettlement refugees', 4), ('take independent', 4), ('campaign help', 4), ('provide humanitarian', 4), ('find root cause', 4), ('lasting solution', 4), ('calling nobel peace', 4), ('lately', 4), ('protect people', 4), ('news calls', 4), ('migrants tried', 4), ('help situation', 4), ('willing say', 4), ('drowning', 4), ('camps report food', 4), ('news religion geopolitics', 4), ('patient', 4), ('peak', 4), ('followers', 4), ('refugees protesting', 4), ('call messiah lord', 4), ('see latest job', 4), ('accounts refugees', 4), ('address plight genocide', 4), ('gets nobel', 4), ('graves found says', 4), ('right place', 4), ('deluded', 4), ('asked accept name', 4), ('condemnable get murdered', 4), ('announced aid measures', 4), ('affairs ministry', 4), ('widely', 4), ('ethnic fleeing', 4), ('voice stop', 4), ('chief says refugees', 4), ('ping pong', 4), ('specially', 4), ('silence regarding', 4), ('eastern public', 4), ('wished dead harrowing', 4), ('routinely gang', 4), ('normal', 4), ('moon break', 4), ('authorities given burial', 4), ('plight travellers', 4), ('modern slavery', 4), ('organisations', 4), ('fear camp relocation', 4), ('find safe haven', 4), ('saudi cabinet', 4), ('allah make enjoy', 4), ('denied citizenship forced', 4), ('rich countries', 4), ('spawns anti', 4), ('catch', 4), ('innocent brutally', 4), ('people really suffering', 4), ('donate support', 4), ('makes heartbreaking', 4), ('resettlement refugees', 4), ('airstrikes', 4), ('noticed', 4), ('opposition leader', 4), ('peaceful religion', 4), ('job opening interpreters', 4), ('solidarity fasting', 4), ('adopts resolution', 4), ('chief says', 4), ('condemns genocide news', 4), ('minority fleeing persecution', 4), ('international call', 4), ('news bar fleeing', 4), ('southeast refugee', 4), ('prize revoked', 4), ('troubled', 4), ('currently throes', 4), ('crisis nothing', 4), ('people need help', 4), ('need food', 4), ('large scale migration', 4), ('urged pressure crisis', 4), ('help radical', 4), ('solve issue', 4), ('deeply disappointed silence', 4), ('journalist online want', 4), ('tackle hardships', 4), ('use free', 4), ('struggle survival', 3), ('backs wise words', 3), ('allows stranded', 3), ('promote white', 3), ('end mission free', 3), ('blessing', 3), ('emaciated', 3), ('group chief', 3), ('forums', 3), ('traditional concert', 3), ('times online', 3), ('close eyes', 3), ('killed people', 3), ('raises refugees', 3), ('home provide food', 3), ('group people', 3), ('tho', 3), ('escape state wants', 3), ('conference international call', 3), ('genocide butchered', 3), ('action stop', 3), ('abandoned sea migrants', 3), ('threats attacks', 3), ('unprecedented fucked', 3), ('approves proposal', 3), ('long past', 3), ('issue burial remains', 3), ('persecution behind migrant', 3), ('began pour stories', 3), ('wonderful', 3), ('crisis meeting', 3), ('genocide stage prior', 3), ('lies genocide', 3), ('issues arrest warrant', 3), ('know place', 3), ('photos solidarity', 3), ('refugee raped another', 3), ('persecution fake', 3), ('pas delegate said', 3), ('aid news', 3), ('state never', 3), ('state never genocide', 3), ('dollar queen', 3), ('thanks government', 3), ('pair reporting', 3), ('miserable', 3), ('unreal', 3), ('turning blind eye', 3), ('serving', 3), ('allows stranded migrants', 3), ('guardian rejects', 3), ('day solidarity', 3), ('watch live discussion', 3), ('end prosecution pair', 3), ('prior', 3), ('bottom', 3), ('seekers callers responds', 3), ('knew', 3), ('silent human rights', 3), ('crisis issue', 3), ('silent genocide people', 3), ('effected', 3), ('flee horror camps', 3), ('statements', 3), ('wrath', 3), ('religious education refugees', 3), ('state look recruit', 3), ('spurs mass displacement', 3), ('happening world', 3), ('friends burmese', 3), ('displaced face', 3), ('sad plight', 3), ('orphan', 3), ('join hands', 3), ('save protesters', 3), ('persecutions', 3), ('tale', 3), ('support persecuted', 3), ('world respond', 3), ('world leaders know', 3), ('chin', 3), ('sea new eastern', 3), ('determined help back', 3), ('stage protest detention', 3), ('part world', 3), ('genocide justice', 3), ('islamic nations', 3), ('get head', 3), ('labour', 3), ('old survivor', 3), ('denounced', 3), ('left sea images', 3), ('stranded mid', 3), ('announcement', 3), ('brethren', 3), ('world shame', 3), ('tackle straits times', 3), ('thousands leave', 3), ('thousands hold', 3), ('tepid', 3), ('world killing', 3), ('story media', 3), ('drives take terrible', 3), ('trafficking camp', 3), ('spurs mass', 3), ('international president discuss', 3), ('found taken', 3), ('genuine genocide', 3), ('new questions', 3), ('migrant crisis br', 3), ('resolution unanimously', 3), ('people burmese', 3), ('irresponsible', 3), ('victims emotions', 3), ('persecution genocide conference', 3), ('group stateless people', 3), ('crisis watch', 3), ('generals know', 3), ('officer suspected people', 3), ('boat turn back', 3), ('increased reward donate', 3), ('scarifies', 3), ('record', 3), ('iraqi', 3), ('women rest', 3), ('leaders urged', 3), ('asks world take', 3), ('please spread genocide', 3), ('killed military', 3), ('insurgents', 3), ('speaks persecution', 3), ('refugee children', 3), ('genocide people guardian', 3), ('commander learnt', 3), ('passed resolution unanimously', 3), ('villagers offered quiet', 3), ('toddler', 3), ('minister temporary', 3), ('surrenders face human', 3), ('author champions cause', 3), ('presidency grasp', 3), ('new south', 3), ('journalists reporting', 3), ('bro', 3), ('dodges citizenship', 3), ('unicef', 3), ('man enslaved years', 3), ('survivor describes', 3), ('census minority recognized', 3), ('quit', 3), ('help laments group', 3), ('circulating', 3), ('says news', 3), ('edge markets', 3), ('send help', 3), ('comments show', 3), ('provision', 3), ('stateless proposing', 3), ('photographers', 3), ('attended dinner region', 3), ('persecution continues', 3), ('use name', 3), ('humble', 3), ('stateless rape', 3), ('slowly visiting', 3), ('stage prior', 3), ('warned pics', 3), ('thank shining light', 3), ('video struggle', 3), ('pushed back sea', 3), ('relocate uninhabitable', 3), ('welcomed', 3), ('regarding work', 3), ('endured trafficked women', 3), ('world precarious limbo', 3), ('lobby', 3), ('forms special committee', 3), ('govt urges govt', 3), ('children funny', 3), ('religious education', 3), ('fox news', 3), ('cases', 3), ('caring', 3), ('plight equality', 3), ('obtained warrant th', 3), ('sea new', 3), ('please arrange program', 3), ('migrants begging', 3), ('world attention anyone', 3), ('child tortured', 3), ('wallah', 3), ('inhumanely tortured', 3), ('unwanted land', 3), ('ticket', 3), ('island south guardian', 3), ('silent heinous crimes', 3), ('government officials', 3), ('really helps', 3), ('horrendous plight women', 3), ('voices stateless', 3), ('nowhere go', 3), ('behind migrant', 3), ('revoked done nothing', 3), ('help migrants tokyo', 3), ('ethnic rebels troubles', 3), ('awake', 3), ('killing human', 3), ('disaster lieutenant', 3), ('step help', 3), ('trafficking police', 3), ('unbelievable', 3), ('religious right', 3), ('suffers', 3), ('value', 3), ('suicide', 3), ('migrants focus', 3), ('remained', 3), ('interests', 3), ('save world', 3), ('help back home', 3), ('people latest', 3), ('migrants mentally sick', 3), ('funds help', 3), ('treatment minority', 3), ('internally displaced face', 3), ('wear black day', 3), ('unprecedented', 3), ('call seekers callers', 3), ('migrants thought', 3), ('laments', 3), ('news migrant recounts', 3), ('shake', 3), ('vows living', 3), ('plans relocate', 3), ('inquiry shocking', 3), ('genocide exodus', 3), ('military begins search', 3), ('prevention', 3), ('unregistered among', 3), ('fleeing address plight', 3), ('forms special', 3), ('nation earth', 3), ('genocide denying genocide', 3), ('heat rash', 3), ('like said change', 3), ('name row abuses', 3), ('countries refuse', 3), ('attention anyone help', 3), ('killing raping', 3), ('refers', 3), ('care refugees', 3), ('let world', 3), ('freed persecution state', 3), ('bed', 3), ('trafficking suspect', 3), ('condemns brutality', 3), ('successfully', 3), ('world expert dozens', 3), ('calls helping', 3), ('wish people', 3), ('donated food', 3), ('girls burned temples', 3), ('favour regards', 3), ('response migrant crisis', 3), ('tl', 3), ('genocide power', 3), ('persecution violence', 3), ('shedding much', 3), ('refugee raped', 3), ('pl stop', 3), ('move huddled', 3), ('silent world', 3), ('part crime', 3), ('denounced saudi cabinet', 3), ('says insider', 3), ('delegate said', 3), ('video voices', 3), ('proceeds', 3), ('ordeals endured', 3), ('describes ordeals', 3), ('massacre end mysterious', 3), ('genocide please', 3), ('often driven homes', 3), ('announced food', 3), ('stateless proposing response', 3), ('moment push', 3), ('visa', 3), ('seekers treated', 3), ('never heard', 3), ('olympian', 3), ('genocide international law', 3), ('face acute starvation', 3), ('translators speak', 3), ('fault', 3), ('dishonored women', 3), ('held across', 3), ('imagine woman', 3), ('crisis explains live', 3), ('rash', 3), ('increasing', 3), ('joke', 3), ('injustice scoot flight', 3), ('relief meet', 3), ('inhumanely', 3), ('turning back', 3), ('news refugees', 3), ('constant', 3), ('world trafficker shot', 3), ('arrests point', 3), ('massacre end', 3), ('plight suffering hope', 3), ('says senior', 3), ('emotional video', 3), ('near abc online', 3), ('chopped', 3), ('involve', 3), ('flee horror', 3), ('onto boats', 3), ('rights refugee says', 3), ('try escape sea', 3), ('rain drops drink', 3), ('fathers', 3), ('thousands migrants risking', 3), ('air global', 3), ('working people know', 3), ('nuclear', 3), ('aid read', 3), ('mother sexually', 3), ('persecution like', 3), ('needs long past', 3), ('key voices stateless', 3), ('endured trafficked', 3), ('familiar', 3), ('barely', 3), ('bother', 3), ('human trafficking issue', 3), ('retweet migrants', 3), ('try journalists attempt', 3), ('saved sea', 3), ('migrant crisis news', 3), ('black day', 3), ('ward', 3), ('regular session', 3), ('films', 3), ('forgotten people emotional', 3), ('wife deliver help', 3), ('exploited', 3), ('student request', 3), ('silence plight', 3), ('seek reconciliation nation', 3), ('genocide brutal', 3), ('burmese monks', 3), ('hope solution', 3), ('cross sea', 3), ('face mass', 3), ('issue sun', 3), ('radical buddhism', 3), ('conf', 3), ('bring greater', 3), ('man say police', 3), ('stop genocide urgently', 3), ('prime minister approves', 3), ('concert', 3), ('works', 3), ('organizations silent', 3), ('deliver help', 3), ('used heroes', 3), ('encourage', 3), ('request implement', 3), ('bought', 3), ('remove patients', 3), ('sea misery', 3), ('ignoring genocide', 3), ('stranded migrants return', 3), ('barbarism persecuted desperate', 3), ('burmese organisation', 3), ('countries refugees', 3), ('civilized', 3), ('year old survivor', 3), ('fellow nobel laureate', 3), ('genocide violence', 3), ('main root', 3), ('let die', 3), ('young girl', 3), ('takes positive', 3), ('denounces', 3), ('ethnic cleansing denounced', 3), ('senior scholars council', 3), ('close eyes genocide', 3), ('news says needs', 3), ('celebrity spotlight free', 3), ('burmese police', 3), ('sign petition help', 3), ('coverage terrorist', 3), ('sets', 3), ('sad state', 3), ('help times', 3), ('messiah lord divine', 3), ('hiring click apply', 3), ('news denies persecution', 3), ('appeal tune', 3), ('protesters demand', 3), ('recitation opening ut', 3), ('whenever', 3), ('infected heat rash', 3), ('left dark missing', 3), ('callers responds try', 3), ('lieutenant general', 3), ('regime deluded', 3), ('end mission post', 3), ('allah help brothers', 3), ('apathy silence', 3), ('calling end', 3), ('future nowhere', 3), ('sea images emaciated', 3), ('ordeals endured trafficked', 3), ('suspected people smuggling', 3), ('appeals authorities', 3), ('stop genocide sign', 3), ('divine', 3), ('centred', 3), ('high ranking', 3), ('uninhabitable', 3), ('victims new', 3), ('consider ways', 3), ('new meeting', 3), ('warm welcome refugees', 3), ('limit', 3), ('recognise calls', 3), ('urges international community', 3), ('live apartheid like', 3), ('brutality raises voice', 3), ('big smiles', 3), ('fleeing violence', 3), ('campaign stateless', 3), ('detention camp', 3), ('afford', 3), ('denounced saudi', 3), ('saudi gazette saudi', 3), ('thru', 3), ('begging help', 3), ('genocide urgently', 3), ('practical', 3), ('women rest temporary', 3), ('human trafficking years', 3), ('prize winners world', 3), ('gulf news', 3), ('action blog', 3), ('sc', 3), ('cooking oil', 3), ('thanks raising', 3), ('grasp general tighten', 3), ('recruitment', 3), ('id cards skeptical', 3), ('government pulls', 3), ('food packs', 3), ('appeals authorities help', 3), ('pressure issue', 3), ('commentary stays', 3), ('wants help laments', 3), ('community genocide', 3), ('international call end', 3), ('higher', 3), ('envoy says', 3), ('communal violence', 3), ('proposals persecution daily', 3), ('cows kill', 3), ('ticking', 3), ('pleas recognise calls', 3), ('looks like', 3), ('cleaning', 3), ('people rescue', 3), ('portrait', 3), ('endure', 3), ('persecution state', 3), ('emerging', 3), ('corner says', 3), ('revealed role abuse', 3), ('begins search', 3), ('people back', 3), ('racial discrimination', 3), ('systematic persecution', 3), ('receive migrants says', 3), ('incite', 3), ('genocide needs', 3), ('received victims', 3), ('meet get hague', 3), ('funding', 3), ('echoes', 3), ('crisis post', 3), ('turn blind', 3), ('cause crisis', 3), ('following multinational', 3), ('payments', 3), ('quick', 3), ('thousands lives', 3), ('emaciated stranded mid', 3), ('opinion totally schizophrenic', 3), ('play role solving', 3), ('burn tires protests', 3), ('rights news', 3), ('foreign affairs', 3), ('persecution fake pictures', 3), ('opens', 3), ('empress accessory genocide', 3), ('stateless starvation', 3), ('village times correspondent', 3), ('genocidal regime deluded', 3), ('issue leaders', 3), ('presidency grasp general', 3), ('retweet men', 3), ('plight sin chew', 3), ('refugees fled', 3), ('dill', 3), ('plight sin', 3), ('genocide used', 3), ('guest', 3), ('responds call', 3), ('silent brutal', 3), ('plenary', 3), ('name showed', 3), ('crisis depends', 3), ('lens', 3), ('proportion', 3), ('free tool', 3), ('rain water', 3), ('keep allah', 3), ('take advantage increased', 3), ('new help situation', 3), ('heightens', 3), ('intervention', 3), ('pour stories grief', 3), ('foreign relations', 3), ('rest temporary', 3), ('desperate migrants', 3), ('man shot tries', 3), ('betrayed', 3), ('refugees language part', 3), ('whats happening', 3), ('portraits life struggle', 3), ('background', 3), ('action persecution genocide', 3), ('stranded channel news', 3), ('migrants receive', 3), ('new laws', 3), ('reporting trafficking', 3), ('search rescue', 3), ('protest killing', 3), ('adopts proposal spotlight', 3), ('committee consider ways', 3), ('world watches', 3), ('watch live conference', 3), ('mobilize', 3), ('refugee day refugee', 3), ('call end genocide', 3), ('day stop genocide', 3), ('solidarity lawyers', 3), ('silence key', 3), ('camp refugees', 3), ('published new', 3), ('ticket marry', 3), ('general tighten', 3), ('rest temporary shelter', 3), ('come forward', 3), ('refuse take back', 3), ('daily life', 3), ('helping people separately', 3), ('accused trafficking', 3), ('migrants sea', 3), ('scoot', 3), ('documentary film cleansing', 3), ('world state never', 3), ('get away', 3), ('asks world', 3), ('stop apartheid', 3), ('want help', 3), ('size', 3), ('responds try', 3), ('leaving trying', 3), ('identify involved', 3), ('shipping help refugees', 3), ('gap genocide', 3), ('children rap', 3), ('fashion', 3), ('plan relocate uninhabitable', 3), ('settle late', 3), ('give shelter', 3), ('guns', 3), ('faced systematic', 3), ('mission free', 3), ('unregistered among repatriated', 3), ('terrorist monk', 3), ('tourism', 3), ('holders', 3), ('sea boat', 3), ('society genocidal', 3), ('sea voyages', 3), ('zionists', 3), ('hope future', 3), ('deliver help states', 3), ('courts', 3), ('butchered terrorists', 3), ('intervene stop', 3), ('dictatorship', 3), ('traffickers raped killed', 3), ('give dignity', 3), ('charity fund', 3), ('denies existence', 3), ('sea dilemma', 3), ('continued', 3), ('hated', 3), ('outcome', 3), ('feat', 3), ('discrimination succeed news', 3), ('zealand receive', 3), ('discuss crisis', 3), ('rights organizations silent', 3), ('fled camp missing', 3), ('link ongoing needs', 3), ('recitation opening', 3), ('cleansing population', 3), ('neighbors', 3), ('giving birth', 3), ('police detained', 3), ('migrants women children', 3), ('condemns brutality raises', 3), ('burmese embassy', 3), ('migrants enjoy', 3), ('challenges', 3), ('lieutenant', 3), ('genocide says', 3), ('chew', 3), ('commemoration genocide', 3), ('photo migrants', 3), ('report times', 3), ('impunity', 3), ('adds', 3), ('trafficking years revealed', 3), ('ways means', 3), ('refugees dollar really', 3), ('pour', 3), ('remember refugees', 3), ('found sea collect', 3), ('women flee horror', 3), ('proposed', 3), ('admit', 3), ('wants people', 3), ('gap directly helps', 3), ('soul', 3), ('migrants delighted', 3), ('often driven', 3), ('film cleansing', 3), ('urges govt work', 3), ('birthrate law', 3), ('trafficking south police', 3), ('plan move refugees', 3), ('genocide rape', 3), ('boat people won', 3), ('fighting spurs mass', 3), ('lives risk join', 3), ('non existent', 3), ('talk talk', 3), ('laureates read', 3), ('commander learnt tortured', 3), ('stop state', 3), ('momentum support projects', 3), ('finish', 3), ('callers', 3), ('says vice', 3), ('world expert', 3), ('country like', 3), ('officer suspected', 3), ('backs wise', 3), ('around living', 3), ('boat cross', 3), ('ancestors', 3), ('buddhists especially', 3), ('subjected gang', 3), ('said party', 3), ('boat people offered', 3), ('treated like deserve', 3), ('refugees country', 3), ('wing', 3), ('special committee plight', 3), ('global action blog', 3), ('voters', 3), ('troubles', 3), ('refugee crisis south', 3), ('fleeing persecution like', 3), ('approaching migrant island', 3), ('govt says', 3), ('single day', 3), ('dies', 3), ('refugee crisis camp', 3), ('face human', 3), ('champions cause', 3), ('jew budapest parallels', 3), ('news conference', 3), ('abandons', 3), ('high ranking army', 3), ('morons', 3), ('respond crisis', 3), ('cleansing denounced', 3), ('grabbing', 3), ('died sea', 3), ('water displaced refugees', 3), ('address drives people', 3), ('air global delegation', 3), ('announced food assistance', 3), ('empty', 3), ('rations', 3), ('minister approves recommendations', 3), ('migrant protests troubled', 3), ('religious violence', 3), ('preventing', 3), ('need suffer', 3), ('discrimination ethnic', 3), ('randy', 3), ('crisis boat', 3), ('singled', 3), ('migrants post', 3), ('tackling southeast', 3), ('trafficking issue', 3), ('back home', 3), ('mafia easily', 3), ('breaks', 3), ('raise issue leaders', 3), ('proposals persecution new', 3), ('minister approves', 3), ('colony commonwealth', 3), ('continue genocide golden', 3), ('world solidarity', 3), ('region sent regards', 3), ('refugee says', 3), ('urgently long need', 3), ('help raise money', 3), ('role solving', 3), ('president say', 3), ('new id cards', 3), ('behind migrant boat', 3), ('survey', 3), ('ranking army man', 3), ('plight web desk', 3), ('unbalanced comments', 3), ('single day stop', 3), ('raises new questions', 3), ('country colony', 3), ('scoot flight delay', 3), ('correctly', 3), ('squalid', 3), ('dark missing', 3), ('boat turn backs', 3), ('modern day slavery', 3), ('senseless', 3), ('talks crisis', 3), ('protest detention camp', 3), ('persecution like new', 3), ('investigative', 3), ('voice stop genocide', 3), ('protecting stateless proposing', 3), ('starvation stateless', 3), ('officials offer new', 3), ('declare', 3), ('badly', 3), ('theory', 3), ('alp', 3), ('convention prevention', 3), ('support projects', 3), ('young man', 3), ('unwanted people', 3), ('genocide victims', 3), ('longer alone', 3), ('welcome refugees sea', 3), ('say police', 3), ('try lord', 3), ('people rescued', 3), ('attention stateless', 3), ('arrest disaster lieutenant', 3), ('shelter east', 3), ('leader first time', 3), ('aid distribution', 3), ('draws', 3), ('let help', 3), ('spurs', 3), ('grabbed world attention', 3), ('sisters mother', 3), ('rickshaw puller', 3), ('soldiers', 3), ('aboard', 3), ('need look', 3), ('fled boats guardian', 3), ('edwards news', 3), ('spotlight plight', 3), ('author champions', 3), ('elected', 3), ('moon take', 3), ('vietnam scraps foreign', 3), ('victims barbarism persecuted', 3), ('troops', 3), ('council foreign relations', 3), ('considering', 3), ('lost voice', 3), ('media silent', 3), ('victims emotions thanks', 3), ('please keep prayers', 3), ('reason behind', 3), ('interview refugees language', 3), ('new laws arrests', 3), ('blessed month', 3), ('people long denied', 3), ('implement convention', 3), ('migrants begging help', 3), ('flee thousands', 3), ('refugees name', 3), ('displaced refugees', 3), ('say call', 3), ('cut power', 3), ('shelter homes', 3), ('army officer suspected', 3), ('drops', 3), ('refugee crisis watch', 3), ('treated compassion', 3), ('profile', 3), ('case completed', 3), ('tries help', 3), ('crisis challenge', 3), ('means provision', 3), ('election year', 3), ('immigrant', 3), ('camps confined', 3), ('given citizenship', 3), ('bay bengal sea', 3), ('says leave', 3), ('painting', 3), ('establish', 3), ('founder', 3), ('donate people', 3), ('ut protests support', 3), ('govt calls support', 3), ('directly helps', 3), ('dead news', 3), ('council calls helping', 3), ('emergency appeal donation', 3), ('persecution star', 3), ('want make sure', 3), ('retweet open doors', 3), ('struggling', 3), ('nothing genocide', 3), ('state official', 3), ('raise voice brutality', 3), ('master', 3), ('standing support', 3), ('better give', 3), ('risk death', 3), ('thus', 3), ('thank raising awareness', 3), ('day slavery', 3), ('tourists', 3), ('eligible donate', 3), ('tweet photos solidarity', 3), ('boat cross sea', 3), ('mig', 3), ('week mission', 3), ('emotions thanks', 3), ('mantle', 3), ('point view', 3), ('boat people rescued', 3), ('carrying refugees migrants', 3), ('migrants arriving', 3), ('persecuted race', 3), ('daily community', 3), ('celebrity spotlight olympian', 3), ('new straits', 3), ('authorities help', 3), ('month human trafficking', 3), ('think people', 3), ('wake genocide', 3), ('tin group company', 3), ('regions', 3), ('refugees gang', 3), ('plight part crime', 3), ('inside abandoned', 3), ('receive migrants', 3), ('children killed', 3), ('flight delay', 3), ('united states said', 3), ('crisis watch live', 3), ('fled escape', 3), ('laments group chief', 3), ('calls mass', 3), ('followback follow', 3), ('news buries', 3), ('citizens randy', 3), ('times straits', 3), ('remarks genocide protests', 3), ('graphic', 3), ('man smashed', 3), ('refugees displaced', 3), ('says persecution causing', 3), ('totally schizophrenic', 3), ('anyone job', 3), ('plight high', 3), ('bazar', 3), ('bid relocate', 3), ('senators censure', 3), ('daily community migrants', 3), ('scene', 3), ('deporting', 3), ('flights stranded', 3), ('fighting spurs', 3), ('free encyclopedia', 3), ('court issues arrest', 3), ('plan move huddled', 3), ('conference international', 3), ('govt plan', 3), ('descendants', 3), ('heading', 3), ('trapped bay bengal', 3), ('actor visits camp', 3), ('plain', 3), ('watson', 3), ('solving problem', 3), ('pleas recognise', 3), ('regardless', 3), ('migrants enjoy good', 3), ('people little', 3), ('showed proof regime', 3), ('tin group', 3), ('go regional', 3), ('useless', 3), ('genocide butchered terrorists', 3), ('star visits refugees', 3), ('terrorists attacks', 3), ('tackles crisis explains', 3), ('use relations genocide', 3), ('toll', 3), ('name showed proof', 3), ('forgive', 3), ('imprisonment', 3), ('form largest single', 3), ('govt starving', 3), ('sunny', 3), ('businesses plight equality', 3), ('long denied', 3), ('like gov', 3), ('dear sir', 3), ('introduction', 3), ('international media', 3), ('genocide innocent', 3), ('recognise calls jihad', 3), ('report discovery', 3), ('lesson', 3), ('participants', 3), ('ended', 3), ('help people long', 3), ('donors', 3), ('citizenship migrants', 3), ('regime trying erase', 3), ('action stop genocide', 3), ('remain silent heinous', 3), ('minis', 3), ('refugees dollar', 3), ('treated citizens', 3), ('paying', 3), ('insists keeping girl', 3), ('stranded boats', 3), ('active', 3), ('survival camps', 3), ('discrimination ethnic cleansing', 3), ('mediterranean', 3), ('disappearing island', 3), ('sad story', 3), ('inquiry shocking images', 3), ('video migrants', 3), ('stifle reporting', 3), ('interviewed', 3), ('language part', 3), ('delegate said party', 3), ('shares agony', 3), ('warned pics torture', 3), ('stay strong', 3), ('refugees gang raped', 3), ('recommend anyone job', 3), ('persecuted desperate help', 3), ('fro', 3), ('benefits', 3), ('home provide', 3), ('officer wanted', 3), ('duplicity hypocrisy', 3), ('boat people fleeing', 3), ('camp new', 3), ('watches', 3), ('department', 3), ('post post', 3), ('wash ashore', 3), ('lord responds call', 3), ('crisis camp boat', 3), ('people dying', 3), ('let keep', 3), ('stuff', 3), ('amounts', 3), ('nobel laureates read', 3), ('response migrant', 3), ('group speaking', 3), ('officials offer', 3), ('momentum support', 3), ('minority recognized', 3), ('need rights refugee', 3), ('genuine images tragic', 3), ('food assistance', 3), ('states said', 3), ('deluded racism', 3), ('smashed killed', 3), ('remain unpunished', 3), ('camps report times', 3), ('stateless genocide', 3), ('dollar really helps', 3), ('kind favour regards', 3), ('world countries', 3), ('return shore', 3), ('save protesters demand', 3), ('requested commander', 3), ('world knows', 3), ('east flee thousands', 3), ('suffered', 3), ('families began', 3), ('camp set', 3), ('news calls end', 3), ('photographing', 3), ('committee plight', 3), ('refugees eligible donate', 3), ('rides', 3), ('crisis selfish response', 3), ('silence genocide massacre', 3), ('end discrimination read', 3), ('shockingly', 3), ('protest massacre', 3), ('monks burning', 3), ('sea women', 3), ('charred', 3), ('key moment', 3), ('protests troubled', 3), ('rickshaw puller death', 3), ('horrendous plight', 3), ('generals policy', 3), ('commentary stays silent', 3), ('shame nowhere', 3), ('scoot flight', 3), ('schizophrenic', 3), ('justified', 3), ('little food', 3), ('save part', 3), ('grasp general', 3), ('known world', 3), ('human right council', 3), ('going save', 3), ('rights citizenship', 3), ('govt genocide', 3), ('month human', 3), ('ocean', 3), ('wondered', 3), ('attendees stateless', 3), ('received victims emotions', 3), ('official says senior', 3), ('military torture', 3), ('censure', 3), ('gazette saudi gazette', 3), ('youth post news', 3), ('migrant island', 3), ('full story', 3), ('commit genocide', 3), ('helping currently throes', 3), ('anyone help news', 3), ('repatriated', 3), ('diaspora', 3), ('traditional', 3), ('past time stand', 3), ('women children rap', 3), ('people join', 3), ('leader thanks', 3), ('md', 3), ('migrants boat', 3), ('crimes minority times', 3), ('end mysterious silence', 3), ('buying', 3), ('pigs', 3), ('help people join', 3), ('smashed killed military', 3), ('provide shelter refugees', 3), ('work solve', 3), ('images emaciated stranded', 3), ('world sleeping', 3), ('part crime humanity', 3), ('abuses plaza', 3), ('permission', 3), ('deserved', 3), ('unbalanced remarks star', 3), ('silent heinous', 3), ('committed people', 3), ('implement convention prevention', 3), ('source water displaced', 3), ('boat starving', 3), ('reviewing', 3), ('says thousands', 3), ('quiet diplomacy inside', 3), ('laws arrests point', 3), ('search flights', 3), ('refugees much', 3), ('raft', 3), ('plight terrorism', 3), ('program sad', 3), ('retweet men enter', 3), ('end prosecution journalists', 3), ('discovery month human', 3), ('long past time', 3), ('thank shedding', 3), ('thousands boat people', 3), ('people terrible plight', 3), ('voyages', 3), ('like country colony', 3), ('general faces', 3), ('survivor human trafficking', 3), ('began pour', 3), ('winners world', 3), ('south guardian', 3), ('arbitrary', 3), ('genocide refugees better', 3), ('donate please', 3), ('global response', 3), ('hypocrisy end silence', 3), ('genocide picture', 3), ('helps fund regime', 3), ('called monks', 3), ('take terrible risks', 3), ('landslide', 3), ('speak either', 3), ('refuses identify involved', 3), ('city meet', 3), ('black day solidarity', 3), ('tackles', 3), ('rights refugees', 3), ('reporting trafficking crisis', 3), ('new help', 3), ('faced systematic weakening', 3), ('focuses', 3), ('disaster lieutenant general', 3), ('refugees displaced persons', 3), ('disturbing silence', 3), ('coming marrying settling', 3), ('beacon hope', 3), ('maritime', 3), ('realise', 3), ('persecuted desperate', 3), ('persecution new meeting', 3), ('citizen world solidarity', 3), ('genocide protests', 3), ('faces arrest human', 3), ('shine', 3), ('feet', 3), ('sea women rest', 3), ('episcopal', 3), ('court issues', 3), ('episode', 3), ('years revealed', 3), ('human trafficking charges', 3), ('scape real migrants', 3), ('documents', 3), ('letter general', 3), ('sin chew', 3), ('grandma', 3), ('means provision relief', 3), ('tighten power genocide', 3), ('existent', 3), ('demonstration held', 3), ('god mercy', 3), ('helps fund', 3), ('temporary shelter east', 3), ('families began pour', 3), ('voyages migrants', 3), ('high tide', 3), ('source problem', 3), ('migrants state', 3), ('shedding light plight', 3), ('calls support', 3), ('want human', 3), ('plight kind favour', 3), ('region sent', 3), ('regime forcing sea', 3), ('countries human', 3), ('committee consider', 3), ('group migrants women', 3), ('caught pushed back', 3), ('security forces', 3), ('actual', 3), ('translators speak either', 3), ('refugees minister temporary', 3), ('persecuted race world', 3), ('analyst', 3), ('images tragic scenes', 3), ('recent article', 3), ('heightens tension', 3), ('kill eat', 3), ('donate towards', 3), ('floods', 3), ('raped tortured killed', 3), ('long need', 3), ('name democracy reform', 3), ('refugees make', 3), ('good step', 3), ('atrocity', 3), ('countries agree', 3), ('patients general', 3), ('arrest human trafficking', 3), ('brutal persecution', 3), ('offered quiet', 3), ('straits times straits', 3), ('senator', 3), ('portraits life', 3), ('longer alone citizen', 3), ('laments group', 3), ('archipelago', 3), ('takes positive step', 3), ('large number', 3), ('luck charity', 3), ('nations give aid', 3), ('citizen world', 3), ('group company', 3), ('commentary', 3), ('monks target', 3), ('provide religious education', 3), ('raped another', 3), ('survivor describes ordeals', 3), ('power genocide', 3), ('issues unsolved following', 3), ('nope prime', 3), ('like new', 3), ('uniform', 3), ('der', 3), ('dear world', 3), ('buddhists supported', 3), ('minority rights', 3), ('boat survivor', 3), ('job jobs', 3), ('observe strike stand', 3), ('nationality', 3), ('strike stand', 3), ('thousands ethnic', 3), ('attendees stateless sea', 3), ('delegation tackles', 3), ('update refugees', 3), ('women children killed', 3), ('foul play', 3), ('saffron terror', 3), ('seekers treated compassion', 3), ('performs', 3), ('generals genocide', 3), ('commitment', 3), ('found held', 3), ('migrants reportedly', 3), ('feel pain', 3), ('surrenders face', 3), ('push rights', 3), ('refugees rescued', 3), ('bomb', 3), ('earn', 3), ('turn blind eye', 3), ('internally displaced', 3), ('scream', 3), ('inhumanly', 3), ('network front', 3), ('taking plight', 3), ('showed proof', 3), ('free tool online', 3), ('session human', 3), ('genocide forgotten', 3), ('chosen', 3), ('live tv', 3), ('allow access', 3), ('raises new', 3), ('suffering hope solution', 3), ('asses', 3), ('abuses plaza victory', 3), ('naples', 3), ('end abuses', 3), ('edition', 3), ('screen', 3), ('event aid', 3), ('govt urges', 3), ('media killed', 3), ('promote white house', 3), ('parliament deputy minister', 3), ('business times', 3), ('unwanted ethnic cleansing', 3), ('get aid', 3), ('people nobody wants', 3), ('report discovery month', 3), ('terror monks target', 3), ('group company side', 3), ('video days waiting', 3), ('pictures crisis provocation', 3), ('call seekers', 3), ('read online', 3), ('driving sea plight', 3), ('ethnic rebels', 3), ('tragic scenes', 3), ('day refugee', 3), ('presence', 3), ('mail online malay', 3), ('want justice', 3), ('government provide religious', 3), ('sexually abused police', 3), ('people emotional video', 3), ('adopts proposal', 3), ('used smuggle owned', 3), ('state plan', 3), ('shame nowhere people', 3), ('supported burmese', 3), ('warrant th', 3), ('issue leaders media', 3), ('algeria', 3), ('urges international', 3), ('scum', 3), ('regular session human', 3), ('alarm bid relocate', 3), ('community failing', 3), ('event aid refugees', 3), ('suffering hope', 3), ('scholars council calls', 3), ('president discuss ongoing', 3), ('prime minister forms', 3), ('show touch', 3), ('grabbed world', 3), ('smuggle owned', 3), ('bucket', 3), ('prosecution journalists reporting', 3), ('best luck charity', 3), ('genocide want', 3), ('celebrity spotlight thanks', 3), ('snapshot', 3), ('parliament deputy', 3), ('lord divine', 3), ('navy provide', 3), ('plight kind', 3), ('continuing', 3), ('protecting people', 3), ('puts celebrity spotlight', 3), ('camps need', 3), ('genocide see', 3), ('butcher', 3), ('latest envoy says', 3), ('attempting', 3), ('request implement convention', 3), ('migrants return', 3), ('historic', 3), ('update raised', 3), ('lets spread', 3), ('miseries', 3), ('traffickers coverage terrorist', 3), ('stop massacre', 3), ('president discuss', 3), ('discuss ongoing', 3), ('govt provide shelter', 3), ('curious', 3), ('commonwealth', 3), ('seek shelter camps', 3), ('sing', 3), ('commission migrants take', 3), ('trafficking charges', 3), ('focus plight', 3), ('help patient', 3), ('probe police', 3), ('enjoy good conditions', 3), ('markets', 3), ('eager', 3), ('tires protests genocide', 3), ('bid relocate disappearing', 3), ('boatloads misery', 3), ('gen manus', 3), ('revealed role', 3), ('migrants islam', 3), ('people free encyclopedia', 3), ('dead harrowing plight', 3), ('ears', 3), ('disappear', 3), ('praying', 3), ('refugees sea misery', 3), ('isolation weakening mass', 3), ('mobs', 3), ('want stop genocide', 3), ('east flee', 3), ('raise voice plight', 3), ('attempt stifle', 3), ('regime forcing', 3), ('refugees protest', 3), ('mental', 3), ('crisis camp', 3), ('street journal wall', 3), ('risk join supporting', 3), ('migrant camps', 3), ('tolerate', 3), ('scholars council', 3), ('nobody wants actor', 3), ('tow', 3), ('liberal', 3), ('refugees says vice', 3), ('prosecution pair', 3), ('drops drink', 3), ('images emaciated', 3), ('move mo', 3), ('agencies', 3), ('guilt said', 3), ('syndicate', 3), ('draper', 3), ('burmese buddhists', 3), ('organic', 3), ('informative', 3), ('top official', 3), ('spend national', 3), ('columbus', 3), ('daily star', 3), ('row abuses', 3), ('puppet', 3), ('gang raped border', 3), ('murderous', 3), ('putting names', 3), ('stop crimes', 3), ('begin', 3), ('leaders know', 3), ('boat people terrible', 3), ('penalty', 3), ('illegally', 3), ('protests held across', 3), ('thankyou', 3), ('opening ut', 3), ('search flights stranded', 3), ('extends', 3), ('begins search flights', 3), ('human rights violation', 3), ('leader first', 3), ('general tighten power', 3), ('persecution called', 3), ('eat family', 3), ('plight suffering', 3), ('recruiting', 3), ('celeb', 3), ('singled migrant', 3), ('food refugees name', 3), ('drugs', 3), ('stalemate', 3), ('colony', 3), ('get tickets', 3), ('front door', 3), ('mothers', 3), ('shame world', 3), ('oppressed people', 3), ('allowing', 3), ('genocide demand', 3), ('traffickers get head', 3), ('authorities gave burial', 3), ('namely', 3), ('haircut', 3), ('islamic nations give', 3), ('end boat turn', 3), ('coming story', 3), ('saffron terror monks', 3), ('spread genocide', 3), ('levels', 3), ('guilt said persecution', 3), ('seekers callers', 3), ('pen', 3), ('donation line', 3), ('never vows', 3), ('forcing sea', 3), ('migrant boat crisis', 3), ('dollar really', 3), ('minority times', 3), ('camps women held', 3), ('human rights activist', 3), ('managed', 3), ('program sad plight', 3), ('look away', 3), ('interview refugees', 3), ('camp boat', 3), ('pressure govt', 3), ('stop genocide community', 3), ('supporting emergency fund', 3), ('outside city', 3), ('people smuggling turns', 3), ('peace loving', 3), ('encyclopedia', 3), ('thousands hold rallies', 3), ('approaching migrant', 3), ('left behind', 3), ('massacre wrong', 3), ('troubles go', 3), ('marrying settling', 3), ('migrants return shore', 3), ('write letter ban', 3), ('plight grabbed world', 3), ('says won', 3), ('slaughtering', 3), ('face terror', 3), ('genocide used heroes', 3), ('retweet retweet calls', 3), ('addressed carefully', 3), ('president pix', 3), ('despicable', 3), ('torture rickshaw puller', 3), ('genocide exposed', 3), ('shockingly tepid', 3), ('community want', 3), ('govt unveils', 3), ('concert welcome guests', 3), ('convention prevention genocide', 3), ('attempt stifle reporting', 3), ('turning blind', 3), ('spending', 3), ('anti protests planned', 3), ('injustice scoot', 3), ('deny citizenship', 3), ('wrong point', 3), ('mass displacement', 3), ('prosecution journalists', 3), ('women rescued sea', 3), ('campaign stateless sea', 3), ('label', 3), ('seed', 3), ('monsoon falls woes', 3), ('journal wall', 3), ('birthday', 3), ('reconciliation nation', 3), ('easily rule country', 3), ('govt calls', 3), ('remarks star', 3), ('barbarism persecuted', 3), ('says won singled', 3), ('bid', 3), ('spotlight thanks', 3), ('coward', 3), ('minor', 3), ('comes rescue offers', 3), ('properties', 3), ('tackles crisis', 3), ('increased reward', 3), ('silence countries human', 3), ('square', 3), ('president end', 3), ('worker needs united', 3), ('crimes remain', 3), ('traditional concert welcome', 3), ('people risk', 3), ('retweet safety migrants', 3), ('grave discovery', 3), ('hope future nowhere', 3), ('persist', 3), ('next election', 3), ('box', 3), ('forget pray', 3), ('boy killed landslide', 3), ('keeping girl', 3), ('helping currently', 3), ('offer new', 3), ('alone citizen world', 3), ('leaders take', 3), ('condemns persecution', 3), ('try journalists', 3), ('saddened', 3), ('ashore accident', 3), ('plight statelessness', 3), ('tweet photos', 3), ('join supporting emergency', 3), ('posts', 3), ('extends help', 3), ('protest rights', 3), ('current crisis', 3), ('minister forms', 3), ('speak either malay', 3), ('zealand receive migrants', 3), ('never vows living', 3), ('old boy killed', 3), ('eat family feed', 3), ('migrant crisis found', 3), ('crisis selfish', 3), ('fund regime', 3), ('denies guilt said', 3), ('acute starvation', 3), ('slow genocide boycott', 3), ('face acute', 3), ('name people', 3), ('immediately', 3), ('reward donate generously', 3), ('ignorant actor', 3), ('children among', 3), ('pour stories', 3), ('genocide forgotten people', 3), ('mosques', 3), ('boat used smuggle', 3), ('thinking single day', 3), ('university', 3), ('refugee says mass', 3), ('genocide seen political', 3), ('woman tells', 3), ('fascism', 3), ('provision relief meet', 3), ('slowly hope future', 3), ('wait stop', 3), ('countries tackle straits', 3), ('food world', 3), ('around living got', 3), ('dark missing victims', 3), ('wait stop genocide', 3), ('new id', 3), ('cards skeptical', 3), ('turn backs wise', 3), ('cramped', 3), ('drawing attention stateless', 3), ('sea fleeing', 3), ('resolution persecution national', 3), ('plus', 3), ('bring like', 3), ('struggle mountainous', 3), ('helping raise', 3), ('get head fleeing', 3), ('refuge camp', 3), ('celebrity spotlight visit', 3), ('stop discrimination post', 3), ('projects refugees', 3), ('families left dark', 3), ('recommend anyone', 3), ('immediate action stop', 3), ('islamic country', 3), ('lord responds', 3), ('nobel winner', 3), ('lighting', 3), ('camp boat survivor', 3), ('boats guardian', 3), ('government pulls plug', 3), ('ranking', 3), ('boats sea', 3), ('reminded', 3), ('terrible risks leaving', 3), ('hold rally', 3), ('genocide silence key', 3), ('reporters approaching migrant', 3), ('help states follow', 3), ('genocide sign', 3), ('women flee', 3), ('south east flee', 3), ('champs', 3), ('learnt tortured', 3), ('unaccompanied', 3), ('unsettling', 3), ('featuring', 3), ('public prosecutors', 3), ('recitation', 3), ('root cause genocide', 3), ('unfortunately', 3), ('speaks support calling', 3), ('perilous', 3), ('looks genuine genocide', 3), ('differently', 3), ('village times', 3), ('supporting emergency', 3), ('heartbreak', 3), ('international business times', 3), ('sea south post', 3), ('like country', 3), ('main root cause', 3), ('refuges', 3), ('government provide', 3), ('boat people senior', 3), ('wants actor visited', 3), ('get hague', 3), ('migrants found taken', 3), ('describes ordeals endured', 3), ('refugees stage protest', 3), ('relations genocide', 3), ('smiles children', 3), ('look way', 3), ('please raise issue', 3), ('let keep momentum', 3), ('drafting', 3), ('something wrong', 3), ('people flee', 3), ('anyone help help', 3), ('missing victims human', 3), ('communique', 3), ('host migrants', 3), ('like deserve treated', 3), ('enslaved years', 3), ('monsoon falls', 3), ('major human', 3), ('people killed', 3), ('burned temples', 3), ('mass grave discovery', 3), ('realize', 3), ('people god', 3), ('greater focus plight', 3), ('donated food refugees', 3), ('rights refugee', 3), ('definitely', 3), ('sect', 3), ('bilingual job jobs', 3), ('iraqis', 3), ('sudden death parliament', 3), ('packs', 3), ('deaths sea', 3), ('genocide leave', 3), ('exiled nowhere', 3), ('ambition genocide', 3), ('journalists attempt stifle', 3), ('firm put', 3), ('cultural city meet', 3), ('committee meet', 3), ('gave burial', 3), ('cows kill eat', 3), ('calls save part', 3), ('racism politically useful', 3), ('education refugees', 3), ('official migrants enjoy', 3), ('haunt', 3), ('explains live', 3), ('return nobel peace', 3), ('friends please', 3), ('ignorant actor joins', 3), ('indigenous ethnicity', 3), ('pa', 3), ('stranded sea south', 3), ('slowly visiting camp', 3), ('wearing black', 3), ('sign allow', 3), ('support freedom', 3), ('bengal sea', 3), ('appeal donation line', 3), ('positive step', 3), ('crisis provocation', 3), ('risk join', 3), ('persecution national', 3), ('entry', 3), ('video days', 3), ('people limbo', 3), ('govt work issue', 3), ('brutal genocide', 3), ('trafficking victims financial', 3), ('conducts genocide', 3), ('diplomacy inside story', 3), ('moment push rights', 3), ('keep momentum', 3), ('personal', 3), ('boost', 3), ('sea unwanted land', 3), ('support projects refugees', 3), ('require', 3), ('owned local man', 3), ('poll', 3), ('past years', 3), ('ceremony', 3), ('warm welcome', 3), ('mission week', 3), ('role abuse', 3), ('corrupted', 3), ('abused police', 3), ('bride refugee raped', 3), ('seen political', 3), ('systematic weakening genocide', 3), ('wife deliver', 3), ('silent plight people', 3), ('agony', 3), ('weakening genocide', 3), ('dead world', 3), ('intervene stop genocide', 3), ('censure inaction', 3), ('better die', 3), ('crimes remain unpunished', 3), ('prize revoked done', 3), ('beautiful photo', 3), ('migrants take action', 3), ('disappearing', 3), ('fraud', 3), ('right council', 3), ('celebrities', 3), ('directly helps fund', 3), ('major human rights', 3), ('violent monks', 3), ('try escape', 3), ('refugees stranded foreign', 3), ('holding', 3), ('support calling', 3), ('like deserve', 3), ('sigh', 3), ('rights people', 3), ('help back', 3), ('bring greater focus', 3), ('episcopal commission', 3), ('actor shakes', 3), ('del', 3), ('infos', 3), ('trauma', 3), ('bring attention', 3), ('holds protest', 3), ('silence persecution minority', 3), ('dialogue', 3), ('begging help boat', 3), ('pair reporting says', 3), ('thirsty', 3), ('victims financial', 3), ('laws arrests', 3), ('living hand mouth', 3)]\n"
     ]
    }
   ],
   "source": [
    "print(all_tokens_cntr.most_common(10000))"
   ]
  },
  {
   "cell_type": "code",
   "execution_count": 811,
   "metadata": {
    "collapsed": false
   },
   "outputs": [
    {
     "data": {
      "text/plain": [
       "['government attempted', 'struggle survival', 'outnumber']"
      ]
     },
     "execution_count": 811,
     "metadata": {},
     "output_type": "execute_result"
    }
   ],
   "source": [
    "all_tokens = list(all_tokens_cntr.keys())\n",
    "all_tokens[:3]"
   ]
  },
  {
   "cell_type": "code",
   "execution_count": 812,
   "metadata": {
    "collapsed": false
   },
   "outputs": [
    {
     "data": {
      "text/plain": [
       "66868"
      ]
     },
     "execution_count": 812,
     "metadata": {},
     "output_type": "execute_result"
    }
   ],
   "source": [
    "tokens_2 = set(word for word in all_tokens if all_tokens_cntr[word]<4)\n",
    "len(tokens_2)"
   ]
  },
  {
   "cell_type": "code",
   "execution_count": 813,
   "metadata": {
    "collapsed": false
   },
   "outputs": [
    {
     "data": {
      "text/plain": [
       "20000"
      ]
     },
     "execution_count": 813,
     "metadata": {},
     "output_type": "execute_result"
    }
   ],
   "source": [
    "dtexts = [[word for word in text if word not in tokens_2] for text in texts]\n",
    "len(dtexts)"
   ]
  },
  {
   "cell_type": "code",
   "execution_count": 814,
   "metadata": {
    "collapsed": false
   },
   "outputs": [
    {
     "data": {
      "text/plain": [
       "19944"
      ]
     },
     "execution_count": 814,
     "metadata": {},
     "output_type": "execute_result"
    }
   ],
   "source": [
    "dtexts = [dt for dt in dtexts if len(dt) > 0]\n",
    "len(dtexts)"
   ]
  },
  {
   "cell_type": "code",
   "execution_count": 815,
   "metadata": {
    "collapsed": true
   },
   "outputs": [],
   "source": [
    "# eliminate middle east etc. here!"
   ]
  },
  {
   "cell_type": "code",
   "execution_count": 816,
   "metadata": {
    "collapsed": false
   },
   "outputs": [],
   "source": [
    "dictionary = corpora.Dictionary(dtexts)\n",
    "dictionary.compactify()"
   ]
  },
  {
   "cell_type": "code",
   "execution_count": 817,
   "metadata": {
    "collapsed": true
   },
   "outputs": [],
   "source": [
    "corpus = [dictionary.doc2bow(text) for text in texts]"
   ]
  },
  {
   "cell_type": "code",
   "execution_count": 818,
   "metadata": {
    "collapsed": false
   },
   "outputs": [],
   "source": [
    "tfidf = models.TfidfModel(corpus, id2word=dictionary)\n",
    "tfidfcorpus = tfidf[corpus]"
   ]
  },
  {
   "cell_type": "code",
   "execution_count": 819,
   "metadata": {
    "collapsed": false
   },
   "outputs": [],
   "source": [
    "tlda = LdaModel(tfidfcorpus, num_topics=nbr_clusters, id2word=dictionary, passes=100) # update_every=0"
   ]
  },
  {
   "cell_type": "code",
   "execution_count": 820,
   "metadata": {
    "collapsed": false
   },
   "outputs": [
    {
     "data": {
      "text/plain": [
       "3.753"
      ]
     },
     "execution_count": 820,
     "metadata": {},
     "output_type": "execute_result"
    }
   ],
   "source": [
    "average_mlength = len(all_tokens)/len(sampleGncdTweetsDF)\n",
    "average_mlength"
   ]
  },
  {
   "cell_type": "code",
   "execution_count": 821,
   "metadata": {
    "collapsed": false
   },
   "outputs": [
    {
     "name": "stdout",
     "output_type": "stream",
     "text": [
      "{0: 1258, 1: 1002, 2: 976, 3: 857, 4: 1307, 5: 1160, 6: 959, 7: 1125, 8: 868, 9: 1063, 10: 925, 11: 1186, 12: 959, 13: 840, 14: 889, 15: 872, 16: 856, 17: 975, 18: 827, 19: 1096}\n",
      "[56, 51, 68, 70, 38, 64, 55, 52, 68, 40, 57, 65, 75, 71, 55, 64, 57, 66, 65, 39]\n"
     ]
    }
   ],
   "source": [
    "ltfidfcorpus = list(tfidfcorpus)\n",
    "tlda_topic_count = [sorted(tlda[ltfidfcorpus[m]], key=lambda item: item[1], reverse=True)[0][0] for m in range(nbr_messages)]\n",
    "tlda_topic_count = dict((i,tlda_topic_count.count(i)) for i in tlda_topic_count)\n",
    "print(tlda_topic_count)\n",
    "\n",
    "tlda_topic_sigword_count = [len([x for x in tlda.show_topic(i, 100) if x[0]>0.0033]) for i in range(nbr_clusters)]\n",
    "print(tlda_topic_sigword_count)"
   ]
  },
  {
   "cell_type": "code",
   "execution_count": 822,
   "metadata": {
    "collapsed": false
   },
   "outputs": [],
   "source": [
    "# for i in range(nbr_clusters):\n",
    "#     print(\"Topic\", i, \" \".join(zip(*sorted([((k[0]+np.mean(list(zip(*tlda.show_topic(i, tlda_topic_sigword_count[i])))[0]))(all_tokens.count(k[1])+average_mlength), k[1]) for k in tlda.show_topic(i, tlda_topic_sigword_count[i])], reverse=True)[:12])[1]).upper())"
   ]
  },
  {
   "cell_type": "code",
   "execution_count": 823,
   "metadata": {
    "collapsed": false
   },
   "outputs": [
    {
     "data": {
      "text/plain": [
       "['0.016*terrorism + 0.014*islam + 0.012*first + 0.012*years + 0.012*islam terrorism + 0.010*community + 0.010*media + 0.009*wave + 0.008*years first + 0.008*first wave',\n",
       " '0.014*victims + 0.014*buries + 0.013*buries human trafficking + 0.013*buries human + 0.012*trafficking victims + 0.012*human trafficking victims + 0.011*human trafficking + 0.011*trafficking + 0.011*human + 0.008*used',\n",
       " '0.021*refugee + 0.015*border + 0.014*report + 0.012*struggle + 0.012*raped + 0.012*migrants raped + 0.012*border camps + 0.012*raped border + 0.011*raped border camps + 0.011*migrants raped border',\n",
       " '0.013*face + 0.011*safety + 0.011*make + 0.011*prospects + 0.010*bleak + 0.010*face bleak prospects + 0.010*bleak prospects + 0.010*face bleak + 0.010*migrants face + 0.010*migrants face bleak',\n",
       " '0.020*discrimination + 0.020*calls end + 0.019*calls end discrimination + 0.018*end discrimination + 0.018*end + 0.016*calls + 0.013*refugees + 0.012*southeast + 0.012*stateless + 0.010*refugees stateless',\n",
       " '0.024*check + 0.023*please check + 0.023*check people + 0.023*please check people + 0.022*people + 0.022*please + 0.013*committee + 0.008*efforts + 0.008*port + 0.008*resort',\n",
       " '0.033*fear + 0.032*fear plan move + 0.032*fear plan + 0.031*camps fear plan + 0.031*camps fear + 0.031*camps + 0.031*huddled + 0.031*huddled camps fear + 0.031*huddled camps + 0.031*move',\n",
       " '0.016*human + 0.015*trafficking + 0.015*human trafficking + 0.014*received + 0.013*repatriation + 0.013*nationals + 0.013*repatriation human + 0.013*received repatriation human + 0.013*received repatriation + 0.013*nationals received',\n",
       " '0.019*pictures + 0.019*fake + 0.017*fake pictures + 0.017*fake pictures crisis + 0.017*pictures crisis + 0.014*crisis + 0.012*anyone + 0.009*help + 0.009*anyone help + 0.009*condemns',\n",
       " '0.021*official + 0.021*citizenship + 0.019*official calls + 0.019*calls citizenship + 0.018*official calls citizenship + 0.014*calls + 0.012*migrant crisis + 0.011*migrant + 0.010*crisis + 0.009*support']"
      ]
     },
     "execution_count": 823,
     "metadata": {},
     "output_type": "execute_result"
    }
   ],
   "source": [
    "tlda.show_topics()"
   ]
  },
  {
   "cell_type": "code",
   "execution_count": 824,
   "metadata": {
    "collapsed": false
   },
   "outputs": [
    {
     "name": "stdout",
     "output_type": "stream",
     "text": [
      "['shame', 'world', 'know', 'people', 'state', 'camp', 'protect', 'pray', 'persecution', 'genocide', 'talk', 'aid', 'plight', 'well', 'living', 'among', 'tv', 'leave', 'shelter', 'time', 'terrorists', 'great', 'continue', 'food', 'general', 'announces', 'exodus', 'genocide people', 'around', 'persecution plight', 'brutal', 'power', 'suffer', 'prevent', 'oppressed', 'water', 'let', 'happening', 'desperate', 'group', 'sponsored', 'visited', 'sponsored genocide', 'states', 'month', 'saudi', 'state sponsored genocide', 'hear', 'state sponsored', 'sponsored genocide people', 'prevent state sponsored', 'prevent state', 'harper', 'talking', 'news', 'harper prevent', 'stephen harper prevent', 'harper prevent state', 'stephen harper', 'stephen', 'things', 'express', 'plight time', 'minority', 'abt', 'silence', 'approves', 'continue suffer', 'temporary', 'chief', 'actually', 'announces aid', 'visits camp', 'pics', 'video', 'got', 'visits', 'ethnic minority', 'big', 'issue', 'food water', 'world news', 'live', 'details', 'great exodus', 'paid', 'visited camp', 'around world', 'buddhists', 'stop', 'wake', 'arabia', 'feed', 'chip', 'asks', 'landed', 'killing', 'united', 'asks ban moon', 'chief asks ban']\n",
      "\n",
      "['help', 'like', 'offers', 'offers help', 'solution', 'islamic', 'think', 'show', 'going', 'tell', 'exile', 'land', 'remote', 'anything', 'solution crisis', 'flood', 'island', 'refugees remote', 'exile refugees', 'waiting', 'refugees', 'exile refugees remote', 'system', 'prone', 'guardian', 'generals', 'crisis', 'days', 'system solution', 'islamic system solution', 'islamic system', 'system solution crisis', 'migrants', 'flood prone', 'remote flood', 'remote flood prone', 'country', 'flood prone island', 'prone island', 'refugees remote flood', 'problem', 'help migrants', 'forget', 'political', 'horror', 'gov', 'silent', 'sea', 'wants', 'asks', 'hit', 'offers help migrants', 'genocide', 'sang', 'generals discard', 'discard', 'days waiting', 'seems', 'live', 'generals discard like', 'discard like', 'stop fleeing', 'wants stop', 'wants stop fleeing', 'search', 'getting', 'seen', 'sang silent', 'stop fleeing won', 'words', 'coming', 'illegal', 'horror sea', 'root cause', 'root', 'won anything', 'fleeing won anything', 'assist', 'guardian hit', 'guardian hit ham', 'ham knife', 'tell horror sea', 'hit ham knife', 'tell horror', 'knife migrants', 'ham knife migrants', 'migrants tell', 'migrants tell horror', 'knife', 'knife migrants tell', 'hit ham', 'fleeing', 'violence', 'anything address', 'won anything address', 'ham', 'immigration', 'cause', 'world silent', 'hypocrisy']\n",
      "\n",
      "['victims', 'buries', 'buries human trafficking', 'buries human', 'trafficking victims', 'human trafficking victims', 'human trafficking', 'trafficking', 'human', 'used', 'women', 'say', 'peace', 'nobel', 'sex', 'dozens', 'genocide', 'expert', 'corpses', 'sex slaves', 'slaves', 'unbalanced', 'countries', 'international', 'used sex', 'used sex slaves', 'migrants', 'dozens corpses', 'rejects', 'rejects unbalanced', 'laureates', 'shore', 'nobel peace', 'speaking', 'wash', 'conference', 'dozens corpses wash', 'corpses wash', 'expert dozens', 'expert dozens corpses', 'corpses wash shore', 'wash shore', 'treatment', 'women migrants', 'god', 'gap', 'anti', 'camp used', 'guards', 'women camp', 'women camp used', 'camp used sex', 'camp', 'stop', 'stop killing', 'guards say', 'say migrants', 'guards say migrants', 'sex slaves guards', 'slaves guards', 'slaves guards say', 'persecution genocide', 'monk', 'migrants women', 'peace prize', 'criticism', 'unbalanced international', 'rejects unbalanced international', 'light', 'international criticism', 'say migrants women', 'migrants women migrants', 'unbalanced international criticism', 'hate', 'call', 'enough', 'nobel peace prize', 'killing', 'persecution', 'claim', 'rise', 'plans', 'prize', 'full', 'laureates call', 'help refugees', 'helps', 'write', 'fund', 'happen', 'become', 'racist', 'refugees', 'peace laureates', 'nobel peace laureates', 'unbalanced remarks rejects', 'remarks rejects', 'torture', 'rather', 'face']\n",
      "\n",
      "['face', 'safety', 'make', 'prospects', 'bleak', 'face bleak prospects', 'bleak prospects', 'face bleak', 'migrants face', 'migrants face bleak', 'safety migrants', 'safety migrants face', 'something', 'look', 'ongoing', 'dead', 'shot', 'monks', 'migrants', 'remember', 'raised', 'shot dead', 'innocent', 'trafficker', 'feel', 'refugees', 'trafficker shot', 'trafficker shot dead', 'deserve', 'together', 'free', 'slow genocide', 'man', 'limbo', 'slow', 'awaits', 'precarious', 'inside', 'ongoing needs', 'precarious limbo', 'limbo awaits', 'precarious limbo awaits', 'awaits make', 'limbo awaits make', 'word', 'raised refugees', 'standard', 'tortured', 'please', 'burmese', 'genocide', 'together raised', 'together raised refugees', 'official ongoing', 'official ongoing needs', 'people', 'starving', 'raised refugees official', 'refugees official ongoing', 'refugees official', 'recruit', 'shines', 'interview', 'little', 'world', 'shines spotlight', 'prayers', 'official', 'hands', 'term', 'needs', 'recruit fleeing', 'state', 'ignoring', 'assistance', 'watching', 'arrived', 'plight', 'please help', 'single', 'busy', 'sought', 'save', 'helped', 'side', 'news', 'solutions', 'large', 'complex', 'persecuted', 'resettle', 'extremist', 'ok', 'boycott', 'look recruit fleeing', 'look recruit', 'refugee', 'police', 'protesters', 'refugee state']\n",
      "\n",
      "['discrimination', 'calls end', 'calls end discrimination', 'end discrimination', 'end', 'calls', 'refugees', 'southeast', 'stateless', 'refugees stateless', 'stateless southeast', 'refugees stateless southeast', 'escape', 'post', 'found', 'recounts', 'recounts escape', 'migrant recounts', 'migrant recounts escape', 'crimes', 'migrants', 'migrant', 'displaced', 'lost', 'humanitarian', 'ignore', 'genocidal', 'retweet', 'blog', 'breaking', 'discussion', 'aid migrants', 'fasting', 'hold', 'news', 'happy', 'aid', 'emergency', 'genocide', 'activists', 'sea', 'extremists', 'trailer', 'video', 'risk', 'serious', 'matter', 'offer', 'mil', 'video discussion trailer', 'discussion trailer', 'video discussion', 'govt', 'joins', 'laureate', 'human', 'refuge', 'want', 'nobel laureates', 'indigenous', 'grant aid', 'emergency grant', 'emergency grant aid', 'grant aid migrants', 'breaking news', 'refugees genocide', 'touch', 'thousands', 'nobel laureate', 'beings', 'school', 'new', 'unveils', 'receive', 'boat', 'humanitarian aid', 'island post', 'prone island post', 'unveils mil emergency', 'mil emergency grant', 'mil emergency', 'unveils mil', 'ethnic group', 'mean', 'island post blog', 'post blog', 'fleeing', 'actor visits', 'according', 'conflict', 'shelters', 'human beings', 'return', 'group', 'request', 'activists ignore', 'activists ignore crimes', 'ignore crimes minority', 'crimes minority', 'ignore crimes']\n",
      "\n",
      "['refugee', 'border', 'report', 'struggle', 'raped', 'migrants raped', 'border camps', 'raped border', 'raped border camps', 'migrants raped border', 'camps report', 'migrants', 'ethnic', 'border camps report', 'cleansing', 'camps', 'ethnic cleansing', 'time', 'refugee struggle', 'people', 'boat', 'navy', 'facing', 'never', 'refugee crisis', 'reform', 'boat people', 'genocide', 'share', 'non', 'apartheid', 'govt', 'issues', 'safe', 'across', 'long', 'nazism', 'crisis', 'nowhere', 'shapes', 'due', 'abc', 'shapes nazism', 'reform shapes nazism', 'reform shapes', 'world', 'end genocide', 'focus', 'shapes nazism genocide', 'end', 'persecution', 'stop genocide apartheid', 'genocide apartheid', 'stop', 'facing genocide', 'hand', 'arrested', 'stop genocide', 'blind', 'tony', 'mission', 'find', 'people safe', 'suspected', 'boat people safe', 'news', 'mass', 'root', 'safe root', 'issues unsolved', 'safe root issues', 'root issues', 'people safe root', 'unsolved', 'root issues unsolved', 'nowhere people', 'citizen', 'green', 'spotlight puts', 'celebrity spotlight puts', 'sent', 'please share', 'connection', 'cover', 'card', 'public', 'navy due', 'persecution ethnic', 'navy due end', 'due end', 'plight', 'country', 'carrying', 'rescued', 'protests persecution', 'spotlight puts rare', 'persecution ethnic cleansing', 'rule', 'refugees', 'protests']\n",
      "\n",
      "['genocide', 'protests', 'protests remarks', 'remarks genocide', 'protests remarks genocide', 'remarks', 'world', 'leaders', 'stop genocide', 'stop', 'silent', 'world leaders', 'speak', 'people', 'times', 'voice', 'calls world', 'calls world leaders', 'killing', 'press', 'world leaders save', 'leaders save', 'outside', 'raise', 'save', 'missing', 'another', 'press club', 'club', 'silent persecution', 'new', 'earth', 'raise voice', 'help', 'world help', 'raises', 'calls', 'respect', 'business', 'persecuted', 'killing world', 'campaign', 'supporting', 'regime', 'support', 'treated', 'best', 'least', 'persecuted people', 'persecution', 'killing world help', 'author', 'shows', 'history', 'global', 'journalists', 'concerns', 'relocation', 'national', 'senior', 'people earth', 'denied', 'wanted', 'persecuted people earth', 'unknown', 'eyes', 'event', 'future', 'silent genocide', 'remain', 'unknown author', 'giving', 'refugees', 'missing unknown', 'missing unknown author', 'evil', 'raises concerns', 'new times', 'officials', 'national press', 'national press club', 'relocation plan', 'freedom', 'community', 'fate', 'winner', 'host', 'outside press', 'outside press club', 'gives', 'imagine', 'fasting persecuted people', 'fasting persecuted', 'journalists protests outside', 'outside national press', 'protests outside', 'club outside', 'journalists protests', 'club outside press', 'press club outside']\n",
      "\n",
      "['terrorism', 'islam', 'first', 'years', 'islam terrorism', 'community', 'media', 'wave', 'years first', 'first wave', 'years first wave', 'humanity', 'driving', 'stand', 'move years', 'plan move years', 'driving sea', 'move years first', 'day', 'thank', 'sea', 'much', 'first wave fled', 'wave fled', 'refugees', 'nations', 'fled', 'love', 'act', 'open', 'agency', 'given', 'tragedy', 'traffickers', 'prime', 'international community', 'sir', 'crisis', 'called', 'taking', 'keep', 'international', 'democracy', 'plight', 'west', 'prime minister', 'welcome', 'parliament', 'debate', 'small', 'time', 'truth', 'resettlement', 'saying', 'friends', 'detention', 'makes', 'economic', 'security', 'united nations', 'known', 'peace', 'spread', 'difference', 'jew', 'social', 'plight refugees', 'behind', 'issue', 'cares', 'western', 'front', 'speech', 'human', 'budapest', 'crisis crisis', 'jew budapest', 'rights', 'fighting', 'sends', 'like', 'open letter', 'country', 'help', 'others', 'human traffickers', 'cause', 'support', 'fast', 'maybe', 'crisis crisis humanity', 'crisis humanity', 'genocide', 'alive', 'united', 'minister', 'tears', 'burmese', 'highlighting', 'charity']\n",
      "\n",
      "['celebrity', 'rare', 'puts', 'spotlight', 'puts rare', 'rare celebrity', 'celebrity spotlight', 'puts rare celebrity', 'rare celebrity spotlight', 'helping', 'short', 'falls', 'falls short', 'falls short helping', 'short helping', 'dispatches', 'dispatches falls short', 'dispatches falls', 'actor', 'actor puts', 'actor puts rare', 'solidarity', 'black', 'join', 'spotlight actor', 'celebrity spotlight actor', 'put', 'movement', 'wear', 'wear black', 'black solidarity', 'wear black solidarity', 'join movement wear', 'movement wear black', 'movement wear', 'join movement', 'please join', 'please join movement', 'accept', 'kids', 'resolution persecution', 'ashore', 'amnesty', 'please', 'passes resolution persecution', 'past', 'concerned', 'brought', 'compassion', 'forced', 'force', 'family', 'needed', 'offers aid', 'passes', 'urgently', 'boat', 'brought ashore', 'passes resolution', 'rice', 'slowly', 'leaving', 'resolution', 'denying', 'shed', 'aid', 'genocide', 'stop discrimination', 'offers', 'citizens brought', 'says citizens brought', 'citizens brought ashore', 'ashore boat', 'info', 'offers help boat', 'almost', 'brought ashore boat', 'proposal', 'need rice', 'persecution', 'mass', 'none', 'urgently need', 'explains', 'strangled', 'sun', 'visiting', 'genocide refugees', 'fucking', 'urgently need rice', 'deeply', 'black genocide', 'shed light', 'cant', 'yr', 'much', 'responsible', 'concerned plight', 'rights genocide', 'requested']\n",
      "\n",
      "['pictures', 'fake', 'fake pictures', 'fake pictures crisis', 'pictures crisis', 'crisis', 'anyone', 'help', 'anyone help', 'condemns', 'policy', 'done', 'massacre', 'response', 'nothing', 'peaceful', 'suffering', 'religious', 'extremism', 'hope', 'better', 'regarding', 'video', 'criminal', 'liked video', 'liked', 'news', 'condemns genocide', 'crisis news', 'hope peaceful', 'toward', 'stay', 'impact', 'compliant', 'policy toward', 'criminal silence', 'impact repressive', 'impact repressive policy', 'repressive policy', 'repressive', 'repressive policy toward', 'tear', 'genocide', 'former', 'die', 'religious extremism', 'apart', 'compliant criminal', 'apart compliant criminal', 'compliant criminal silence', 'tear apart', 'tear apart compliant', 'apart compliant', 'pictures crisis news', 'looms', 'extremism looms', 'religious extremism looms', 'plight', 'silence', 'true', 'army', 'lawyers', 'extremism looms impact', 'looms impact repressive', 'looms impact', 'coexistence', 'peaceful coexistence', 'hope peaceful coexistence', 'understand', 'whole', 'senate', 'strongly', 'strong', 'reporting', 'surely', 'next', 'blame', 'crackdown', 'people', 'current', 'correspondent', 'allah', 'situation', 'questioned', 'favours', 'intervene', 'group condemns plight', 'condemns plight', 'group condemns', 'surely questioned', 'questioned regarding favours', 'day surely questioned', 'regarding favours', 'day surely', 'surely questioned regarding', 'questioned regarding', 'major', 'tide', 'response plight', 'help standard people']\n",
      "\n"
     ]
    }
   ],
   "source": [
    "topics_matrix = tlda.show_topics(formatted=False, num_words=100)\n",
    "topics_matrix = np.array(topics_matrix)\n",
    "\n",
    "topic_words = topics_matrix[:,:,1]\n",
    "for i in topic_words:\n",
    "    print([str(word) for word in i])\n",
    "    print() # "
   ]
  },
  {
   "cell_type": "code",
   "execution_count": 825,
   "metadata": {
    "collapsed": false
   },
   "outputs": [],
   "source": [
    "MmCorpus.serialize('20150630_rohingyaCorpusGensim20kTw.mm', corpus)\n",
    "dictionary.save('20150630_rohingyaDictGensim20kTw.dict')\n",
    "tlda.save('20150630_rohingyaLDAGensim20kTw.model')"
   ]
  },
  {
   "cell_type": "code",
   "execution_count": null,
   "metadata": {
    "collapsed": true
   },
   "outputs": [],
   "source": [
    "import pyLDAvis.gensim as gensimvis\n",
    "import pyLDAvis"
   ]
  },
  {
   "cell_type": "code",
   "execution_count": null,
   "metadata": {
    "collapsed": true
   },
   "outputs": [],
   "source": [
    "vis_data = gensimvis.prepare(tlda, corpus, dictionary)\n",
    "pyLDAvis.display(vis_data)"
   ]
  },
  {
   "cell_type": "markdown",
   "metadata": {
    "collapsed": true
   },
   "source": [
    "## NYT API"
   ]
  },
  {
   "cell_type": "code",
   "execution_count": 1,
   "metadata": {
    "collapsed": true
   },
   "outputs": [],
   "source": [
    "import requests as r\n",
    "import json\n",
    "import datetime"
   ]
  },
  {
   "cell_type": "code",
   "execution_count": 4,
   "metadata": {
    "collapsed": false
   },
   "outputs": [
    {
     "data": {
      "text/plain": [
       "671"
      ]
     },
     "execution_count": 4,
     "metadata": {},
     "output_type": "execute_result"
    }
   ],
   "source": [
    "# Docs: http://developer.nytimes.com/docs\n",
    "srch_api_key = \"f213df3db36883693726676a144adacb:8:72339630\"\n",
    "keyphrase = 'rohingya'\n",
    "srch_api_result = r.get(\"http://api.nytimes.com/svc/search/v2/articlesearch.json?q=\"+keyphrase+\"&api-key=\"+srch_api_key)\n",
    "hits = int(srch_api_result.json()[\"response\"][\"meta\"][\"hits\"])\n",
    "\n",
    "article_list = []\n",
    "for p in range(int(hits/10)+1):\n",
    "    srch_api_result = r.get(\"http://api.nytimes.com/svc/search/v2/articlesearch.json?q=rohingya&api-key=\"+srch_api_key+\"&page=\"+str(p))\n",
    "    article_list += srch_api_result.json()[\"response\"][\"docs\"]\n",
    "len(article_list)"
   ]
  },
  {
   "cell_type": "code",
   "execution_count": 6,
   "metadata": {
    "collapsed": false
   },
   "outputs": [
    {
     "data": {
      "text/plain": [
       "dict_keys(['abstract', 'print_page', 'subsection_name', '_id', 'source', 'blog', 'byline', 'news_desk', 'headline', 'snippet', 'keywords', 'multimedia', 'document_type', 'web_url', 'type_of_material', 'word_count', 'pub_date', 'lead_paragraph', 'section_name', 'slideshow_credits'])"
      ]
     },
     "execution_count": 6,
     "metadata": {},
     "output_type": "execute_result"
    }
   ],
   "source": [
    "article_list[0].keys()"
   ]
  },
  {
   "cell_type": "code",
   "execution_count": null,
   "metadata": {
    "collapsed": true
   },
   "outputs": [],
   "source": [
    "article_dict = {}\n",
    "for a in article_list:\n",
    "    article_dict[a[\"_id\"]] = a"
   ]
  },
  {
   "cell_type": "code",
   "execution_count": null,
   "metadata": {
    "collapsed": false
   },
   "outputs": [],
   "source": [
    "article_list[3].keys()"
   ]
  },
  {
   "cell_type": "code",
   "execution_count": null,
   "metadata": {
    "collapsed": false
   },
   "outputs": [],
   "source": [
    "len(set([a[\"_id\"] for a in article_list])) # there are duplicates in the article list"
   ]
  },
  {
   "cell_type": "code",
   "execution_count": null,
   "metadata": {
    "collapsed": false
   },
   "outputs": [],
   "source": [
    "cmmnt_api_key = \"57072e9d034507aaf2f3a6d128d501ce:10:72339630\"\n",
    "cmmnts_dict = {}\n",
    "\n",
    "for a_id, a in article_dict.items():\n",
    "    cmmnt_api_result = r.get(\"http://api.nytimes.com/svc/community/v3/user-content/url.json?url=\"+a[\"web_url\"]+\"&api-key=\"+cmmnt_api_key)\n",
    "    a[\"comments\"] = cmmnt_api_result.json()[\"results\"][\"comments\"]\n",
    "    article_dict[a_id] = a"
   ]
  },
  {
   "cell_type": "code",
   "execution_count": null,
   "metadata": {
    "collapsed": false
   },
   "outputs": [],
   "source": [
    "datetime.datetime.fromtimestamp(1199309173) #.strftime('%Y-%m-%d %H:%M:%S')"
   ]
  },
  {
   "cell_type": "code",
   "execution_count": 789,
   "metadata": {
    "collapsed": false
   },
   "outputs": [
    {
     "data": {
      "text/plain": [
       "{'_id': '4fd1bf1b8eb7c8105d6ecbda',\n",
       " 'abstract': None,\n",
       " 'blog': [],\n",
       " 'byline': None,\n",
       " 'comments': [],\n",
       " 'document_type': 'article',\n",
       " 'headline': {'main': 'Friends of the Slorc'},\n",
       " 'keywords': [{'name': 'creative_works', 'value': 'UNITED NATIONS (UN)'},\n",
       "  {'name': 'glocations', 'value': 'MYANMAR'},\n",
       "  {'name': 'glocations', 'value': 'THAILAND'},\n",
       "  {'name': 'glocations', 'value': 'SINGAPORE'},\n",
       "  {'name': 'organizations', 'value': 'UNITED NATIONS'},\n",
       "  {'name': 'subject', 'value': 'INTERNATIONAL RELATIONS'},\n",
       "  {'name': 'subject', 'value': 'EDITORIALS'},\n",
       "  {'name': 'subject', 'value': 'POLITICS AND GOVERNMENT'},\n",
       "  {'name': 'subject', 'value': 'FREEDOM AND HUMAN RIGHTS'}],\n",
       " 'lead_paragraph': \"Even diplomats inclined to give maximum scope to sovereign governments have a hard time defending the widespread human rights abuses committed by Myanmar's State Law and Order Restoration Council, or Slorc. Yet that is what Asian countries like Singapore and Thailand are now doing by seeking to water down a U.N. resolution aimed at discouraging flagrant violations of human rights. Western countries like Britain, France and Sweden are quietly bowing to these Asian pressures. The Clinton Administration, to its credit, refuses to go along.\",\n",
       " 'multimedia': [],\n",
       " 'news_desk': 'Editorial Desk',\n",
       " 'print_page': '26',\n",
       " 'pub_date': '1993-12-02T00:00:00Z',\n",
       " 'section_name': 'Opinion',\n",
       " 'snippet': \"Even diplomats inclined to give maximum scope to sovereign governments have a hard time defending the widespread human rights abuses committed by Myanmar's State Law and Order Restoration Council, or Slorc.   Yet that is what Asian countries like...\",\n",
       " 'source': 'The New York Times',\n",
       " 'subsection_name': None,\n",
       " 'type_of_material': 'Editorial',\n",
       " 'web_url': 'http://www.nytimes.com/1993/12/02/opinion/friends-of-the-slorc.html',\n",
       " 'word_count': 356}"
      ]
     },
     "execution_count": 789,
     "metadata": {},
     "output_type": "execute_result"
    }
   ],
   "source": [
    "article_dict[\"4fd1bf1b8eb7c8105d6ecbda\"].keys"
   ]
  },
  {
   "cell_type": "code",
   "execution_count": 790,
   "metadata": {
    "collapsed": false
   },
   "outputs": [
    {
     "data": {
      "text/plain": [
       "589"
      ]
     },
     "execution_count": 790,
     "metadata": {},
     "output_type": "execute_result"
    }
   ],
   "source": [
    "len(article_dict)"
   ]
  },
  {
   "cell_type": "markdown",
   "metadata": {},
   "source": [
    "## Guardian News Analysis"
   ]
  },
  {
   "cell_type": "code",
   "execution_count": 7,
   "metadata": {
    "collapsed": true
   },
   "outputs": [],
   "source": [
    "import time"
   ]
  },
  {
   "cell_type": "code",
   "execution_count": 8,
   "metadata": {
    "collapsed": true
   },
   "outputs": [],
   "source": [
    "# reference: http://open-platform.theguardian.com/documentation/\n",
    "# maybe useful: http://discussion.guardianapis.com/discussion-api/\n",
    "g_api_key = \"aj9wdvgqhqygh3bhfcquu4j3\" # limit is 12 calls per second."
   ]
  },
  {
   "cell_type": "code",
   "execution_count": 9,
   "metadata": {
    "collapsed": false
   },
   "outputs": [
    {
     "ename": "NameError",
     "evalue": "name 'g_articles_strt' is not defined",
     "output_type": "error",
     "traceback": [
      "\u001b[0;31m---------------------------------------------------------------------------\u001b[0m",
      "\u001b[0;31mNameError\u001b[0m                                 Traceback (most recent call last)",
      "\u001b[0;32m<ipython-input-9-c4ec4db31eb1>\u001b[0m in \u001b[0;36m<module>\u001b[0;34m()\u001b[0m\n\u001b[0;32m----> 1\u001b[0;31m \u001b[0mprint\u001b[0m\u001b[0;34m(\u001b[0m\u001b[0mg_articles_strt\u001b[0m\u001b[0;34m.\u001b[0m\u001b[0mjson\u001b[0m\u001b[0;34m(\u001b[0m\u001b[0;34m)\u001b[0m\u001b[0;34m[\u001b[0m\u001b[0;34m\"response\"\u001b[0m\u001b[0;34m]\u001b[0m\u001b[0;34m[\u001b[0m\u001b[0;34m\"pages\"\u001b[0m\u001b[0;34m]\u001b[0m\u001b[0;34m)\u001b[0m\u001b[0;34m\u001b[0m\u001b[0m\n\u001b[0m",
      "\u001b[0;31mNameError\u001b[0m: name 'g_articles_strt' is not defined"
     ]
    }
   ],
   "source": [
    "print(g_articles_strt.json()[\"response\"][\"pages\"])"
   ]
  },
  {
   "cell_type": "code",
   "execution_count": 10,
   "metadata": {
    "collapsed": false
   },
   "outputs": [
    {
     "name": "stdout",
     "output_type": "stream",
     "text": [
      "1482\n",
      "11,22,33,44,55,66,77,88,99,110,121,132,143,154,165,176,187,198,209,220,231,242,253,264,275,286,297,308,319,330,341,352,363,374,385,396,407,418,429,440,451,462,473,484,495,506,517,528,539,550,561,572,583,594,605,616,627,638,649,660,671,682,693,704,715,726,737,748,759,770,781,792,803,814,825,836,847,858,869,880,891,902,913,924,935,946,957,968,979,990,1001,1012,1023,1034,1045,1056,1067,1078,1089,1100,1111,1122,1133,1144,1155,1166,1177,1188,1199,1210,1221,1232,1243,1254,1265,1276,1287,1298,1309,1320,1331,1342,1353,1364,1375,1386,1397,1408,1419,1430,1441,1452,1463,1474,"
     ]
    }
   ],
   "source": [
    "#from-date=1920-\n",
    "keyterm=\"rohingya\"\n",
    "g_articles_strt = r.get(\"http://content.guardianapis.com/search?q=\"+keyterm+\"/politics&show-blocks=all&from-date=2015-01-01&api-key=\"+g_api_key)\n",
    "g_articles_list = []\n",
    "print(g_articles_strt.json()[\"response\"][\"pages\"])\n",
    "\n",
    "for p in range(1,g_articles_strt.json()[\"response\"][\"pages\"]+2):\n",
    "    g_articles = r.get(\"http://content.guardianapis.com/search?q=rohingya/politics&show-blocks=all&page=\"+str(p)+\"&from-date=1920-01-01&api-key=\"+g_api_key)\n",
    "    g_articles_list += g_articles.json()[\"response\"][\"results\"]\n",
    "    \n",
    "    if p%11 == 0:\n",
    "        time.sleep(1)\n",
    "        print(p,end=',')"
   ]
  },
  {
   "cell_type": "code",
   "execution_count": 14,
   "metadata": {
    "collapsed": false
   },
   "outputs": [
    {
     "data": {
      "text/plain": [
       "1482"
      ]
     },
     "execution_count": 14,
     "metadata": {},
     "output_type": "execute_result"
    }
   ],
   "source": [
    "g_articles_strt.json()[\"response\"][\"pages\"]"
   ]
  },
  {
   "cell_type": "code",
   "execution_count": 15,
   "metadata": {
    "collapsed": false
   },
   "outputs": [
    {
     "data": {
      "text/plain": [
       "14830"
      ]
     },
     "execution_count": 15,
     "metadata": {},
     "output_type": "execute_result"
    }
   ],
   "source": [
    "len(g_articles_list)"
   ]
  },
  {
   "cell_type": "code",
   "execution_count": 793,
   "metadata": {
    "collapsed": false
   },
   "outputs": [
    {
     "data": {
      "text/plain": [
       "{'response': {'currentPage': 889,\n",
       "  'orderBy': 'relevance',\n",
       "  'pageSize': 10,\n",
       "  'pages': 19700,\n",
       "  'results': [{'apiUrl': 'http://content.guardianapis.com/politics/2013/aug/08/ukip-mep-bongo-bongo-land-antelope',\n",
       "    'id': 'politics/2013/aug/08/ukip-mep-bongo-bongo-land-antelope',\n",
       "    'sectionId': 'politics',\n",
       "    'sectionName': 'Politics',\n",
       "    'webPublicationDate': '2013-08-08T13:01:23Z',\n",
       "    'webTitle': \"Ukip MEP: 'bongo bongo land' is not racist because it refers to antelope\",\n",
       "    'webUrl': 'http://www.theguardian.com/politics/2013/aug/08/ukip-mep-bongo-bongo-land-antelope'},\n",
       "   {'apiUrl': 'http://content.guardianapis.com/politics/2013/sep/16/liberal-democrat-conference-diary-omnishambles',\n",
       "    'id': 'politics/2013/sep/16/liberal-democrat-conference-diary-omnishambles',\n",
       "    'sectionId': 'politics',\n",
       "    'sectionName': 'Politics',\n",
       "    'webPublicationDate': '2013-09-16T16:44:50Z',\n",
       "    'webTitle': 'Liberal Democrat conference diary: omnishambles ahoy',\n",
       "    'webUrl': 'http://www.theguardian.com/politics/2013/sep/16/liberal-democrat-conference-diary-omnishambles'},\n",
       "   {'apiUrl': 'http://content.guardianapis.com/politics/2013/aug/15/hugh-muir-diary-theresa-37-offences',\n",
       "    'id': 'politics/2013/aug/15/hugh-muir-diary-theresa-37-offences',\n",
       "    'sectionId': 'politics',\n",
       "    'sectionName': 'Politics',\n",
       "    'webPublicationDate': '2013-08-15T21:59:00Z',\n",
       "    'webTitle': \"Hugh Muir's diary: Fraud, money laundering, immigration shenanigans. It's all go at the Home Office\",\n",
       "    'webUrl': 'http://www.theguardian.com/politics/2013/aug/15/hugh-muir-diary-theresa-37-offences'},\n",
       "   {'apiUrl': 'http://content.guardianapis.com/politics/2013/sep/16/vince-cable-tories-ugly-politics',\n",
       "    'id': 'politics/2013/sep/16/vince-cable-tories-ugly-politics',\n",
       "    'sectionId': 'politics',\n",
       "    'sectionName': 'Politics',\n",
       "    'webPublicationDate': '2013-09-16T13:33:52Z',\n",
       "    'webTitle': 'Vince Cable accuses Tories of cynical, ugly politics',\n",
       "    'webUrl': 'http://www.theguardian.com/politics/2013/sep/16/vince-cable-tories-ugly-politics'},\n",
       "   {'apiUrl': 'http://content.guardianapis.com/politics/blog/2013/sep/16/lib-dem-secret-briefing-journalists',\n",
       "    'id': 'politics/blog/2013/sep/16/lib-dem-secret-briefing-journalists',\n",
       "    'sectionId': 'politics',\n",
       "    'sectionName': 'Politics',\n",
       "    'webPublicationDate': '2013-09-16T12:37:27Z',\n",
       "    'webTitle': 'Lib Dem officials accidentally send secret briefing note to journalists',\n",
       "    'webUrl': 'http://www.theguardian.com/politics/blog/2013/sep/16/lib-dem-secret-briefing-journalists'},\n",
       "   {'apiUrl': 'http://content.guardianapis.com/politics/2013/sep/16/nick-clegg-lib-dems-austerity',\n",
       "    'id': 'politics/2013/sep/16/nick-clegg-lib-dems-austerity',\n",
       "    'sectionId': 'politics',\n",
       "    'sectionName': 'Politics',\n",
       "    'webPublicationDate': '2013-09-16T12:12:38Z',\n",
       "    'webTitle': 'Nick Clegg persuades Lib Dems to stick with austerity',\n",
       "    'webUrl': 'http://www.theguardian.com/politics/2013/sep/16/nick-clegg-lib-dems-austerity'},\n",
       "   {'apiUrl': 'http://content.guardianapis.com/politics/audio/2013/aug/15/politics-weekly-podcast-anat-admati',\n",
       "    'id': 'politics/audio/2013/aug/15/politics-weekly-podcast-anat-admati',\n",
       "    'sectionId': 'politics',\n",
       "    'sectionName': 'Politics',\n",
       "    'webPublicationDate': '2013-08-15T11:12:57Z',\n",
       "    'webTitle': 'Politics Weekly podcast: Anat Admati on regulating banks after the crisis',\n",
       "    'webUrl': 'http://www.theguardian.com/politics/audio/2013/aug/15/politics-weekly-podcast-anat-admati'},\n",
       "   {'apiUrl': 'http://content.guardianapis.com/world/2013/aug/07/election-2013-unemployment-figures-released-politics-live-blog',\n",
       "    'blocks': {'body': [{'attributes': {'keyEvent': 'true',\n",
       "        'title': 'Nighty night'},\n",
       "       'bodyHtml': '<p>Let&apos;s wrap for tonight.</p> <p>Huge thanks to <strong>Mike Bowers and Paul Owen.</strong> Paul is out from London for the campaign. At the Guardian, we are live bloggers without borders. Thanks Paul, and welcome.</p> <p>Today in the campaign:</p> <ul> <li><strong>Kevin Rudd</strong> overcame a wardrobe malfunction with his media plane to land his big surprise of the day - <strong>the recruitment of former premier Peter Beattie to contest the Queensland marginal seat of Forde</strong>.</li> <li>The two overcame the inconvenience of<strong> all the #snarknado Peter Beattie had unfurled against Rudd over the past few years</strong> by declaring that the things that unite the Labor men of Brisvegas are more important than the things which divide them.</li> <li>As is sometimes noted in the classics, time will tell.</li> <li><strong>Tony Abbott was in Tasmania</strong> and offered a the first instalment of his jobs and growth plan for the apple isle. (Hang on, isn&apos;t Labor jobs and growth? Well, who isn&apos;t jobs and growth really).</li> <li>On Peter Beattie, Abbott offered this. He was the flim flam man. He would be nothing but trouble for Kevin Rudd.</li> <li>In other developments, <strong>employment and participation fell, leaving the unemployment rate steady for July.</strong></li> <li>Shadow communications minister <strong>Malcolm Turnbull</strong> came out to kill the various conspiracy theories about <strong>Rupert Murdoch</strong> wanting to toss out the Labor government because the national broadband network would kill Foxtel.</li> <li>In the process he described the media mogul&apos;s ideas about the NBN as &quot;mundane&quot;. He also threw in a reference to Murdoch plotting things in his &quot;bat cave&quot; which he seemed to enjoy a great deal. Perhaps I imagined that.</li> </ul> <p>See you all again tomorrow.</p>',\n",
       "       'bodyTextSummary': 'Let\\'s wrap for tonight. Huge thanks to Mike Bowers and Paul Owen. Paul is out from London for the campaign. At the Guardian, we are live bloggers without borders. Thanks Paul, and welcome. Today in the campaign: Kevin Rudd overcame a wardrobe malfunction with his media plane to land his big surprise of the day - the recruitment of former premier Peter Beattie to contest the Queensland marginal seat of Forde. The two overcame the inconvenience of all the #snarknado Peter Beattie had unfurled against Rudd over the past few years by declaring that the things that unite the Labor men of Brisvegas are more important than the things which divide them. As is sometimes noted in the classics, time will tell. Tony Abbott was in Tasmania and offered a the first instalment of his jobs and growth plan for the apple isle. (Hang on, isn\\'t Labor jobs and growth? Well, who isn\\'t jobs and growth really). On Peter Beattie, Abbott offered this. He was the flim flam man. He would be nothing but trouble for Kevin Rudd. In other developments, employment and participation fell, leaving the unemployment rate steady for July. Shadow communications minister Malcolm Turnbull came out to kill the various conspiracy theories about Rupert Murdoch wanting to toss out the Labor government because the national broadband network would kill Foxtel. In the process he described the media mogul\\'s ideas about the NBN as \"mundane\". He also threw in a reference to Murdoch plotting things in his \"bat cave\" which he seemed to enjoy a great deal. Perhaps I imagined that. See you all again tomorrow.',\n",
       "       'contributors': [],\n",
       "       'createdBy': {'email': 'katharine.murphy@guardian.co.uk',\n",
       "        'firstName': 'Katharine',\n",
       "        'lastName': 'Murphy'},\n",
       "       'createdDate': '2013-08-08T08:52:43.785+01:00',\n",
       "       'firstPublishedDate': '2013-08-08T08:52:44.330+01:00',\n",
       "       'id': '52034e4be4b0f205203bb66e',\n",
       "       'lastModifiedBy': {'email': 'katharine.murphy@guardian.co.uk',\n",
       "        'firstName': 'Katharine',\n",
       "        'lastName': 'Murphy'},\n",
       "       'lastModifiedDate': '2013-08-08T08:52:43.785+01:00',\n",
       "       'published': True,\n",
       "       'publishedDate': '2013-08-08T08:52:44.330+01:00',\n",
       "       'title': 'Nighty night'},\n",
       "      {'attributes': {'keyEvent': 'true',\n",
       "        'title': 'Two interesting comment pieces about Beattie'},\n",
       "       'bodyHtml': '<p><strong>Bernard Keane from Crikey</strong> is <a href=\"http://www.crikey.com.au/2013/08/08/beattie-boosts-labor-whatever-the-election-outcome/\">positive about the Beattie play.</a> &quot;Beattie will bring political smarts, cynical opportunism and leadership experience to the frontbench, as well as boosting the quality of Queensland’s representation\\u2009—\\u2009there are currently no other Queenslanders in Rudd’s cabinet than himself,&quot; Keane says. &quot;It also means it’s less likely Rudd will dominate cabinet like he did during his first prime ministership, when he didn’t have two long-serving Labor premiers at the table.&quot;</p> <p><strong>Annabel Crabb from the ABC</strong> <a href=\"http://www.abc.net.au/news/2013-08-08/crabb-beattie-election-forde/4873406\">is typically witty.</a> &quot;Remember the scene in Ghostbusters where they crossed the streams? In an incredibly risky and untried manoeuvre involving mutually awesome and potentially explosively incompatible super-human forces? Well, that&apos;s sort of what&apos;s going on here. When Rudd and Beattie campaign together today in Brisbane, prepare to go into Shamelessness Overdrive, as the man who wants to be elected to fix the federal messes he created meets the man who was re-elected several times in Queensland vowing, in effect, to get tough on himself.&quot;</p>',\n",
       "       'bodyTextSummary': 'Bernard Keane from Crikey is positive about the Beattie play. \"Beattie will bring political smarts, cynical opportunism and leadership experience to the frontbench, as well as boosting the quality of Queensland’s representation\\u2009—\\u2009there are currently no other Queenslanders in Rudd’s cabinet than himself,\" Keane says. \"It also means it’s less likely Rudd will dominate cabinet like he did during his first prime ministership, when he didn’t have two long-serving Labor premiers at the table.\" Annabel Crabb from the ABC is typically witty. \"Remember the scene in Ghostbusters where they crossed the streams? In an incredibly risky and untried manoeuvre involving mutually awesome and potentially explosively incompatible super-human forces? Well, that\\'s sort of what\\'s going on here. When Rudd and Beattie campaign together today in Brisbane, prepare to go into Shamelessness Overdrive, as the man who wants to be elected to fix the federal messes he created meets the man who was re-elected several times in Queensland vowing, in effect, to get tough on himself.\"',\n",
       "       'contributors': [],\n",
       "       'createdBy': {'email': 'katharine.murphy@guardian.co.uk',\n",
       "        'firstName': 'Katharine',\n",
       "        'lastName': 'Murphy'},\n",
       "       'createdDate': '2013-08-08T08:33:19.966+01:00',\n",
       "       'firstPublishedDate': '2013-08-08T08:33:20.476+01:00',\n",
       "       'id': '520349bfe4b04846eeb4e8dd',\n",
       "       'lastModifiedBy': {'email': 'katharine.murphy@guardian.co.uk',\n",
       "        'firstName': 'Katharine',\n",
       "        'lastName': 'Murphy'},\n",
       "       'lastModifiedDate': '2013-08-08T08:33:19.966+01:00',\n",
       "       'published': True,\n",
       "       'publishedDate': '2013-08-08T08:33:20.476+01:00',\n",
       "       'title': 'Two interesting comment pieces about Beattie'},\n",
       "      {'attributes': {},\n",
       "       'bodyHtml': '<p>Political blogger The Piping Shrike isn&apos;t buying the big mo.</p>  <figure class=\"element element-tweet\" data-canonical-url=\"https://twitter.com/Piping_Shrike/statuses/365369239705628672\">  <blockquote class=\"twitter-tweet\"><p>All this talk about &quot;momentum&quot; being added to Labor&#39;s campaign is just political strategist West Wing speak. Meaningless.</p>&mdash; The Piping Shrike (@Piping_Shrike) <a href=\"https://twitter.com/Piping_Shrike/statuses/365369239705628672\">August 8, 2013</a></blockquote>  </figure>',\n",
       "       'bodyTextSummary': \"Political blogger The Piping Shrike isn't buying the big mo.\",\n",
       "       'contributors': [],\n",
       "       'createdBy': {'email': 'katharine.murphy@guardian.co.uk',\n",
       "        'firstName': 'Katharine',\n",
       "        'lastName': 'Murphy'},\n",
       "       'createdDate': '2013-08-08T08:15:30.574+01:00',\n",
       "       'firstPublishedDate': '2013-08-08T08:15:31.167+01:00',\n",
       "       'id': '52034592e4b0f205203bb66c',\n",
       "       'lastModifiedBy': {'email': 'katharine.murphy@guardian.co.uk',\n",
       "        'firstName': 'Katharine',\n",
       "        'lastName': 'Murphy'},\n",
       "       'lastModifiedDate': '2013-08-08T08:15:30.574+01:00',\n",
       "       'published': True,\n",
       "       'publishedDate': '2013-08-08T08:15:31.167+01:00'},\n",
       "      {'attributes': {'keyEvent': 'true',\n",
       "        'title': 'My thoughts on Beattie: the now and the later'},\n",
       "       'bodyHtml': '<blockquote class=\"quoted\"> <p>Like the over-whelming majority of caucus I knew there was a fatal political flaw. It was poor political judgment on key issues. For me, Rudd&apos;s political judgment was demonstrated in the introduction of the mining tax without proper consultation, the back-flip on timing of the emissions trading scheme and the bungled home insulation program.</p> <p>On a more personal level, the stories of Kevin&apos;s offhanded and at times brutal dealings with staff and public officials spread like wildfire throughout the country.</p> <p><strong>Peter Beattie on Kevin Rudd: June 2010</strong></p> </blockquote> <p>Let&apos;s try and cut through the show business. Today&apos;s performance by Kevin Rudd and Peter Beattie? Well it&apos;s &apos;dial c for chutzpah.&apos; Only these two cheese merchants would have had the audacity to actually pull it off.</p> <p>It&apos;s a measure of something, that two men who have been at public loggerheads for the last several years feel they can join up for this campaign.</p> <p>Julia Gillard and Kevin Rudd hated each other more than Tony Abbott, at least these two can manage to turn their collective ire on the actual opponent - the alternative prime minister, Tony Abbott. In any case, you can fake rapprochement until you make it. Professional politics is full of people who absolutely loathe one another. It&apos;s friendship that&apos;s the rarity. Loathing is stock issue.</p> <p>So how they feel about one another doesn&apos;t matter (at least for now. It will matter afterwards, but more of that in a minute.)</p> <p>The question is will it work? Given Queensland is one of the most parochial parts of the country, possibly it will help. Labor clearly thinks it will. The Liberals are spinning madly that it won&apos;t which is either: 1. Absolutely true; or 2. Not true, and the degree of huffing and puffing indicates deep unease at this little magic trick from the ALP.</p> <p>My instinct is it will give a boost to Labor&apos;s Queensland campaign, and if your horizon is four weeks, you&apos;ll bank what you can get now and worry about the consequences later.</p> <p>This is how it rolls in modern politics. The future is often being mortgaged for the present. Isn&apos;t it?</p> <p>But.</p> <p>And it&apos;s a big but. Let&apos;s say Beattie wins, and Labor wins. This then won&apos;t be a magic trick for an election campaign, it will be a thing. A permanent thing. State premiers in Australia have not always made great transitions to Canberra. And if they bomb, federal leaders have to deal with two problems: the sense that the star recruit has under-performed; and the fact that former leaders are players, and they remain players in perpetuity. Ask Julia Gillard now how she feels about her big bold investment in the former NSW premier Bob Carr.</p> <p>It&apos;s tomorrow&apos;s problem, but for Kevin Rudd? A problem.</p>',\n",
       "       'bodyTextSummary': \"Like the over-whelming majority of caucus I knew there was a fatal political flaw. It was poor political judgment on key issues. For me, Rudd's political judgment was demonstrated in the introduction of the mining tax without proper consultation, the back-flip on timing of the emissions trading scheme and the bungled home insulation program. On a more personal level, the stories of Kevin's offhanded and at times brutal dealings with staff and public officials spread like wildfire throughout the country. Peter Beattie on Kevin Rudd: June 2010 Let's try and cut through the show business. Today's performance by Kevin Rudd and Peter Beattie? Well it's 'dial c for chutzpah.' Only these two cheese merchants would have had the audacity to actually pull it off. It's a measure of something, that two men who have been at public loggerheads for the last several years feel they can join up for this campaign. Julia Gillard and Kevin Rudd hated each other more than Tony Abbott, at least these two can manage to turn their collective ire on the actual opponent - the alternative prime minister, Tony Abbott. In any case, you can fake rapprochement until you make it. Professional politics is full of people who absolutely loathe one another. It's friendship that's the rarity. Loathing is stock issue. So how they feel about one another doesn't matter (at least for now. It will matter afterwards, but more of that in a minute.) The question is will it work? Given Queensland is one of the most parochial parts of the country, possibly it will help. Labor clearly thinks it will. The Liberals are spinning madly that it won't which is either: 1. Absolutely true; or 2. Not true, and the degree of huffing and puffing indicates deep unease at this little magic trick from the ALP. My instinct is it will give a boost to Labor's Queensland campaign, and if your horizon is four weeks, you'll bank what you can get now and worry about the consequences later. This is how it rolls in modern politics. The future is often being mortgaged for the present. Isn't it? But. And it's a big but. Let's say Beattie wins, and Labor wins. This then won't be a magic trick for an election campaign, it will be a thing. A permanent thing. State premiers in Australia have not always made great transitions to Canberra. And if they bomb, federal leaders have to deal with two problems: the sense that the star recruit has under-performed; and the fact that former leaders are players, and they remain players in perpetuity. Ask Julia Gillard now how she feels about her big bold investment in the former NSW premier Bob Carr. It's tomorrow's problem, but for Kevin Rudd? A problem.\",\n",
       "       'contributors': [],\n",
       "       'createdBy': {'email': 'katharine.murphy@guardian.co.uk',\n",
       "        'firstName': 'Katharine',\n",
       "        'lastName': 'Murphy'},\n",
       "       'createdDate': '2013-08-08T07:51:18.247+01:00',\n",
       "       'firstPublishedDate': '2013-08-08T07:51:19.001+01:00',\n",
       "       'id': '52033fe6e4b0f205203bb66a',\n",
       "       'lastModifiedBy': {'email': 'katharine.murphy@guardian.co.uk',\n",
       "        'firstName': 'Katharine',\n",
       "        'lastName': 'Murphy'},\n",
       "       'lastModifiedDate': '2013-08-08T07:54:59.667+01:00',\n",
       "       'published': True,\n",
       "       'publishedDate': '2013-08-08T07:55:00.205+01:00',\n",
       "       'title': 'My thoughts on Beattie: the now and the later'},\n",
       "      {'attributes': {'keyEvent': 'true',\n",
       "        'title': 'No skateboards. Parachutes ok.'},\n",
       "       'bodyHtml': '<p>Mike Bowers and Fiona Katauskas need to understand photo-journalism is a serious business.</p>  <figure class=\"element element-image\" data-media-id=\"gu-fc-98bc0b14-519c-4832-ab96-79e0e6ab141d\"> <img src=\"http://static.guim.co.uk/sys-images/Guardian/Pix/pictures/2013/8/8/1375942353110/b5c0281a-5d79-4137-a139-c2613e25b57b-460x276.jpeg\" alt=\"Prime Minister Kevin Rudd and former premier Peter Beattie.\" width=\"460\" height=\"276\" class=\"gu-image\" /> <figcaption> <span class=\"element-image__caption\">Prime Minister Kevin Rudd and former premier Peter Beattie. <a href=\"http://www.theglobalmail.org/\">Mike Bowers/TGM</a></span> </figcaption> </figure>  <figure class=\"element element-image\" data-media-id=\"gu-fc-79cb1213-0803-4392-a77b-45faa606b2b7\"> <img src=\"http://static.guim.co.uk/sys-images/Guardian/Pix/pictures/2013/8/8/1375942650055/989bd3d6-8c2c-4c43-a93d-d4f9b62ad42d-460x276.jpeg\" alt=\"Cartooinist Fiona Katauskas addition to photograph of PM Kevin Rudd and former premier Peter Beattie\" width=\"460\" height=\"276\" class=\"gu-image\" /> <figcaption> <span class=\"element-image__caption\">Cartooinist Fiona Katauskas addition to photograph of PM Kevin Rudd and former premier Peter Beattie. <a href=\"http://www.theglobalmail.org/\">Mike Bowers/TGM</a></span> </figcaption> </figure>',\n",
       "       'bodyTextSummary': 'Mike Bowers and Fiona Katauskas need to understand photo-journalism is a serious business.',\n",
       "       'contributors': [],\n",
       "       'createdBy': {'email': 'katharine.murphy@guardian.co.uk',\n",
       "        'firstName': 'Katharine',\n",
       "        'lastName': 'Murphy'},\n",
       "       'createdDate': '2013-08-08T07:15:09.902+01:00',\n",
       "       'firstPublishedDate': '2013-08-08T07:19:48.213+01:00',\n",
       "       'id': '5203376de4b04846eeb4e8d8',\n",
       "       'lastModifiedBy': {'email': 'katharine.murphy@guardian.co.uk',\n",
       "        'firstName': 'Katharine',\n",
       "        'lastName': 'Murphy'},\n",
       "       'lastModifiedDate': '2013-08-08T07:20:15.218+01:00',\n",
       "       'published': True,\n",
       "       'publishedDate': '2013-08-08T07:20:16.429+01:00',\n",
       "       'title': 'No skateboards. Parachutes ok.'},\n",
       "      {'attributes': {},\n",
       "       'bodyHtml': '<p><strong>Guardian Australia political editor Lenore Taylor</strong> has <a href=\"http://www.theguardian.com/world/2013/aug/08/labor-peter-beattie-momentum\">written a good piece</a> about the Beattie effect. It&apos;s all about the big mo. As Lenore notes, when fictional president Jed Bartlet&apos;s polling improved in an episode of The West Wing, his deputy chief of staff, Josh Lyman, declared: &quot;We got momentum, baby! We got the big mo!&quot;</p> <blockquote class=\"quoted\"> <p>It&apos;s unlikely Rudd or any of his advisers would use that phrase. Some of them are, shall we say, more The Thick of It than West Wing.</p> <p>But so far this has been a fairly even election contest, where the first week began with Newspoll showing the Coalition in the lead 52:48 on a two-party preferred basis and Essential showing 51:49. Neither party has really landed a killer blow since in the battle over economic management and budget costings.</p> <p>&quot;The big mo&quot; is exactly what they are after. Enter Peter Beattie stage right, into the battle for Forde and the all-important Queensland election campaign more generally.</p> </blockquote>',\n",
       "       'bodyTextSummary': 'Guardian Australia political editor Lenore Taylor has written a good piece about the Beattie effect. It\\'s all about the big mo. As Lenore notes, when fictional president Jed Bartlet\\'s polling improved in an episode of The West Wing, his deputy chief of staff, Josh Lyman, declared: \"We got momentum, baby! We got the big mo!\" It\\'s unlikely Rudd or any of his advisers would use that phrase. Some of them are, shall we say, more The Thick of It than West Wing. But so far this has been a fairly even election contest, where the first week began with Newspoll showing the Coalition in the lead 52:48 on a two-party preferred basis and Essential showing 51:49. Neither party has really landed a killer blow since in the battle over economic management and budget costings. \"The big mo\" is exactly what they are after. Enter Peter Beattie stage right, into the battle for Forde and the all-important Queensland election campaign more generally.',\n",
       "       'contributors': [],\n",
       "       'createdBy': {'email': 'katharine.murphy@guardian.co.uk',\n",
       "        'firstName': 'Katharine',\n",
       "        'lastName': 'Murphy'},\n",
       "       'createdDate': '2013-08-08T07:11:25.680+01:00',\n",
       "       'firstPublishedDate': '2013-08-08T07:11:26.254+01:00',\n",
       "       'id': '5203368de4b04846eeb4e8d7',\n",
       "       'lastModifiedBy': {'email': 'katharine.murphy@guardian.co.uk',\n",
       "        'firstName': 'Katharine',\n",
       "        'lastName': 'Murphy'},\n",
       "       'lastModifiedDate': '2013-08-08T07:11:25.680+01:00',\n",
       "       'published': True,\n",
       "       'publishedDate': '2013-08-08T07:11:26.254+01:00'},\n",
       "      {'attributes': {},\n",
       "       'bodyHtml': '<blockquote class=\"quoted\"> <p>Peter Beattie is a blow in and a carpet bagger.</p> </blockquote> <p><strong>Queensland Liberal senator George Brandis</strong> is shouting on Sky News. Perhaps it&apos;s just the traffic noise prompting him to shout. Not extreme irritation.</p> <blockquote class=\"quoted\"> <p>Anyone who knows Peter Beattie knows his relationship with Mr Rudd is poisonous.</p> </blockquote>',\n",
       "       'bodyTextSummary': \"Peter Beattie is a blow in and a carpet bagger. Queensland Liberal senator George Brandis is shouting on Sky News. Perhaps it's just the traffic noise prompting him to shout. Not extreme irritation. Anyone who knows Peter Beattie knows his relationship with Mr Rudd is poisonous.\",\n",
       "       'contributors': [],\n",
       "       'createdBy': {'email': 'katharine.murphy@guardian.co.uk',\n",
       "        'firstName': 'Katharine',\n",
       "        'lastName': 'Murphy'},\n",
       "       'createdDate': '2013-08-08T06:46:34.114+01:00',\n",
       "       'firstPublishedDate': '2013-08-08T06:46:35.546+01:00',\n",
       "       'id': '520330bae4b04846eeb4e8d6',\n",
       "       'lastModifiedBy': {'email': 'katharine.murphy@guardian.co.uk',\n",
       "        'firstName': 'Katharine',\n",
       "        'lastName': 'Murphy'},\n",
       "       'lastModifiedDate': '2013-08-08T06:46:34.114+01:00',\n",
       "       'published': True,\n",
       "       'publishedDate': '2013-08-08T06:46:35.546+01:00'},\n",
       "      {'attributes': {},\n",
       "       'bodyHtml': '<figure class=\"element element-image\" data-media-id=\"gu-fc-504ab901-7ce2-4982-942c-ef8671644f5c\"> <img src=\"http://static.guim.co.uk/sys-images/Guardian/Pix/pictures/2013/8/8/1375940291022/8c3bd486-37a6-439b-9c21-0dd56addb25d-460x276.jpeg\" alt=\"Bruce Hawker at the back of the room for the Rudd and Beattie press conference.\" width=\"460\" height=\"276\" class=\"gu-image\" /> <figcaption> <span class=\"element-image__caption\">Bruce Hawker at the back of the room for the Rudd and Beattie press conference. <a href=\"http://www.theglobalmail.org/\">Mike Bowers/TGM</a></span> </figcaption> </figure>  <p>Kevin Rudd&apos;s political adviser <strong>Bruce Hawker</strong>, at the back of the room; in the thick of this particular transaction.</p>',\n",
       "       'bodyTextSummary': \"Kevin Rudd's political adviser Bruce Hawker, at the back of the room; in the thick of this particular transaction.\",\n",
       "       'contributors': [],\n",
       "       'createdBy': {'email': 'katharine.murphy@guardian.co.uk',\n",
       "        'firstName': 'Katharine',\n",
       "        'lastName': 'Murphy'},\n",
       "       'createdDate': '2013-08-08T06:40:32.406+01:00',\n",
       "       'firstPublishedDate': '2013-08-08T06:40:33.019+01:00',\n",
       "       'id': '52032f50e4b04846eeb4e8d5',\n",
       "       'lastModifiedBy': {'email': 'katharine.murphy@guardian.co.uk',\n",
       "        'firstName': 'Katharine',\n",
       "        'lastName': 'Murphy'},\n",
       "       'lastModifiedDate': '2013-08-08T06:40:32.406+01:00',\n",
       "       'published': True,\n",
       "       'publishedDate': '2013-08-08T06:40:33.019+01:00'},\n",
       "      {'attributes': {},\n",
       "       'bodyHtml': '<figure class=\"element element-tweet\" data-canonical-url=\"https://twitter.com/KKeneally/statuses/365341700425654272\">  <blockquote class=\"twitter-tweet\"><p>“<a href=\"https://twitter.com/marqoftheshire\">@marqoftheshire</a>: like to see <a href=\"https://twitter.com/KKeneally\">@KKeneally</a> run for NSW seat...a great Premier at a bad time. <a href=\"https://twitter.com/search?q=%23ausvotes&amp;src=hash\">#ausvotes</a>”  &#10;&#10;Very kind, but not going to happen.</p>&mdash; Kristina Keneally (@KKeneally) <a href=\"https://twitter.com/KKeneally/statuses/365341700425654272\">August 8, 2013</a></blockquote>  </figure>  <p>Practically sister rules out being practically brother.</p> <p><strong>Former NSW premier Kristina Keneally</strong> says she&apos;s not going the former premier party in Canberra.</p>',\n",
       "       'bodyTextSummary': \"Practically sister rules out being practically brother. Former NSW premier Kristina Keneally says she's not going the former premier party in Canberra.\",\n",
       "       'contributors': [],\n",
       "       'createdBy': {'email': 'katharine.murphy@guardian.co.uk',\n",
       "        'firstName': 'Katharine',\n",
       "        'lastName': 'Murphy'},\n",
       "       'createdDate': '2013-08-08T06:22:54.174+01:00',\n",
       "       'firstPublishedDate': '2013-08-08T06:22:54.725+01:00',\n",
       "       'id': '52032b2ee4b0f205203bb668',\n",
       "       'lastModifiedBy': {'email': 'katharine.murphy@guardian.co.uk',\n",
       "        'firstName': 'Katharine',\n",
       "        'lastName': 'Murphy'},\n",
       "       'lastModifiedDate': '2013-08-08T06:22:54.174+01:00',\n",
       "       'published': True,\n",
       "       'publishedDate': '2013-08-08T06:22:54.725+01:00'},\n",
       "      {'attributes': {},\n",
       "       'bodyHtml': '<figure class=\"element element-image\" data-media-id=\"gu-fc-9febb863-7de6-4338-8a4e-1a76dc48286e\"> <img src=\"http://static.guim.co.uk/sys-images/Guardian/Pix/pictures/2013/8/8/1375939008857/89b47345-20a3-44af-8dd7-fa9746a98e9f-460x276.jpeg\" alt=\"PM Kevin Rudd and former premier Peter Beattie with his wife Heather this afternoon in Logan, Queensland.\" width=\"460\" height=\"276\" class=\"gu-image\" /> <figcaption> <span class=\"element-image__caption\">PM Kevin Rudd and former premier Peter Beattie with his wife Heather this afternoon in Logan, Queensland. <a href=\"http://www.theglobalmail.org/\">Mike Bowers/TGM</a></span> </figcaption> </figure>  <p>I&apos;ve never seen a picture more worthy of a caption contest.</p> <p>Go for it.</p>',\n",
       "       'bodyTextSummary': \"I've never seen a picture more worthy of a caption contest. Go for it.\",\n",
       "       'contributors': [],\n",
       "       'createdBy': {'email': 'katharine.murphy@guardian.co.uk',\n",
       "        'firstName': 'Katharine',\n",
       "        'lastName': 'Murphy'},\n",
       "       'createdDate': '2013-08-08T06:18:46.010+01:00',\n",
       "       'firstPublishedDate': '2013-08-08T06:18:47.532+01:00',\n",
       "       'id': '52032a36e4b0c55edad46ece',\n",
       "       'lastModifiedBy': {'email': 'katharine.murphy@guardian.co.uk',\n",
       "        'firstName': 'Katharine',\n",
       "        'lastName': 'Murphy'},\n",
       "       'lastModifiedDate': '2013-08-08T06:18:46.010+01:00',\n",
       "       'published': True,\n",
       "       'publishedDate': '2013-08-08T06:18:47.532+01:00'},\n",
       "      {'attributes': {},\n",
       "       'bodyHtml': '<p>The <strong>ALP national secretary George Wright</strong> moves in with the efficiency of an end of lease cleaner.</p> <p>Des .. who?</p> <p>Here&apos;s a statement from Wright on the former ALP candidate for Forde, Des Hardman.</p> <blockquote class=\"quoted\"> <p>Earlier today Des Hardman announced that he will not be standing for the Queensland seat of Forde in the upcoming federal election.</p> <p>I join the prime minister in paying tribute to Des and his campaign team for the great work they have done to date in building Labor’s campaign in the critical Liberal held seat of Forde.</p> <p>The prime minister has also announced today that former Queensland Premier Peter Beattie intends to stand for preselection for Forde.</p> <p>A meeting of the ALP national executive will be convened later today to set out a timely process to finalise the preselection of Labor’s new candidate in Forde.</p> </blockquote>',\n",
       "       'bodyTextSummary': \"The ALP national secretary George Wright moves in with the efficiency of an end of lease cleaner. Des .. who? Here's a statement from Wright on the former ALP candidate for Forde, Des Hardman. Earlier today Des Hardman announced that he will not be standing for the Queensland seat of Forde in the upcoming federal election. I join the prime minister in paying tribute to Des and his campaign team for the great work they have done to date in building Labor’s campaign in the critical Liberal held seat of Forde. The prime minister has also announced today that former Queensland Premier Peter Beattie intends to stand for preselection for Forde. A meeting of the ALP national executive will be convened later today to set out a timely process to finalise the preselection of Labor’s new candidate in Forde.\",\n",
       "       'contributors': [],\n",
       "       'createdBy': {'email': 'katharine.murphy@guardian.co.uk',\n",
       "        'firstName': 'Katharine',\n",
       "        'lastName': 'Murphy'},\n",
       "       'createdDate': '2013-08-08T06:10:48.036+01:00',\n",
       "       'firstPublishedDate': '2013-08-08T06:10:48.612+01:00',\n",
       "       'id': '52032858e4b0c55edad46ecd',\n",
       "       'lastModifiedBy': {'email': 'katharine.murphy@guardian.co.uk',\n",
       "        'firstName': 'Katharine',\n",
       "        'lastName': 'Murphy'},\n",
       "       'lastModifiedDate': '2013-08-08T06:10:48.036+01:00',\n",
       "       'published': True,\n",
       "       'publishedDate': '2013-08-08T06:10:48.612+01:00'},\n",
       "      {'attributes': {'keyEvent': 'true',\n",
       "        'title': 'Practically brothers: a portrait by Mike Bowers'},\n",
       "       'bodyHtml': '<figure class=\"element element-image\" data-media-id=\"gu-fc-4b3775ac-8e48-4481-a98a-d8460fc53a42\"> <img src=\"http://static.guim.co.uk/sys-images/Guardian/Pix/pictures/2013/8/8/1375938261700/4ec75f90-b776-445e-b6a9-4c9136a68235-460x276.jpeg\" alt=\"PM Kevin Rudd and former premier Peter Beattie this afternoon in Logan, Queensland.\" width=\"460\" height=\"276\" class=\"gu-image\" /> <figcaption> <span class=\"element-image__caption\">PM Kevin Rudd and former premier Peter Beattie this afternoon in Logan, Queensland. <a href=\"http://www.theglobalmail.org/\">Mike Bowers/TGM</a></span> </figcaption> </figure>',\n",
       "       'bodyTextSummary': '',\n",
       "       'contributors': [],\n",
       "       'createdBy': {'email': 'katharine.murphy@guardian.co.uk',\n",
       "        'firstName': 'Katharine',\n",
       "        'lastName': 'Murphy'},\n",
       "       'createdDate': '2013-08-08T06:05:32.065+01:00',\n",
       "       'firstPublishedDate': '2013-08-08T06:05:32.882+01:00',\n",
       "       'id': '5203271ce4b0c55edad46ecc',\n",
       "       'lastModifiedBy': {'email': 'katharine.murphy@guardian.co.uk',\n",
       "        'firstName': 'Katharine',\n",
       "        'lastName': 'Murphy'},\n",
       "       'lastModifiedDate': '2013-08-08T06:05:32.065+01:00',\n",
       "       'published': True,\n",
       "       'publishedDate': '2013-08-08T06:05:32.882+01:00',\n",
       "       'title': 'Practically brothers: a portrait by Mike Bowers'},\n",
       "      {'attributes': {},\n",
       "       'bodyHtml': '<p>My <strong>Guardian Australia colleague Lenore Taylor</strong> provides her snap analysis.</p> <p>(Obviously Lenore. Obviously.)</p>  <figure class=\"element element-tweet\" data-canonical-url=\"https://twitter.com/lenoretaylor/statuses/365336338637144064\">  <blockquote class=\"twitter-tweet\"><p>PB - practically brothers??? <a href=\"https://twitter.com/search?q=%23ausvotes&amp;src=hash\">#ausvotes</a></p>&mdash; Lenore Taylor (@lenoretaylor) <a href=\"https://twitter.com/lenoretaylor/statuses/365336338637144064\">August 8, 2013</a></blockquote>  </figure>',\n",
       "       'bodyTextSummary': 'My Guardian Australia colleague Lenore Taylor provides her snap analysis. (Obviously Lenore. Obviously.)',\n",
       "       'contributors': [],\n",
       "       'createdBy': {'email': 'katharine.murphy@guardian.co.uk',\n",
       "        'firstName': 'Katharine',\n",
       "        'lastName': 'Murphy'},\n",
       "       'createdDate': '2013-08-08T06:02:59.534+01:00',\n",
       "       'firstPublishedDate': '2013-08-08T06:03:00.048+01:00',\n",
       "       'id': '52032683e4b0c55edad46ecb',\n",
       "       'lastModifiedBy': {'email': 'katharine.murphy@guardian.co.uk',\n",
       "        'firstName': 'Katharine',\n",
       "        'lastName': 'Murphy'},\n",
       "       'lastModifiedDate': '2013-08-08T06:02:59.534+01:00',\n",
       "       'published': True,\n",
       "       'publishedDate': '2013-08-08T06:03:00.048+01:00'},\n",
       "      {'attributes': {},\n",
       "       'bodyHtml': '<p>Rudd and Beattie are dancing around the fact that they&apos;ve been on opposite sides of the fence concerning the direction of the federal ALP by praising their mutual fortitude. These people can backflip with pike if Queensland demands it. No doubt about it. These are men that can look past internecine personal conflict for the good of Australia.</p> <p>For the good of the campaign. For the good of .. well, whomever.</p> <p>Forde needs a candidate with some guts, Beattie reasons, a person with the prime minister&apos;s ear.</p> <p>Rudd has taken to calling the former premier</p> <blockquote class=\"quoted\"> <p>PB</p> </blockquote>',\n",
       "       'bodyTextSummary': \"Rudd and Beattie are dancing around the fact that they've been on opposite sides of the fence concerning the direction of the federal ALP by praising their mutual fortitude. These people can backflip with pike if Queensland demands it. No doubt about it. These are men that can look past internecine personal conflict for the good of Australia. For the good of the campaign. For the good of .. well, whomever. Forde needs a candidate with some guts, Beattie reasons, a person with the prime minister's ear. Rudd has taken to calling the former premier PB\",\n",
       "       'contributors': [],\n",
       "       'createdBy': {'email': 'katharine.murphy@guardian.co.uk',\n",
       "        'firstName': 'Katharine',\n",
       "        'lastName': 'Murphy'},\n",
       "       'createdDate': '2013-08-08T05:59:55.362+01:00',\n",
       "       'firstPublishedDate': '2013-08-08T05:59:56.732+01:00',\n",
       "       'id': '520325cbe4b0c55edad46eca',\n",
       "       'lastModifiedBy': {'email': 'katharine.murphy@guardian.co.uk',\n",
       "        'firstName': 'Katharine',\n",
       "        'lastName': 'Murphy'},\n",
       "       'lastModifiedDate': '2013-08-08T05:59:55.362+01:00',\n",
       "       'published': True,\n",
       "       'publishedDate': '2013-08-08T05:59:56.732+01:00'},\n",
       "      {'attributes': {},\n",
       "       'bodyHtml': '<p>Beattie&apos;s wife Heather makes it clear that this plan has been cooked up over the past few days.</p> <p>Rudd and Beattie do those chortling jokes that male politicians do rather too often about their wives being the power behind the throne.</p> <p>Beattie does a bit of a log cabin spiel given he&apos;s standing in a battler electorate. He says he could have been</p> <blockquote class=\"quoted\"> <p>working class trash in some people&apos;s minds ..</p> </blockquote> <p>but he pulled himself up by his bootstraps.</p> <p>(Working class trash .. er. Ok.)</p> <p>Beattie:</p> <blockquote class=\"quoted\"> <p>I&apos;m the underdog in this seat, I have a battle ahead of me.</p> </blockquote> <p>Rudd is asked whether he intends to dust off any other former premiers. Mike Rann? Steve Bracks?</p> <p>Rudd:</p> <blockquote class=\"quoted\"> <p>The answer to that is no. None of them in recent times have been premiers of Queensland.</p> </blockquote> <p>Don&apos;t you need to win seats in other states? Rudd says he&apos;s in Queensland today. That&apos;s his focus. </p>',\n",
       "       'bodyTextSummary': \"Beattie's wife Heather makes it clear that this plan has been cooked up over the past few days. Rudd and Beattie do those chortling jokes that male politicians do rather too often about their wives being the power behind the throne. Beattie does a bit of a log cabin spiel given he's standing in a battler electorate. He says he could have been working class trash in some people's minds .. but he pulled himself up by his bootstraps. (Working class trash .. er. Ok.) Beattie: I'm the underdog in this seat, I have a battle ahead of me. Rudd is asked whether he intends to dust off any other former premiers. Mike Rann? Steve Bracks? Rudd: The answer to that is no. None of them in recent times have been premiers of Queensland. Don't you need to win seats in other states? Rudd says he's in Queensland today. That's his focus.\",\n",
       "       'contributors': [],\n",
       "       'createdBy': {'email': 'katharine.murphy@guardian.co.uk',\n",
       "        'firstName': 'Katharine',\n",
       "        'lastName': 'Murphy'},\n",
       "       'createdDate': '2013-08-08T05:53:00.246+01:00',\n",
       "       'firstPublishedDate': '2013-08-08T05:53:00.891+01:00',\n",
       "       'id': '5203242ce4b0c55edad46ec9',\n",
       "       'lastModifiedBy': {'email': 'katharine.murphy@guardian.co.uk',\n",
       "        'firstName': 'Katharine',\n",
       "        'lastName': 'Murphy'},\n",
       "       'lastModifiedDate': '2013-08-08T05:53:00.246+01:00',\n",
       "       'published': True,\n",
       "       'publishedDate': '2013-08-08T05:53:00.891+01:00'},\n",
       "      {'attributes': {},\n",
       "       'bodyHtml': '<p>Say fromage.</p> <p>Actually, it&apos;s implied.</p>  <figure class=\"element element-image\" data-media-id=\"gu-fc-89f869c7-b104-443f-b995-efd3e07c362d\"> <img src=\"http://static.guim.co.uk/sys-images/Guardian/Pix/pictures/2013/8/8/1375937164384/73e9d20b-8e1b-48e1-9f98-caec5a661621-460x276.jpeg\" alt=\"PM Kevin Rudd and former premier Peter Beattie this afternoon in Logan, Queensland.\" width=\"460\" height=\"276\" class=\"gu-image\" /> <figcaption> <span class=\"element-image__caption\">PM Kevin Rudd and former premier Peter Beattie this afternoon in Logan, Queensland. <a href=\"http://www.theglobalmail.org/\">Mike Bowers/TGM</a></span> </figcaption> </figure>',\n",
       "       'bodyTextSummary': \"Say fromage. Actually, it's implied.\",\n",
       "       'contributors': [],\n",
       "       'createdBy': {'email': 'katharine.murphy@guardian.co.uk',\n",
       "        'firstName': 'Katharine',\n",
       "        'lastName': 'Murphy'},\n",
       "       'createdDate': '2013-08-08T05:46:53.090+01:00',\n",
       "       'firstPublishedDate': '2013-08-08T05:46:53.728+01:00',\n",
       "       'id': '520322bde4b01c89fee25855',\n",
       "       'lastModifiedBy': {'email': 'katharine.murphy@guardian.co.uk',\n",
       "        'firstName': 'Katharine',\n",
       "        'lastName': 'Murphy'},\n",
       "       'lastModifiedDate': '2013-08-08T05:46:53.090+01:00',\n",
       "       'published': True,\n",
       "       'publishedDate': '2013-08-08T05:46:53.728+01:00'},\n",
       "      {'attributes': {},\n",
       "       'bodyHtml': '<p>In addition to moving into his brother&apos;s establishment, Beattie says he will enjoy keeping the bastards honest in Canberra.</p> <p>Beattie is asked how he matches up his previous support for Julia Gillard with standing next to Kevin Rudd today. Beattie says it would not have been a good outcome to see Labor <em>thrashed in this election</em>. He says he&apos;s glad that Kevin Rudd ignored his advice to pull his head in.</p> <p>Rudd is asked to explain why he&apos;s criticised captain&apos;s picks in the past but exercised his rights in this case? </p> <p>Rudd says I invited Peter to <em>add his weight</em> to our campaign. It&apos;s no mystery that Peter is an asset to the Labor Party. In the Northern Territory it was a question of replacing a sitting senator.</p> <p>Beattie is asked whether he&apos;s happy to be a humble backbencher or has he done a deal with Rudd to come on the frontbench?</p> <p>Beattie:</p> <blockquote class=\"quoted\"> <p>I am happy to be a humble backbencher.</p> <p>You know I&apos;ve been humble all my life and that humility will continue.</p> </blockquote>',\n",
       "       'bodyTextSummary': \"In addition to moving into his brother's establishment, Beattie says he will enjoy keeping the bastards honest in Canberra. Beattie is asked how he matches up his previous support for Julia Gillard with standing next to Kevin Rudd today. Beattie says it would not have been a good outcome to see Labor thrashed in this election. He says he's glad that Kevin Rudd ignored his advice to pull his head in. Rudd is asked to explain why he's criticised captain's picks in the past but exercised his rights in this case? Rudd says I invited Peter to add his weight to our campaign. It's no mystery that Peter is an asset to the Labor Party. In the Northern Territory it was a question of replacing a sitting senator. Beattie is asked whether he's happy to be a humble backbencher or has he done a deal with Rudd to come on the frontbench? Beattie: I am happy to be a humble backbencher. You know I've been humble all my life and that humility will continue.\",\n",
       "       'contributors': [],\n",
       "       'createdBy': {'email': 'katharine.murphy@guardian.co.uk',\n",
       "        'firstName': 'Katharine',\n",
       "        'lastName': 'Murphy'},\n",
       "       'createdDate': '2013-08-08T05:44:11.202+01:00',\n",
       "       'firstPublishedDate': '2013-08-08T05:44:11.744+01:00',\n",
       "       'id': '5203221be4b0c55edad46ec8',\n",
       "       'lastModifiedBy': {'email': 'katharine.murphy@guardian.co.uk',\n",
       "        'firstName': 'Katharine',\n",
       "        'lastName': 'Murphy'},\n",
       "       'lastModifiedDate': '2013-08-08T05:44:11.202+01:00',\n",
       "       'published': True,\n",
       "       'publishedDate': '2013-08-08T05:44:11.744+01:00'},\n",
       "      {'attributes': {},\n",
       "       'bodyHtml': '<p>Peter Beattie opens his remarks to journalists by announcing that he has just moved into his brother&apos;s house in Cornubia.</p> <p>This morning.</p> <p>It&apos;s unclear where Peter Beattie&apos;s brother has gone.</p> <p>I hope he didn&apos;t need his house.</p>',\n",
       "       'bodyTextSummary': \"Peter Beattie opens his remarks to journalists by announcing that he has just moved into his brother's house in Cornubia. This morning. It's unclear where Peter Beattie's brother has gone. I hope he didn't need his house.\",\n",
       "       'contributors': [],\n",
       "       'createdBy': {'email': 'katharine.murphy@guardian.co.uk',\n",
       "        'firstName': 'Katharine',\n",
       "        'lastName': 'Murphy'},\n",
       "       'createdDate': '2013-08-08T05:34:43.595+01:00',\n",
       "       'firstPublishedDate': '2013-08-08T05:34:44.158+01:00',\n",
       "       'id': '52031fe3e4b0c55edad46ec7',\n",
       "       'lastModifiedBy': {'email': 'katharine.murphy@guardian.co.uk',\n",
       "        'firstName': 'Katharine',\n",
       "        'lastName': 'Murphy'},\n",
       "       'lastModifiedDate': '2013-08-08T05:34:43.595+01:00',\n",
       "       'published': True,\n",
       "       'publishedDate': '2013-08-08T05:34:44.158+01:00'},\n",
       "      {'attributes': {'keyEvent': 'true',\n",
       "        'title': \"Peter Beattie's not so welcoming party\"},\n",
       "       'bodyHtml': '<figure class=\"element element-image\" data-media-id=\"gu-fc-b62539d6-9aa9-4252-95d2-2ede98c9f77d\"> <img src=\"http://static.guim.co.uk/sys-images/Guardian/Pix/pictures/2013/8/8/1375936245348/3e4ab8f5-0060-49fc-b957-44f4bab14fc9-460x276.jpeg\" alt=\"Not everyone was happy with the return to politics of Peter Beattie, demonstrators in Logan near  Brisbane await the arrival of the Prime Miinister, Thursday 8th August 2013.\" width=\"460\" height=\"276\" class=\"gu-image\" /> <figcaption> <span class=\"element-image__caption\">Not everyone was happy with the return to politics of Peter Beattie, demonstrators in Logan near Brisbane await the arrival of the Prime Miinister, Thursday 8th August 2013. <a href=\"http://www.theglobalmail.org/\">Mike Bowers/TGM</a></span> </figcaption> </figure>',\n",
       "       'bodyTextSummary': '',\n",
       "       'contributors': [],\n",
       "       'createdBy': {'email': 'katharine.murphy@guardian.co.uk',\n",
       "        'firstName': 'Katharine',\n",
       "        'lastName': 'Murphy'},\n",
       "       'createdDate': '2013-08-08T05:31:34.100+01:00',\n",
       "       'firstPublishedDate': '2013-08-08T05:31:34.663+01:00',\n",
       "       'id': '52031f26e4b01c89fee25853',\n",
       "       'lastModifiedBy': {'email': 'katharine.murphy@guardian.co.uk',\n",
       "        'firstName': 'Katharine',\n",
       "        'lastName': 'Murphy'},\n",
       "       'lastModifiedDate': '2013-08-08T05:31:34.100+01:00',\n",
       "       'published': True,\n",
       "       'publishedDate': '2013-08-08T05:31:34.663+01:00',\n",
       "       'title': \"Peter Beattie's not so welcoming party\"},\n",
       "      {'attributes': {},\n",
       "       'bodyHtml': '<p>Rudd notes that Coalition campaign HQ has been quick off the mark this morning to document all the Rudd versus Beattie stoushes of times past. And times recent past. And times really recent past.</p> <p>Beattie cracks a grin at that.</p> <p>Soooo yesterday.</p> <p>Rudd:</p> <blockquote class=\"quoted\"> <p>Water off a duck&apos;s back.</p> </blockquote>',\n",
       "       'bodyTextSummary': \"Rudd notes that Coalition campaign HQ has been quick off the mark this morning to document all the Rudd versus Beattie stoushes of times past. And times recent past. And times really recent past. Beattie cracks a grin at that. Soooo yesterday. Rudd: Water off a duck's back.\",\n",
       "       'contributors': [],\n",
       "       'createdBy': {'email': 'katharine.murphy@guardian.co.uk',\n",
       "        'firstName': 'Katharine',\n",
       "        'lastName': 'Murphy'},\n",
       "       'createdDate': '2013-08-08T05:28:54.833+01:00',\n",
       "       'firstPublishedDate': '2013-08-08T05:28:55.345+01:00',\n",
       "       'id': '52031e86e4b0c55edad46ec6',\n",
       "       'lastModifiedBy': {'email': 'katharine.murphy@guardian.co.uk',\n",
       "        'firstName': 'Katharine',\n",
       "        'lastName': 'Murphy'},\n",
       "       'lastModifiedDate': '2013-08-08T05:28:54.833+01:00',\n",
       "       'published': True,\n",
       "       'publishedDate': '2013-08-08T05:28:55.345+01:00'},\n",
       "      {'attributes': {'keyEvent': 'true',\n",
       "        'title': \"Kevin Rudd unveils 'one of the great sons of Queensland'\"},\n",
       "       'bodyHtml': '<p>It must be noted that <strong>Peter Beattie</strong> looks .. nervous.</p> <p>Kevin Rudd is standing next to Labor&apos;s star recruit for the seat of Forde.</p> <p>The opening pitch: We are Kevin and Peter, and we are from Queensland, and we are here to help.</p> <p>There&apos;s a groan in the room.</p> <p>Perhaps it was just our room.</p>',\n",
       "       'bodyTextSummary': \"It must be noted that Peter Beattie looks .. nervous. Kevin Rudd is standing next to Labor's star recruit for the seat of Forde. The opening pitch: We are Kevin and Peter, and we are from Queensland, and we are here to help. There's a groan in the room. Perhaps it was just our room.\",\n",
       "       'contributors': [],\n",
       "       'createdBy': {'email': 'katharine.murphy@guardian.co.uk',\n",
       "        'firstName': 'Katharine',\n",
       "        'lastName': 'Murphy'},\n",
       "       'createdDate': '2013-08-08T05:26:12.810+01:00',\n",
       "       'firstPublishedDate': '2013-08-08T05:26:13.649+01:00',\n",
       "       'id': '52031de4e4b0c55edad46ec4',\n",
       "       'lastModifiedBy': {'email': 'katharine.murphy@guardian.co.uk',\n",
       "        'firstName': 'Katharine',\n",
       "        'lastName': 'Murphy'},\n",
       "       'lastModifiedDate': '2013-08-08T05:26:12.810+01:00',\n",
       "       'published': True,\n",
       "       'publishedDate': '2013-08-08T05:26:13.649+01:00',\n",
       "       'title': \"Kevin Rudd unveils 'one of the great sons of Queensland'\"},\n",
       "      {'attributes': {},\n",
       "       'bodyHtml': '<p>There are a number of questions about asylum boats. Would Abbott care to comment on news that Labor&apos;s PNG deterrence policy seems to be working? It won&apos;t work, because Labor won&apos;t be able to make it work, is essentially Abbott&apos;s response.</p> <p>How about Peter Beattie?</p> <blockquote class=\"quoted\"> <p>He was a flim flam man who saddled people with debt and deficit.</p> </blockquote> <p>When will we get your costings? I&apos;m not going to put a timeline on it, but you&apos;ll get them, Abbott says.</p>',\n",
       "       'bodyTextSummary': \"There are a number of questions about asylum boats. Would Abbott care to comment on news that Labor's PNG deterrence policy seems to be working? It won't work, because Labor won't be able to make it work, is essentially Abbott's response. How about Peter Beattie? He was a flim flam man who saddled people with debt and deficit. When will we get your costings? I'm not going to put a timeline on it, but you'll get them, Abbott says.\",\n",
       "       'contributors': [],\n",
       "       'createdBy': {'email': 'katharine.murphy@guardian.co.uk',\n",
       "        'firstName': 'Katharine',\n",
       "        'lastName': 'Murphy'},\n",
       "       'createdDate': '2013-08-08T05:21:20.205+01:00',\n",
       "       'firstPublishedDate': '2013-08-08T05:21:20.739+01:00',\n",
       "       'id': '52031cc0e4b01c89fee25852',\n",
       "       'lastModifiedBy': {'email': 'katharine.murphy@guardian.co.uk',\n",
       "        'firstName': 'Katharine',\n",
       "        'lastName': 'Murphy'},\n",
       "       'lastModifiedDate': '2013-08-08T05:21:20.205+01:00',\n",
       "       'published': True,\n",
       "       'publishedDate': '2013-08-08T05:21:20.739+01:00'},\n",
       "      {'attributes': {},\n",
       "       'bodyHtml': '<p>Here are some details from the Abbott statement about the jobs subsidy.</p> <ul> <li>If elected, the Coalition will provide <strong>$3,250 to any Tasmanian business that hires an unemployed jobseeker who has been on Newstart Allowance for six months</strong> or longer and <strong>then continues to employ them on a full-time basis for a period of at least six months.</strong></li> <li>The payment will be a <strong>one-off payment worth $250 a fortnight</strong>, for a <strong>total subsidy for six months of $3,250</strong>. This is equivalent to around half the cost of the current Newstart Allowance.</li> <li>The <strong>payments will be provided for the first 2,000 job seekers</strong> hired by a Tasmanian business.</li> <li>This measure will encourage businesses to give Tasmanians who have been unemployed for an extended period, an opportunity to get back into the workforce, ensuring their skills are not eroded.</li> <li>The programme will also provide an incentive for businesses to hire quickly, providing a kick-start to the Tasmanian jobs market that it desperately needs.</li> </ul> <p>Abbott is telling reporters the program may be rolled out elsewhere if it succeeds in Tasmania.</p> <p><strong>Q: Where are your costings Mr Abbott? Is there any offset for this new spending today?</strong></p> <blockquote class=\"quoted\"> <p>The full list of saves and spends will be out there for the public to consider in good time before the election.</p> </blockquote>',\n",
       "       'bodyTextSummary': 'Here are some details from the Abbott statement about the jobs subsidy. If elected, the Coalition will provide $3,250 to any Tasmanian business that hires an unemployed jobseeker who has been on Newstart Allowance for six months or longer and then continues to employ them on a full-time basis for a period of at least six months. The payment will be a one-off payment worth $250 a fortnight, for a total subsidy for six months of $3,250. This is equivalent to around half the cost of the current Newstart Allowance. The payments will be provided for the first 2,000 job seekers hired by a Tasmanian business. This measure will encourage businesses to give Tasmanians who have been unemployed for an extended period, an opportunity to get back into the workforce, ensuring their skills are not eroded. The programme will also provide an incentive for businesses to hire quickly, providing a kick-start to the Tasmanian jobs market that it desperately needs. Abbott is telling reporters the program may be rolled out elsewhere if it succeeds in Tasmania. Q: Where are your costings Mr Abbott? Is there any offset for this new spending today? The full list of saves and spends will be out there for the public to consider in good time before the election.',\n",
       "       'contributors': [],\n",
       "       'createdBy': {'email': 'katharine.murphy@guardian.co.uk',\n",
       "        'firstName': 'Katharine',\n",
       "        'lastName': 'Murphy'},\n",
       "       'createdDate': '2013-08-08T05:15:17.833+01:00',\n",
       "       'firstPublishedDate': '2013-08-08T05:15:19.322+01:00',\n",
       "       'id': '52031b55e4b01c89fee25851',\n",
       "       'lastModifiedBy': {'email': 'katharine.murphy@guardian.co.uk',\n",
       "        'firstName': 'Katharine',\n",
       "        'lastName': 'Murphy'},\n",
       "       'lastModifiedDate': '2013-08-08T05:15:17.833+01:00',\n",
       "       'published': True,\n",
       "       'publishedDate': '2013-08-08T05:15:19.322+01:00'},\n",
       "      {'attributes': {'keyEvent': 'true',\n",
       "        'title': 'Tony Abbott: phase one of our growth plan for Tasmania'},\n",
       "       'bodyHtml': '<p>Abbott has finished inspecting the fish in Devonport. The seat is Braddon in Tasmania&apos;s north. He&apos;s out with reporters. The Liberal leader says today&apos;s ABS jobs figures confirm that unemployment in Tasmania is higher than the rest of Australia. Unemployment is 2.5% above the national average.</p> <p>Abbott:</p> <blockquote class=\"quoted\"> <p>Next week I will be announcing the Coalition&apos;s growth plan for Tasmania.</p> </blockquote> <p>Abbott says the forests and the oceans of Tasmania must be used wisely and well. Australia must be a food bowl for Asia.</p> <p>Today we get part one of the growth plan for Tasmania. Abbott flags a subsidy paid to employers who take on long term unemployed people and keep them on.</p> <blockquote class=\"quoted\"> <p>This is special for Tasmania.</p> </blockquote> <p>Abbott says we have to get rid of Labor/Green governments here and in Canberra.</p> <p><strong>Q: How will the subsidy be funded?</strong></p> <p>The scheme is costed and capped, Abbott says. It&apos;s been costed at $6.5m.</p> <p><strong>Q. Should Tasmania be a special economic zone?</strong></p> <p>Tasmania needs to be a strong economy as well as a beautiful national park, he says.</p> <p><strong>Q. Should there be special tax breaks?</strong></p> <p>I&apos;m hoping 2,000 jobs will be created by the program I&apos;m announcing today. What I&apos;m proposing here is not what I&apos;m proposing in northern Australia.</p>',\n",
       "       'bodyTextSummary': \"Abbott has finished inspecting the fish in Devonport. The seat is Braddon in Tasmania's north. He's out with reporters. The Liberal leader says today's ABS jobs figures confirm that unemployment in Tasmania is higher than the rest of Australia. Unemployment is 2.5% above the national average. Abbott: Next week I will be announcing the Coalition's growth plan for Tasmania. Abbott says the forests and the oceans of Tasmania must be used wisely and well. Australia must be a food bowl for Asia. Today we get part one of the growth plan for Tasmania. Abbott flags a subsidy paid to employers who take on long term unemployed people and keep them on. This is special for Tasmania. Abbott says we have to get rid of Labor/Green governments here and in Canberra. Q: How will the subsidy be funded? The scheme is costed and capped, Abbott says. It's been costed at $6.5m. Q. Should Tasmania be a special economic zone? Tasmania needs to be a strong economy as well as a beautiful national park, he says. Q. Should there be special tax breaks? I'm hoping 2,000 jobs will be created by the program I'm announcing today. What I'm proposing here is not what I'm proposing in northern Australia.\",\n",
       "       'contributors': [],\n",
       "       'createdBy': {'email': 'katharine.murphy@guardian.co.uk',\n",
       "        'firstName': 'Katharine',\n",
       "        'lastName': 'Murphy'},\n",
       "       'createdDate': '2013-08-08T05:11:11.459+01:00',\n",
       "       'firstPublishedDate': '2013-08-08T05:11:12.321+01:00',\n",
       "       'id': '52031a5fe4b0c55edad46ec3',\n",
       "       'lastModifiedBy': {'email': 'katharine.murphy@guardian.co.uk',\n",
       "        'firstName': 'Katharine',\n",
       "        'lastName': 'Murphy'},\n",
       "       'lastModifiedDate': '2013-08-08T05:11:11.459+01:00',\n",
       "       'published': True,\n",
       "       'publishedDate': '2013-08-08T05:11:12.321+01:00',\n",
       "       'title': 'Tony Abbott: phase one of our growth plan for Tasmania'},\n",
       "      {'attributes': {},\n",
       "       'bodyHtml': '<p>High viz fishing.</p> <p>Tony Abbott, up shortly.</p>  <figure class=\"element element-tweet\" data-canonical-url=\"https://twitter.com/Clarke_Melissa/statuses/365312210685292544\">  <blockquote class=\"twitter-tweet\"><p>OL <a href=\"https://twitter.com/TonyAbbottMHR\">@TonyAbbottMHR</a> arriving at a seafood factory in <a href=\"https://twitter.com/search?q=%23Devonport&amp;src=hash\">#Devonport</a>.. media in ghostly protective gear! <a href=\"https://twitter.com/abcnews\">@abcnews</a> <a href=\"https://twitter.com/search?q=%23auspol&amp;src=hash\">#auspol</a> <a href=\"http://t.co/kmzikACerr\">pic.twitter.com/kmzikACerr</a></p>&mdash; Melissa Clarke (@Clarke_Melissa) <a href=\"https://twitter.com/Clarke_Melissa/statuses/365312210685292544\">August 8, 2013</a></blockquote>  </figure>',\n",
       "       'bodyTextSummary': 'High viz fishing. Tony Abbott, up shortly.',\n",
       "       'contributors': [],\n",
       "       'createdBy': {'email': 'katharine.murphy@guardian.co.uk',\n",
       "        'firstName': 'Katharine',\n",
       "        'lastName': 'Murphy'},\n",
       "       'createdDate': '2013-08-08T04:25:42.828+01:00',\n",
       "       'firstPublishedDate': '2013-08-08T04:25:43.400+01:00',\n",
       "       'id': '52030fb6e4b0c55edad46ec2',\n",
       "       'lastModifiedBy': {'email': 'katharine.murphy@guardian.co.uk',\n",
       "        'firstName': 'Katharine',\n",
       "        'lastName': 'Murphy'},\n",
       "       'lastModifiedDate': '2013-08-08T04:25:42.828+01:00',\n",
       "       'published': True,\n",
       "       'publishedDate': '2013-08-08T04:25:43.400+01:00'},\n",
       "      {'attributes': {'keyEvent': 'true', 'title': 'Campaign, this lunchtime'},\n",
       "       'bodyHtml': '<p>As this day is running at a full sprint I&apos;m going to keep this lunchtime summary very simple.</p> <p><strong>The campaign, thus far, in two bullet points.</strong></p> <ol> <li>Labor has pulled the old stager Peter Beattie out of its back pocket to contest the Brisbane seat of Forde. Taa daaah.</li> <li>Tony Abbott says he&apos;s never discussed the mysteries of the interwebz and the Coalition&apos;s policy vision for said interwebz with Rupert Murdoch.</li> </ol> <p><strong>Looking ahead, in two bullet points:</strong></p> <ol> <li>Tony Abbott has a jobs announcement in Tasmania coming up shortly after new ABS figures showed a decline in employment and the participation rate.</li> <li>Rudd will unveil Peter Beattie (I believe) and discuss other pertinent matters at around 2pm (after a small hiccup with his travelling media plane is resolved.)</li> </ol> <p>[UPDATE: Breaking. The C17 has made it to Brisbane.]</p>  <figure class=\"element element-tweet\" data-canonical-url=\"https://twitter.com/mpbowers/statuses/365311628163547138\">  <blockquote class=\"twitter-tweet\"><p>Touchdown Brisbane <a href=\"https://twitter.com/search?q=%23politicslive&amp;src=hash\">#politicslive</a> <a href=\"https://twitter.com/search?q=%23election2013&amp;src=hash\">#election2013</a> <a href=\"http://t.co/4XOmqPUZ2V\">pic.twitter.com/4XOmqPUZ2V</a></p>&mdash; Mike Bowers (@mpbowers) <a href=\"https://twitter.com/mpbowers/statuses/365311628163547138\">August 8, 2013</a></blockquote>  </figure>',\n",
       "       'bodyTextSummary': \"As this day is running at a full sprint I'm going to keep this lunchtime summary very simple. The campaign, thus far, in two bullet points. Labor has pulled the old stager Peter Beattie out of its back pocket to contest the Brisbane seat of Forde. Taa daaah. Tony Abbott says he's never discussed the mysteries of the interwebz and the Coalition's policy vision for said interwebz with Rupert Murdoch. Looking ahead, in two bullet points: Tony Abbott has a jobs announcement in Tasmania coming up shortly after new ABS figures showed a decline in employment and the participation rate. Rudd will unveil Peter Beattie (I believe) and discuss other pertinent matters at around 2pm (after a small hiccup with his travelling media plane is resolved.) [UPDATE: Breaking. The C17 has made it to Brisbane.]\",\n",
       "       'contributors': [],\n",
       "       'createdBy': {'email': 'katharine.murphy@guardian.co.uk',\n",
       "        'firstName': 'Katharine',\n",
       "        'lastName': 'Murphy'},\n",
       "       'createdDate': '2013-08-08T04:20:52.905+01:00',\n",
       "       'firstPublishedDate': '2013-08-08T04:20:54.275+01:00',\n",
       "       'id': '52030e94e4b0c55edad46ec1',\n",
       "       'lastModifiedBy': {'email': 'katharine.murphy@guardian.co.uk',\n",
       "        'firstName': 'Katharine',\n",
       "        'lastName': 'Murphy'},\n",
       "       'lastModifiedDate': '2013-08-08T04:22:56.889+01:00',\n",
       "       'published': True,\n",
       "       'publishedDate': '2013-08-08T04:22:57.451+01:00',\n",
       "       'title': 'Campaign, this lunchtime'},\n",
       "      {'attributes': {},\n",
       "       'bodyHtml': '<p>The Greens earlier today launched <strong>a policy to ban junk food advertising during children’s television viewing hours.</strong></p> <p>That launch got a bit crunched by the jobs data.</p> <p>Here&apos;s Green senator Sarah Hanson Young.</p> <blockquote class=\"quoted\"> <p>Aussie kids are watching 20 hours of TV a week on average and, when they are targeted by strategic advertisements for that long, it has a very big impact. The proportion of our kids who are overweight has been growing almost as steadily as their waistlines for the last 20 years. Banning junk food ads in our kids’ prime TV viewing times would be a good start along the road to much healthier future.</p> </blockquote> <p>This measure is long standing Greens policy.</p>',\n",
       "       'bodyTextSummary': \"The Greens earlier today launched a policy to ban junk food advertising during children’s television viewing hours. That launch got a bit crunched by the jobs data. Here's Green senator Sarah Hanson Young. Aussie kids are watching 20 hours of TV a week on average and, when they are targeted by strategic advertisements for that long, it has a very big impact. The proportion of our kids who are overweight has been growing almost as steadily as their waistlines for the last 20 years. Banning junk food ads in our kids’ prime TV viewing times would be a good start along the road to much healthier future. This measure is long standing Greens policy.\",\n",
       "       'contributors': [],\n",
       "       'createdBy': {'email': 'katharine.murphy@guardian.co.uk',\n",
       "        'firstName': 'Katharine',\n",
       "        'lastName': 'Murphy'},\n",
       "       'createdDate': '2013-08-08T04:11:06.264+01:00',\n",
       "       'firstPublishedDate': '2013-08-08T04:11:06.793+01:00',\n",
       "       'id': '52030c4ae4b0c55edad46ec0',\n",
       "       'lastModifiedBy': {'email': 'katharine.murphy@guardian.co.uk',\n",
       "        'firstName': 'Katharine',\n",
       "        'lastName': 'Murphy'},\n",
       "       'lastModifiedDate': '2013-08-08T04:11:06.264+01:00',\n",
       "       'published': True,\n",
       "       'publishedDate': '2013-08-08T04:11:06.793+01:00'},\n",
       "      {'attributes': {},\n",
       "       'bodyHtml': '<p>The prime minister has tweeted back to Naomi Woodley, who is political correspondent at the ABC.</p> <p>This is a somewhat confusing response, given Naomi suggests:</p> <p>1. The plane isn&apos;t moving; and</p> <p>2. Naomi&apos;s name is not Mia.</p> <p>A Rudd spokeswoman clarifies that the birthday is in fact not Naomi&apos;s - because obviously her name is Naomi - but Mia Greaves. Another journalist on the press plane.</p>  <figure class=\"element element-tweet\" data-canonical-url=\"https://twitter.com/KRuddMP/statuses/365302822549458944\">  <blockquote class=\"twitter-tweet\"><p><a href=\"https://twitter.com/naomiwoodley\">@naomiwoodley</a> glad we finally got you on the way to Brisbane. By the way, happy birthday Mia. KRudd</p>&mdash; Kevin Rudd (@KRuddMP) <a href=\"https://twitter.com/KRuddMP/statuses/365302822549458944\">August 8, 2013</a></blockquote>  </figure>',\n",
       "       'bodyTextSummary': \"The prime minister has tweeted back to Naomi Woodley, who is political correspondent at the ABC. This is a somewhat confusing response, given Naomi suggests: 1. The plane isn't moving; and 2. Naomi's name is not Mia. A Rudd spokeswoman clarifies that the birthday is in fact not Naomi's - because obviously her name is Naomi - but Mia Greaves. Another journalist on the press plane.\",\n",
       "       'contributors': [],\n",
       "       'createdBy': {'email': 'katharine.murphy@guardian.co.uk',\n",
       "        'firstName': 'Katharine',\n",
       "        'lastName': 'Murphy'},\n",
       "       'createdDate': '2013-08-08T04:04:14.302+01:00',\n",
       "       'firstPublishedDate': '2013-08-08T04:04:14.862+01:00',\n",
       "       'id': '52030aaee4b01c89fee25850',\n",
       "       'lastModifiedBy': {'email': 'paul.owen@guardian.co.uk',\n",
       "        'firstName': 'Paul',\n",
       "        'lastName': 'Owen'},\n",
       "       'lastModifiedDate': '2013-08-08T04:25:09.188+01:00',\n",
       "       'published': True,\n",
       "       'publishedDate': '2013-08-08T04:25:10.169+01:00'},\n",
       "      {'attributes': {},\n",
       "       'bodyHtml': '<p>Things looking up on the C17, evidently.</p>  <figure class=\"element element-tweet\" data-canonical-url=\"https://twitter.com/naomiwoodley/statuses/365275025277861888\">  <blockquote class=\"twitter-tweet\"><p>Power is back on the c17 but the Rudd media pack still stranded in Sydney. <a href=\"https://twitter.com/search?q=%23ausvotes&amp;src=hash\">#ausvotes</a> <a href=\"http://t.co/UsXjCvXf9V\">pic.twitter.com/UsXjCvXf9V</a></p>&mdash; Naomi Woodley (@naomiwoodley) <a href=\"https://twitter.com/naomiwoodley/statuses/365275025277861888\">August 8, 2013</a></blockquote>  </figure>',\n",
       "       'bodyTextSummary': 'Things looking up on the C17, evidently.',\n",
       "       'contributors': [],\n",
       "       'createdBy': {'email': 'katharine.murphy@guardian.co.uk',\n",
       "        'firstName': 'Katharine',\n",
       "        'lastName': 'Murphy'},\n",
       "       'createdDate': '2013-08-08T03:59:22.525+01:00',\n",
       "       'firstPublishedDate': '2013-08-08T03:59:23.064+01:00',\n",
       "       'id': '5203098ae4b01c89fee2584f',\n",
       "       'lastModifiedBy': {'email': 'katharine.murphy@guardian.co.uk',\n",
       "        'firstName': 'Katharine',\n",
       "        'lastName': 'Murphy'},\n",
       "       'lastModifiedDate': '2013-08-08T03:59:22.525+01:00',\n",
       "       'published': True,\n",
       "       'publishedDate': '2013-08-08T03:59:23.064+01:00'},\n",
       "      {'attributes': {'summary': 'true',\n",
       "        'title': 'Have I spoken to Rupert Murdoch about the NBN? No, I have not.'},\n",
       "       'bodyHtml': '<figure class=\"element element-video\" data-canonical-url=\"http://www.theguardian.com/world/video/2013/aug/08/tony-abbott-nbn-murdoch-video\"                                        data-show-ads=\"true\"                data-video-id=\"1947855\"                data-video-name=\"Tony Abbott on Murdoch, NBN and Rudd - video\"                data-video-provider=\"AAP\"                data-video-poster=\"http://static.guim.co.uk/sys-images/Guardian/Pix/pictures/2013/8/8/1375928452643/Tony-Abbott-is-shown-a-bo-005.jpg\"> <video data-media-id=\"gu-video-414580396\" class=\"gu-video\" controls=\"controls\" poster=\"http://static.guim.co.uk/sys-images/Guardian/Pix/pictures/2013/8/8/1375928452643/Tony-Abbott-is-shown-a-bo-005.jpg\"> <source src=\"http://cdn.theguardian.tv/mainwebsite/2013/8/8/130708130808abbott_FromGAus-16x9.mp4\"></source><source src=\"http://cdn.theguardian.tv/ad/2013/8/8/130708130808abbott_FromGAus/130708130808abbott_FromGAus.m3u8\"></source><source src=\"http://cdn.theguardian.tv/3gp/large/2013/8/8/130708130808abbott_FromGAus_3gpLg16x9.3gp\"></source> </video> </figure>',\n",
       "       'bodyTextSummary': '',\n",
       "       'contributors': [],\n",
       "       'createdBy': {'email': 'katharine.murphy@guardian.co.uk',\n",
       "        'firstName': 'Katharine',\n",
       "        'lastName': 'Murphy'},\n",
       "       'createdDate': '2013-08-08T03:53:07.469+01:00',\n",
       "       'firstPublishedDate': '2013-08-08T03:53:09.444+01:00',\n",
       "       'id': '52030813e4b01c89fee2584e',\n",
       "       'lastModifiedBy': {'email': 'katharine.murphy@guardian.co.uk',\n",
       "        'firstName': 'Katharine',\n",
       "        'lastName': 'Murphy'},\n",
       "       'lastModifiedDate': '2013-08-08T03:53:07.469+01:00',\n",
       "       'published': True,\n",
       "       'publishedDate': '2013-08-08T03:53:09.444+01:00',\n",
       "       'title': 'Have I spoken to Rupert Murdoch about the NBN? No, I have not.'},\n",
       "      {'attributes': {},\n",
       "       'bodyHtml': '<blockquote class=\"quoted\"> <p>I am not in Joe Hockey&apos;s mind, something for which I think we are both grateful.</p> </blockquote> <p>That was <strong>Labor&apos;s finance minister Penny Wong</strong> on Sky News a moment ago.</p>',\n",
       "       'bodyTextSummary': \"I am not in Joe Hockey's mind, something for which I think we are both grateful. That was Labor's finance minister Penny Wong on Sky News a moment ago.\",\n",
       "       'contributors': [],\n",
       "       'createdBy': {'email': 'katharine.murphy@guardian.co.uk',\n",
       "        'firstName': 'Katharine',\n",
       "        'lastName': 'Murphy'},\n",
       "       'createdDate': '2013-08-08T03:46:14.431+01:00',\n",
       "       'firstPublishedDate': '2013-08-08T03:46:14.933+01:00',\n",
       "       'id': '52030676e4b0c55edad46ebe',\n",
       "       'lastModifiedBy': {'email': 'katharine.murphy@guardian.co.uk',\n",
       "        'firstName': 'Katharine',\n",
       "        'lastName': 'Murphy'},\n",
       "       'lastModifiedDate': '2013-08-08T03:46:14.431+01:00',\n",
       "       'published': True,\n",
       "       'publishedDate': '2013-08-08T03:46:14.933+01:00'},\n",
       "      {'attributes': {},\n",
       "       'bodyHtml': '<p><strong>Google&apos;s Johnny Luu</strong> has sent me through his latest material on top search terms relating to this election campaign.</p> <p>He&apos;s had a look at the top search terms for Liberal Party leader Tony Abbott over the last 30 days.</p> <p>As Jack Nicholson once said ... heeeeeeeeere&apos;s Johnny.</p> <blockquote class=\"quoted\"> <p>This search analysis provides an insight into what Australians want to know about Tony Abbott and what political issues are having the most cut through.</p> <p>Australians are as interested as ever in Tony Abbott’s personal background with searches about his daughters, sister, religion, and even his former boxing career.</p> <p>When it comes to policy issues, the ALP’s cut to the fringe benefit tax saw Australians coming to Google to find out what Tony Abbott’s position was on the change.</p> </blockquote> <p>\\xa0<strong>Here are the top search terms:</strong></p> <ol> <li>tony abbott <strong>daughters</strong></li> <li>tony abbott <strong>birthday</strong></li> <li>tony abbott <strong>sister</strong></li> <li>tony abbott <strong>catholic</strong></li> <li>tony abbott <strong>biography</strong></li> <li>tony abbott <strong>age</strong></li> <li>tony abbott <strong>boxing</strong></li> <li>tony abbott <strong>speedo</strong></li> <li>tony abbott <strong>young</strong></li> <li>tony abbott <strong>ancestry</strong></li> </ol> <p>\\xa0*last 30 days</p> <p><strong>Then the policy searches:</strong></p> <ol> <li>fbt</li> <li>divorce</li> <li>boats</li> <li>gonski</li> <li>abortion</li> <li>religion</li> <li>refugee</li> <li>muslims</li> <li>carbon</li> <li>nauru</li> </ol>  <figure class=\"element element-image\" data-media-id=\"gu-fc-f30d8f0b-8b8a-47d7-aa34-018d9553cc5c\"> <img src=\"http://static.guim.co.uk/sys-images/Guardian/Pix/pictures/2013/8/8/1375929797158/b5491435-d0d9-41eb-88ac-39acbeba0ba3-460x276.jpeg\" alt=\"Opposition leader Tony Abbott with Carmen Garcia for the opening of her campaign office in Adelaide,\" width=\"460\" height=\"276\" class=\"gu-image\" /> <figcaption> <span class=\"element-image__caption\">Opposition leader Tony Abbott with Carmen Garcia for the opening of her campaign office in Adelaide, Photograph: ALAN PORRITT/AAPIMAGE</span> </figcaption> </figure>',\n",
       "       'bodyTextSummary': \"Google's Johnny Luu has sent me through his latest material on top search terms relating to this election campaign. He's had a look at the top search terms for Liberal Party leader Tony Abbott over the last 30 days. As Jack Nicholson once said ... heeeeeeeeere's Johnny. This search analysis provides an insight into what Australians want to know about Tony Abbott and what political issues are having the most cut through. Australians are as interested as ever in Tony Abbott’s personal background with searches about his daughters, sister, religion, and even his former boxing career. When it comes to policy issues, the ALP’s cut to the fringe benefit tax saw Australians coming to Google to find out what Tony Abbott’s position was on the change. \\xa0Here are the top search terms: tony abbott daughters tony abbott birthday tony abbott sister tony abbott catholic tony abbott biography tony abbott age tony abbott boxing tony abbott speedo tony abbott young tony abbott ancestry \\xa0*last 30 days Then the policy searches: fbt divorce boats gonski abortion religion refugee muslims carbon nauru\",\n",
       "       'contributors': [],\n",
       "       'createdBy': {'email': 'katharine.murphy@guardian.co.uk',\n",
       "        'firstName': 'Katharine',\n",
       "        'lastName': 'Murphy'},\n",
       "       'createdDate': '2013-08-08T03:42:10.578+01:00',\n",
       "       'firstPublishedDate': '2013-08-08T03:43:37.171+01:00',\n",
       "       'id': '52030582e4b0c55edad46ebd',\n",
       "       'lastModifiedBy': {'email': 'katharine.murphy@guardian.co.uk',\n",
       "        'firstName': 'Katharine',\n",
       "        'lastName': 'Murphy'},\n",
       "       'lastModifiedDate': '2013-08-08T03:43:36.341+01:00',\n",
       "       'published': True,\n",
       "       'publishedDate': '2013-08-08T03:43:37.171+01:00'},\n",
       "      {'attributes': {},\n",
       "       'bodyHtml': '<p>Hockey says the Coalition&apos;s paid parental leave scheme will be an important policy measure to boost workforce participation.</p> <p><strong>Q: Will you increase the GST?</strong></p> <blockquote class=\"quoted\"> <p>I bet you if Labor is re-elected, you&apos;ll see an increase in the GST.</p> </blockquote> <p>Hockey also calls on Labor to start releasing costed policies.</p> <p>I think Hockey would be on stronger ground if the Coalition practiced what it preaches here. Hockey could start with the specific offsets to fund yesterday&apos;s company tax cut.</p>',\n",
       "       'bodyTextSummary': \"Hockey says the Coalition's paid parental leave scheme will be an important policy measure to boost workforce participation. Q: Will you increase the GST? I bet you if Labor is re-elected, you'll see an increase in the GST. Hockey also calls on Labor to start releasing costed policies. I think Hockey would be on stronger ground if the Coalition practiced what it preaches here. Hockey could start with the specific offsets to fund yesterday's company tax cut.\",\n",
       "       'contributors': [],\n",
       "       'createdBy': {'email': 'katharine.murphy@guardian.co.uk',\n",
       "        'firstName': 'Katharine',\n",
       "        'lastName': 'Murphy'},\n",
       "       'createdDate': '2013-08-08T03:31:39.122+01:00',\n",
       "       'firstPublishedDate': '2013-08-08T03:31:39.627+01:00',\n",
       "       'id': '5203030be4b0c55edad46ebc',\n",
       "       'lastModifiedBy': {'email': 'katharine.murphy@guardian.co.uk',\n",
       "        'firstName': 'Katharine',\n",
       "        'lastName': 'Murphy'},\n",
       "       'lastModifiedDate': '2013-08-08T03:31:39.122+01:00',\n",
       "       'published': True,\n",
       "       'publishedDate': '2013-08-08T03:31:39.627+01:00'},\n",
       "      {'attributes': {'keyEvent': 'true', 'title': 'Joe Hockey on jobs'},\n",
       "       'bodyHtml': '<p>The <strong>shadow treasurer Joe Hockey</strong> says the new ABS jobs data is very bad news. Unemployment in Australia is going to go up. Sure as night follows day.</p> <p><strong>Hockey:</strong></p> <blockquote class=\"quoted\"> <p>Only the Coalition can give you job security. Only the Coalition is focused on your job.</p> </blockquote> <p>Hockey says the unemployment rate would have a 6 in front of it in July if the participation rate hadn&apos;t gone south.</p> <blockquote class=\"quoted\"> <p>This is a confronting statistic.</p> </blockquote>',\n",
       "       'bodyTextSummary': \"The shadow treasurer Joe Hockey says the new ABS jobs data is very bad news. Unemployment in Australia is going to go up. Sure as night follows day. Hockey: Only the Coalition can give you job security. Only the Coalition is focused on your job. Hockey says the unemployment rate would have a 6 in front of it in July if the participation rate hadn't gone south. This is a confronting statistic.\",\n",
       "       'contributors': [],\n",
       "       'createdBy': {'email': 'katharine.murphy@guardian.co.uk',\n",
       "        'firstName': 'Katharine',\n",
       "        'lastName': 'Murphy'},\n",
       "       'createdDate': '2013-08-08T03:26:12.907+01:00',\n",
       "       'firstPublishedDate': '2013-08-08T03:26:13.410+01:00',\n",
       "       'id': '520301c4e4b01c89fee2584c',\n",
       "       'lastModifiedBy': {'email': 'katharine.murphy@guardian.co.uk',\n",
       "        'firstName': 'Katharine',\n",
       "        'lastName': 'Murphy'},\n",
       "       'lastModifiedDate': '2013-08-08T03:26:12.907+01:00',\n",
       "       'published': True,\n",
       "       'publishedDate': '2013-08-08T03:26:13.410+01:00',\n",
       "       'title': 'Joe Hockey on jobs'},\n",
       "      {'attributes': {'keyEvent': 'true',\n",
       "        'title': 'Back to jobs: the July snapshot'},\n",
       "       'bodyHtml': '<p>Some facts from a statement by the <strong>employment minister Brendan O&apos;Connor</strong> on this morning&apos;s new jobs data from the ABS:</p> <ul> <li>Today’s release shows seasonally adjusted employment fell by 10,200 in July, falling to 11 653,200, with the unemployment rate steady at 5.7 per cent in July.</li> <li>Seasonally adjusted part-time employment decreased by 3,500 to 3,519,300, while full-time employment decreased by 6,700 to 8,133,900.</li> <li>The participation rate decreased 0.2 points to 65.1 per cent.</li> <li>The number of persons looking for full-time work decreased by 7,100 to 520,000 and the number of people looking for part-time work increased by 1,400 to 185,400.</li> </ul> <p>So employment was down, part-time and full time; participation was down: people stopped looking for work.</p> <p>All of this is consistent with the sorts of messages Labor was presenting in the economic statement of last Friday.</p> <p>And some rhetoric from O&apos;Connor:</p> <blockquote class=\"quoted\"> <p>We know the economy is in transition, with declining commodity prices and the terms of trade impacting growth, tax revenue and employment.</p> <p>Only Labor can be trusted to manage this transition responsibly with a positive plan to invest in new industries, new jobs, health and education.</p> </blockquote>',\n",
       "       'bodyTextSummary': \"Some facts from a statement by the employment minister Brendan O'Connor on this morning's new jobs data from the ABS: Today’s release shows seasonally adjusted employment fell by 10,200 in July, falling to 11 653,200, with the unemployment rate steady at 5.7 per cent in July. Seasonally adjusted part-time employment decreased by 3,500 to 3,519,300, while full-time employment decreased by 6,700 to 8,133,900. The participation rate decreased 0.2 points to 65.1 per cent. The number of persons looking for full-time work decreased by 7,100 to 520,000 and the number of people looking for part-time work increased by 1,400 to 185,400. So employment was down, part-time and full time; participation was down: people stopped looking for work. All of this is consistent with the sorts of messages Labor was presenting in the economic statement of last Friday. And some rhetoric from O'Connor: We know the economy is in transition, with declining commodity prices and the terms of trade impacting growth, tax revenue and employment. Only Labor can be trusted to manage this transition responsibly with a positive plan to invest in new industries, new jobs, health and education.\",\n",
       "       'contributors': [],\n",
       "       'createdBy': {'email': 'katharine.murphy@guardian.co.uk',\n",
       "        'firstName': 'Katharine',\n",
       "        'lastName': 'Murphy'},\n",
       "       'createdDate': '2013-08-08T03:20:53.353+01:00',\n",
       "       'firstPublishedDate': '2013-08-08T03:20:53.876+01:00',\n",
       "       'id': '52030085e4b0c55edad46ebb',\n",
       "       'lastModifiedBy': {'email': 'katharine.murphy@guardian.co.uk',\n",
       "        'firstName': 'Katharine',\n",
       "        'lastName': 'Murphy'},\n",
       "       'lastModifiedDate': '2013-08-08T03:20:53.353+01:00',\n",
       "       'published': True,\n",
       "       'publishedDate': '2013-08-08T03:20:53.876+01:00',\n",
       "       'title': 'Back to jobs: the July snapshot'},\n",
       "      {'attributes': {'keyEvent': 'true', 'title': 'PEFO - next Tuesday'},\n",
       "       'bodyHtml': '<p>Treasury has <a href=\"http://www.treasury.gov.au/PublicationsAndMedia/MediaReleases/2013/PEFO\">announced</a> that the pre-election fiscal outlook will be released next Tuesday.</p> <blockquote class=\"quoted\"> <p>Consistent with the requirements of the Charter of Budget Honesty Act\\xa01998, the Departments of the Treasury (Treasury) and Finance and Deregulation (Finance) plan to release the Pre-Election Economic and Fiscal Outlook (PEFO) on Tuesday 13 August 2013.</p> <p>An update will be provided should this expected timing change.</p> </blockquote> <ul> <li>PEFO is the independent economic forecasts prepared by treasury and finance.</li> <li>Labor released an updated economic statement the Friday before the election campaign was called, which forecast more deficits, higher unemployment and lower growth.</li> <li>The Coalition says treasury&apos;s forecasts aren&apos;t reliable so its policies will be costed elsewhere.</li> </ul>',\n",
       "       'bodyTextSummary': \"Treasury has announced that the pre-election fiscal outlook will be released next Tuesday. Consistent with the requirements of the Charter of Budget Honesty Act\\xa01998, the Departments of the Treasury (Treasury) and Finance and Deregulation (Finance) plan to release the Pre-Election Economic and Fiscal Outlook (PEFO) on Tuesday 13 August 2013. An update will be provided should this expected timing change. PEFO is the independent economic forecasts prepared by treasury and finance. Labor released an updated economic statement the Friday before the election campaign was called, which forecast more deficits, higher unemployment and lower growth. The Coalition says treasury's forecasts aren't reliable so its policies will be costed elsewhere.\",\n",
       "       'contributors': [],\n",
       "       'createdBy': {'email': 'katharine.murphy@guardian.co.uk',\n",
       "        'firstName': 'Katharine',\n",
       "        'lastName': 'Murphy'},\n",
       "       'createdDate': '2013-08-08T03:10:05.415+01:00',\n",
       "       'firstPublishedDate': '2013-08-08T03:10:05.956+01:00',\n",
       "       'id': '5202fdfde4b0c55edad46eba',\n",
       "       'lastModifiedBy': {'email': 'katharine.murphy@guardian.co.uk',\n",
       "        'firstName': 'Katharine',\n",
       "        'lastName': 'Murphy'},\n",
       "       'lastModifiedDate': '2013-08-08T03:10:05.415+01:00',\n",
       "       'published': True,\n",
       "       'publishedDate': '2013-08-08T03:10:05.956+01:00',\n",
       "       'title': 'PEFO - next Tuesday'},\n",
       "      {'attributes': {},\n",
       "       'bodyHtml': '<p>Turnbull is out this morning to argue that Labor&apos;s ongoing efforts to link aggressive coverage from the News Corp papers to Rupert Murdoch&apos;s supposed interests in stopping the national broadband network is nothing more than a conspiracy theory.</p> <p>This project is a disaster, Turnbull contends. It&apos;s Labor shutting it down through sheer incompetence. Don&apos;t worry about Murdoch.</p> <blockquote class=\"quoted\"> <p>Murdoch&apos;s views are nothing special.</p> </blockquote> <p>He goes on. <strong>If Murdoch was sitting there in &quot;the bat cave&quot; maximising his best interests</strong> then he&apos;d back Labor&apos;s NBN because it will never get built. We will accelerate construction of a national broadband network, Turnbull says.</p> <p><strong>Q: Didn&apos;t Kevin Rudd have a point about you people launching your alternative NBN policy at the Fox Studios in Sydney?</strong></p> <p><strong>Turnbull:</strong></p> <blockquote class=\"quoted\"> <p>Kevin Rudd looks like Tin Tin but he&apos;s not much of a detective.</p> </blockquote> <p>(Rudd said on the 7.30 Report last night that he had recently consulted the files and come across the detail that the Coalition had launched their policy at a premises owned by Mr Murdoch).</p> <p><strong>Turnbull:</strong></p> <blockquote class=\"quoted\"> <p>It was hardly a secret. It was on every station, every network. He&apos;s grasping at straws. What he&apos;s not prepared to do is speak about the real issues.</p> </blockquote> <p><strong>Q: So why did you launch it there?</strong></p> <blockquote class=\"quoted\"> <p>Because it was colourful and it would look good on television.</p> </blockquote>',\n",
       "       'bodyTextSummary': 'Turnbull is out this morning to argue that Labor\\'s ongoing efforts to link aggressive coverage from the News Corp papers to Rupert Murdoch\\'s supposed interests in stopping the national broadband network is nothing more than a conspiracy theory. This project is a disaster, Turnbull contends. It\\'s Labor shutting it down through sheer incompetence. Don\\'t worry about Murdoch. Murdoch\\'s views are nothing special. He goes on. If Murdoch was sitting there in \"the bat cave\" maximising his best interests then he\\'d back Labor\\'s NBN because it will never get built. We will accelerate construction of a national broadband network, Turnbull says. Q: Didn\\'t Kevin Rudd have a point about you people launching your alternative NBN policy at the Fox Studios in Sydney? Turnbull: Kevin Rudd looks like Tin Tin but he\\'s not much of a detective. (Rudd said on the 7.30 Report last night that he had recently consulted the files and come across the detail that the Coalition had launched their policy at a premises owned by Mr Murdoch). Turnbull: It was hardly a secret. It was on every station, every network. He\\'s grasping at straws. What he\\'s not prepared to do is speak about the real issues. Q: So why did you launch it there? Because it was colourful and it would look good on television.',\n",
       "       'contributors': [],\n",
       "       'createdBy': {'email': 'katharine.murphy@guardian.co.uk',\n",
       "        'firstName': 'Katharine',\n",
       "        'lastName': 'Murphy'},\n",
       "       'createdDate': '2013-08-08T02:53:34.566+01:00',\n",
       "       'firstPublishedDate': '2013-08-08T02:53:35.083+01:00',\n",
       "       'id': '5202fa1ee4b01c89fee2584a',\n",
       "       'lastModifiedBy': {'email': 'katharine.murphy@guardian.co.uk',\n",
       "        'firstName': 'Katharine',\n",
       "        'lastName': 'Murphy'},\n",
       "       'lastModifiedDate': '2013-08-08T02:53:34.566+01:00',\n",
       "       'published': True,\n",
       "       'publishedDate': '2013-08-08T02:53:35.083+01:00'},\n",
       "      {'attributes': {},\n",
       "       'bodyHtml': '<p><strong>Shadow communications minister Malcolm Turnbull</strong> is in a park in Sydney.</p> <blockquote class=\"quoted\"> <p>Rupert Murdoch&apos;s views on the NBN are very mundane.</p> </blockquote>',\n",
       "       'bodyTextSummary': \"Shadow communications minister Malcolm Turnbull is in a park in Sydney. Rupert Murdoch's views on the NBN are very mundane.\",\n",
       "       'contributors': [],\n",
       "       'createdBy': {'email': 'katharine.murphy@guardian.co.uk',\n",
       "        'firstName': 'Katharine',\n",
       "        'lastName': 'Murphy'},\n",
       "       'createdDate': '2013-08-08T02:39:37.167+01:00',\n",
       "       'firstPublishedDate': '2013-08-08T02:39:37.620+01:00',\n",
       "       'id': '5202f6d9e4b0c55edad46eb9',\n",
       "       'lastModifiedBy': {'email': 'katharine.murphy@guardian.co.uk',\n",
       "        'firstName': 'Katharine',\n",
       "        'lastName': 'Murphy'},\n",
       "       'lastModifiedDate': '2013-08-08T02:39:37.167+01:00',\n",
       "       'published': True,\n",
       "       'publishedDate': '2013-08-08T02:39:37.620+01:00'},\n",
       "      {'attributes': {},\n",
       "       'bodyHtml': '<p>Meanwhile, back in the C17.</p>  <figure class=\"element element-tweet\" data-canonical-url=\"https://twitter.com/mpbowers/statuses/365283265357172736\">  <blockquote class=\"twitter-tweet\"><p><a href=\"https://twitter.com/IanParryO\">@IanParryO</a> <a href=\"https://twitter.com/Kieran_Gilbert\">@Kieran_Gilbert</a> <a href=\"https://twitter.com/Raf774\">@Raf774</a> <a href=\"https://twitter.com/search?q=%23breakoutthenewspapers&amp;src=hash\">#breakoutthenewspapers</a> <a href=\"http://t.co/KZKndE0P5G\">pic.twitter.com/KZKndE0P5G</a></p>&mdash; Mike Bowers (@mpbowers) <a href=\"https://twitter.com/mpbowers/statuses/365283265357172736\">August 8, 2013</a></blockquote>  </figure>',\n",
       "       'bodyTextSummary': 'Meanwhile, back in the C17.',\n",
       "       'contributors': [],\n",
       "       'createdBy': {'email': 'katharine.murphy@guardian.co.uk',\n",
       "        'firstName': 'Katharine',\n",
       "        'lastName': 'Murphy'},\n",
       "       'createdDate': '2013-08-08T02:35:28.372+01:00',\n",
       "       'firstPublishedDate': '2013-08-08T02:35:28.912+01:00',\n",
       "       'id': '5202f5e0e4b0c55edad46eb8',\n",
       "       'lastModifiedBy': {'email': 'katharine.murphy@guardian.co.uk',\n",
       "        'firstName': 'Katharine',\n",
       "        'lastName': 'Murphy'},\n",
       "       'lastModifiedDate': '2013-08-08T02:35:28.372+01:00',\n",
       "       'published': True,\n",
       "       'publishedDate': '2013-08-08T02:35:28.912+01:00'},\n",
       "      {'attributes': {'keyEvent': 'true',\n",
       "        'title': 'Unemployment rate - steady'},\n",
       "       'bodyHtml': '<p>Paul pointed you all this morning to the <strong>release of new unemployment figures for the month of July.</strong></p> <p>The ABS labour force number is 5.7%.</p> <p>That&apos;s steady.</p> <p>Labor copped a bit of a break there, me thinks.</p>',\n",
       "       'bodyTextSummary': \"Paul pointed you all this morning to the release of new unemployment figures for the month of July. The ABS labour force number is 5.7%. That's steady. Labor copped a bit of a break there, me thinks.\",\n",
       "       'contributors': [],\n",
       "       'createdBy': {'email': 'katharine.murphy@guardian.co.uk',\n",
       "        'firstName': 'Katharine',\n",
       "        'lastName': 'Murphy'},\n",
       "       'createdDate': '2013-08-08T02:34:06.854+01:00',\n",
       "       'firstPublishedDate': '2013-08-08T02:34:07.367+01:00',\n",
       "       'id': '5202f58ee4b01c89fee25849',\n",
       "       'lastModifiedBy': {'email': 'katharine.murphy@guardian.co.uk',\n",
       "        'firstName': 'Katharine',\n",
       "        'lastName': 'Murphy'},\n",
       "       'lastModifiedDate': '2013-08-08T02:34:06.854+01:00',\n",
       "       'published': True,\n",
       "       'publishedDate': '2013-08-08T02:34:07.367+01:00',\n",
       "       'title': 'Unemployment rate - steady'},\n",
       "      {'attributes': {},\n",
       "       'bodyHtml': '<p>The quick quotes quills of the Coalition&apos;s rapid response unit have been busy penning Peter Bettie&apos;s greatest hits.</p> <p><strong>Here&apos;s an excerpt of &quot;Peter Beattie&apos;s record&quot; .. </strong><strong>by Coalition CHQ.</strong></p> <ul> <li>One of his first actions as premier was to shut down an inquiry into Labor’s corruption of the electoral rolls (the Shepherdson inquiry that claimed a deputy premier, a former state secretary and a former right had man to Wayne Goss)</li> <li>He was health minister in the Goss/Rudd government when spending doubled but wards and operating theatres were being shut across the state.</li> <li>As premier he oversaw the development of the biggest public payroll scandal Australia has ever seen... in the Queensland Health Department.</li> <li>He was the mastermind behind Queensland’s biggest infrastructure misadventure...a $7 billion white elephant water plan that involved a desalination plant and hundreds of kilometres of pipes that haven’t been used.</li> <li>Like Kevin Rudd, Beattie is a self confessed media tart – always more interested in a press conference than governing.</li> </ul>',\n",
       "       'bodyTextSummary': 'The quick quotes quills of the Coalition\\'s rapid response unit have been busy penning Peter Bettie\\'s greatest hits. Here\\'s an excerpt of \"Peter Beattie\\'s record\" .. by Coalition CHQ. One of his first actions as premier was to shut down an inquiry into Labor’s corruption of the electoral rolls (the Shepherdson inquiry that claimed a deputy premier, a former state secretary and a former right had man to Wayne Goss) He was health minister in the Goss/Rudd government when spending doubled but wards and operating theatres were being shut across the state. As premier he oversaw the development of the biggest public payroll scandal Australia has ever seen... in the Queensland Health Department. He was the mastermind behind Queensland’s biggest infrastructure misadventure...a $7 billion white elephant water plan that involved a desalination plant and hundreds of kilometres of pipes that haven’t been used. Like Kevin Rudd, Beattie is a self confessed media tart – always more interested in a press conference than governing.',\n",
       "       'contributors': [],\n",
       "       'createdBy': {'email': 'katharine.murphy@guardian.co.uk',\n",
       "        'firstName': 'Katharine',\n",
       "        'lastName': 'Murphy'},\n",
       "       'createdDate': '2013-08-08T02:31:41.725+01:00',\n",
       "       'firstPublishedDate': '2013-08-08T02:31:42.224+01:00',\n",
       "       'id': '5202f4fde4b01c89fee25848',\n",
       "       'lastModifiedBy': {'email': 'katharine.murphy@guardian.co.uk',\n",
       "        'firstName': 'Katharine',\n",
       "        'lastName': 'Murphy'},\n",
       "       'lastModifiedDate': '2013-08-08T02:31:41.725+01:00',\n",
       "       'published': True,\n",
       "       'publishedDate': '2013-08-08T02:31:42.224+01:00'},\n",
       "      {'attributes': {},\n",
       "       'bodyHtml': '<p>Hurry up and ... wait.</p> <p>And wait.</p> <p><strong>Mike Bowers</strong> has sent me this frame of the reporters currently stuck inside the Rudd C17.</p>  <figure class=\"element element-image\" data-media-id=\"gu-fc-fe4aa849-767d-48d4-bafc-9780dd6ec993\"> <img src=\"http://static.guim.co.uk/sys-images/Guardian/Pix/pictures/2013/8/8/1375924837700/60ea618d-60b5-43c2-9c50-9ae99d7d4a20-460x276.jpeg\" alt=\"Media party from the Rudd campaign stuck in Sydney when the  RAAF C17 suffered a power failure this morning, Thursday 8th August 2013.\" width=\"460\" height=\"276\" class=\"gu-image\" /> <figcaption> <span class=\"element-image__caption\">Media party from the Rudd campaign stuck in Sydney when the RAAF C17 suffered a power failure this morning, Thursday 8th August 2013. <a href=\"http://www.theglobalmail.org/\">Mike Bowers/TGM</a></span> </figcaption> </figure>',\n",
       "       'bodyTextSummary': 'Hurry up and ... wait. And wait. Mike Bowers has sent me this frame of the reporters currently stuck inside the Rudd C17.',\n",
       "       'contributors': [],\n",
       "       'createdBy': {'email': 'katharine.murphy@guardian.co.uk',\n",
       "        'firstName': 'Katharine',\n",
       "        'lastName': 'Murphy'},\n",
       "       'createdDate': '2013-08-08T02:22:26.472+01:00',\n",
       "       'firstPublishedDate': '2013-08-08T02:22:27.305+01:00',\n",
       "       'id': '5202f2d2e4b01c89fee25847',\n",
       "       'lastModifiedBy': {'email': 'katharine.murphy@guardian.co.uk',\n",
       "        'firstName': 'Katharine',\n",
       "        'lastName': 'Murphy'},\n",
       "       'lastModifiedDate': '2013-08-08T02:22:26.472+01:00',\n",
       "       'published': True,\n",
       "       'publishedDate': '2013-08-08T02:22:27.305+01:00'},\n",
       "      {'attributes': {},\n",
       "       'bodyHtml': '<figure class=\"element element-embed\" data-canonical-url=\"\" >  <iframe class=\"fenced\" srcdoc=\"&lt;html&gt;&lt;head&gt;&lt;/head&gt;&lt;body&gt;&lt;iframe src=&quot;//instagram.com/p/cu7XGyNJ9M/embed/&quot; allowtransparency=&quot;true&quot; frameborder=&quot;0&quot; height=&quot;535&quot; scrolling=&quot;no&quot; width=&quot;460&quot;&gt;&lt;/iframe&gt;&lt;/body&gt;&lt;/html&gt;\"></iframe> </figure>  <p>Too much harmony in the campaign?</p> <p>The <strong>chief executive of the Climate Instiute John Connor</strong> has called by our digs at Guardian Australia with a new report he intends to launch. He thought he&apos;d watch the <strong>climate change minister Mark Butler</strong> on our TV while he was in the neighbourhood.</p> <p>Matching high viz. Noice.</p>',\n",
       "       'bodyTextSummary': \"Too much harmony in the campaign? The chief executive of the Climate Instiute John Connor has called by our digs at Guardian Australia with a new report he intends to launch. He thought he'd watch the climate change minister Mark Butler on our TV while he was in the neighbourhood. Matching high viz. Noice.\",\n",
       "       'contributors': [],\n",
       "       'createdBy': {'email': 'katharine.murphy@guardian.co.uk',\n",
       "        'firstName': 'Katharine',\n",
       "        'lastName': 'Murphy'},\n",
       "       'createdDate': '2013-08-08T02:15:51.174+01:00',\n",
       "       'firstPublishedDate': '2013-08-08T02:15:51.684+01:00',\n",
       "       'id': '5202f147e4b0c55edad46eb7',\n",
       "       'lastModifiedBy': {'email': 'katharine.murphy@guardian.co.uk',\n",
       "        'firstName': 'Katharine',\n",
       "        'lastName': 'Murphy'},\n",
       "       'lastModifiedDate': '2013-08-08T02:15:51.174+01:00',\n",
       "       'published': True,\n",
       "       'publishedDate': '2013-08-08T02:15:51.684+01:00'},\n",
       "      {'attributes': {},\n",
       "       'bodyHtml': '<p>Just in case anyone has a short memory.</p>  <figure class=\"element element-tweet\" data-canonical-url=\"https://twitter.com/LiberalAus/statuses/365276769063944193\">  <blockquote class=\"twitter-tweet\"><p>Peter Beattie on <a href=\"https://twitter.com/KRuddMP\">@KRuddMP</a>: “I’ve always been a Julia Gillard supporter. I think, ah – I haven’t changed in that.” <a href=\"https://twitter.com/search?q=%23auspol&amp;src=hash\">#auspol</a> <a href=\"https://twitter.com/search?q=%23trust&amp;src=hash\">#trust</a></p>&mdash; Liberal Party (@LiberalAus) <a href=\"https://twitter.com/LiberalAus/statuses/365276769063944193\">August 8, 2013</a></blockquote>  </figure>',\n",
       "       'bodyTextSummary': 'Just in case anyone has a short memory.',\n",
       "       'contributors': [],\n",
       "       'createdBy': {'email': 'katharine.murphy@guardian.co.uk',\n",
       "        'firstName': 'Katharine',\n",
       "        'lastName': 'Murphy'},\n",
       "       'createdDate': '2013-08-08T02:03:33.109+01:00',\n",
       "       'firstPublishedDate': '2013-08-08T02:03:33.611+01:00',\n",
       "       'id': '5202ee65e4b01c89fee25846',\n",
       "       'lastModifiedBy': {'email': 'katharine.murphy@guardian.co.uk',\n",
       "        'firstName': 'Katharine',\n",
       "        'lastName': 'Murphy'},\n",
       "       'lastModifiedDate': '2013-08-08T02:03:33.109+01:00',\n",
       "       'published': True,\n",
       "       'publishedDate': '2013-08-08T02:03:33.611+01:00'},\n",
       "      {'attributes': {},\n",
       "       'bodyHtml': '<p><strong>Dennis Atkins from The Courier Mail</strong> - one of the sharpest political minds on national politics, and on Queensland politics - <a href=\"http://www.couriermail.com.au/news/special-features/kevin-rudd-and-strategist-bruce-hawker-see-peter-beattie-as-best-chance-to-win-forde-pushing-aside-candidate-des-hardman/story-fnho52jo-1226693337214?sv=c8bf6eb6cdd4725f164e21bd6f7e0f92#.UgLqZ5uVeD8.twitter\">has filed an interesting analysis on the Beattie move.</a></p> <p>Dennis says Labor&apos;s polling by John Utting showed the party falling short in Forde despite being in a winning position in other South East Queensland seats, Brisbane and Bonner.</p> <p>Dennis: &quot;Led by Rudd and his chief strategist Bruce Hawker, a conversation started a week or so ago about what to do about Forde in the knowledge the candidate Des Hardman was having little impact on voters. With a margin of 1.6 per cent and held by the LNP&apos;s Bert van Manen, Labor couldn&apos;t let the chance of Forde go by.&quot;</p> <p>But Dennis sees some obvious risks. Beattie is a media tart; and his presence also links the federal campaign in Queensland back directly to the record of the previous state Labor government. Queensland premier Campbell Newman says the austerity he&apos;s imposed in the state is the fault of Beattie and Bligh.</p>',\n",
       "       'bodyTextSummary': 'Dennis Atkins from The Courier Mail - one of the sharpest political minds on national politics, and on Queensland politics - has filed an interesting analysis on the Beattie move. Dennis says Labor\\'s polling by John Utting showed the party falling short in Forde despite being in a winning position in other South East Queensland seats, Brisbane and Bonner. Dennis: \"Led by Rudd and his chief strategist Bruce Hawker, a conversation started a week or so ago about what to do about Forde in the knowledge the candidate Des Hardman was having little impact on voters. With a margin of 1.6 per cent and held by the LNP\\'s Bert van Manen, Labor couldn\\'t let the chance of Forde go by.\" But Dennis sees some obvious risks. Beattie is a media tart; and his presence also links the federal campaign in Queensland back directly to the record of the previous state Labor government. Queensland premier Campbell Newman says the austerity he\\'s imposed in the state is the fault of Beattie and Bligh.',\n",
       "       'contributors': [],\n",
       "       'createdBy': {'email': 'katharine.murphy@guardian.co.uk',\n",
       "        'firstName': 'Katharine',\n",
       "        'lastName': 'Murphy'},\n",
       "       'createdDate': '2013-08-08T01:57:55.850+01:00',\n",
       "       'firstPublishedDate': '2013-08-08T01:57:56.320+01:00',\n",
       "       'id': '5202ed13e4b04846eeb4e8d4',\n",
       "       'lastModifiedBy': {'email': 'katharine.murphy@guardian.co.uk',\n",
       "        'firstName': 'Katharine',\n",
       "        'lastName': 'Murphy'},\n",
       "       'lastModifiedDate': '2013-08-08T01:57:55.850+01:00',\n",
       "       'published': True,\n",
       "       'publishedDate': '2013-08-08T01:57:56.320+01:00'},\n",
       "      {'attributes': {},\n",
       "       'bodyHtml': '<p>Breaking.</p>  <figure class=\"element element-tweet\" data-canonical-url=\"https://twitter.com/latikambourke/statuses/365271731377676288\">  <blockquote class=\"twitter-tweet\"><p>Wow. Globemaster has lost power -  media pack with Rudd not going anywhere soon.</p>&mdash; Latika Bourke  (@latikambourke) <a href=\"https://twitter.com/latikambourke/statuses/365271731377676288\">August 8, 2013</a></blockquote>  </figure>  <p><strong>Mike Bowers</strong> has sent me this text message.</p> <blockquote class=\"quoted\"> <p>Our RAAF C17 has broken down with a power failure. The loadmasters say we are not going anywhere for some time.</p> </blockquote> <p>The Beattie effect?</p>  <figure class=\"element element-video\" data-canonical-url=\"http://www.theguardian.com/world/video/2013/aug/08/campaign-plane-powercut-rudd-video\"                                        data-show-ads=\"true\"                data-video-id=\"1947856\"                data-video-name=\"Journalists stranded as campaign plane loses power - video\"                data-video-provider=\"AAP\"                data-video-poster=\"http://static.guim.co.uk/sys-images/Guardian/Pix/pictures/2013/8/8/1375930235962/Globemaster-016.jpg\"> <video data-media-id=\"gu-video-414580516\" class=\"gu-video\" controls=\"controls\" poster=\"http://static.guim.co.uk/sys-images/Guardian/Pix/pictures/2013/8/8/1375930235962/Globemaster-016.jpg\"> <source src=\"http://cdn.theguardian.tv/mainwebsite/2013/8/8/130808planepowercut_FromGAus-16x9.mp4\"></source><source src=\"http://cdn.theguardian.tv/ad/2013/8/8/130808planepowercut_FromGAus/130808planepowercut_FromGAus.m3u8\"></source><source src=\"http://cdn.theguardian.tv/3gp/small/2013/8/8/130808planepowercut_FromGAus_3gpSml16x9.3gp\"></source><source src=\"http://cdn.theguardian.tv/3gp/large/2013/8/8/130808planepowercut_FromGAus_3gpLg16x9.3gp\"></source> </video> </figure>',\n",
       "       'bodyTextSummary': 'Breaking.\\nMike Bowers has sent me this text message. Our RAAF C17 has broken down with a power failure. The loadmasters say we are not going anywhere for some time. The Beattie effect?',\n",
       "       'contributors': [],\n",
       "       'createdBy': {'email': 'katharine.murphy@guardian.co.uk',\n",
       "        'firstName': 'Katharine',\n",
       "        'lastName': 'Murphy'},\n",
       "       'createdDate': '2013-08-08T01:44:47.322+01:00',\n",
       "       'firstPublishedDate': '2013-08-08T01:44:48.099+01:00',\n",
       "       'id': '5202e9ffe4b0f205203bb663',\n",
       "       'lastModifiedBy': {'email': 'katharine.murphy@guardian.co.uk',\n",
       "        'firstName': 'Katharine',\n",
       "        'lastName': 'Murphy'},\n",
       "       'lastModifiedDate': '2013-08-08T04:27:58.304+01:00',\n",
       "       'published': True,\n",
       "       'publishedDate': '2013-08-08T04:27:59.286+01:00'},\n",
       "      {'attributes': {'keyEvent': 'true',\n",
       "        'title': 'Tony Abbott takes questions from reporters in Launceston'},\n",
       "       'bodyHtml': '<p>The Liberal leader is in a car yard in Launceston.</p> <p><strong>Tony Abbott</strong> is campaigning in Tasmania today.</p> <p><strong>Q: Does Peter Beattie make it hard for the Liberals to win the seat of Forde?</strong></p> <blockquote class=\"quoted\"> <p>Am I worried about Peter Beattie? Of course not. But I bet Kevin Rudd is.</p> </blockquote> <p><strong>Q: Have you ever spoken to Rupert Murdoch about the national broadband network?</strong></p> <blockquote class=\"quoted\"> <p>Have I ever spoken to Rupert Murdoch about the NBN? No I haven&apos;t. No I haven&apos;t.</p> </blockquote> <p><strong>Q: Have you spoken to any News Corp executives about the NBN?</strong></p> <blockquote class=\"quoted\"> <p>No I haven&apos;t.</p> </blockquote> <p><strong>Q: Why does the prime minister think you have?</strong></p> <blockquote class=\"quoted\"> <p>We&apos;ve got a prime minister with a glass jaw and a thin skin.</p> </blockquote> <p><strong>Q: Will you increase the GST?</strong></p> <blockquote class=\"quoted\"> <p>More Labor lies on the GST. Labor in its desperation is just peddling more lies.</p> </blockquote>',\n",
       "       'bodyTextSummary': \"The Liberal leader is in a car yard in Launceston. Tony Abbott is campaigning in Tasmania today. Q: Does Peter Beattie make it hard for the Liberals to win the seat of Forde? Am I worried about Peter Beattie? Of course not. But I bet Kevin Rudd is. Q: Have you ever spoken to Rupert Murdoch about the national broadband network? Have I ever spoken to Rupert Murdoch about the NBN? No I haven't. No I haven't. Q: Have you spoken to any News Corp executives about the NBN? No I haven't. Q: Why does the prime minister think you have? We've got a prime minister with a glass jaw and a thin skin. Q: Will you increase the GST? More Labor lies on the GST. Labor in its desperation is just peddling more lies.\",\n",
       "       'contributors': [],\n",
       "       'createdBy': {'email': 'katharine.murphy@guardian.co.uk',\n",
       "        'firstName': 'Katharine',\n",
       "        'lastName': 'Murphy'},\n",
       "       'createdDate': '2013-08-08T01:40:02.334+01:00',\n",
       "       'firstPublishedDate': '2013-08-08T01:40:03.131+01:00',\n",
       "       'id': '5202e8e2e4b0f205203bb662',\n",
       "       'lastModifiedBy': {'email': 'katharine.murphy@guardian.co.uk',\n",
       "        'firstName': 'Katharine',\n",
       "        'lastName': 'Murphy'},\n",
       "       'lastModifiedDate': '2013-08-08T04:06:49.126+01:00',\n",
       "       'published': True,\n",
       "       'publishedDate': '2013-08-08T04:06:53.093+01:00',\n",
       "       'title': 'Tony Abbott takes questions from reporters in Launceston'},\n",
       "      {'attributes': {},\n",
       "       'bodyHtml': '<p>Morning <strong>Mike Bowers.</strong></p> <p>Mike has shared this fantastic panorama from <strong>inside the C17 taking Kevin Rudd&apos;s press pack to Brisbane for the Beattie announcement.</strong></p> <p>Mike, as I mentioned yesterday, is back for the campaign to resume our collaboration on Politics Live.</p>  <figure class=\"element element-tweet\" data-canonical-url=\"https://twitter.com/mpbowers/statuses/365260159292936192\">  <blockquote class=\"twitter-tweet\"><p>PM Rudd election campaign press gang C17 Sydney to Brisbane <a href=\"https://twitter.com/search?q=%23politicslive&amp;src=hash\">#politicslive</a> <a href=\"http://t.co/pw6JTcRRYn\">pic.twitter.com/pw6JTcRRYn</a></p>&mdash; Mike Bowers (@mpbowers) <a href=\"https://twitter.com/mpbowers/statuses/365260159292936192\">August 7, 2013</a></blockquote>  </figure>',\n",
       "       'bodyTextSummary': \"Morning Mike Bowers. Mike has shared this fantastic panorama from inside the C17 taking Kevin Rudd's press pack to Brisbane for the Beattie announcement. Mike, as I mentioned yesterday, is back for the campaign to resume our collaboration on Politics Live.\",\n",
       "       'contributors': [],\n",
       "       'createdBy': {'email': 'katharine.murphy@guardian.co.uk',\n",
       "        'firstName': 'Katharine',\n",
       "        'lastName': 'Murphy'},\n",
       "       'createdDate': '2013-08-08T01:29:18.511+01:00',\n",
       "       'firstPublishedDate': '2013-08-08T01:29:19.131+01:00',\n",
       "       'id': '5202e65ee4b04846eeb4e8d3',\n",
       "       'lastModifiedBy': {'email': 'katharine.murphy@guardian.co.uk',\n",
       "        'firstName': 'Katharine',\n",
       "        'lastName': 'Murphy'},\n",
       "       'lastModifiedDate': '2013-08-08T01:29:18.511+01:00',\n",
       "       'published': True,\n",
       "       'publishedDate': '2013-08-08T01:29:19.131+01:00'},\n",
       "      {'attributes': {},\n",
       "       'bodyHtml': '<p><strong>My colleague Paul Owen</strong> has been looking at the Labor video output that came in overnight. </p> <p>Kevin Rudd began the election campaign presenting himself as a positive figure in contrast the Coalition’s “<a href=\"http://www.smh.com.au/federal-politics/federal-election-2013/its-on-pm-names-day-for-the-fight-of-his-life-20130804-2r7nz.html\">wall-to-wall negativity</a>”.</p> <p>But <strong>two new Labor videos</strong> seem to give the lie to that strategy.</p> <p>In <a href=\"http://www.youtube.com/watch?v=Sj90Zcu1wqM\">one</a>, Penny Wong, Labor’s campaign spokeswoman, claims the “only way” the Coalition could afford to pay for their planned $5bn company tax cut would be to cut “health, education and services” or raising the goods and services tax (GST). She then contrasts Labor’s promise not to raise the GST with the Coalition’s slightly more measured “no plans to hike up the GST” (a Coalition press release yesterday said “<a href=\"http://www.theguardian.com/world/2013/aug/06/election-2013-childcare-companies-live#block-52017ba2e4b073d1a70c6a2c\">the Coalition has no plans whatsoever to change the GST</a>”) . Wong reads that as “it’s clear a GST increase is on the table under Tony Abbott – he just doesn’t want to tell you that before September 7th.”</p>  <figure class=\"element element-video\" data-canonical-url=\"http://www.youtube.com/watch?v=Sj90Zcu1wqM\"                                                                                                > <iframe width=\"460\" height=\"259\" src=\"http://www.youtube.com/embed/Sj90Zcu1wqM?wmode=opaque&feature=oembed\" frameborder=\"0\" allowfullscreen></iframe> </figure>  <p>A <a href=\"http://www.youtube.com/watch?v=IPeqi7yfcwE\">second advert</a> picks up yesterday’s Australian Financial Review article suggesting the Coalition might raise the GST, and not, of course, the Coalition’s subsequent denials, asking: “Trust Tony Abbott with the GST? Sure can’t.”</p>  <figure class=\"element element-video\" data-canonical-url=\"http://www.youtube.com/watch?v=IPeqi7yfcwE\"                                                                                                > <iframe width=\"460\" height=\"259\" src=\"http://www.youtube.com/embed/IPeqi7yfcwE?wmode=opaque&feature=oembed\" frameborder=\"0\" allowfullscreen></iframe> </figure>',\n",
       "       'bodyTextSummary': 'My colleague Paul Owen has been looking at the Labor video output that came in overnight. Kevin Rudd began the election campaign presenting himself as a positive figure in contrast the Coalition’s “wall-to-wall negativity”. But two new Labor videos seem to give the lie to that strategy. In one, Penny Wong, Labor’s campaign spokeswoman, claims the “only way” the Coalition could afford to pay for their planned $5bn company tax cut would be to cut “health, education and services” or raising the goods and services tax (GST). She then contrasts Labor’s promise not to raise the GST with the Coalition’s slightly more measured “no plans to hike up the GST” (a Coalition press release yesterday said “the Coalition has no plans whatsoever to change the GST”) . Wong reads that as “it’s clear a GST increase is on the table under Tony Abbott – he just doesn’t want to tell you that before September 7th.”\\nA second advert picks up yesterday’s Australian Financial Review article suggesting the Coalition might raise the GST, and not, of course, the Coalition’s subsequent denials, asking: “Trust Tony Abbott with the GST? Sure can’t.”',\n",
       "       'contributors': [],\n",
       "       'createdBy': {'email': 'paul.owen@guardian.co.uk',\n",
       "        'firstName': 'Paul',\n",
       "        'lastName': 'Owen'},\n",
       "       'createdDate': '2013-08-08T00:59:07.860+01:00',\n",
       "       'firstPublishedDate': '2013-08-08T01:15:50.129+01:00',\n",
       "       'id': '5202df4be4b01c89fee25845',\n",
       "       'lastModifiedBy': {'email': 'katharine.murphy@guardian.co.uk',\n",
       "        'firstName': 'Katharine',\n",
       "        'lastName': 'Murphy'},\n",
       "       'lastModifiedDate': '2013-08-08T01:15:49.360+01:00',\n",
       "       'published': True,\n",
       "       'publishedDate': '2013-08-08T01:15:50.129+01:00'},\n",
       "      {'attributes': {},\n",
       "       'bodyHtml': '<p>Let&apos;s leave Peter Beattie for a minute or two.</p> <p>There&apos;s a very interesting story today in The Australian Financial Review suggesting that <strong>the Coalition may not report boat arrivals as they happen.</strong></p> <p><a href=\"http://www.afr.com/p/national/coalition_may_not_release_asylum_xwgXUWahk9rwR3T8bkJSwK\">Phillip Coorey and John Kerin report</a> the shadow immigration minister Scott Morrison saying that any decision on keeping the public informed on the number of arrivals would be up to the three-star army general the Coalition would put in charge of border protection operations. “I would consider that an operational matter,’’ Mr Morrison said. “It is the type of issue on which you would take operational advice.’’</p> <p>Every time a new boat turns up Labor puts out a press release marking the arrival. This never used to happen. I&apos;ve actually wondered for some period of time why the government does it - not that I&apos;m complaining. As a journalist, I take the view that transparency and disclosure is in the public interest.</p> <p>But politically, why would you do it? Given how absurd the politics of asylum is in this country, it&apos;s like erecting a billboard to &apos;failure&apos; each and every time.</p> <p>Do other governments around the world do this?</p> <p>I would not be at all surprised if the Coalition switches this practice if it wins on September 7.</p> <p>I didn&apos;t want this story today to slip under the radar. It&apos;s interesting.</p>',\n",
       "       'bodyTextSummary': \"Let's leave Peter Beattie for a minute or two. There's a very interesting story today in The Australian Financial Review suggesting that the Coalition may not report boat arrivals as they happen. Phillip Coorey and John Kerin report the shadow immigration minister Scott Morrison saying that any decision on keeping the public informed on the number of arrivals would be up to the three-star army general the Coalition would put in charge of border protection operations. “I would consider that an operational matter,’’ Mr Morrison said. “It is the type of issue on which you would take operational advice.’’ Every time a new boat turns up Labor puts out a press release marking the arrival. This never used to happen. I've actually wondered for some period of time why the government does it - not that I'm complaining. As a journalist, I take the view that transparency and disclosure is in the public interest. But politically, why would you do it? Given how absurd the politics of asylum is in this country, it's like erecting a billboard to 'failure' each and every time. Do other governments around the world do this? I would not be at all surprised if the Coalition switches this practice if it wins on September 7. I didn't want this story today to slip under the radar. It's interesting.\",\n",
       "       'contributors': [],\n",
       "       'createdBy': {'email': 'katharine.murphy@guardian.co.uk',\n",
       "        'firstName': 'Katharine',\n",
       "        'lastName': 'Murphy'},\n",
       "       'createdDate': '2013-08-08T01:08:42.033+01:00',\n",
       "       'firstPublishedDate': '2013-08-08T01:08:42.663+01:00',\n",
       "       'id': '5202e18ae4b04846eeb4e8d2',\n",
       "       'lastModifiedBy': {'email': 'katharine.murphy@guardian.co.uk',\n",
       "        'firstName': 'Katharine',\n",
       "        'lastName': 'Murphy'},\n",
       "       'lastModifiedDate': '2013-08-08T01:08:42.033+01:00',\n",
       "       'published': True,\n",
       "       'publishedDate': '2013-08-08T01:08:42.663+01:00'},\n",
       "      {'attributes': {},\n",
       "       'bodyHtml': '<p>While we are on pollsters, the <strong>Liberal Party&apos;s pollster, Mark Textor</strong> sees the Beattie move as a sign of weakness, not of strength.</p>  <figure class=\"element element-tweet\" data-canonical-url=\"https://twitter.com/markatextor/statuses/365257593033207808\">  <blockquote class=\"twitter-tweet\"><p>Labor&#39;s numbers must have been bad in Queensland too .. hence the stunt</p>&mdash; Mark Textor (@markatextor) <a href=\"https://twitter.com/markatextor/statuses/365257593033207808\">August 7, 2013</a></blockquote>  </figure>',\n",
       "       'bodyTextSummary': \"While we are on pollsters, the Liberal Party's pollster, Mark Textor sees the Beattie move as a sign of weakness, not of strength.\",\n",
       "       'contributors': [],\n",
       "       'createdBy': {'email': 'katharine.murphy@guardian.co.uk',\n",
       "        'firstName': 'Katharine',\n",
       "        'lastName': 'Murphy'},\n",
       "       'createdDate': '2013-08-08T00:51:17.569+01:00',\n",
       "       'firstPublishedDate': '2013-08-08T00:51:18.030+01:00',\n",
       "       'id': '5202dd75e4b0f205203bb661',\n",
       "       'lastModifiedBy': {'email': 'katharine.murphy@guardian.co.uk',\n",
       "        'firstName': 'Katharine',\n",
       "        'lastName': 'Murphy'},\n",
       "       'lastModifiedDate': '2013-08-08T00:51:17.569+01:00',\n",
       "       'published': True,\n",
       "       'publishedDate': '2013-08-08T00:51:18.030+01:00'},\n",
       "      {'attributes': {},\n",
       "       'bodyHtml': '<p>Good morning all. <strong>It&apos;s Katharine Murphy taking over now from Paul.</strong></p> <p>Welcome to our coverage of day four of election 2013.</p> <p>Peter Beattie huh? <strong>Scott Steel,</strong> a polling expert who masquerades as a pok pie hat wearing marsupial on social media and on <strong>Crikey</strong>, is interested in the ALP&apos;s strategic move in the seat of Forde.</p>  <figure class=\"element element-tweet\" data-canonical-url=\"https://twitter.com/Pollytics/statuses/365253553712951296\">  <blockquote class=\"twitter-tweet\"><p>Interesting too, that Forde is the southern anchor of ALP&#39;s greater Brisbane political support triangle <a href=\"http://t.co/X8e29WRJ3F\">pic.twitter.com/X8e29WRJ3F</a></p>&mdash; Possum Comitatus (@Pollytics) <a href=\"https://twitter.com/Pollytics/statuses/365253553712951296\">August 7, 2013</a></blockquote>  </figure>  <p>Both Scott and I are of the view that the nerve centre of Labor&apos;s campaign this time is Queensland.</p> <p>Labor&apos;s plan in this federal campaign is to gain seats in Queensland to offset losses elsewhere.</p> <p>Scott&apos;s visual here is interesting.</p>',\n",
       "       'bodyTextSummary': \"Good morning all. It's Katharine Murphy taking over now from Paul. Welcome to our coverage of day four of election 2013. Peter Beattie huh? Scott Steel, a polling expert who masquerades as a pok pie hat wearing marsupial on social media and on Crikey, is interested in the ALP's strategic move in the seat of Forde.\\nBoth Scott and I are of the view that the nerve centre of Labor's campaign this time is Queensland. Labor's plan in this federal campaign is to gain seats in Queensland to offset losses elsewhere. Scott's visual here is interesting.\",\n",
       "       'contributors': [],\n",
       "       'createdBy': {'email': 'katharine.murphy@guardian.co.uk',\n",
       "        'firstName': 'Katharine',\n",
       "        'lastName': 'Murphy'},\n",
       "       'createdDate': '2013-08-08T00:49:08.433+01:00',\n",
       "       'firstPublishedDate': '2013-08-08T00:49:08.914+01:00',\n",
       "       'id': '5202dcf4e4b04846eeb4e8d1',\n",
       "       'lastModifiedBy': {'email': 'katharine.murphy@guardian.co.uk',\n",
       "        'firstName': 'Katharine',\n",
       "        'lastName': 'Murphy'},\n",
       "       'lastModifiedDate': '2013-08-08T00:49:08.433+01:00',\n",
       "       'published': True,\n",
       "       'publishedDate': '2013-08-08T00:49:08.914+01:00'},\n",
       "      {'attributes': {},\n",
       "       'bodyHtml': '<p>Chris Bowen, the Treasurer, has been speaking about <strong>Peter Beattie</strong>&apos;s potential return to high-level politics:</p> <blockquote class=\"quoted\"> <p>Peter does bring I think a very great addition. Of course, Kevin being from Queensland, the prime minister being from Queensland ... is a wonderful thing. </p> </blockquote> <p>Beattie would add to that, he said.</p> <p>Has he been parachuted in?</p> <blockquote class=\"quoted\"> <p>We&apos;ll leave others to talk about the details of his position.</p> </blockquote> <p>Bowen compared Beattie to Bob Carr, the former New South Wales premier who is now foreign affairs minister – suggesting that Beattie might take up a ministerial post if he, and Labor, were elected on 7 September.</p>',\n",
       "       'bodyTextSummary': \"Chris Bowen, the Treasurer, has been speaking about Peter Beattie's potential return to high-level politics: Peter does bring I think a very great addition. Of course, Kevin being from Queensland, the prime minister being from Queensland ... is a wonderful thing. Beattie would add to that, he said. Has he been parachuted in? We'll leave others to talk about the details of his position. Bowen compared Beattie to Bob Carr, the former New South Wales premier who is now foreign affairs minister – suggesting that Beattie might take up a ministerial post if he, and Labor, were elected on 7 September.\",\n",
       "       'contributors': [],\n",
       "       'createdBy': {'email': 'paul.owen@guardian.co.uk',\n",
       "        'firstName': 'Paul',\n",
       "        'lastName': 'Owen'},\n",
       "       'createdDate': '2013-08-08T00:27:37.597+01:00',\n",
       "       'firstPublishedDate': '2013-08-08T00:27:38.034+01:00',\n",
       "       'id': '5202d7e9e4b04846eeb4e8d0',\n",
       "       'lastModifiedBy': {'email': 'paul.owen@guardian.co.uk',\n",
       "        'firstName': 'Paul',\n",
       "        'lastName': 'Owen'},\n",
       "       'lastModifiedDate': '2013-08-08T00:27:37.597+01:00',\n",
       "       'published': True,\n",
       "       'publishedDate': '2013-08-08T00:27:38.034+01:00'},\n",
       "      {'attributes': {},\n",
       "       'bodyHtml': '<p>Former Queensland treasurer Terry Mackenroth has said\\xa0<strong>Peter Beattie</strong>&apos;s apparent decision to run as a candidate in the seat of Forde at the election will boost Labor&apos;s chances:</p> <blockquote class=\"quoted\"> <p>I think people still think Peter Beattie did a pretty good job as premier of Queensland. I&apos;m certain when people decide who they&apos;re going to vote for, they&apos;ll look at the job he did and that will help him.</p> </blockquote> <p>Many commentators are noting that Beattie <a href=\"http://www.news.com.au/breaking-news/peter-beattie-denies-rumours-he-wants-to-replace-kevin-rudd-as-member-for-griffith/story-e6frfkp9-1226078825556#ixzz2bKQuM7Ld\">has said previously</a> about the prospect of his re-entering national politics:</p> <blockquote class=\"quoted\"> <p>There would be a state funeral if I tried to go back into politics: mine. Heather [his wife] would kill me.</p> </blockquote>',\n",
       "       'bodyTextSummary': \"Former Queensland treasurer Terry Mackenroth has said\\xa0Peter Beattie's apparent decision to run as a candidate in the seat of Forde at the election will boost Labor's chances: I think people still think Peter Beattie did a pretty good job as premier of Queensland. I'm certain when people decide who they're going to vote for, they'll look at the job he did and that will help him. Many commentators are noting that Beattie has said previously about the prospect of his re-entering national politics: There would be a state funeral if I tried to go back into politics: mine. Heather [his wife] would kill me.\",\n",
       "       'contributors': [],\n",
       "       'createdBy': {'email': 'paul.owen@guardian.co.uk',\n",
       "        'firstName': 'Paul',\n",
       "        'lastName': 'Owen'},\n",
       "       'createdDate': '2013-08-08T00:22:46.540+01:00',\n",
       "       'firstPublishedDate': '2013-08-08T00:22:46.934+01:00',\n",
       "       'id': '5202d6c6e4b04846eeb4e8cf',\n",
       "       'lastModifiedBy': {'email': 'paul.owen@guardian.co.uk',\n",
       "        'firstName': 'Paul',\n",
       "        'lastName': 'Owen'},\n",
       "       'lastModifiedDate': '2013-08-08T00:22:46.540+01:00',\n",
       "       'published': True,\n",
       "       'publishedDate': '2013-08-08T00:22:46.934+01:00'},\n",
       "      {'attributes': {},\n",
       "       'bodyHtml': '<p><strong>Tony Abbott</strong> is speaking in Bass, Tasmania, right now.</p> <p>The Coalition leader says Tasmania has been a &quot;laboratory&quot; for &quot;Labor-Green&quot; rule. Notwithstanding a great and creative people, notwithstanding so much going for it, Tasmania has the highest unemployment in Australia, the lowest average weekly earnings and the lowest life expectancy. That must change, he says, to subdued applause.</p> <blockquote class=\"quoted\"> <p>The last thing we need is another three years like the last six.</p> </blockquote> <p>He says he has a plan for Australia and a plan for Tasmania, &quot;and doesn&apos;t Tasmania need a positive plan at a time like this&quot;. </p>',\n",
       "       'bodyTextSummary': 'Tony Abbott is speaking in Bass, Tasmania, right now. The Coalition leader says Tasmania has been a \"laboratory\" for \"Labor-Green\" rule. Notwithstanding a great and creative people, notwithstanding so much going for it, Tasmania has the highest unemployment in Australia, the lowest average weekly earnings and the lowest life expectancy. That must change, he says, to subdued applause. The last thing we need is another three years like the last six. He says he has a plan for Australia and a plan for Tasmania, \"and doesn\\'t Tasmania need a positive plan at a time like this\".',\n",
       "       'contributors': [],\n",
       "       'createdBy': {'email': 'paul.owen@guardian.co.uk',\n",
       "        'firstName': 'Paul',\n",
       "        'lastName': 'Owen'},\n",
       "       'createdDate': '2013-08-08T00:16:01.912+01:00',\n",
       "       'firstPublishedDate': '2013-08-08T00:16:02.329+01:00',\n",
       "       'id': '5202d531e4b04846eeb4e8ce',\n",
       "       'lastModifiedBy': {'email': 'paul.owen@guardian.co.uk',\n",
       "        'firstName': 'Paul',\n",
       "        'lastName': 'Owen'},\n",
       "       'lastModifiedDate': '2013-08-08T00:16:01.912+01:00',\n",
       "       'published': True,\n",
       "       'publishedDate': '2013-08-08T00:16:02.329+01:00'},\n",
       "      {'attributes': {},\n",
       "       'bodyHtml': '<p>Kevin Rudd is believed to be flying to Brisbane this morning to announce <strong>Peter Beattie</strong>&apos;s candidacy, the AAP news agency reports.</p> <blockquote class=\"quoted\"> <p>Des Hardman had been preselected for the seat, but he now looks like being disendorsed in favour of Mr Beattie.</p> <p>Forde is currently held by the Liberal National Party&apos;s Bert Van Manen.</p> <p>Trade minister Richard Marles says it&apos;s very exciting news.</p> <p>&quot;Peter Beattie is one of the most formidable politicians that Labor has in this country,&quot; he told Sky News.</p> <p>&quot;In a seat like Forde he&apos;s going to make a real difference.&quot;</p> <p>He said Labor party members around the country would be heartened by the news of Mr Beattie&apos;s candidacy.</p> <p>&quot;What it says is that Australia&apos;s leading Labor figures absolutely believe in the Rudd government, believe that we will win this election and are going to want to make a contribution,&quot; he said.</p> <p>Victorian Liberal backbencher Kelly O&apos;Dwyer said Queensland voters had already cast their judgment on Mr Beattie&apos;s government.</p> <p>&quot;He was a wrecker of the Queensland economy,&quot; she told Sky News.</p> <p>&quot;It just goes to show that Labor with their recycling of these former premiers - whether it&apos;s Peter Beattie in Queensland, whether it&apos;s Bob Carr in NSW - they have no new ideas for this country.&quot;</p> </blockquote>',\n",
       "       'bodyTextSummary': 'Kevin Rudd is believed to be flying to Brisbane this morning to announce Peter Beattie\\'s candidacy, the AAP news agency reports. Des Hardman had been preselected for the seat, but he now looks like being disendorsed in favour of Mr Beattie. Forde is currently held by the Liberal National Party\\'s Bert Van Manen. Trade minister Richard Marles says it\\'s very exciting news. \"Peter Beattie is one of the most formidable politicians that Labor has in this country,\" he told Sky News. \"In a seat like Forde he\\'s going to make a real difference.\" He said Labor party members around the country would be heartened by the news of Mr Beattie\\'s candidacy. \"What it says is that Australia\\'s leading Labor figures absolutely believe in the Rudd government, believe that we will win this election and are going to want to make a contribution,\" he said. Victorian Liberal backbencher Kelly O\\'Dwyer said Queensland voters had already cast their judgment on Mr Beattie\\'s government. \"He was a wrecker of the Queensland economy,\" she told Sky News. \"It just goes to show that Labor with their recycling of these former premiers - whether it\\'s Peter Beattie in Queensland, whether it\\'s Bob Carr in NSW - they have no new ideas for this country.\"',\n",
       "       'contributors': [],\n",
       "       'createdBy': {'email': 'paul.owen@guardian.co.uk',\n",
       "        'firstName': 'Paul',\n",
       "        'lastName': 'Owen'},\n",
       "       'createdDate': '2013-08-08T00:03:04.996+01:00',\n",
       "       'firstPublishedDate': '2013-08-08T00:03:05.453+01:00',\n",
       "       'id': '5202d228e4b0f205203bb660',\n",
       "       'lastModifiedBy': {'email': 'paul.owen@guardian.co.uk',\n",
       "        'firstName': 'Paul',\n",
       "        'lastName': 'Owen'},\n",
       "       'lastModifiedDate': '2013-08-08T00:03:14.027+01:00',\n",
       "       'published': True,\n",
       "       'publishedDate': '2013-08-08T00:03:14.426+01:00'},\n",
       "      {'attributes': {},\n",
       "       'bodyHtml': '<p>There is a lot of response on Twitter to the ABC&apos;s story that former Queensland Peter Beattie is coming back to replace Des Hardman in the Queensland seat of Forde.</p>  <figure class=\"element element-tweet\" data-canonical-url=\"https://twitter.com/woodybentleigh/statuses/365243658758402052\">  <blockquote class=\"twitter-tweet\"><p><a href=\"https://twitter.com/search?q=%23ausvotes&amp;src=hash\">#ausvotes</a> ABC seem thrilled with Beattie&#39;s return. May be a good idea to ask a few Queenslander&#39;s about his woeful track record with their $</p>&mdash; WoodyBentleigh (@woodybentleigh) <a href=\"https://twitter.com/woodybentleigh/statuses/365243658758402052\">August 7, 2013</a></blockquote>  </figure>  <figure class=\"element element-tweet\" data-canonical-url=\"https://twitter.com/news_watcher1/statuses/365242105922207745\">  <blockquote class=\"twitter-tweet\"><p><a href=\"https://twitter.com/mark_perry309\">@mark_perry309</a> <a href=\"https://twitter.com/7NewsBrisbane\">@7NewsBrisbane</a> As a political observer, I think the <a href=\"https://twitter.com/search?q=%23ALP&amp;src=hash\">#ALP</a> has pushed the panic button re getting Beattie back on stage.</p>&mdash; David (@news_watcher1) <a href=\"https://twitter.com/news_watcher1/statuses/365242105922207745\">August 7, 2013</a></blockquote>  </figure>  <figure class=\"element element-tweet\" data-canonical-url=\"https://twitter.com/JoshuaWithers/statuses/365243848542265344\">  <blockquote class=\"twitter-tweet\"><p>It&#39;s officially the 90s. Beattie, Agro and Angry Anderson, all back in one hit. And now I get to sit in a plane for 6 hours thinking of gags</p>&mdash; Josh Withers (@JoshuaWithers) <a href=\"https://twitter.com/JoshuaWithers/statuses/365243848542265344\">August 7, 2013</a></blockquote>  </figure>  <figure class=\"element element-tweet\" data-canonical-url=\"https://twitter.com/JanBowQLD/statuses/365243799632490497\">  <blockquote class=\"twitter-tweet\"><p>Is there room for Kevin Rudd &amp; Peter Beattie in Federal ALP? <a href=\"https://twitter.com/RNBreakfast\">@RNBreakfast</a> speculating Beattie cld be a leadership challenger down the track</p>&mdash; Jan Bowman (@JanBowQLD) <a href=\"https://twitter.com/JanBowQLD/statuses/365243799632490497\">August 7, 2013</a></blockquote>  </figure>  <figure class=\"element element-tweet\" data-canonical-url=\"https://twitter.com/bennpackham/statuses/365243764324831232\">  <blockquote class=\"twitter-tweet\"><p>Will Beattie be content as a mere minister?</p>&mdash; Ben Packham (@bennpackham) <a href=\"https://twitter.com/bennpackham/statuses/365243764324831232\">August 7, 2013</a></blockquote>  </figure>',\n",
       "       'bodyTextSummary': \"There is a lot of response on Twitter to the ABC's story that former Queensland Peter Beattie is coming back to replace Des Hardman in the Queensland seat of Forde.\",\n",
       "       'contributors': [],\n",
       "       'createdBy': {'email': 'paul.owen@guardian.co.uk',\n",
       "        'firstName': 'Paul',\n",
       "        'lastName': 'Owen'},\n",
       "       'createdDate': '2013-08-07T23:55:24.250+01:00',\n",
       "       'firstPublishedDate': '2013-08-07T23:55:24.792+01:00',\n",
       "       'id': '5202d05ce4b0f205203bb65f',\n",
       "       'lastModifiedBy': {'email': 'paul.owen@guardian.co.uk',\n",
       "        'firstName': 'Paul',\n",
       "        'lastName': 'Owen'},\n",
       "       'lastModifiedDate': '2013-08-07T23:55:24.250+01:00',\n",
       "       'published': True,\n",
       "       'publishedDate': '2013-08-07T23:55:24.792+01:00'},\n",
       "      {'attributes': {},\n",
       "       'bodyHtml': '<p><strong>Julian Assange</strong>, the WikiLeaks founder who is running for the Australian Senate with his WikiLeaks party, is quoted by the Sydney Morning Herald today presenting himself as just an ordinary guy:</p> <blockquote class=\"quoted\"> <p>I understand what it&apos;s like to be a father, to start small businesses, to have problems of many different kinds. So I think Australians can relate to that sort of character. Even though I am in a very unusual position, I have had the life experiences that many Australians have had.</p> </blockquote> <p>Assange is holed up in the Ecuadorian embassy in London to avoid extradition to Sweden to face sexual assault allegations. He fears he will be deported to the US to face trial for WikiLeaks&apos;s publication of state secrets if he goes to Sweden. </p> <p>The Senate bid seems based on the idea that the UK and/or Sweden would be less likely to extradite a sitting politician.</p>  <figure class=\"element element-image\" data-media-id=\"gu-fc-6816ca83-8974-4ee5-8714-f880f0580388\"> <img src=\"http://static.guim.co.uk/sys-images/Guardian/About/General/2013/7/30/1375225143008/-Julian-Assange--010.jpg\" alt=\" Julian Assange \" width=\"460\" height=\"276\" class=\"gu-image\" /> <figcaption> <span class=\"element-image__caption\">Julian Assange. Photograph: Juan Passarelli/AP</span> </figcaption> </figure>',\n",
       "       'bodyTextSummary': \"Julian Assange, the WikiLeaks founder who is running for the Australian Senate with his WikiLeaks party, is quoted by the Sydney Morning Herald today presenting himself as just an ordinary guy: I understand what it's like to be a father, to start small businesses, to have problems of many different kinds. So I think Australians can relate to that sort of character. Even though I am in a very unusual position, I have had the life experiences that many Australians have had. Assange is holed up in the Ecuadorian embassy in London to avoid extradition to Sweden to face sexual assault allegations. He fears he will be deported to the US to face trial for WikiLeaks's publication of state secrets if he goes to Sweden. The Senate bid seems based on the idea that the UK and/or Sweden would be less likely to extradite a sitting politician.\",\n",
       "       'contributors': [],\n",
       "       'createdBy': {'email': 'paul.owen@guardian.co.uk',\n",
       "        'firstName': 'Paul',\n",
       "        'lastName': 'Owen'},\n",
       "       'createdDate': '2013-08-07T23:43:04.065+01:00',\n",
       "       'firstPublishedDate': '2013-08-07T23:43:04.501+01:00',\n",
       "       'id': '5202cd78e4b04846eeb4e8cd',\n",
       "       'lastModifiedBy': {'email': 'paul.owen@guardian.co.uk',\n",
       "        'firstName': 'Paul',\n",
       "        'lastName': 'Owen'},\n",
       "       'lastModifiedDate': '2013-08-07T23:43:04.065+01:00',\n",
       "       'published': True,\n",
       "       'publishedDate': '2013-08-07T23:43:04.501+01:00'},\n",
       "      {'attributes': {},\n",
       "       'bodyHtml': '<p>A rather mournful campaign update from shadow communications minister <strong>Malcolm Turnbull</strong>:</p>  <figure class=\"element element-tweet\" data-canonical-url=\"https://twitter.com/TurnbullMalcolm/statuses/365237959693320192\">  <blockquote class=\"twitter-tweet\"><p>changed at central onto Lithgow train. Only 2 stops to Parramatta. Mortuary station looking esp sad in the rain. <a href=\"http://t.co/eYIKVZ1UB3\">pic.twitter.com/eYIKVZ1UB3</a></p>&mdash; Malcolm Turnbull (@TurnbullMalcolm) <a href=\"https://twitter.com/TurnbullMalcolm/statuses/365237959693320192\">August 7, 2013</a></blockquote>  </figure>',\n",
       "       'bodyTextSummary': 'A rather mournful campaign update from shadow communications minister Malcolm Turnbull:',\n",
       "       'contributors': [],\n",
       "       'createdBy': {'email': 'paul.owen@guardian.co.uk',\n",
       "        'firstName': 'Paul',\n",
       "        'lastName': 'Owen'},\n",
       "       'createdDate': '2013-08-07T23:33:08.325+01:00',\n",
       "       'firstPublishedDate': '2013-08-07T23:33:08.728+01:00',\n",
       "       'id': '5202cb24e4b04846eeb4e8cc',\n",
       "       'lastModifiedBy': {'email': 'paul.owen@guardian.co.uk',\n",
       "        'firstName': 'Paul',\n",
       "        'lastName': 'Owen'},\n",
       "       'lastModifiedDate': '2013-08-07T23:33:19.905+01:00',\n",
       "       'published': True,\n",
       "       'publishedDate': '2013-08-07T23:33:20.308+01:00'},\n",
       "      {'attributes': {},\n",
       "       'bodyHtml': '<p>ABC has this breaking news:</p>  <figure class=\"element element-tweet\" data-canonical-url=\"https://twitter.com/abcnews/statuses/365236343384707073\">  <blockquote class=\"twitter-tweet\"><p><a href=\"https://twitter.com/search?q=%23BREAKING&amp;src=hash\">#BREAKING</a> Former Qld Premier Peter Beattie has been selected by federal Labor to replace candidate Des Hardman in the seat of Forde</p>&mdash; ABC News (@abcnews) <a href=\"https://twitter.com/abcnews/statuses/365236343384707073\">August 7, 2013</a></blockquote>  </figure>',\n",
       "       'bodyTextSummary': 'ABC has this breaking news:',\n",
       "       'contributors': [],\n",
       "       'createdBy': {'email': 'paul.owen@guardian.co.uk',\n",
       "        'firstName': 'Paul',\n",
       "        'lastName': 'Owen'},\n",
       "       'createdDate': '2013-08-07T23:31:58.977+01:00',\n",
       "       'firstPublishedDate': '2013-08-07T23:31:59.410+01:00',\n",
       "       'id': '5202cadee4b04846eeb4e8cb',\n",
       "       'lastModifiedBy': {'email': 'paul.owen@guardian.co.uk',\n",
       "        'firstName': 'Paul',\n",
       "        'lastName': 'Owen'},\n",
       "       'lastModifiedDate': '2013-08-07T23:31:58.977+01:00',\n",
       "       'published': True,\n",
       "       'publishedDate': '2013-08-07T23:31:59.410+01:00'},\n",
       "      {'attributes': {},\n",
       "       'bodyHtml': '<p><strong>Joe Hockey</strong>, the Coalition&apos;s Treasury spokesman, was speaking at Eid celebrations at Lakemba mosque this morning.</p> <p>Hockey played up his Palestinian heritage and said that if the coalition won it would be the first time an Arab-Australian had taken a senior leadership role in the government.</p> <p>Hockey&apos;s father was born in Bethlehem in the West Bank and emigrated to Australia in 1948. His mother&apos;s family is Armenian. Hockey&apos;s family name was original Hokeidonian.</p> <p>The mosque, in Lakemba, New South Wales, is mostly used by the Lebanese community.</p>',\n",
       "       'bodyTextSummary': \"Joe Hockey, the Coalition's Treasury spokesman, was speaking at Eid celebrations at Lakemba mosque this morning. Hockey played up his Palestinian heritage and said that if the coalition won it would be the first time an Arab-Australian had taken a senior leadership role in the government. Hockey's father was born in Bethlehem in the West Bank and emigrated to Australia in 1948. His mother's family is Armenian. Hockey's family name was original Hokeidonian. The mosque, in Lakemba, New South Wales, is mostly used by the Lebanese community.\",\n",
       "       'contributors': [],\n",
       "       'createdBy': {'email': 'paul.owen@guardian.co.uk',\n",
       "        'firstName': 'Paul',\n",
       "        'lastName': 'Owen'},\n",
       "       'createdDate': '2013-08-07T23:28:20.757+01:00',\n",
       "       'firstPublishedDate': '2013-08-07T23:28:21.147+01:00',\n",
       "       'id': '5202ca04e4b04846eeb4e8ca',\n",
       "       'lastModifiedBy': {'email': 'paul.owen@guardian.co.uk',\n",
       "        'firstName': 'Paul',\n",
       "        'lastName': 'Owen'},\n",
       "       'lastModifiedDate': '2013-08-07T23:34:24.723+01:00',\n",
       "       'published': True,\n",
       "       'publishedDate': '2013-08-07T23:34:25.102+01:00'},\n",
       "      {'attributes': {},\n",
       "       'bodyHtml': '<figure class=\"element element-video\" data-canonical-url=\"http://www.theguardian.com/world/video/2013/aug/08/rudd-on-murdoch-nbn-video\"                                        data-show-ads=\"true\"                data-video-id=\"1947847\"                data-video-name=\"Kevin rudd on 7:30: Murdoch and the NBN - video\"                data-video-provider=\"ABC2 Australia\"                data-video-poster=\"http://static.guim.co.uk/sys-images/Guardian/Pix/pictures/2013/8/8/1375922818486/Kevin-Rudd-on-730-016.jpg\"> <video data-media-id=\"gu-video-414577899\" class=\"gu-video\" controls=\"controls\" poster=\"http://static.guim.co.uk/sys-images/Guardian/Pix/pictures/2013/8/8/1375922818486/Kevin-Rudd-on-730-016.jpg\"> <source src=\"http://cdn.theguardian.tv/mainwebsite/2013/8/8/130808seven30_FromGAus-16x9.mp4\"></source><source src=\"http://cdn.theguardian.tv/3gp/small/2013/8/8/130808seven30_FromGAus_3gpSml16x9.3gp\"></source><source src=\"http://cdn.theguardian.tv/3gp/large/2013/8/8/130808seven30_FromGAus_3gpLg16x9.3gp\"></source><source src=\"http://cdn.theguardian.tv/ad/2013/8/8/130808seven30_FromGAus/130808seven30_FromGAus.m3u8\"></source> </video> <figcaption>Speaking on the ABC\\'s 7.30 report Wednesday night, Kevin Rudd said it was the \\'democratic right\\' of News Corp chairman Rupert Murdoch to call for his removal</figcaption> </figure>  <p><strong><a href=\"http://www.theguardian.com/world/kevin-rudd\">Kevin Rudd</a> </strong>has pointed to the <a href=\"http://www.theguardian.com/world/coalition\">Coalition</a>&apos;s broadband policy launch at Fox Studios as further evidence the possible commercial motivations of anti-Labor editorials in some News Corporation papers needed to be investigated, <a href=\"http://www.theguardian.com/world/2013/aug/07/kevin-rudd-rupert-murdoch-tony-abbott\">reports <strong>Lenore Taylor</strong></a>.</p> <blockquote class=\"quoted\"> <p>Speaking on the ABC&apos;s 7.30 report Wednesday night, Rudd said it was the &quot;democratic right&quot; of News Corp chairman <a href=\"http://www.theguardian.com/media/rupert-murdoch\">Rupert Murdoch</a> to call for his removal as the prime minister and for News Corp papers to editorialise against him, as The Daily Telegraph did with its front page headline on Monday &quot;Finally you have the chance to Kick This Mob Out&quot;.</p> <p>But he added: &quot;The question I posed through this is simple as follows: what is underneath all this? Is it to do with the national broadband network representing a commercial threat to Foxtel? I&apos;ve seen some commentary on that and I&apos;ve only just been looking back on the files today and discovered that in fact Mr Abbott&apos;s NBN policy was launched at the Fox Studios here in Sydney. I would like to hear some answers as to what discussions Mr Abbott may have had with Mr Murdoch on the future of Australia&apos;s national broadband network.&quot;</p> </blockquote>  <figure class=\"element element-image\" data-media-id=\"gu-fc-36e49442-9ad1-4dc2-a6e3-2347fbfff8cb\"> <img src=\"http://static.guim.co.uk/sys-images/Guardian/Pix/pictures/2013/8/7/1375913847356/4aac66a6-c29c-4924-b105-913f51141f81-460x276.jpeg\" alt=\"Kevin Rudd leaves the ABC studios in Sydney after his appearance on the 7.30 report on the evening of Wedesday 7 August 2013. Photograph by Mike Bowers\" width=\"460\" height=\"276\" class=\"gu-image\" /> <figcaption> <span class=\"element-image__caption\">Kevin Rudd leaves the ABC studios in Sydney after his appearance on the 7.30 report on the evening of Wednesday 7 August 2013. Photograph by <a href=\"http://www.theglobalmail.org/\">Mike Bowers/TGM</a></span> </figcaption> </figure>',\n",
       "       'bodyTextSummary': 'Kevin Rudd has pointed to the Coalition\\'s broadband policy launch at Fox Studios as further evidence the possible commercial motivations of anti-Labor editorials in some News Corporation papers needed to be investigated, reports Lenore Taylor. Speaking on the ABC\\'s 7.30 report Wednesday night, Rudd said it was the \"democratic right\" of News Corp chairman Rupert Murdoch to call for his removal as the prime minister and for News Corp papers to editorialise against him, as The Daily Telegraph did with its front page headline on Monday \"Finally you have the chance to Kick This Mob Out\". But he added: \"The question I posed through this is simple as follows: what is underneath all this? Is it to do with the national broadband network representing a commercial threat to Foxtel? I\\'ve seen some commentary on that and I\\'ve only just been looking back on the files today and discovered that in fact Mr Abbott\\'s NBN policy was launched at the Fox Studios here in Sydney. I would like to hear some answers as to what discussions Mr Abbott may have had with Mr Murdoch on the future of Australia\\'s national broadband network.\"',\n",
       "       'contributors': [],\n",
       "       'createdBy': {'email': 'paul.owen@guardian.co.uk',\n",
       "        'firstName': 'Paul',\n",
       "        'lastName': 'Owen'},\n",
       "       'createdDate': '2013-08-07T23:12:59.334+01:00',\n",
       "       'firstPublishedDate': '2013-08-07T23:12:59.709+01:00',\n",
       "       'id': '5202c66be4b04846eeb4e8c9',\n",
       "       'lastModifiedBy': {'email': 'paul.owen@guardian.co.uk',\n",
       "        'firstName': 'Paul',\n",
       "        'lastName': 'Owen'},\n",
       "       'lastModifiedDate': '2013-08-08T02:59:29.477+01:00',\n",
       "       'published': True,\n",
       "       'publishedDate': '2013-08-08T02:59:30.340+01:00'},\n",
       "      {'attributes': {},\n",
       "       'bodyHtml': '<p>The <a href=\"http://resources3.news.com.au/images/2013/08/08/1226693/183687-thommos-heroes.jpg\">Daily Telegraph&apos;s front page this morning has mocked up</a> Labor&apos;s Kevin Rudd, Anthony Albanese and Craig Thomson as the cast of 1960s TV comedy <strong>Hogan&apos;s Heroes</strong>. Rudd&apos;s daughter is impressed:</p>  <figure class=\"element element-tweet\" data-canonical-url=\"https://twitter.com/Jess_Rudd/statuses/365230239955161088\">  <blockquote class=\"twitter-tweet\"><p>Thanks to the Daily Tele, my long held belief has been confirmed: Dad would rock a monocle.</p>&mdash; Jessica Rudd (@Jess_Rudd) <a href=\"https://twitter.com/Jess_Rudd/statuses/365230239955161088\">August 7, 2013</a></blockquote>  </figure>',\n",
       "       'bodyTextSummary': \"The Daily Telegraph's front page this morning has mocked up Labor's Kevin Rudd, Anthony Albanese and Craig Thomson as the cast of 1960s TV comedy Hogan's Heroes. Rudd's daughter is impressed:\",\n",
       "       'contributors': [],\n",
       "       'createdBy': {'email': 'paul.owen@guardian.co.uk',\n",
       "        'firstName': 'Paul',\n",
       "        'lastName': 'Owen'},\n",
       "       'createdDate': '2013-08-07T23:10:20.388+01:00',\n",
       "       'firstPublishedDate': '2013-08-07T23:10:20.768+01:00',\n",
       "       'id': '5202c5cce4b04846eeb4e8c8',\n",
       "       'lastModifiedBy': {'email': 'paul.owen@guardian.co.uk',\n",
       "        'firstName': 'Paul',\n",
       "        'lastName': 'Owen'},\n",
       "       'lastModifiedDate': '2013-08-07T23:33:41.224+01:00',\n",
       "       'published': True,\n",
       "       'publishedDate': '2013-08-07T23:33:41.630+01:00'},\n",
       "      {'attributes': {},\n",
       "       'bodyHtml': '<p>Good morning and welcome to today’s election live blog. This is Paul Owen kicking the blog off this morning; Katharine Murphy will take over in a short while.</p> <p><strong>Kevin Rudd</strong> is expected to spend a second day in Sydney today, illustrating the importance of Australia’s biggest city to Labor’s chances, before moving on, it is thought, to Melbourne, while <strong>Tony Abbott</strong> will be in Tasmania, and, according to Sky News, discussing the economy asylum seekers.</p> <p>Abbott’s planned $5bn company tax cut and the continued controversy over Labor’s policy of resettling asylum seekers on Papua New Guinea or Nauru instead of Australia may continue to dominate the campaign, but the monthly unemployment figures are also out today, and are expected to show a rise to a four-year high as hiring in the mining sector slows down.</p> <p>The AAP news agency surveyed 11 economists and put their median forecast at 5.8%, up from 5.7% in June. If this prediction is borne out, it will mean Australia has its highest unemployment rate since August 2009.</p> <p><a href=\"http://www.dailytelegraph.com.au/business/worklife/gen-y-in-grip-of-unemployment-crisis-as-jobless-rate-soars-centrelink-data-reveals/story-fni0d8zj-1226693093577\">The Daily Telegraph today notes</a> that in Sydney’s central west one in five jobseekers aged 20 to 24 is out of work. In Camden, 65km south-west of Sydney, Bec Williamson, 19, who has a certificate III in retail and food safety qualifications, tells the paper: “I’ve handed out heaps of resumes; I couldn’t count how many. I’ve had a few interviews then heard nothing after that. All my friends are struggling too.”</p> <p><a href=\"http://www.afr.com/p/national/treasury_forecasts_can_be_fixed_7qROeaurd3B0U67gWjPGbJ\">In the Australian Financial Review, Brian Toohey looks at</a> the Coalition’s decision to break with the traditional opposition habit of showing what impact their promises will have on the budget deficit. “If the Coalition don’t trust Treasury to produce the forecasts underlying the budget outcomes, it will still have to get somebody to do them,” he notes.\\xa0</p> <p>The paper <a href=\"http://www.afr.com/p/national/coalition_may_not_release_asylum_xwgXUWahk9rwR3T8bkJSwK\">also reports</a> that the Coalition may stop reporting how many people arrive by boat in Australia to claim asylum if it wins the election, saying that would be a matter for the three-star general it would put in charge of border protection to decide.</p> <p>Last night foreign minister Bob Carr and his Liberal shadow Julie Bishop went head to head in a debate at the Lowy Institute in Sydney. Carr announced that Australians who got into trouble overseas should not expect the level of consular assistance offered now. &quot;We&apos;ve got too much diplomatic time being taken up looking after Australians, who in many cases should be taking responsibility for their own safety,&quot; he said. Bishop said the Coalition would review the consular budget if elected, adding: &quot;There&apos;s only so much the Australian government can do if you have broken the law according to the laws of that country.”</p> <p>The two clashed over the concept of “aid for trade”, Bishop backing linking the two and Carr warning against it.</p> <p>We’ll have live coverage of all the key issues from the campaign here throughout the day.</p>',\n",
       "       'bodyTextSummary': 'Good morning and welcome to today’s election live blog. This is Paul Owen kicking the blog off this morning; Katharine Murphy will take over in a short while. Kevin Rudd is expected to spend a second day in Sydney today, illustrating the importance of Australia’s biggest city to Labor’s chances, before moving on, it is thought, to Melbourne, while Tony Abbott will be in Tasmania, and, according to Sky News, discussing the economy asylum seekers. Abbott’s planned $5bn company tax cut and the continued controversy over Labor’s policy of resettling asylum seekers on Papua New Guinea or Nauru instead of Australia may continue to dominate the campaign, but the monthly unemployment figures are also out today, and are expected to show a rise to a four-year high as hiring in the mining sector slows down. The AAP news agency surveyed 11 economists and put their median forecast at 5.8%, up from 5.7% in June. If this prediction is borne out, it will mean Australia has its highest unemployment rate since August 2009. The Daily Telegraph today notes that in Sydney’s central west one in five jobseekers aged 20 to 24 is out of work. In Camden, 65km south-west of Sydney, Bec Williamson, 19, who has a certificate III in retail and food safety qualifications, tells the paper: “I’ve handed out heaps of resumes; I couldn’t count how many. I’ve had a few interviews then heard nothing after that. All my friends are struggling too.” In the Australian Financial Review, Brian Toohey looks at the Coalition’s decision to break with the traditional opposition habit of showing what impact their promises will have on the budget deficit. “If the Coalition don’t trust Treasury to produce the forecasts underlying the budget outcomes, it will still have to get somebody to do them,” he notes.\\xa0 The paper also reports that the Coalition may stop reporting how many people arrive by boat in Australia to claim asylum if it wins the election, saying that would be a matter for the three-star general it would put in charge of border protection to decide. Last night foreign minister Bob Carr and his Liberal shadow Julie Bishop went head to head in a debate at the Lowy Institute in Sydney. Carr announced that Australians who got into trouble overseas should not expect the level of consular assistance offered now. \"We\\'ve got too much diplomatic time being taken up looking after Australians, who in many cases should be taking responsibility for their own safety,\" he said. Bishop said the Coalition would review the consular budget if elected, adding: \"There\\'s only so much the Australian government can do if you have broken the law according to the laws of that country.” The two clashed over the concept of “aid for trade”, Bishop backing linking the two and Carr warning against it. We’ll have live coverage of all the key issues from the campaign here throughout the day.',\n",
       "       'contributors': [],\n",
       "       'createdBy': {'email': 'paul.owen@guardian.co.uk',\n",
       "        'firstName': 'Paul',\n",
       "        'lastName': 'Owen'},\n",
       "       'createdDate': '2013-08-07T23:04:25.215+01:00',\n",
       "       'firstPublishedDate': '2013-08-07T23:04:25.601+01:00',\n",
       "       'id': '5202c469e4b0f205203bb65e',\n",
       "       'lastModifiedBy': {'email': 'paul.owen@guardian.co.uk',\n",
       "        'firstName': 'Paul',\n",
       "        'lastName': 'Owen'},\n",
       "       'lastModifiedDate': '2013-08-07T23:34:11.273+01:00',\n",
       "       'published': True,\n",
       "       'publishedDate': '2013-08-07T23:34:30.329+01:00'}],\n",
       "     'main': {'attributes': {},\n",
       "      'bodyHtml': '<figure class=\"element element-image\" data-media-id=\"gu-fc-9d9e345e-a8ca-4374-bb32-8d43b2a91cf8\"> <img src=\"http://static.guim.co.uk/sys-images/Guardian/Pix/pictures/2013/8/7/1375912912557/bdc50940-7155-44be-8cf1-b8c1afa66c9b-460x276.jpeg\" alt=\"Kevin Rudd in Brisbane earlier this week.\" width=\"460\" height=\"276\" class=\"gu-image\" /> <figcaption> <span class=\"element-image__caption\">Kevin Rudd in Brisbane earlier this week. Photograph: Chris Hyde/Getty Images</span> </figcaption> </figure>',\n",
       "      'bodyTextSummary': '',\n",
       "      'contributors': [],\n",
       "      'createdBy': {'email': 'paul.owen@guardian.co.uk',\n",
       "       'firstName': 'Paul',\n",
       "       'lastName': 'Owen'},\n",
       "      'createdDate': '2013-08-07T23:02:03.430+01:00',\n",
       "      'firstPublishedDate': '2013-08-07T23:02:04.035+01:00',\n",
       "      'id': '5202c3dbe4b0f205203bb65d',\n",
       "      'lastModifiedBy': {'email': 'paul.owen@guardian.co.uk',\n",
       "       'firstName': 'Paul',\n",
       "       'lastName': 'Owen'},\n",
       "      'lastModifiedDate': '2013-08-07T23:02:03.430+01:00',\n",
       "      'published': True,\n",
       "      'publishedDate': '2013-08-07T23:02:04.035+01:00'}},\n",
       "    'id': 'world/2013/aug/07/election-2013-unemployment-figures-released-politics-live-blog',\n",
       "    'sectionId': 'australia-news',\n",
       "    'sectionName': 'Australia news',\n",
       "    'webPublicationDate': '2013-08-07T22:04:00Z',\n",
       "    'webTitle': 'Election 2013: unemployment figures released - as it happened',\n",
       "    'webUrl': 'http://www.theguardian.com/world/2013/aug/07/election-2013-unemployment-figures-released-politics-live-blog'},\n",
       "   {'apiUrl': 'http://content.guardianapis.com/politics/2013/aug/07/jim-messina-democrat-tory-campaign',\n",
       "    'id': 'politics/2013/aug/07/jim-messina-democrat-tory-campaign',\n",
       "    'sectionId': 'politics',\n",
       "    'sectionName': 'Politics',\n",
       "    'webPublicationDate': '2013-08-07T20:08:42Z',\n",
       "    'webTitle': 'New Tory election guru may find UK a tough nut to crack',\n",
       "    'webUrl': 'http://www.theguardian.com/politics/2013/aug/07/jim-messina-democrat-tory-campaign'},\n",
       "   {'apiUrl': 'http://content.guardianapis.com/politics/2013/sep/16/vince-cable-getstough-on-dodgy-directors',\n",
       "    'id': 'politics/2013/sep/16/vince-cable-getstough-on-dodgy-directors',\n",
       "    'sectionId': 'politics',\n",
       "    'sectionName': 'Politics',\n",
       "    'webPublicationDate': '2013-09-15T23:03:01Z',\n",
       "    'webTitle': 'Vince Cable proposes ban for rogue company directors',\n",
       "    'webUrl': 'http://www.theguardian.com/politics/2013/sep/16/vince-cable-getstough-on-dodgy-directors'}],\n",
       "  'startIndex': 8881,\n",
       "  'status': 'ok',\n",
       "  'total': 196993,\n",
       "  'userTier': 'developer'}}"
      ]
     },
     "execution_count": 793,
     "metadata": {},
     "output_type": "execute_result"
    }
   ],
   "source": [
    "g_articles[\"response\"].json()"
   ]
  },
  {
   "cell_type": "code",
   "execution_count": 794,
   "metadata": {
    "collapsed": false
   },
   "outputs": [
    {
     "data": {
      "text/plain": [
       "dict_keys(['webTitle', 'sectionId', 'id', 'apiUrl', 'webUrl', 'webPublicationDate', 'sectionName'])"
      ]
     },
     "execution_count": 794,
     "metadata": {},
     "output_type": "execute_result"
    }
   ],
   "source": [
    "g_articles.json()[\"response\"][\"results\"][0].keys()"
   ]
  },
  {
   "cell_type": "code",
   "execution_count": null,
   "metadata": {
    "collapsed": false
   },
   "outputs": [],
   "source": [
    "g_articles.json()[\"response\"][\"results\"][0][\"id\"]"
   ]
  },
  {
   "cell_type": "code",
   "execution_count": null,
   "metadata": {
    "collapsed": false
   },
   "outputs": [],
   "source": [
    "g_articles.json()[\"response\"][\"results\"][5][\"fields\"]"
   ]
  },
  {
   "cell_type": "code",
   "execution_count": null,
   "metadata": {
    "collapsed": true
   },
   "outputs": [],
   "source": []
  }
 ],
 "metadata": {
  "kernelspec": {
   "display_name": "Python 3",
   "language": "python",
   "name": "python3"
  },
  "language_info": {
   "codemirror_mode": {
    "name": "ipython",
    "version": 3
   },
   "file_extension": ".py",
   "mimetype": "text/x-python",
   "name": "python",
   "nbconvert_exporter": "python",
   "pygments_lexer": "ipython3",
   "version": "3.5.1"
  }
 },
 "nbformat": 4,
 "nbformat_minor": 0
}
